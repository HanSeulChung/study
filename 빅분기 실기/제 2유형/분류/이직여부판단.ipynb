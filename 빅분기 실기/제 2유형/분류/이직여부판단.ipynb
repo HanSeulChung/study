{
 "cells": [
  {
   "cell_type": "markdown",
   "id": "5906d560-6cb9-49b1-acb4-c6006dbbaf45",
   "metadata": {},
   "source": [
    "# 이직여부 판단"
   ]
  },
  {
   "cell_type": "markdown",
   "id": "879c8a66-d1c8-4351-a069-3e1eea069a21",
   "metadata": {},
   "source": [
    "데이터 설명 : 이직여부 판단 데이터 (target: 1: 이직 , 0 : 이직 x)\n",
    "\n",
    "x_train:\n",
    "[https://raw.githubusercontent.com/Datamanim/datarepo/main/HRdata/X_train.csv](https://raw.githubusercontent.com/Datamanim/datarepo/main/HRdata/X_train.csv)\n",
    "\n",
    "y_train:\n",
    "[https://raw.githubusercontent.com/Datamanim/datarepo/main/HRdata/y_train.csv](https://raw.githubusercontent.com/Datamanim/datarepo/main/HRdata/y_train.csv)\n",
    "\n",
    "x_test:\n",
    "[https://raw.githubusercontent.com/Datamanim/datarepo/main/HRdata/X_test.csv](https://raw.githubusercontent.com/Datamanim/datarepo/main/HRdata/X_test.csv)\n",
    "\n",
    "x_label(평가용) :\n",
    "[https://raw.githubusercontent.com/Datamanim/datarepo/main/HRdata/y_test.csv](https://raw.githubusercontent.com/Datamanim/datarepo/main/HRdata/y_test.csv)\n",
    "\n",
    "데이터 출처 :\n",
    "[https://www.kaggle.com/datasets/arashnic/hr-analytics-job-change-of-data-scientists](https://www.kaggle.com/datasets/arashnic/hr-analytics-job-change-of-data-scientists)\n",
    "(참고, 데이터 수정)"
   ]
  },
  {
   "cell_type": "markdown",
   "id": "2e5ab5a7-a629-47a5-8e8d-50043f379fb6",
   "metadata": {},
   "source": [
    "## 데이터 불러오기"
   ]
  },
  {
   "cell_type": "code",
   "execution_count": 153,
   "id": "7df7eb08-423f-428d-9581-178bdefb4816",
   "metadata": {},
   "outputs": [],
   "source": [
    "import pandas as pd \n",
    "import numpy as np\n",
    "import warnings\n",
    "\n",
    "warnings.filterwarnings('ignore')\n",
    "pd.set_option('max_rows',None)\n",
    "pd.set_option('max_columns',None)\n",
    "\n",
    "X_train = pd.read_csv('https://raw.githubusercontent.com/Datamanim/datarepo/main/HRdata/X_train.csv')\n",
    "y_train = pd.read_csv('https://raw.githubusercontent.com/Datamanim/datarepo/main/HRdata/y_train.csv')\n",
    "X_test = pd.read_csv('https://raw.githubusercontent.com/Datamanim/datarepo/main/HRdata/X_test.csv')\n"
   ]
  },
  {
   "cell_type": "code",
   "execution_count": 154,
   "id": "ae2c0a8e-272e-475c-8f31-e4c9ba5c2b01",
   "metadata": {
    "tags": []
   },
   "outputs": [
    {
     "data": {
      "text/html": [
       "<div>\n",
       "<style scoped>\n",
       "    .dataframe tbody tr th:only-of-type {\n",
       "        vertical-align: middle;\n",
       "    }\n",
       "\n",
       "    .dataframe tbody tr th {\n",
       "        vertical-align: top;\n",
       "    }\n",
       "\n",
       "    .dataframe thead th {\n",
       "        text-align: right;\n",
       "    }\n",
       "</style>\n",
       "<table border=\"1\" class=\"dataframe\">\n",
       "  <thead>\n",
       "    <tr style=\"text-align: right;\">\n",
       "      <th></th>\n",
       "      <th>enrollee_id</th>\n",
       "      <th>city</th>\n",
       "      <th>city_development_index</th>\n",
       "      <th>gender</th>\n",
       "      <th>relevent_experience</th>\n",
       "      <th>enrolled_university</th>\n",
       "      <th>education_level</th>\n",
       "      <th>major_discipline</th>\n",
       "      <th>experience</th>\n",
       "      <th>company_size</th>\n",
       "      <th>company_type</th>\n",
       "      <th>last_new_job</th>\n",
       "      <th>training_hours</th>\n",
       "    </tr>\n",
       "  </thead>\n",
       "  <tbody>\n",
       "    <tr>\n",
       "      <th>0</th>\n",
       "      <td>25298</td>\n",
       "      <td>city_138</td>\n",
       "      <td>0.836</td>\n",
       "      <td>Male</td>\n",
       "      <td>No relevent experience</td>\n",
       "      <td>Full time course</td>\n",
       "      <td>High School</td>\n",
       "      <td>NaN</td>\n",
       "      <td>5</td>\n",
       "      <td>100-500</td>\n",
       "      <td>Pvt Ltd</td>\n",
       "      <td>1</td>\n",
       "      <td>45</td>\n",
       "    </tr>\n",
       "    <tr>\n",
       "      <th>1</th>\n",
       "      <td>4241</td>\n",
       "      <td>city_160</td>\n",
       "      <td>0.920</td>\n",
       "      <td>Male</td>\n",
       "      <td>No relevent experience</td>\n",
       "      <td>Full time course</td>\n",
       "      <td>High School</td>\n",
       "      <td>NaN</td>\n",
       "      <td>5</td>\n",
       "      <td>NaN</td>\n",
       "      <td>NaN</td>\n",
       "      <td>1</td>\n",
       "      <td>17</td>\n",
       "    </tr>\n",
       "    <tr>\n",
       "      <th>2</th>\n",
       "      <td>24086</td>\n",
       "      <td>city_57</td>\n",
       "      <td>0.866</td>\n",
       "      <td>Male</td>\n",
       "      <td>No relevent experience</td>\n",
       "      <td>no_enrollment</td>\n",
       "      <td>Graduate</td>\n",
       "      <td>STEM</td>\n",
       "      <td>10</td>\n",
       "      <td>NaN</td>\n",
       "      <td>NaN</td>\n",
       "      <td>1</td>\n",
       "      <td>50</td>\n",
       "    </tr>\n",
       "    <tr>\n",
       "      <th>3</th>\n",
       "      <td>26773</td>\n",
       "      <td>city_16</td>\n",
       "      <td>0.910</td>\n",
       "      <td>Male</td>\n",
       "      <td>Has relevent experience</td>\n",
       "      <td>no_enrollment</td>\n",
       "      <td>Graduate</td>\n",
       "      <td>STEM</td>\n",
       "      <td>&gt;20</td>\n",
       "      <td>50-99</td>\n",
       "      <td>Pvt Ltd</td>\n",
       "      <td>&gt;4</td>\n",
       "      <td>135</td>\n",
       "    </tr>\n",
       "    <tr>\n",
       "      <th>4</th>\n",
       "      <td>32325</td>\n",
       "      <td>city_143</td>\n",
       "      <td>0.740</td>\n",
       "      <td>NaN</td>\n",
       "      <td>No relevent experience</td>\n",
       "      <td>Full time course</td>\n",
       "      <td>Graduate</td>\n",
       "      <td>STEM</td>\n",
       "      <td>5</td>\n",
       "      <td>NaN</td>\n",
       "      <td>NaN</td>\n",
       "      <td>never</td>\n",
       "      <td>17</td>\n",
       "    </tr>\n",
       "  </tbody>\n",
       "</table>\n",
       "</div>"
      ],
      "text/plain": [
       "   enrollee_id      city  city_development_index gender  \\\n",
       "0        25298  city_138                   0.836   Male   \n",
       "1         4241  city_160                   0.920   Male   \n",
       "2        24086   city_57                   0.866   Male   \n",
       "3        26773   city_16                   0.910   Male   \n",
       "4        32325  city_143                   0.740    NaN   \n",
       "\n",
       "       relevent_experience enrolled_university education_level  \\\n",
       "0   No relevent experience    Full time course     High School   \n",
       "1   No relevent experience    Full time course     High School   \n",
       "2   No relevent experience       no_enrollment        Graduate   \n",
       "3  Has relevent experience       no_enrollment        Graduate   \n",
       "4   No relevent experience    Full time course        Graduate   \n",
       "\n",
       "  major_discipline experience company_size company_type last_new_job  \\\n",
       "0              NaN          5      100-500      Pvt Ltd            1   \n",
       "1              NaN          5          NaN          NaN            1   \n",
       "2             STEM         10          NaN          NaN            1   \n",
       "3             STEM        >20        50-99      Pvt Ltd           >4   \n",
       "4             STEM          5          NaN          NaN        never   \n",
       "\n",
       "   training_hours  \n",
       "0              45  \n",
       "1              17  \n",
       "2              50  \n",
       "3             135  \n",
       "4              17  "
      ]
     },
     "metadata": {},
     "output_type": "display_data"
    },
    {
     "data": {
      "text/html": [
       "<div>\n",
       "<style scoped>\n",
       "    .dataframe tbody tr th:only-of-type {\n",
       "        vertical-align: middle;\n",
       "    }\n",
       "\n",
       "    .dataframe tbody tr th {\n",
       "        vertical-align: top;\n",
       "    }\n",
       "\n",
       "    .dataframe thead th {\n",
       "        text-align: right;\n",
       "    }\n",
       "</style>\n",
       "<table border=\"1\" class=\"dataframe\">\n",
       "  <thead>\n",
       "    <tr style=\"text-align: right;\">\n",
       "      <th></th>\n",
       "      <th>enrollee_id</th>\n",
       "      <th>target</th>\n",
       "    </tr>\n",
       "  </thead>\n",
       "  <tbody>\n",
       "    <tr>\n",
       "      <th>0</th>\n",
       "      <td>25298</td>\n",
       "      <td>0.0</td>\n",
       "    </tr>\n",
       "    <tr>\n",
       "      <th>1</th>\n",
       "      <td>4241</td>\n",
       "      <td>1.0</td>\n",
       "    </tr>\n",
       "    <tr>\n",
       "      <th>2</th>\n",
       "      <td>24086</td>\n",
       "      <td>0.0</td>\n",
       "    </tr>\n",
       "    <tr>\n",
       "      <th>3</th>\n",
       "      <td>26773</td>\n",
       "      <td>0.0</td>\n",
       "    </tr>\n",
       "    <tr>\n",
       "      <th>4</th>\n",
       "      <td>32325</td>\n",
       "      <td>1.0</td>\n",
       "    </tr>\n",
       "  </tbody>\n",
       "</table>\n",
       "</div>"
      ],
      "text/plain": [
       "   enrollee_id  target\n",
       "0        25298     0.0\n",
       "1         4241     1.0\n",
       "2        24086     0.0\n",
       "3        26773     0.0\n",
       "4        32325     1.0"
      ]
     },
     "metadata": {},
     "output_type": "display_data"
    }
   ],
   "source": [
    "display(X_train.head())\n",
    "display(y_train.head())"
   ]
  },
  {
   "cell_type": "code",
   "execution_count": 155,
   "id": "91ff116b-76f5-4266-b0a1-ada1a53ea52e",
   "metadata": {},
   "outputs": [
    {
     "name": "stdout",
     "output_type": "stream",
     "text": [
      "enrollee_id                  0\n",
      "city                         0\n",
      "city_development_index       0\n",
      "gender                    2917\n",
      "relevent_experience          0\n",
      "enrolled_university        257\n",
      "education_level            315\n",
      "major_discipline          1866\n",
      "experience                  37\n",
      "company_size              3852\n",
      "company_type              3981\n",
      "last_new_job               273\n",
      "training_hours               0\n",
      "dtype: int64\n",
      "enrollee_id    0\n",
      "target         0\n",
      "dtype: int64\n"
     ]
    }
   ],
   "source": [
    "print(X_train.isnull().sum())\n",
    "print(y_train.isnull().sum())"
   ]
  },
  {
   "cell_type": "markdown",
   "id": "26d885e6-4fb3-4d2a-968c-83f5c3f895d2",
   "metadata": {},
   "source": [
    "## 공통 column으로 data 합친 후 전처리 \n",
    "df와 함께 예측할 x_test도 같이 전처리!!"
   ]
  },
  {
   "cell_type": "code",
   "execution_count": 156,
   "id": "1f215f26-dcae-4154-a606-ccfa448a2600",
   "metadata": {},
   "outputs": [
    {
     "data": {
      "text/html": [
       "<div>\n",
       "<style scoped>\n",
       "    .dataframe tbody tr th:only-of-type {\n",
       "        vertical-align: middle;\n",
       "    }\n",
       "\n",
       "    .dataframe tbody tr th {\n",
       "        vertical-align: top;\n",
       "    }\n",
       "\n",
       "    .dataframe thead th {\n",
       "        text-align: right;\n",
       "    }\n",
       "</style>\n",
       "<table border=\"1\" class=\"dataframe\">\n",
       "  <thead>\n",
       "    <tr style=\"text-align: right;\">\n",
       "      <th></th>\n",
       "      <th>enrollee_id</th>\n",
       "      <th>city</th>\n",
       "      <th>city_development_index</th>\n",
       "      <th>gender</th>\n",
       "      <th>relevent_experience</th>\n",
       "      <th>enrolled_university</th>\n",
       "      <th>education_level</th>\n",
       "      <th>major_discipline</th>\n",
       "      <th>experience</th>\n",
       "      <th>company_size</th>\n",
       "      <th>company_type</th>\n",
       "      <th>last_new_job</th>\n",
       "      <th>training_hours</th>\n",
       "      <th>target</th>\n",
       "    </tr>\n",
       "  </thead>\n",
       "  <tbody>\n",
       "    <tr>\n",
       "      <th>0</th>\n",
       "      <td>25298</td>\n",
       "      <td>city_138</td>\n",
       "      <td>0.836</td>\n",
       "      <td>Male</td>\n",
       "      <td>No relevent experience</td>\n",
       "      <td>Full time course</td>\n",
       "      <td>High School</td>\n",
       "      <td>NaN</td>\n",
       "      <td>5</td>\n",
       "      <td>100-500</td>\n",
       "      <td>Pvt Ltd</td>\n",
       "      <td>1</td>\n",
       "      <td>45</td>\n",
       "      <td>0.0</td>\n",
       "    </tr>\n",
       "    <tr>\n",
       "      <th>1</th>\n",
       "      <td>4241</td>\n",
       "      <td>city_160</td>\n",
       "      <td>0.920</td>\n",
       "      <td>Male</td>\n",
       "      <td>No relevent experience</td>\n",
       "      <td>Full time course</td>\n",
       "      <td>High School</td>\n",
       "      <td>NaN</td>\n",
       "      <td>5</td>\n",
       "      <td>NaN</td>\n",
       "      <td>NaN</td>\n",
       "      <td>1</td>\n",
       "      <td>17</td>\n",
       "      <td>1.0</td>\n",
       "    </tr>\n",
       "  </tbody>\n",
       "</table>\n",
       "</div>"
      ],
      "text/plain": [
       "   enrollee_id      city  city_development_index gender  \\\n",
       "0        25298  city_138                   0.836   Male   \n",
       "1         4241  city_160                   0.920   Male   \n",
       "\n",
       "      relevent_experience enrolled_university education_level  \\\n",
       "0  No relevent experience    Full time course     High School   \n",
       "1  No relevent experience    Full time course     High School   \n",
       "\n",
       "  major_discipline experience company_size company_type last_new_job  \\\n",
       "0              NaN          5      100-500      Pvt Ltd            1   \n",
       "1              NaN          5          NaN          NaN            1   \n",
       "\n",
       "   training_hours  target  \n",
       "0              45     0.0  \n",
       "1              17     1.0  "
      ]
     },
     "metadata": {},
     "output_type": "display_data"
    }
   ],
   "source": [
    "df = pd.merge(X_train,y_train, on='enrollee_id')\n",
    "display(df.head(2))"
   ]
  },
  {
   "cell_type": "code",
   "execution_count": 157,
   "id": "ef65665a-f931-4146-87b6-410c17429bc6",
   "metadata": {
    "tags": []
   },
   "outputs": [
    {
     "name": "stdout",
     "output_type": "stream",
     "text": [
      "<class 'pandas.core.frame.DataFrame'>\n",
      "Int64Index: 12452 entries, 0 to 12451\n",
      "Data columns (total 14 columns):\n",
      " #   Column                  Non-Null Count  Dtype  \n",
      "---  ------                  --------------  -----  \n",
      " 0   enrollee_id             12452 non-null  int64  \n",
      " 1   city                    12452 non-null  object \n",
      " 2   city_development_index  12452 non-null  float64\n",
      " 3   gender                  9535 non-null   object \n",
      " 4   relevent_experience     12452 non-null  object \n",
      " 5   enrolled_university     12195 non-null  object \n",
      " 6   education_level         12137 non-null  object \n",
      " 7   major_discipline        10586 non-null  object \n",
      " 8   experience              12415 non-null  object \n",
      " 9   company_size            8600 non-null   object \n",
      " 10  company_type            8471 non-null   object \n",
      " 11  last_new_job            12179 non-null  object \n",
      " 12  training_hours          12452 non-null  int64  \n",
      " 13  target                  12452 non-null  float64\n",
      "dtypes: float64(2), int64(2), object(10)\n",
      "memory usage: 1.4+ MB\n",
      "None\n",
      "__________________________________________________\n",
      "enrollee_id                  0\n",
      "city                         0\n",
      "city_development_index       0\n",
      "gender                    2917\n",
      "relevent_experience          0\n",
      "enrolled_university        257\n",
      "education_level            315\n",
      "major_discipline          1866\n",
      "experience                  37\n",
      "company_size              3852\n",
      "company_type              3981\n",
      "last_new_job               273\n",
      "training_hours               0\n",
      "target                       0\n",
      "dtype: int64\n",
      "__________________________________________________\n",
      "<class 'pandas.core.frame.DataFrame'>\n",
      "RangeIndex: 6706 entries, 0 to 6705\n",
      "Data columns (total 13 columns):\n",
      " #   Column                  Non-Null Count  Dtype  \n",
      "---  ------                  --------------  -----  \n",
      " 0   enrollee_id             6706 non-null   int64  \n",
      " 1   city                    6706 non-null   object \n",
      " 2   city_development_index  6706 non-null   float64\n",
      " 3   gender                  5115 non-null   object \n",
      " 4   relevent_experience     6706 non-null   object \n",
      " 5   enrolled_university     6577 non-null   object \n",
      " 6   education_level         6561 non-null   object \n",
      " 7   major_discipline        5759 non-null   object \n",
      " 8   experience              6678 non-null   object \n",
      " 9   company_size            4620 non-null   object \n",
      " 10  company_type            4547 non-null   object \n",
      " 11  last_new_job            6556 non-null   object \n",
      " 12  training_hours          6706 non-null   int64  \n",
      "dtypes: float64(1), int64(2), object(10)\n",
      "memory usage: 681.2+ KB\n",
      "None\n",
      "__________________________________________________\n",
      "enrollee_id                  0\n",
      "city                         0\n",
      "city_development_index       0\n",
      "gender                    1591\n",
      "relevent_experience          0\n",
      "enrolled_university        129\n",
      "education_level            145\n",
      "major_discipline           947\n",
      "experience                  28\n",
      "company_size              2086\n",
      "company_type              2159\n",
      "last_new_job               150\n",
      "training_hours               0\n",
      "dtype: int64\n"
     ]
    }
   ],
   "source": [
    "print(df.info())\n",
    "print('_'*50)\n",
    "print(df.isnull().sum())\n",
    "print('_'*50)\n",
    "print(X_test.info())\n",
    "print('_'*50)\n",
    "print(X_test.isnull().sum())"
   ]
  },
  {
   "cell_type": "code",
   "execution_count": 158,
   "id": "608440f0-c832-4d4a-b971-f97875719377",
   "metadata": {},
   "outputs": [
    {
     "name": "stdout",
     "output_type": "stream",
     "text": [
      "4\n",
      "['Male' nan 'Female' 'Other']\n",
      "__________________________________________________\n",
      "4\n",
      "['Full time course' 'no_enrollment' 'Part time course' nan]\n",
      "__________________________________________________\n",
      "6\n",
      "['High School' 'Graduate' 'Primary School' 'Masters' 'Phd' nan]\n",
      "__________________________________________________\n",
      "7\n",
      "[nan 'STEM' 'Other' 'Humanities' 'No Major' 'Business Degree' 'Arts']\n",
      "__________________________________________________\n",
      "23\n",
      "['5' '10' '>20' '6' '14' '20' '7' '9' '8' '4' '3' '13' '16' '2' '12' '15'\n",
      " '11' '1' '<1' '17' '18' nan '19']\n",
      "__________________________________________________\n",
      "9\n",
      "['100-500' nan '50-99' '10/49' '10000+' '1000-4999' '<10' '500-999'\n",
      " '5000-9999']\n",
      "__________________________________________________\n",
      "7\n",
      "['Pvt Ltd' nan 'Public Sector' 'NGO' 'Funded Startup'\n",
      " 'Early Stage Startup' 'Other']\n",
      "__________________________________________________\n",
      "7\n",
      "['1' '>4' 'never' '2' '4' '3' nan]\n"
     ]
    }
   ],
   "source": [
    "print(len(pd.unique(df.gender)))\n",
    "print(pd.unique(df.gender))\n",
    "print('_'*50)\n",
    "print(len(pd.unique(df.enrolled_university)))\n",
    "print(pd.unique(df.enrolled_university))\n",
    "print('_'*50)\n",
    "print(len(pd.unique(df.education_level)))\n",
    "print(pd.unique(df.education_level))\n",
    "print('_'*50)\n",
    "print(len(pd.unique(df.major_discipline)))\n",
    "print(pd.unique(df.major_discipline))\n",
    "print('_'*50)\n",
    "print(len(pd.unique(df.experience)))\n",
    "print(pd.unique(df.experience))\n",
    "print('_'*50)\n",
    "print(len(pd.unique(df.company_size)))\n",
    "print(pd.unique(df.company_size))\n",
    "print('_'*50)\n",
    "print(len(pd.unique(df.company_type)))\n",
    "print(pd.unique(df.company_type))\n",
    "print('_'*50)\n",
    "print(len(pd.unique(df.last_new_job)))\n",
    "print(pd.unique(df.last_new_job))"
   ]
  },
  {
   "cell_type": "markdown",
   "id": "e39d5f2e-d89f-4a54-b054-ed65dd1301db",
   "metadata": {},
   "source": [
    "## 필요없는 컬럼 버리고 X,y로 나눈 후 X만 전처리 (y는 1,0 이직여부)"
   ]
  },
  {
   "cell_type": "code",
   "execution_count": 159,
   "id": "c076c155-4035-42cb-9611-74184793e9a6",
   "metadata": {},
   "outputs": [],
   "source": [
    "df_dr =df.drop('enrollee_id',axis=1)\n",
    "X_test_dr=X_test.drop('enrollee_id',axis=1)\n",
    "\n",
    "X = df_dr.drop('target', axis=1)\n",
    "y = df.target"
   ]
  },
  {
   "cell_type": "markdown",
   "id": "3ad06453-47a7-4ae2-82e0-68742f678c6b",
   "metadata": {},
   "source": [
    "    gender 'Other'\n",
    "    enrolled_university 'no_enrollment'\n",
    "    education_level 'Middle School'\n",
    "    major_discipline 반은 'Other', 반은 'No Major'로 변경\n",
    "    experience 0\n",
    "    company_size 1\n",
    "    company_type 'Other'\n",
    "    last_new_job 'never' \n",
    "    로 null값 대체 "
   ]
  },
  {
   "cell_type": "code",
   "execution_count": 160,
   "id": "1fb77ab9-bda2-4875-92c6-f95a272ed483",
   "metadata": {},
   "outputs": [
    {
     "name": "stdout",
     "output_type": "stream",
     "text": [
      "947\n",
      "city                         0\n",
      "city_development_index       0\n",
      "gender                    1591\n",
      "relevent_experience          0\n",
      "enrolled_university        129\n",
      "education_level            145\n",
      "major_discipline           947\n",
      "experience                  28\n",
      "company_size              2086\n",
      "company_type              2159\n",
      "last_new_job               150\n",
      "training_hours               0\n",
      "dtype: int64\n"
     ]
    }
   ],
   "source": [
    "print(X_test_dr['major_discipline'].isnull().sum())\n",
    "print(X_test_dr.isnull().sum())"
   ]
  },
  {
   "cell_type": "code",
   "execution_count": 161,
   "id": "ebba547a-6424-4b37-a27b-f39ad8beeebe",
   "metadata": {
    "tags": []
   },
   "outputs": [],
   "source": [
    "dic = {'gender':'Other', 'enrolled_university':'no_enrollment', 'education_level':'Middle School', 'experience':'0' ,\n",
    "       'company_size':'1', 'company_type':'Other' , 'last_new_job':'never'}\n",
    "\n",
    "X.fillna(value=dic,inplace=True)\n",
    "X_test_dr.fillna(value=dic,inplace=True)"
   ]
  },
  {
   "cell_type": "code",
   "execution_count": 162,
   "id": "485a6e7c-c160-4e61-b59e-f29df8145cea",
   "metadata": {},
   "outputs": [
    {
     "data": {
      "text/plain": [
       "933"
      ]
     },
     "execution_count": 162,
     "metadata": {},
     "output_type": "execute_result"
    }
   ],
   "source": [
    "int(X.major_discipline.isnull().sum()/2)"
   ]
  },
  {
   "cell_type": "code",
   "execution_count": 163,
   "id": "0f0deed0-e9e7-4b61-ad54-4891b0b4cb08",
   "metadata": {},
   "outputs": [],
   "source": [
    "X.iloc[:int(X.major_discipline.isnull().sum()/2)].fillna('Other',inplace=True)\n",
    "X.iloc[int(X.major_discipline.isnull().sum()/2):].fillna('No Major',inplace=True)\n",
    "X_test_dr.iloc[:int(X_test_dr.major_discipline.isnull().sum()/2)].fillna('Other',inplace=True)\n",
    "X_test_dr.iloc[int(X_test_dr.major_discipline.isnull().sum()/2):].fillna('No Major',inplace=True)"
   ]
  },
  {
   "cell_type": "markdown",
   "id": "b960a051-d619-4cb1-9e91-18cadf4bb7ca",
   "metadata": {
    "tags": []
   },
   "source": [
    "### 수치형 스케일링"
   ]
  },
  {
   "cell_type": "code",
   "execution_count": 164,
   "id": "d5466116-3f26-437b-9f0d-e32f6d641d47",
   "metadata": {},
   "outputs": [
    {
     "name": "stdout",
     "output_type": "stream",
     "text": [
      "Index(['city_development_index', 'training_hours'], dtype='object')\n"
     ]
    }
   ],
   "source": [
    "num = X.select_dtypes(include='number').columns\n",
    "print(num)"
   ]
  },
  {
   "cell_type": "code",
   "execution_count": 96,
   "id": "2467b692-6e7e-4f84-aad0-613f974b93b3",
   "metadata": {},
   "outputs": [],
   "source": [
    "from sklearn.preprocessing import MinMaxScaler\n",
    "from sklearn.preprocessing import StandardScaler\n",
    "scaler_m = MinMaxScaler()\n",
    "scaler_s = StandardScaler()"
   ]
  },
  {
   "cell_type": "code",
   "execution_count": 169,
   "id": "4c315ddf-ac0f-4f72-93a5-537cd09e8208",
   "metadata": {},
   "outputs": [],
   "source": [
    "# number column만 스케일링\n",
    "def Scaler_m(df):\n",
    "    num = df.select_dtypes(include='number')\n",
    "    for col in num:\n",
    "        df[col]=scaler_m.fit_transform(df[[col]])\n",
    "    return df\n",
    "    \n",
    "\n",
    "def Scaler_s(df):\n",
    "    num = df.select_dtypes(include='number')\n",
    "    for col in num:\n",
    "        df[col]=scaler_s.fit_transform(df[[col]])\n",
    "    return df"
   ]
  },
  {
   "cell_type": "code",
   "execution_count": 170,
   "id": "de28dd88-ef17-44a5-8583-11310aeb798d",
   "metadata": {},
   "outputs": [],
   "source": [
    "X_m = Scaler_m(X)\n",
    "X_test_dr_m = Scaler_m(X_test_dr)\n",
    "\n",
    "X_s = Scaler_s(X)\n",
    "X_test_dr_s = Scaler_s(X_test_dr)"
   ]
  },
  {
   "cell_type": "code",
   "execution_count": 183,
   "id": "daf7ddd5-4c48-49b4-916b-a7a246e55e19",
   "metadata": {},
   "outputs": [],
   "source": [
    "#범주화 한것까지 스케일링\n",
    "\n",
    "# X_m = scaler_m.fit_transform(X)\n",
    "# X_test_dr_m =scaler_m.fit_transform(X_test_dr)\n",
    "\n",
    "# X_s =scaler_s.fit_transform(X)\n",
    "# X_test_dr_s = scaler_s.fit_transform(X_test_dr)"
   ]
  },
  {
   "cell_type": "code",
   "execution_count": 121,
   "id": "c6821682-f9fb-4059-8075-45d5f1953fcb",
   "metadata": {},
   "outputs": [
    {
     "data": {
      "text/html": [
       "<div>\n",
       "<style scoped>\n",
       "    .dataframe tbody tr th:only-of-type {\n",
       "        vertical-align: middle;\n",
       "    }\n",
       "\n",
       "    .dataframe tbody tr th {\n",
       "        vertical-align: top;\n",
       "    }\n",
       "\n",
       "    .dataframe thead th {\n",
       "        text-align: right;\n",
       "    }\n",
       "</style>\n",
       "<table border=\"1\" class=\"dataframe\">\n",
       "  <thead>\n",
       "    <tr style=\"text-align: right;\">\n",
       "      <th></th>\n",
       "      <th>city</th>\n",
       "      <th>city_development_index</th>\n",
       "      <th>gender</th>\n",
       "      <th>relevent_experience</th>\n",
       "      <th>enrolled_university</th>\n",
       "      <th>education_level</th>\n",
       "      <th>major_discipline</th>\n",
       "      <th>experience</th>\n",
       "      <th>company_size</th>\n",
       "      <th>company_type</th>\n",
       "      <th>last_new_job</th>\n",
       "      <th>training_hours</th>\n",
       "      <th>target</th>\n",
       "    </tr>\n",
       "  </thead>\n",
       "  <tbody>\n",
       "    <tr>\n",
       "      <th>city</th>\n",
       "      <td>1.000000</td>\n",
       "      <td>-0.318380</td>\n",
       "      <td>0.044775</td>\n",
       "      <td>0.010065</td>\n",
       "      <td>-0.081720</td>\n",
       "      <td>0.003636</td>\n",
       "      <td>0.071570</td>\n",
       "      <td>-0.040260</td>\n",
       "      <td>-0.017939</td>\n",
       "      <td>-0.023327</td>\n",
       "      <td>-0.007265</td>\n",
       "      <td>0.014225</td>\n",
       "      <td>0.058645</td>\n",
       "    </tr>\n",
       "    <tr>\n",
       "      <th>city_development_index</th>\n",
       "      <td>-0.318380</td>\n",
       "      <td>1.000000</td>\n",
       "      <td>-0.132856</td>\n",
       "      <td>-0.057590</td>\n",
       "      <td>0.160376</td>\n",
       "      <td>0.058924</td>\n",
       "      <td>-0.099141</td>\n",
       "      <td>0.039104</td>\n",
       "      <td>0.067947</td>\n",
       "      <td>0.050543</td>\n",
       "      <td>0.001896</td>\n",
       "      <td>-0.003967</td>\n",
       "      <td>-0.352236</td>\n",
       "    </tr>\n",
       "    <tr>\n",
       "      <th>gender</th>\n",
       "      <td>0.044775</td>\n",
       "      <td>-0.132856</td>\n",
       "      <td>1.000000</td>\n",
       "      <td>0.092372</td>\n",
       "      <td>-0.095237</td>\n",
       "      <td>0.037602</td>\n",
       "      <td>-0.001013</td>\n",
       "      <td>-0.011938</td>\n",
       "      <td>-0.039394</td>\n",
       "      <td>-0.018946</td>\n",
       "      <td>0.059813</td>\n",
       "      <td>-0.003222</td>\n",
       "      <td>0.068092</td>\n",
       "    </tr>\n",
       "    <tr>\n",
       "      <th>relevent_experience</th>\n",
       "      <td>0.010065</td>\n",
       "      <td>-0.057590</td>\n",
       "      <td>0.092372</td>\n",
       "      <td>1.000000</td>\n",
       "      <td>-0.377944</td>\n",
       "      <td>0.113741</td>\n",
       "      <td>-0.204900</td>\n",
       "      <td>-0.015077</td>\n",
       "      <td>-0.314877</td>\n",
       "      <td>-0.164010</td>\n",
       "      <td>0.189610</td>\n",
       "      <td>-0.007309</td>\n",
       "      <td>0.123683</td>\n",
       "    </tr>\n",
       "    <tr>\n",
       "      <th>enrolled_university</th>\n",
       "      <td>-0.081720</td>\n",
       "      <td>0.160376</td>\n",
       "      <td>-0.095237</td>\n",
       "      <td>-0.377944</td>\n",
       "      <td>1.000000</td>\n",
       "      <td>0.072341</td>\n",
       "      <td>0.024544</td>\n",
       "      <td>0.023505</td>\n",
       "      <td>0.179592</td>\n",
       "      <td>0.122945</td>\n",
       "      <td>-0.024984</td>\n",
       "      <td>-0.000155</td>\n",
       "      <td>-0.147039</td>\n",
       "    </tr>\n",
       "    <tr>\n",
       "      <th>education_level</th>\n",
       "      <td>0.003636</td>\n",
       "      <td>0.058924</td>\n",
       "      <td>0.037602</td>\n",
       "      <td>0.113741</td>\n",
       "      <td>0.072341</td>\n",
       "      <td>1.000000</td>\n",
       "      <td>-0.169965</td>\n",
       "      <td>0.028938</td>\n",
       "      <td>-0.065460</td>\n",
       "      <td>-0.040962</td>\n",
       "      <td>0.112825</td>\n",
       "      <td>-0.009447</td>\n",
       "      <td>-0.084597</td>\n",
       "    </tr>\n",
       "    <tr>\n",
       "      <th>major_discipline</th>\n",
       "      <td>0.071570</td>\n",
       "      <td>-0.099141</td>\n",
       "      <td>-0.001013</td>\n",
       "      <td>-0.204900</td>\n",
       "      <td>0.024544</td>\n",
       "      <td>-0.169965</td>\n",
       "      <td>1.000000</td>\n",
       "      <td>0.003038</td>\n",
       "      <td>0.121415</td>\n",
       "      <td>0.081757</td>\n",
       "      <td>-0.096472</td>\n",
       "      <td>0.001701</td>\n",
       "      <td>0.040794</td>\n",
       "    </tr>\n",
       "    <tr>\n",
       "      <th>experience</th>\n",
       "      <td>-0.040260</td>\n",
       "      <td>0.039104</td>\n",
       "      <td>-0.011938</td>\n",
       "      <td>-0.015077</td>\n",
       "      <td>0.023505</td>\n",
       "      <td>0.028938</td>\n",
       "      <td>0.003038</td>\n",
       "      <td>1.000000</td>\n",
       "      <td>-0.029288</td>\n",
       "      <td>-0.010423</td>\n",
       "      <td>0.067710</td>\n",
       "      <td>-0.001713</td>\n",
       "      <td>-0.020120</td>\n",
       "    </tr>\n",
       "    <tr>\n",
       "      <th>company_size</th>\n",
       "      <td>-0.017939</td>\n",
       "      <td>0.067947</td>\n",
       "      <td>-0.039394</td>\n",
       "      <td>-0.314877</td>\n",
       "      <td>0.179592</td>\n",
       "      <td>-0.065460</td>\n",
       "      <td>0.121415</td>\n",
       "      <td>-0.029288</td>\n",
       "      <td>1.000000</td>\n",
       "      <td>0.220131</td>\n",
       "      <td>-0.142242</td>\n",
       "      <td>0.005869</td>\n",
       "      <td>-0.193049</td>\n",
       "    </tr>\n",
       "    <tr>\n",
       "      <th>company_type</th>\n",
       "      <td>-0.023327</td>\n",
       "      <td>0.050543</td>\n",
       "      <td>-0.018946</td>\n",
       "      <td>-0.164010</td>\n",
       "      <td>0.122945</td>\n",
       "      <td>-0.040962</td>\n",
       "      <td>0.081757</td>\n",
       "      <td>-0.010423</td>\n",
       "      <td>0.220131</td>\n",
       "      <td>1.000000</td>\n",
       "      <td>0.038820</td>\n",
       "      <td>-0.011913</td>\n",
       "      <td>-0.101353</td>\n",
       "    </tr>\n",
       "    <tr>\n",
       "      <th>last_new_job</th>\n",
       "      <td>-0.007265</td>\n",
       "      <td>0.001896</td>\n",
       "      <td>0.059813</td>\n",
       "      <td>0.189610</td>\n",
       "      <td>-0.024984</td>\n",
       "      <td>0.112825</td>\n",
       "      <td>-0.096472</td>\n",
       "      <td>0.067710</td>\n",
       "      <td>-0.142242</td>\n",
       "      <td>0.038820</td>\n",
       "      <td>1.000000</td>\n",
       "      <td>-0.014039</td>\n",
       "      <td>-0.006355</td>\n",
       "    </tr>\n",
       "    <tr>\n",
       "      <th>training_hours</th>\n",
       "      <td>0.014225</td>\n",
       "      <td>-0.003967</td>\n",
       "      <td>-0.003222</td>\n",
       "      <td>-0.007309</td>\n",
       "      <td>-0.000155</td>\n",
       "      <td>-0.009447</td>\n",
       "      <td>0.001701</td>\n",
       "      <td>-0.001713</td>\n",
       "      <td>0.005869</td>\n",
       "      <td>-0.011913</td>\n",
       "      <td>-0.014039</td>\n",
       "      <td>1.000000</td>\n",
       "      <td>-0.013660</td>\n",
       "    </tr>\n",
       "    <tr>\n",
       "      <th>target</th>\n",
       "      <td>0.058645</td>\n",
       "      <td>-0.352236</td>\n",
       "      <td>0.068092</td>\n",
       "      <td>0.123683</td>\n",
       "      <td>-0.147039</td>\n",
       "      <td>-0.084597</td>\n",
       "      <td>0.040794</td>\n",
       "      <td>-0.020120</td>\n",
       "      <td>-0.193049</td>\n",
       "      <td>-0.101353</td>\n",
       "      <td>-0.006355</td>\n",
       "      <td>-0.013660</td>\n",
       "      <td>1.000000</td>\n",
       "    </tr>\n",
       "  </tbody>\n",
       "</table>\n",
       "</div>"
      ],
      "text/plain": [
       "                            city  city_development_index    gender  \\\n",
       "city                    1.000000               -0.318380  0.044775   \n",
       "city_development_index -0.318380                1.000000 -0.132856   \n",
       "gender                  0.044775               -0.132856  1.000000   \n",
       "relevent_experience     0.010065               -0.057590  0.092372   \n",
       "enrolled_university    -0.081720                0.160376 -0.095237   \n",
       "education_level         0.003636                0.058924  0.037602   \n",
       "major_discipline        0.071570               -0.099141 -0.001013   \n",
       "experience             -0.040260                0.039104 -0.011938   \n",
       "company_size           -0.017939                0.067947 -0.039394   \n",
       "company_type           -0.023327                0.050543 -0.018946   \n",
       "last_new_job           -0.007265                0.001896  0.059813   \n",
       "training_hours          0.014225               -0.003967 -0.003222   \n",
       "target                  0.058645               -0.352236  0.068092   \n",
       "\n",
       "                        relevent_experience  enrolled_university  \\\n",
       "city                               0.010065            -0.081720   \n",
       "city_development_index            -0.057590             0.160376   \n",
       "gender                             0.092372            -0.095237   \n",
       "relevent_experience                1.000000            -0.377944   \n",
       "enrolled_university               -0.377944             1.000000   \n",
       "education_level                    0.113741             0.072341   \n",
       "major_discipline                  -0.204900             0.024544   \n",
       "experience                        -0.015077             0.023505   \n",
       "company_size                      -0.314877             0.179592   \n",
       "company_type                      -0.164010             0.122945   \n",
       "last_new_job                       0.189610            -0.024984   \n",
       "training_hours                    -0.007309            -0.000155   \n",
       "target                             0.123683            -0.147039   \n",
       "\n",
       "                        education_level  major_discipline  experience  \\\n",
       "city                           0.003636          0.071570   -0.040260   \n",
       "city_development_index         0.058924         -0.099141    0.039104   \n",
       "gender                         0.037602         -0.001013   -0.011938   \n",
       "relevent_experience            0.113741         -0.204900   -0.015077   \n",
       "enrolled_university            0.072341          0.024544    0.023505   \n",
       "education_level                1.000000         -0.169965    0.028938   \n",
       "major_discipline              -0.169965          1.000000    0.003038   \n",
       "experience                     0.028938          0.003038    1.000000   \n",
       "company_size                  -0.065460          0.121415   -0.029288   \n",
       "company_type                  -0.040962          0.081757   -0.010423   \n",
       "last_new_job                   0.112825         -0.096472    0.067710   \n",
       "training_hours                -0.009447          0.001701   -0.001713   \n",
       "target                        -0.084597          0.040794   -0.020120   \n",
       "\n",
       "                        company_size  company_type  last_new_job  \\\n",
       "city                       -0.017939     -0.023327     -0.007265   \n",
       "city_development_index      0.067947      0.050543      0.001896   \n",
       "gender                     -0.039394     -0.018946      0.059813   \n",
       "relevent_experience        -0.314877     -0.164010      0.189610   \n",
       "enrolled_university         0.179592      0.122945     -0.024984   \n",
       "education_level            -0.065460     -0.040962      0.112825   \n",
       "major_discipline            0.121415      0.081757     -0.096472   \n",
       "experience                 -0.029288     -0.010423      0.067710   \n",
       "company_size                1.000000      0.220131     -0.142242   \n",
       "company_type                0.220131      1.000000      0.038820   \n",
       "last_new_job               -0.142242      0.038820      1.000000   \n",
       "training_hours              0.005869     -0.011913     -0.014039   \n",
       "target                     -0.193049     -0.101353     -0.006355   \n",
       "\n",
       "                        training_hours    target  \n",
       "city                          0.014225  0.058645  \n",
       "city_development_index       -0.003967 -0.352236  \n",
       "gender                       -0.003222  0.068092  \n",
       "relevent_experience          -0.007309  0.123683  \n",
       "enrolled_university          -0.000155 -0.147039  \n",
       "education_level              -0.009447 -0.084597  \n",
       "major_discipline              0.001701  0.040794  \n",
       "experience                   -0.001713 -0.020120  \n",
       "company_size                  0.005869 -0.193049  \n",
       "company_type                 -0.011913 -0.101353  \n",
       "last_new_job                 -0.014039 -0.006355  \n",
       "training_hours                1.000000 -0.013660  \n",
       "target                       -0.013660  1.000000  "
      ]
     },
     "execution_count": 121,
     "metadata": {},
     "output_type": "execute_result"
    }
   ],
   "source": [
    "df1 = pd.concat([X,y],axis=1)\n",
    "df1.corr()"
   ]
  },
  {
   "cell_type": "code",
   "execution_count": 90,
   "id": "fe38c871-ac31-4de7-a2dd-52fb7cc85cd1",
   "metadata": {},
   "outputs": [
    {
     "name": "stdout",
     "output_type": "stream",
     "text": [
      "city                      0\n",
      "city_development_index    0\n",
      "gender                    0\n",
      "relevent_experience       0\n",
      "enrolled_university       0\n",
      "education_level           0\n",
      "major_discipline          0\n",
      "experience                0\n",
      "company_size              0\n",
      "company_type              0\n",
      "last_new_job              0\n",
      "training_hours            0\n",
      "dtype: int64\n",
      "city                      0\n",
      "city_development_index    0\n",
      "gender                    0\n",
      "relevent_experience       0\n",
      "enrolled_university       0\n",
      "education_level           0\n",
      "major_discipline          0\n",
      "experience                0\n",
      "company_size              0\n",
      "company_type              0\n",
      "last_new_job              0\n",
      "training_hours            0\n",
      "dtype: int64\n"
     ]
    }
   ],
   "source": [
    "print(X.isnull().sum())\n",
    "print(X_test_dr.isnull().sum())"
   ]
  },
  {
   "cell_type": "markdown",
   "id": "31e4b182-afc7-4ec4-a287-e2263bde100a",
   "metadata": {
    "tags": []
   },
   "source": [
    "### object type 라벨링"
   ]
  },
  {
   "cell_type": "code",
   "execution_count": 171,
   "id": "c0848cb8-5d8d-4d27-8f96-7f20eb7fa250",
   "metadata": {},
   "outputs": [],
   "source": [
    "from sklearn.preprocessing import LabelEncoder\n",
    "le = LabelEncoder()\n",
    "\n",
    "obj = X.select_dtypes(include='object').columns\n",
    "for col in obj:\n",
    "    X[col] = le.fit_transform(X[col])\n",
    "\n",
    "obj_test = X_test_dr.select_dtypes(include='object').columns\n",
    "for col in obj_test:\n",
    "    X_test_dr[col] = le.fit_transform(X_test_dr[col])\n",
    "\n"
   ]
  },
  {
   "cell_type": "code",
   "execution_count": 172,
   "id": "3651cfca-a35a-4833-864c-69a28190dc31",
   "metadata": {},
   "outputs": [
    {
     "name": "stdout",
     "output_type": "stream",
     "text": [
      "<class 'pandas.core.frame.DataFrame'>\n",
      "Int64Index: 12452 entries, 0 to 12451\n",
      "Data columns (total 12 columns):\n",
      " #   Column                  Non-Null Count  Dtype  \n",
      "---  ------                  --------------  -----  \n",
      " 0   city                    12452 non-null  int32  \n",
      " 1   city_development_index  12452 non-null  float64\n",
      " 2   gender                  12452 non-null  int32  \n",
      " 3   relevent_experience     12452 non-null  int32  \n",
      " 4   enrolled_university     12452 non-null  int32  \n",
      " 5   education_level         12452 non-null  int32  \n",
      " 6   major_discipline        12452 non-null  int32  \n",
      " 7   experience              12452 non-null  int32  \n",
      " 8   company_size            12452 non-null  int32  \n",
      " 9   company_type            12452 non-null  int32  \n",
      " 10  last_new_job            12452 non-null  int32  \n",
      " 11  training_hours          12452 non-null  float64\n",
      "dtypes: float64(2), int32(10)\n",
      "memory usage: 778.2 KB\n",
      "None\n"
     ]
    }
   ],
   "source": [
    "print(X.info())"
   ]
  },
  {
   "cell_type": "code",
   "execution_count": 94,
   "id": "457e7bf2-9f14-4f6a-bb17-3a428acd738c",
   "metadata": {
    "tags": []
   },
   "outputs": [
    {
     "name": "stdout",
     "output_type": "stream",
     "text": [
      "   city  city_development_index  gender  relevent_experience  \\\n",
      "0    62                   0.899       1                    1   \n",
      "1    77                   0.725       1                    1   \n",
      "2     5                   0.920       1                    1   \n",
      "3    81                   0.896       1                    1   \n",
      "4    39                   0.689       0                    0   \n",
      "\n",
      "   enrolled_university  education_level  major_discipline  experience  \\\n",
      "0                    2                0                 5          12   \n",
      "1                    1                2                 5          16   \n",
      "2                    0                0                 5          18   \n",
      "3                    0                0                 5          18   \n",
      "4                    0                2                 5          11   \n",
      "\n",
      "   company_size  company_type  last_new_job  training_hours  \n",
      "0             0             3             0              23  \n",
      "1             0             3             5              39  \n",
      "2             0             3             1             262  \n",
      "3             0             3             5              78  \n",
      "4             5             5             0             125  \n"
     ]
    }
   ],
   "source": [
    "print(X_test_dr.head())"
   ]
  },
  {
   "cell_type": "code",
   "execution_count": 95,
   "id": "5c24abd5-5341-4072-803e-790d21a66ae5",
   "metadata": {},
   "outputs": [
    {
     "name": "stdout",
     "output_type": "stream",
     "text": [
      "   city  city_development_index  gender  relevent_experience  \\\n",
      "0    31                   0.836       1                    1   \n",
      "1    49                   0.920       1                    1   \n",
      "2    88                   0.866       1                    1   \n",
      "3    48                   0.910       1                    0   \n",
      "4    37                   0.740       2                    1   \n",
      "\n",
      "   enrolled_university  education_level  major_discipline  experience  \\\n",
      "0                    0                1                 4          16   \n",
      "1                    0                1                 4          16   \n",
      "2                    2                0                 5           2   \n",
      "3                    2                0                 5          22   \n",
      "4                    0                0                 5          16   \n",
      "\n",
      "   company_size  company_type  last_new_job  training_hours  \n",
      "0             2             5             0              45  \n",
      "1             0             3             0              17  \n",
      "2             0             3             0              50  \n",
      "3             5             5             4             135  \n",
      "4             0             3             5              17  \n"
     ]
    }
   ],
   "source": [
    "print(X.head())"
   ]
  },
  {
   "cell_type": "markdown",
   "id": "22630403-cb3b-4a29-83f8-361bef16c1c5",
   "metadata": {
    "tags": []
   },
   "source": [
    "## train,valid 나누고 모델 설정 후 학습"
   ]
  },
  {
   "cell_type": "code",
   "execution_count": 188,
   "id": "4d538b50-0911-4be6-886f-321c71ee6b2b",
   "metadata": {},
   "outputs": [],
   "source": [
    "from sklearn.model_selection import train_test_split\n",
    "X_tr_m, X_val_m, y_tr_m, y_val_m = train_test_split(X_m , y, random_state=51, test_size=0.2)\n",
    "X_tr_s, X_val_s, y_tr_s, y_val_s = train_test_split(X_s , y, random_state=51, test_size=0.2)\n",
    "\n",
    "from sklearn.linear_model import LogisticRegression\n",
    "from sklearn.ensemble import RandomForestClassifier\n",
    "lr = LogisticRegression()\n",
    "rfc= RandomForestClassifier()\n",
    "\n",
    "lr.fit(X_tr_m,y_tr_m)\n",
    "lr_pred_m = lr.predict_proba(X_val_m)\n",
    "lr.fit(X_tr_s,y_tr_s)\n",
    "lr_pred_s = lr.predict_proba(X_val_s)\n",
    "\n",
    "rfc.fit(X_tr_m,y_tr_m)\n",
    "rfc_pred_m = rfc.predict_proba(X_val_m)\n",
    "rfc.fit(X_tr_s,y_tr_s)\n",
    "rfc_pred_s = rfc.predict_proba(X_val_s)"
   ]
  },
  {
   "cell_type": "code",
   "execution_count": 189,
   "id": "2267712a-3d00-4e0c-a625-0fb038ae9793",
   "metadata": {},
   "outputs": [
    {
     "name": "stdout",
     "output_type": "stream",
     "text": [
      "로지스틱회귀_minmax스케일링: 0.7696014456379882\n",
      "로지스틱회귀_standard스케일링: 0.7696014456379882\n",
      "랜덤포레스트분류_minmax스케일링: 0.9989960847304488\n",
      "랜덤포레스트분류_standard스케일링: 0.9989960847304488\n"
     ]
    }
   ],
   "source": [
    "print('로지스틱회귀_minmax스케일링:',lr.score(X_tr_m,y_tr_m))\n",
    "print('로지스틱회귀_standard스케일링:',lr.score(X_tr_s,y_tr_s))\n",
    "print('랜덤포레스트분류_minmax스케일링:',rfc.score(X_tr_m,y_tr_m))\n",
    "print('랜덤포레스트분류_standard스케일링:',rfc.score(X_tr_s,y_tr_s))"
   ]
  },
  {
   "cell_type": "code",
   "execution_count": 190,
   "id": "7f72034e-023b-4b51-9cc9-4c348ed5cf5b",
   "metadata": {},
   "outputs": [
    {
     "name": "stdout",
     "output_type": "stream",
     "text": [
      "로지스틱회귀_minmax스케일링: 0.779205138498595\n",
      "로지스틱회귀_standard스케일링: 0.779205138498595\n",
      "랜덤포레스트분류_minmax스케일링: 0.809313528703332\n",
      "랜덤포레스트분류_standard스케일링: 0.809313528703332\n"
     ]
    }
   ],
   "source": [
    "print('로지스틱회귀_minmax스케일링:',lr.score(X_val_m,y_val_m))\n",
    "print('로지스틱회귀_standard스케일링:',lr.score(X_val_s,y_val_s))\n",
    "print('랜덤포레스트분류_minmax스케일링:',rfc.score(X_val_m,y_val_m))\n",
    "print('랜덤포레스트분류_standard스케일링:',rfc.score(X_val_s,y_val_s))"
   ]
  },
  {
   "cell_type": "markdown",
   "id": "d82a56d1-3a55-4e3f-9793-8b2ad228aead",
   "metadata": {},
   "source": [
    "## 검증"
   ]
  },
  {
   "cell_type": "code",
   "execution_count": 192,
   "id": "94e1bf22-6d2c-4977-adfe-094b425c92af",
   "metadata": {
    "tags": []
   },
   "outputs": [
    {
     "name": "stdout",
     "output_type": "stream",
     "text": [
      "로지스틱회귀_minmax스케일링: 0.7838182448945776\n",
      "로지스틱회귀_standard스케일링: 0.7838182448945776\n",
      "랜덤포레스트분류_minmax스케일링: 0.8100133072366513\n",
      "랜덤포레스트분류_standard스케일링: 0.8138816398105573\n"
     ]
    }
   ],
   "source": [
    "from sklearn.metrics import roc_auc_score\n",
    "print('로지스틱회귀_minmax스케일링:',roc_auc_score(y_val_m,lr_pred_m[:,1]))\n",
    "print('로지스틱회귀_standard스케일링:',roc_auc_score(y_val_s,lr_pred_s[:,1]))\n",
    "print('랜덤포레스트분류_minmax스케일링:',roc_auc_score(y_val_m,rfc_pred_m[:,1]))\n",
    "print('랜덤포레스트분류_standard스케일링:',roc_auc_score(y_val_s,rfc_pred_s[:,1]))"
   ]
  },
  {
   "cell_type": "markdown",
   "id": "c82f00c3-cdf8-4af8-9eac-ef1c37d33e0c",
   "metadata": {},
   "source": [
    "로지스틱회귀와 랜덤포레스트분류기 앙상블"
   ]
  },
  {
   "cell_type": "code",
   "execution_count": 193,
   "id": "30ec2d24-3403-449b-aa9a-86b055c639af",
   "metadata": {},
   "outputs": [
    {
     "name": "stdout",
     "output_type": "stream",
     "text": [
      "로지스틱회귀+랜덤포레스트앙상블_minmax스케일링: 0.8123942842743328\n",
      "로지스틱회귀+랜덤포레스트앙상블_standard스케일링: 0.8146207869047126\n"
     ]
    }
   ],
   "source": [
    "pred_m_e = (lr_pred_m + rfc_pred_m)/2\n",
    "pred_s_e = (lr_pred_s + rfc_pred_s)/2\n",
    "print('로지스틱회귀+랜덤포레스트앙상블_minmax스케일링:',roc_auc_score(y_val_m,pred_m_e[:,1]))\n",
    "print('로지스틱회귀+랜덤포레스트앙상블_standard스케일링:',roc_auc_score(y_val_s,pred_s_e[:,1]))"
   ]
  },
  {
   "cell_type": "markdown",
   "id": "024d30cf-127d-4d68-a820-eb1cab1cc49a",
   "metadata": {},
   "source": [
    "_\n",
    "\n",
    "predict_proba 확률로 예측하는 건지, predict 값 자체로 예측하는건지 헷갈린다."
   ]
  },
  {
   "cell_type": "markdown",
   "id": "184070f1-349e-45a5-994e-299b577aff2e",
   "metadata": {},
   "source": [
    "## 최적의 파라미터 찾은 후 다시 모델학습, 검증과정 거쳐보기"
   ]
  },
  {
   "cell_type": "markdown",
   "id": "ebe65811-4de1-463f-958e-7e34e396ee49",
   "metadata": {},
   "source": [
    "train_test_split에서 random_state나, model 학습시킬때 하이퍼파라미터들 "
   ]
  },
  {
   "cell_type": "code",
   "execution_count": null,
   "id": "c4cfb1f0-1058-4298-bcc6-b37da5667f8b",
   "metadata": {},
   "outputs": [],
   "source": []
  },
  {
   "cell_type": "markdown",
   "id": "307b561f-0dc4-4d67-8430-f208acb3770e",
   "metadata": {},
   "source": [
    "## 예측값 pred"
   ]
  },
  {
   "cell_type": "code",
   "execution_count": 194,
   "id": "24e73638-31b9-41b4-a7a5-f7f46b22fe2e",
   "metadata": {},
   "outputs": [],
   "source": [
    "pred_m_lr = lr.predict_proba(X_test_dr_m)\n",
    "pred_m_rfc = rfc.predict_proba(X_test_dr_m)\n",
    "pred_s_lr = lr.predict_proba(X_test_dr_s)\n",
    "pred_s_rfc = rfc.predict_proba(X_test_dr_s)"
   ]
  },
  {
   "cell_type": "code",
   "execution_count": 195,
   "id": "f2bd0b27-0b12-45a8-9d28-8c5b871054ef",
   "metadata": {},
   "outputs": [],
   "source": [
    "pred_m_e = (pred_m_lr + pred_m_rfc)/2\n",
    "pred_s_e = (pred_s_lr + pred_s_rfc)/2"
   ]
  },
  {
   "cell_type": "code",
   "execution_count": 197,
   "id": "d1f22739-a0b9-46ec-a3cd-02bb862d334b",
   "metadata": {
    "tags": []
   },
   "outputs": [
    {
     "name": "stdout",
     "output_type": "stream",
     "text": [
      "로지스틱회귀_minmax스케일링 0.7552166796881683\n",
      "로지스틱회귀_standard스케일링 0.7552166796881683\n",
      "랜덤포레스트분류_minmax스케일링 0.7824145689692864\n",
      "랜덤포레스트분류_standard스케일링 0.7824145689692864\n"
     ]
    }
   ],
   "source": [
    "x_label = pd.read_csv('https://raw.githubusercontent.com/Datamanim/datarepo/main/HRdata/y_test.csv')\n",
    "\n",
    "print(\"로지스틱회귀_minmax스케일링\", roc_auc_score(x_label.target,pred_m_lr[:,1]))\n",
    "print(\"로지스틱회귀_standard스케일링\", roc_auc_score(x_label.target,pred_s_lr[:,1]))\n",
    "print(\"랜덤포레스트분류_minmax스케일링\", roc_auc_score(x_label.target,pred_m_rfc[:,1]))\n",
    "print(\"랜덤포레스트분류_standard스케일링\", roc_auc_score(x_label.target,pred_s_rfc[:,1]))"
   ]
  },
  {
   "cell_type": "code",
   "execution_count": 196,
   "id": "23694411-3a1c-4394-af2a-eaddc3624d9a",
   "metadata": {},
   "outputs": [
    {
     "name": "stdout",
     "output_type": "stream",
     "text": [
      "로지스틱회귀+랜덤포레스트앙상블_minmax스케일링: 0.7836664033852103\n",
      "로지스틱회귀+랜덤포레스트앙상블_standard스케일링: 0.7836664033852103\n"
     ]
    }
   ],
   "source": [
    "print('로지스틱회귀+랜덤포레스트앙상블_minmax스케일링:',roc_auc_score(x_label.target,pred_m_e[:,1]))\n",
    "print('로지스틱회귀+랜덤포레스트앙상블_standard스케일링:',roc_auc_score(x_label.target,pred_s_e[:,1]))"
   ]
  },
  {
   "cell_type": "markdown",
   "id": "31117c2b-ad77-4d3a-909c-e5292f0022f4",
   "metadata": {},
   "source": [
    "80퍼센트가 안넘는다 .. ㅠㅠ"
   ]
  },
  {
   "cell_type": "markdown",
   "id": "00c0533d-6df4-4b2c-b6a6-08b828cf1738",
   "metadata": {},
   "source": [
    "## 제출용 만들기"
   ]
  },
  {
   "cell_type": "code",
   "execution_count": 199,
   "id": "eb10ec25-9c65-4cde-9c5e-cc33703132a8",
   "metadata": {
    "tags": []
   },
   "outputs": [
    {
     "name": "stdout",
     "output_type": "stream",
     "text": [
      "   enrollee_id  pred_target\n",
      "0         7129     0.395109\n",
      "1        31037     0.514461\n",
      "2        22179     0.368554\n",
      "3        29724     0.415360\n",
      "4        17977     0.205461\n"
     ]
    }
   ],
   "source": [
    "submission = pd.DataFrame({'enrollee_id':X_test.enrollee_id,'pred_target':pred_s_e[:,1]}) \n",
    "submission.to_csv('004001677.csv',index=False)\n",
    "check = pd.read_csv('004001677.csv')\n",
    "print(check.head())"
   ]
  },
  {
   "cell_type": "code",
   "execution_count": null,
   "id": "43287690-2c4b-4136-8748-20e75e4d3eea",
   "metadata": {},
   "outputs": [],
   "source": []
  }
 ],
 "metadata": {
  "kernelspec": {
   "display_name": "Python 3 (ipykernel)",
   "language": "python",
   "name": "python3"
  },
  "language_info": {
   "codemirror_mode": {
    "name": "ipython",
    "version": 3
   },
   "file_extension": ".py",
   "mimetype": "text/x-python",
   "name": "python",
   "nbconvert_exporter": "python",
   "pygments_lexer": "ipython3",
   "version": "3.8.12"
  }
 },
 "nbformat": 4,
 "nbformat_minor": 5
}
