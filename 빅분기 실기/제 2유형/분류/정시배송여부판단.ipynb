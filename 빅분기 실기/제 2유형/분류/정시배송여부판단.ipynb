{
 "cells": [
  {
   "cell_type": "markdown",
   "id": "ddfacbcb-f77b-4e78-9bd7-c7fd54ef6bb7",
   "metadata": {},
   "source": [
    "데이터 설명 : e-commerce 배송의 정시 도착여부 (1: 정시배송 0 : 정시미배송)\n",
    "\n",
    "x_train:\n",
    "\n",
    "[https://raw.githubusercontent.com/Datamanim/datarepo/main/shipping/X_train.csv](https://raw.githubusercontent.com/Datamanim/datarepo/main/shipping/X_train.csv)\n",
    "\n",
    "y_train:\n",
    "\n",
    "[https://raw.githubusercontent.com/Datamanim/datarepo/main/shipping/y_train.csv](https://raw.githubusercontent.com/Datamanim/datarepo/main/shipping/y_train.csv)\n",
    "\n",
    "x_test:\n",
    "\n",
    "[https://raw.githubusercontent.com/Datamanim/datarepo/main/shipping/X_test.csv](https://raw.githubusercontent.com/Datamanim/datarepo/main/shipping/X_test.csv)\n",
    "\n",
    "x_label(평가용) :\n",
    "\n",
    "[https://raw.githubusercontent.com/Datamanim/datarepo/main/shipping/y_test.csv](https://raw.githubusercontent.com/Datamanim/datarepo/main/shipping/y_test.csv)\n",
    "\n",
    "데이터 출처 :\n",
    "\n",
    "[https://www.kaggle.com/datasets/prachi13/customer-analytics](https://www.kaggle.com/datasets/prachi13/customer-analytics)\n",
    "\n",
    "(참고, 데이터 수정)"
   ]
  },
  {
   "cell_type": "code",
   "execution_count": null,
   "id": "8a0aeed9-c47d-4175-8a68-fc05175b814b",
   "metadata": {},
   "outputs": [],
   "source": []
  }
 ],
 "metadata": {
  "kernelspec": {
   "display_name": "Python 3 (ipykernel)",
   "language": "python",
   "name": "python3"
  },
  "language_info": {
   "codemirror_mode": {
    "name": "ipython",
    "version": 3
   },
   "file_extension": ".py",
   "mimetype": "text/x-python",
   "name": "python",
   "nbconvert_exporter": "python",
   "pygments_lexer": "ipython3",
   "version": "3.8.12"
  }
 },
 "nbformat": 4,
 "nbformat_minor": 5
}
