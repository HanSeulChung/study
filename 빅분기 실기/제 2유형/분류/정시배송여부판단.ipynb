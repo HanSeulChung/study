{
 "cells": [
  {
   "cell_type": "markdown",
   "id": "85993a89-fa3c-42fd-afbf-3384ecf368f6",
   "metadata": {},
   "source": [
    "# 정시배송여부판단"
   ]
  },
  {
   "cell_type": "markdown",
   "id": "ddfacbcb-f77b-4e78-9bd7-c7fd54ef6bb7",
   "metadata": {},
   "source": [
    "데이터 설명 : e-commerce 배송의 정시 도착여부 (1: 정시배송 0 : 정시미배송)\n",
    "\n",
    "x_train:\n",
    "[https://raw.githubusercontent.com/Datamanim/datarepo/main/shipping/X_train.csv](https://raw.githubusercontent.com/Datamanim/datarepo/main/shipping/X_train.csv)\n",
    "\n",
    "y_train:\n",
    "[https://raw.githubusercontent.com/Datamanim/datarepo/main/shipping/y_train.csv](https://raw.githubusercontent.com/Datamanim/datarepo/main/shipping/y_train.csv)\n",
    "\n",
    "x_test:\n",
    "[https://raw.githubusercontent.com/Datamanim/datarepo/main/shipping/X_test.csv](https://raw.githubusercontent.com/Datamanim/datarepo/main/shipping/X_test.csv)\n",
    "\n",
    "x_label(평가용) :\n",
    "[https://raw.githubusercontent.com/Datamanim/datarepo/main/shipping/y_test.csv](https://raw.githubusercontent.com/Datamanim/datarepo/main/shipping/y_test.csv)\n",
    "\n",
    "데이터 출처 :\n",
    "[https://www.kaggle.com/datasets/prachi13/customer-analytics](https://www.kaggle.com/datasets/prachi13/customer-analytics)\n",
    "(참고, 데이터 수정)"
   ]
  },
  {
   "cell_type": "markdown",
   "id": "6f298d7a-780f-45d3-a61f-8d8a66645af8",
   "metadata": {},
   "source": [
    "## 하이퍼파라미터 튜닝 없이 단순 분석"
   ]
  },
  {
   "cell_type": "code",
   "execution_count": 32,
   "id": "8a0aeed9-c47d-4175-8a68-fc05175b814b",
   "metadata": {},
   "outputs": [
    {
     "name": "stdout",
     "output_type": "stream",
     "text": [
      "     ID  pred\n",
      "0  6811  0.43\n",
      "1  4320  0.27\n",
      "2  5732  0.37\n",
      "3  7429  0.56\n",
      "4  2191  1.00\n"
     ]
    }
   ],
   "source": [
    "#필요한 모듈 import\n",
    "import pandas as pd\n",
    "import numpy as np\n",
    "import warnings\n",
    "\n",
    "from sklearn.preprocessing import MinMaxScaler, StandardScaler\n",
    "scaler_m = MinMaxScaler()\n",
    "scaler_s = StandardScaler()\n",
    "from sklearn.preprocessing import LabelEncoder\n",
    "le = LabelEncoder()\n",
    "\n",
    "from sklearn.model_selection import train_test_split\n",
    "from sklearn.ensemble import RandomForestClassifier\n",
    "rfc = RandomForestClassifier()\n",
    "\n",
    "from sklearn.metrics import roc_auc_score\n",
    "\n",
    "#데이터 불러오기\n",
    "X_train = pd.read_csv('https://raw.githubusercontent.com/Datamanim/datarepo/main/shipping/X_train.csv')\n",
    "y_train = pd.read_csv('https://raw.githubusercontent.com/Datamanim/datarepo/main/shipping/y_train.csv')\n",
    "X_test = pd.read_csv('https://raw.githubusercontent.com/Datamanim/datarepo/main/shipping/X_test.csv')\n",
    "x_test = X_test.copy()\n",
    "\n",
    "y_test= pd.read_csv('https://raw.githubusercontent.com/Datamanim/datarepo/main/shipping/y_test.csv')\n",
    "df = pd.merge(X_train,y_train,on='ID')\n",
    "# print(df.info())\n",
    "df.Customer_care_calls.replace('$7','7',inplace=True)\n",
    "X_test.Customer_care_calls.replace('$7','7',inplace=True)\n",
    "\n",
    "# obj_df = df.select_dtypes(include='object').columns\n",
    "# for col in obj_df:\n",
    "#     print(pd.unique(df[col]))\n",
    "    \n",
    "# obj_test =X_test.select_dtypes(include='object').columns\n",
    "# for col in obj_test:\n",
    "#     print(pd.unique(X_test[col]))\n",
    "\n",
    "X = df.drop(['ID','Reached.on.Time_Y.N'],axis=1)\n",
    "y = df['Reached.on.Time_Y.N']\n",
    "X_test = X_test.drop('ID', axis=1)\n",
    "# print(X.head())\n",
    "\n",
    "obj_X = X.select_dtypes(include='object').columns\n",
    "obj_X_test = X_test.select_dtypes(include='object').columns\n",
    "num_X = X.select_dtypes(include='number').columns\n",
    "num_X_test = X_test.select_dtypes(include='number').columns\n",
    "\n",
    "def Labelencoder(df):\n",
    "    for col in df.select_dtypes(include='object').columns:\n",
    "        df[col]= le.fit_transform(df[col])\n",
    "    return df\n",
    "\n",
    "def Scaler_m(df):\n",
    "    for col in df.select_dtypes(include='number').columns:\n",
    "        df[col]= scaler_m.fit_transform(df[[col]])\n",
    "    return df\n",
    "\n",
    "def Scaler_s(df):\n",
    "    for col in df.select_dtypes(include='number').columns:\n",
    "        df[col]= scaler_s.fit_transform(df[[col]])\n",
    "    return df\n",
    "\n",
    "X = Labelencoder(X)\n",
    "X_test = Labelencoder(X_test)\n",
    "X_m = Scaler_m(X)\n",
    "X_test_m = Scaler_m(X_test)\n",
    "X_s = Scaler_s(X)\n",
    "X_test_s = Scaler_s(X_test)\n",
    "\n",
    "X_tr, X_val, y_tr, y_val = train_test_split(X_m,y,test_size=0.2, random_state=48)\n",
    "rfc.fit(X_tr, y_tr)\n",
    "# print(rfc.score(X_tr,y_tr))\n",
    "pred_y = rfc.predict_proba(X_val)\n",
    "# print(roc_auc_score(y_val,pred_y[:,1]))\n",
    "pred_x_label = rfc.predict_proba(X_test_m)\n",
    "# print(roc_auc_score(y_test['Reached.on.Time_Y.N'],pred_x_label[:,1]))\n",
    "\n",
    "submission = pd.DataFrame({'ID':x_test.ID, 'pred':pred_x_label[:,1]})\n",
    "submission.to_csv('004001677.csv',index=False)\n",
    "check = pd.read_csv('004001677.csv')\n",
    "print(check.head())\n"
   ]
  },
  {
   "cell_type": "markdown",
   "id": "5a838f5f-7ed7-419f-a998-e6d85de45f64",
   "metadata": {},
   "source": [
    "## 하이퍼 파라미터 튜닝"
   ]
  },
  {
   "cell_type": "code",
   "execution_count": null,
   "id": "aea4d1f1-21ac-482f-9a06-fb7a04c6a854",
   "metadata": {},
   "outputs": [],
   "source": []
  },
  {
   "cell_type": "code",
   "execution_count": null,
   "id": "d9736c50-86cd-44cd-b0a8-764ec34efef4",
   "metadata": {},
   "outputs": [],
   "source": []
  }
 ],
 "metadata": {
  "kernelspec": {
   "display_name": "Python 3 (ipykernel)",
   "language": "python",
   "name": "python3"
  },
  "language_info": {
   "codemirror_mode": {
    "name": "ipython",
    "version": 3
   },
   "file_extension": ".py",
   "mimetype": "text/x-python",
   "name": "python",
   "nbconvert_exporter": "python",
   "pygments_lexer": "ipython3",
   "version": "3.8.12"
  }
 },
 "nbformat": 4,
 "nbformat_minor": 5
}
