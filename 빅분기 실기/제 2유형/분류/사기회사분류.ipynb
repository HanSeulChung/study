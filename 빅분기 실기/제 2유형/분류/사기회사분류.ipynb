{
 "cells": [
  {
   "cell_type": "markdown",
   "id": "29fe2b8a-775e-49d9-827c-5d80d91726b1",
   "metadata": {},
   "source": [
    "# 사기회사분류 "
   ]
  },
  {
   "cell_type": "markdown",
   "id": "e45de366-3eab-4837-94a7-eca2f1f18a7f",
   "metadata": {},
   "source": [
    "데이터 설명 : 사기회사 분류 (종속변수 : Risk 1: 사기 , 0 : 정상)\n",
    "\n",
    "x_train:\n",
    "[https://raw.githubusercontent.com/Datamanim/datarepo/main/audit/x_train.csv](https://raw.githubusercontent.com/Datamanim/datarepo/main/audit/x_train.csv)\n",
    "\n",
    "y_train:\n",
    "[https://raw.githubusercontent.com/Datamanim/datarepo/main/audit/y_train.csv](https://raw.githubusercontent.com/Datamanim/datarepo/main/audit/y_train.csv)\n",
    "\n",
    "x_test:\n",
    "[https://raw.githubusercontent.com/Datamanim/datarepo/main/audit/x_test.csv](https://raw.githubusercontent.com/Datamanim/datarepo/main/audit/x_test.csv)\n",
    "\n",
    "x_label(평가용) :\n",
    "[https://raw.githubusercontent.com/Datamanim/datarepo/main/audit/y_test.csv](https://raw.githubusercontent.com/Datamanim/datarepo/main/audit/y_test.csv)\n",
    "\n",
    "데이터 출처 :\n",
    "[https://www.kaggle.com/sid321axn/audit-data](https://www.kaggle.com/sid321axn/audit-data)\n",
    "(참고, 데이터 수정)"
   ]
  },
  {
   "cell_type": "markdown",
   "id": "d923965a-817a-4443-b8ca-e980d7134cec",
   "metadata": {},
   "source": [
    "## 하이퍼파라미터튜닝 없이"
   ]
  },
  {
   "cell_type": "markdown",
   "id": "e2fc9e22-8bbf-40a3-ae96-c12012359024",
   "metadata": {},
   "source": [
    "### RandomForestClassifier로 모델설정"
   ]
  },
  {
   "cell_type": "code",
   "execution_count": 64,
   "id": "c1badd06-ca69-417f-94e9-aea52190e938",
   "metadata": {},
   "outputs": [
    {
     "name": "stdout",
     "output_type": "stream",
     "text": [
      "0.977217553688142\n",
      "0.9995331465919701\n",
      "      ID  pred_proba\n",
      "151  759        0.14\n",
      "152  762        1.00\n",
      "153  763        1.00\n",
      "154  765        0.01\n",
      "155  772        0.99\n"
     ]
    }
   ],
   "source": [
    "import pandas as pd\n",
    "import numpy as np\n",
    "import warnings\n",
    "\n",
    "from sklearn.preprocessing import MinMaxScaler, StandardScaler\n",
    "from sklearn.preprocessing import LabelEncoder\n",
    "Scaler_m = MinMaxScaler()\n",
    "Scaler_s = StandardScaler()\n",
    "LE = LabelEncoder()\n",
    "\n",
    "from sklearn.model_selection import train_test_split\n",
    "from sklearn.ensemble import RandomForestClassifier\n",
    "rfc = RandomForestClassifier()\n",
    "from sklearn.metrics import roc_auc_score\n",
    "\n",
    "X_train = pd.read_csv('https://raw.githubusercontent.com/Datamanim/datarepo/main/audit/x_train.csv')\n",
    "y_train = pd.read_csv('https://raw.githubusercontent.com/Datamanim/datarepo/main/audit/y_train.csv')\n",
    "X_test = pd.read_csv('https://raw.githubusercontent.com/Datamanim/datarepo/main/audit/x_test.csv')\n",
    "\n",
    "# print(X_train.head())\n",
    "# print(y_train.head())\n",
    "# print(X_test.head())\n",
    "df = pd.merge(X_train,y_train, on ='ID')\n",
    "# print(df.info())\n",
    "X = df.drop(['ID','Risk'],axis=1)\n",
    "y = df.Risk\n",
    "X_t = X_test.drop('ID',axis=1)\n",
    "# print(X.describe())\n",
    "# print(X['Detection_Risk'].value_counts())\n",
    "# print(X.info())\n",
    "# print(X['LOCATION_ID'].value_counts())\n",
    "\n",
    "X['LOCATION_ID'] = LE.fit_transform(X['LOCATION_ID'])\n",
    "X_t['LOCATION_ID'] = LE.fit_transform(X_t['LOCATION_ID'])\n",
    "\n",
    "# print(X.isnull().sum())\n",
    "# print(X_t.isnull().sum())\n",
    "\n",
    "X =X.fillna(X['Money_Value'].mean())\n",
    "X_t = X_t.fillna(X_t['Money_Value'].mean())\n",
    "# print(X.isnull().sum())\n",
    "# print(X_t.isnull().sum())\n",
    "X_m = Scaler_m.fit_transform(X)\n",
    "X_tm = Scaler_m.fit_transform(X_t)\n",
    "X_s = Scaler_s.fit_transform(X)\n",
    "X_ts = Scaler_s.fit_transform(X_t)\n",
    "\n",
    "\n",
    "X_tr_m, X_val_m, y_tr_m, y_val_m = train_test_split(X_m,y, random_state = 43, test_size=0.2)\n",
    "X_tr_s, X_val_s, y_tr_s, y_val_s = train_test_split(X_s,y, random_state = 43, test_size=0.2)\n",
    "\n",
    "rfc.fit(X_tr_m, y_tr_m)\n",
    "\n",
    "pred_y = rfc.predict_proba(X_tm)\n",
    "\n",
    "y_real = pd.read_csv('https://raw.githubusercontent.com/Datamanim/datarepo/main/audit/y_test.csv')\n",
    "print(roc_auc_score(y_real.Risk,pred_y[:,1]))\n",
    "\n",
    "rfc.fit(X_tr_s,y_tr_s)\n",
    "pred_y2=rfc.predict_proba(X_ts)\n",
    "print(roc_auc_score(y_real.Risk,pred_y2[:,1]))\n",
    "\n",
    "submission = pd.DataFrame({'ID':X_test.ID,'pred_proba':pred_y2[:,1]})\n",
    "submission.to_csv('수험번호.csv',index=False)\n",
    "check = pd.read_csv('수험번호.csv')\n",
    "print(check.tail())"
   ]
  },
  {
   "cell_type": "markdown",
   "id": "a616ae53-6f71-48df-8b58-f0bf29fc5795",
   "metadata": {},
   "source": [
    "### xgboost XGBClassifier로 모델설정"
   ]
  },
  {
   "cell_type": "code",
   "execution_count": 63,
   "id": "106f304a-c4d0-493c-aa43-73f51dc05098",
   "metadata": {},
   "outputs": [
    {
     "name": "stderr",
     "output_type": "stream",
     "text": [
      "C:\\Users\\w0w12\\.conda\\envs\\py3.8\\lib\\site-packages\\sklearn\\preprocessing\\_label.py:115: DataConversionWarning: A column-vector y was passed when a 1d array was expected. Please change the shape of y to (n_samples, ), for example using ravel().\n",
      "  y = column_or_1d(y, warn=True)\n"
     ]
    },
    {
     "name": "stdout",
     "output_type": "stream",
     "text": [
      "0.8333333333333333\n",
      "0.8333333333333333\n",
      "      ID  pred_proba\n",
      "151  759    0.003182\n",
      "152  762    0.995152\n",
      "153  763    0.995152\n",
      "154  765    0.003182\n",
      "155  772    0.995152\n"
     ]
    }
   ],
   "source": [
    "import pandas as pd\n",
    "import numpy as np \n",
    "import warnings \n",
    "from sklearn.preprocessing import MinMaxScaler, StandardScaler\n",
    "Scaler_m = MinMaxScaler()\n",
    "Scaler_s = StandardScaler()\n",
    "from sklearn.preprocessing import LabelEncoder\n",
    "LE = LabelEncoder()\n",
    "from sklearn.model_selection import train_test_split\n",
    "from xgboost import XGBClassifier\n",
    "xgbc = XGBClassifier()\n",
    "from sklearn.metrics import roc_auc_score\n",
    "\n",
    "def scaler_m(df):\n",
    "    num = df.select_dtypes(include ='number').columns\n",
    "    for col in num:\n",
    "        df[col] = Scaler_m.fit_transform(df[[col]])\n",
    "    return df\n",
    "\n",
    "def scaler_s(df):\n",
    "    num = df.select_dtypes(include ='number').columns\n",
    "    for col in num:\n",
    "        df[col] = Scaler_s.fit_transform(df[[col]])\n",
    "    return df\n",
    "def le(df):\n",
    "    obj = df.select_dtypes(include ='object').columns\n",
    "    for col in obj:\n",
    "        df[col] = LE.fit_transform(df[[col]])\n",
    "    return df\n",
    "\n",
    "X_train = pd.read_csv('https://raw.githubusercontent.com/Datamanim/datarepo/main/audit/x_train.csv')\n",
    "y_train = pd.read_csv('https://raw.githubusercontent.com/Datamanim/datarepo/main/audit/y_train.csv')\n",
    "X_test= pd.read_csv('https://raw.githubusercontent.com/Datamanim/datarepo/main/audit/x_test.csv')\n",
    "\n",
    "df=pd.merge(X_train,y_train, on ='ID')\n",
    "X = df.drop(['ID','Risk'],axis=1)\n",
    "y = df.Risk\n",
    "X_t = X_test.drop('ID',axis=1)\n",
    "\n",
    "# print(X.isnull().sum())\n",
    "X= X.fillna(X['Money_Value'].mean())\n",
    "X_t =X_t.fillna(X_t['Money_Value'].mean())\n",
    "\n",
    "X= le(X)\n",
    "X_t= le(X_t)\n",
    "# print(X_t.info())\n",
    "\n",
    "X_m = scaler_m(X)\n",
    "X_tm = scaler_m(X_t)\n",
    "X_s = scaler_s(X)\n",
    "X_ts = scaler_s(X_t)\n",
    "\n",
    "X_tr_m, X_val_m, y_tr_m, y_val_m = train_test_split(X_m,y, random_state = 43, test_size=0.2)\n",
    "X_tr_s, X_val_s, y_tr_s, y_val_s = train_test_split(X_s,y, random_state = 43, test_size=0.2)\n",
    "\n",
    "xgbc.fit(X_tr_m,y_tr_m)\n",
    "y_pred_m = xgbc.predict_proba(X_tm)\n",
    "y_real = pd.read_csv('https://raw.githubusercontent.com/Datamanim/datarepo/main/audit/y_test.csv')\n",
    "print(roc_auc_score(y_real.Risk,y_pred_m[:,1]))\n",
    "xgbc.fit(X_tr_s,y_tr_m)\n",
    "y_pred_s = xgbc.predict_proba(X_ts)\n",
    "print(roc_auc_score(y_real.Risk,y_pred_s[:,1]))\n",
    "\n",
    "submission = pd.DataFrame({'ID':X_test.ID,'pred_proba':y_pred_m[:,1]})\n",
    "submission.to_csv('수험번호.csv',index=False)\n",
    "check = pd.read_csv('수험번호.csv')\n",
    "print(check.tail())"
   ]
  },
  {
   "cell_type": "markdown",
   "id": "96e80ad3-3706-45c7-b846-ef8c7577b31a",
   "metadata": {
    "tags": []
   },
   "source": [
    "## 하이퍼파라미터튜닝"
   ]
  },
  {
   "cell_type": "code",
   "execution_count": null,
   "id": "f306a4db-b6c4-4772-9020-88f54087c5ee",
   "metadata": {},
   "outputs": [],
   "source": []
  }
 ],
 "metadata": {
  "kernelspec": {
   "display_name": "Python 3 (ipykernel)",
   "language": "python",
   "name": "python3"
  },
  "language_info": {
   "codemirror_mode": {
    "name": "ipython",
    "version": 3
   },
   "file_extension": ".py",
   "mimetype": "text/x-python",
   "name": "python",
   "nbconvert_exporter": "python",
   "pygments_lexer": "ipython3",
   "version": "3.8.12"
  }
 },
 "nbformat": 4,
 "nbformat_minor": 5
}
