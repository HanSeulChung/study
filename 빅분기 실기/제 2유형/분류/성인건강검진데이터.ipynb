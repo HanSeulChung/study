{
 "cells": [
  {
   "cell_type": "markdown",
   "id": "264dfaf5-5cef-4869-a82d-8086cafc9bcb",
   "metadata": {},
   "source": [
    "데이터 설명 : 2018년도 성인의 건강검 진데이터 (종속변수 : 흡연상태 1- 흡연, 0-비흡연 )\n",
    "\n",
    "x_train:\n",
    "\n",
    "[https://raw.githubusercontent.com/Datamanim/datarepo/main/smoke/x_train.csv](https://raw.githubusercontent.com/Datamanim/datarepo/main/smoke/x_train.csv)\n",
    "\n",
    "y_train:\n",
    "\n",
    "[https://raw.githubusercontent.com/Datamanim/datarepo/main/smoke/y_train.csv](https://raw.githubusercontent.com/Datamanim/datarepo/main/smoke/y_train.csv)\n",
    "\n",
    "x_test:\n",
    "\n",
    "[https://raw.githubusercontent.com/Datamanim/datarepo/main/smoke/x_test.csv](https://raw.githubusercontent.com/Datamanim/datarepo/main/smoke/x_test.csv)\n",
    "\n",
    "x_label(평가용) :\n",
    "\n",
    "[https://raw.githubusercontent.com/Datamanim/datarepo/main/smoke/y_test.csv](https://raw.githubusercontent.com/Datamanim/datarepo/main/smoke/y_test.csv)\n",
    "\n",
    "데이터 출처 :\n",
    "\n",
    "[https://www.data.go.kr/data/15007122/fileData.do](https://www.data.go.kr/data/15007122/fileData.do)\n",
    "\n",
    "(참고, 데이터 수정)"
   ]
  },
  {
   "cell_type": "code",
   "execution_count": null,
   "id": "6dc78d0a-44b7-4b26-acad-6ce3025ac6c6",
   "metadata": {},
   "outputs": [],
   "source": []
  }
 ],
 "metadata": {
  "kernelspec": {
   "display_name": "Python 3 (ipykernel)",
   "language": "python",
   "name": "python3"
  },
  "language_info": {
   "codemirror_mode": {
    "name": "ipython",
    "version": 3
   },
   "file_extension": ".py",
   "mimetype": "text/x-python",
   "name": "python",
   "nbconvert_exporter": "python",
   "pygments_lexer": "ipython3",
   "version": "3.8.12"
  }
 },
 "nbformat": 4,
 "nbformat_minor": 5
}
