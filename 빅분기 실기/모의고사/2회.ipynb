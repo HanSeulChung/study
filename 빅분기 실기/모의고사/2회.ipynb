{
 "cells": [
  {
   "cell_type": "markdown",
   "id": "85c972bb-575a-4157-a04a-a2b31a270971",
   "metadata": {
    "tags": []
   },
   "source": [
    "# 제 1유형"
   ]
  },
  {
   "cell_type": "markdown",
   "id": "fcd51611-b04c-47bb-bae6-eb412e0b3823",
   "metadata": {},
   "source": [
    "데이터 출처 : https://www.kaggle.com/datasets/fedesoriano/stroke-prediction-dataset (후처리 작업)\n",
    "\n",
    "데이터 설명 : 뇌졸증 발생여부 예측\n",
    "dataurl : https://raw.githubusercontent.com/Datamanim/datarepo/main/stroke/train.csv"
   ]
  },
  {
   "cell_type": "markdown",
   "id": "524d811a-eea1-4cc2-b528-daaede01c5a5",
   "metadata": {
    "tags": []
   },
   "source": [
    "## 성별이 Male인 환자들의 age의 평균값은 ?"
   ]
  },
  {
   "cell_type": "markdown",
   "id": "56f1b9b7-82fb-44e0-9aa4-437900e8abef",
   "metadata": {},
   "source": [
    "왜 이렇게하면 평균값이 달라지는거지?"
   ]
  },
  {
   "cell_type": "code",
   "execution_count": 34,
   "id": "49d12c3b-d27b-4698-8450-76d0b58c76ea",
   "metadata": {},
   "outputs": [
    {
     "name": "stdout",
     "output_type": "stream",
     "text": [
      "44.6105476673428\n",
      "44.6105476673428\n"
     ]
    }
   ],
   "source": [
    "import pandas as pd\n",
    "df = pd.read_csv('https://raw.githubusercontent.com/Datamanim/datarepo/main/stroke_/train.csv')\n",
    "# print(df.head())\n",
    "df.iloc[df.age=='*82'] ='82'\n",
    "df['age'] = pd.to_numeric(df['age'])\n",
    "df['age2'] = df['age'].astype(int)\n",
    "answer = df.loc[df.gender=='Male'].age.mean()\n",
    "answer2 = df.loc[df.gender=='Male'].age2.mean()\n",
    "print(answer)\n",
    "print(answer2)"
   ]
  },
  {
   "cell_type": "code",
   "execution_count": 32,
   "id": "9720b4a7-61fc-4431-b090-a8b8519d9311",
   "metadata": {},
   "outputs": [
    {
     "name": "stdout",
     "output_type": "stream",
     "text": [
      "44.68623481781376\n"
     ]
    }
   ],
   "source": [
    "import pandas as pd\n",
    "df = pd.read_csv('https://raw.githubusercontent.com/Datamanim/datarepo/main/stroke_/train.csv')\n",
    "df['age']=df.age.replace('*82','82')\n",
    "df['age'] = pd.to_numeric(df['age'])\n",
    "answer = df.loc[df.gender=='Male'].age.mean()\n",
    "print(answer)"
   ]
  },
  {
   "cell_type": "code",
   "execution_count": 35,
   "id": "7e489021-2ce6-430d-a169-5f56adbae869",
   "metadata": {},
   "outputs": [
    {
     "name": "stderr",
     "output_type": "stream",
     "text": [
      "C:\\Users\\w0w12\\AppData\\Local\\Temp/ipykernel_33508/1909062444.py:3: FutureWarning: The default value of regex will change from True to False in a future version. In addition, single character regular expressions will *not* be treated as literal strings when regex=True.\n",
      "  df['age'] = df['age'].str.replace('*','')\n"
     ]
    },
    {
     "data": {
      "text/plain": [
       "44.68623481781376"
      ]
     },
     "execution_count": 35,
     "metadata": {},
     "output_type": "execute_result"
    }
   ],
   "source": [
    "import pandas as pd\n",
    "df = pd.read_csv('https://raw.githubusercontent.com/Datamanim/datarepo/main/stroke_/train.csv')\n",
    "df['age'] = df['age'].str.replace('*','')\n",
    "df['age'] = df['age'].astype(int)\n",
    "df.loc[df['gender']=='Male']['age'].mean()"
   ]
  },
  {
   "cell_type": "markdown",
   "id": "8f2a7745-3475-4f77-bcf1-74b40ace6ea8",
   "metadata": {},
   "source": [
    "## bmi컬럼의 결측치를 bmi컬럼의 결측치를 제외한 나머지 값들의 중앙값으로 채웠을 경우 bmi 컬럼의 평균을 소숫점 이하 3자리 까지 구하여라"
   ]
  },
  {
   "cell_type": "code",
   "execution_count": 40,
   "id": "4bc44601-787f-46ac-b5e0-011eaec4cfcb",
   "metadata": {},
   "outputs": [
    {
     "name": "stdout",
     "output_type": "stream",
     "text": [
      "29.166\n"
     ]
    }
   ],
   "source": [
    "df['bmi'] = pd.to_numeric(df['bmi'])\n",
    "bmi_mean = df['bmi'].dropna().median()\n",
    "# print(bmi_mean)\n",
    "df2 = df.copy()\n",
    "df2['bmi'].fillna(bmi_mean,inplace=True)\n",
    "answer = df2.bmi.mean()\n",
    "# print(df2.isnull().sum())\n",
    "print(round(answer,3))"
   ]
  },
  {
   "cell_type": "markdown",
   "id": "7b0c0767-25c5-4b9c-ad97-370955d3bcf8",
   "metadata": {},
   "source": [
    "## bmi컬럼의 각 결측치들을 직전의 행의 bmi값으로 채웠을 경우 bmi 컬럼의 평균을 소숫점 이하 3자리 까지 구하여라"
   ]
  },
  {
   "cell_type": "code",
   "execution_count": 86,
   "id": "b40182b2-7066-48fa-ba90-80c2fa5a06ef",
   "metadata": {},
   "outputs": [
    {
     "name": "stdout",
     "output_type": "stream",
     "text": [
      "29.188\n"
     ]
    }
   ],
   "source": [
    "df2 = df.copy()\n",
    "df2.bmi.fillna(method='ffill',inplace=True)\n",
    "answer = df2.bmi.mean()\n",
    "print(round(answer,3))"
   ]
  },
  {
   "cell_type": "markdown",
   "id": "2a5c7034-65fa-4a81-919e-2d1179f99f53",
   "metadata": {},
   "source": [
    "## bmi컬럼의 각 결측치들을 결측치를 가진 환자 나이대(10단위)의 평균 bmi 값으로 대체한 후 대체된 bmi 컬럼의 평균을 소숫점 이하 3자리 까지 구하여라 (다시하기)"
   ]
  },
  {
   "cell_type": "markdown",
   "id": "0248d998-689c-4b9b-97af-52a52b809e70",
   "metadata": {},
   "source": [
    "다시하기 "
   ]
  },
  {
   "cell_type": "code",
   "execution_count": 77,
   "id": "867d6c65-3344-426b-969f-b830b78c1397",
   "metadata": {},
   "outputs": [
    {
     "name": "stdout",
     "output_type": "stream",
     "text": [
      "<pandas.core.groupby.generic.DataFrameGroupBy object at 0x000001E364332490>\n"
     ]
    }
   ],
   "source": [
    "df['age2']= df.age//10*10\n",
    "# pd.set_option('max_rows',None)\n",
    "# print(df[['age2','bmi']])\n",
    "df3 = df.copy()\n",
    "print(df3.groupby(['age2','bmi'],as_index= False))\n",
    "# print(df3.age2.value_counts())\n",
    "# answer = .mean()\n",
    "# print(round(answer,3))"
   ]
  },
  {
   "cell_type": "markdown",
   "id": "ae8d32cc-7d04-4beb-98fd-9e5f343a952d",
   "metadata": {},
   "source": [
    "## avg_glucose_level 컬럼의 값이 200이상인 데이터를 모두 199로 변경하고 stroke값이 1인 데이터의 avg_glucose_level값의 평균을 소수점이하 3자리 까지 구하여라"
   ]
  },
  {
   "cell_type": "code",
   "execution_count": 52,
   "id": "c49501b5-a435-4d6c-b106-b20af9e49f14",
   "metadata": {},
   "outputs": [
    {
     "name": "stdout",
     "output_type": "stream",
     "text": [
      "125.188\n"
     ]
    }
   ],
   "source": [
    "df.loc[df['avg_glucose_level']>=200]['avg_glucose_level']=199\n",
    "answer = df.loc[df.stroke==1]['avg_glucose_level'].mean()\n",
    "print(round(answer,3))"
   ]
  },
  {
   "cell_type": "code",
   "execution_count": 53,
   "id": "a9553ff6-12be-419f-ae39-bc385576bab7",
   "metadata": {},
   "outputs": [
    {
     "name": "stdout",
     "output_type": "stream",
     "text": [
      "125.188\n"
     ]
    }
   ],
   "source": [
    "#답\n",
    "df.loc[df.avg_glucose_level >=200,'avg_glucose_level'] =199\n",
    "result = round(df[df.stroke ==1].avg_glucose_level.mean(),3)\n",
    "print(result)"
   ]
  },
  {
   "cell_type": "markdown",
   "id": "526b7094-2af4-443d-ac4d-b370d2257db7",
   "metadata": {},
   "source": [
    "데이터 출처 : https://www.kaggle.com/abcsds/pokemon (참고, 데이터 수정)\n",
    "\n",
    "데이터 설명 : 포켓몬 정보\n",
    "data url = https://raw.githubusercontent.com/Datamanim/datarepo/main/pok/Pokemon.csv"
   ]
  },
  {
   "cell_type": "markdown",
   "id": "e43965b7-cc4c-48e6-a37f-f7bb82e65773",
   "metadata": {},
   "source": [
    "## Attack컬럼의 값을 기준으로 내림차순정렬 했을때 상위 400위까지 포켓몬들과 401~800위까지의 포켓몬들에서 전설포켓몬(Legendary컬럼)의 숫자 차이는?"
   ]
  },
  {
   "cell_type": "code",
   "execution_count": 94,
   "id": "708abeea-fd7b-439d-97d7-02324423a264",
   "metadata": {},
   "outputs": [
    {
     "data": {
      "text/html": [
       "<div>\n",
       "<style scoped>\n",
       "    .dataframe tbody tr th:only-of-type {\n",
       "        vertical-align: middle;\n",
       "    }\n",
       "\n",
       "    .dataframe tbody tr th {\n",
       "        vertical-align: top;\n",
       "    }\n",
       "\n",
       "    .dataframe thead th {\n",
       "        text-align: right;\n",
       "    }\n",
       "</style>\n",
       "<table border=\"1\" class=\"dataframe\">\n",
       "  <thead>\n",
       "    <tr style=\"text-align: right;\">\n",
       "      <th></th>\n",
       "      <th>Name</th>\n",
       "      <th>Type 1</th>\n",
       "      <th>Type 2</th>\n",
       "      <th>Total</th>\n",
       "      <th>HP</th>\n",
       "      <th>Attack</th>\n",
       "      <th>Defense</th>\n",
       "      <th>Sp. Atk</th>\n",
       "      <th>Sp. Def</th>\n",
       "      <th>Speed</th>\n",
       "      <th>Generation</th>\n",
       "      <th>Legendary</th>\n",
       "    </tr>\n",
       "  </thead>\n",
       "  <tbody>\n",
       "    <tr>\n",
       "      <th>0</th>\n",
       "      <td>Bulbasaur</td>\n",
       "      <td>Grass</td>\n",
       "      <td>Poison</td>\n",
       "      <td>318</td>\n",
       "      <td>45</td>\n",
       "      <td>49</td>\n",
       "      <td>49</td>\n",
       "      <td>65</td>\n",
       "      <td>65</td>\n",
       "      <td>45</td>\n",
       "      <td>1</td>\n",
       "      <td>False</td>\n",
       "    </tr>\n",
       "    <tr>\n",
       "      <th>1</th>\n",
       "      <td>Ivysaur</td>\n",
       "      <td>Grass</td>\n",
       "      <td>Poison</td>\n",
       "      <td>405</td>\n",
       "      <td>60</td>\n",
       "      <td>62</td>\n",
       "      <td>63</td>\n",
       "      <td>80</td>\n",
       "      <td>80</td>\n",
       "      <td>60</td>\n",
       "      <td>1</td>\n",
       "      <td>False</td>\n",
       "    </tr>\n",
       "    <tr>\n",
       "      <th>2</th>\n",
       "      <td>Venusaur</td>\n",
       "      <td>Grass</td>\n",
       "      <td>Poison</td>\n",
       "      <td>525</td>\n",
       "      <td>80</td>\n",
       "      <td>82</td>\n",
       "      <td>83</td>\n",
       "      <td>100</td>\n",
       "      <td>100</td>\n",
       "      <td>80</td>\n",
       "      <td>1</td>\n",
       "      <td>False</td>\n",
       "    </tr>\n",
       "    <tr>\n",
       "      <th>3</th>\n",
       "      <td>VenusaurMega Venusaur</td>\n",
       "      <td>Grass</td>\n",
       "      <td>Poison</td>\n",
       "      <td>625</td>\n",
       "      <td>80</td>\n",
       "      <td>100</td>\n",
       "      <td>123</td>\n",
       "      <td>122</td>\n",
       "      <td>120</td>\n",
       "      <td>80</td>\n",
       "      <td>1</td>\n",
       "      <td>False</td>\n",
       "    </tr>\n",
       "    <tr>\n",
       "      <th>4</th>\n",
       "      <td>Charmander</td>\n",
       "      <td>Fire</td>\n",
       "      <td>NaN</td>\n",
       "      <td>309</td>\n",
       "      <td>39</td>\n",
       "      <td>52</td>\n",
       "      <td>43</td>\n",
       "      <td>60</td>\n",
       "      <td>50</td>\n",
       "      <td>65</td>\n",
       "      <td>1</td>\n",
       "      <td>False</td>\n",
       "    </tr>\n",
       "  </tbody>\n",
       "</table>\n",
       "</div>"
      ],
      "text/plain": [
       "                    Name Type 1  Type 2  Total  HP  Attack  Defense  Sp. Atk  \\\n",
       "0              Bulbasaur  Grass  Poison    318  45      49       49       65   \n",
       "1                Ivysaur  Grass  Poison    405  60      62       63       80   \n",
       "2               Venusaur  Grass  Poison    525  80      82       83      100   \n",
       "3  VenusaurMega Venusaur  Grass  Poison    625  80     100      123      122   \n",
       "4             Charmander   Fire     NaN    309  39      52       43       60   \n",
       "\n",
       "   Sp. Def  Speed  Generation  Legendary  \n",
       "0       65     45           1      False  \n",
       "1       80     60           1      False  \n",
       "2      100     80           1      False  \n",
       "3      120     80           1      False  \n",
       "4       50     65           1      False  "
      ]
     },
     "execution_count": 94,
     "metadata": {},
     "output_type": "execute_result"
    }
   ],
   "source": [
    "df.head()"
   ]
  },
  {
   "cell_type": "code",
   "execution_count": 100,
   "id": "014f22bc-7149-4cb9-b0a1-3cdb6df64c13",
   "metadata": {},
   "outputs": [
    {
     "name": "stdout",
     "output_type": "stream",
     "text": [
      "57\n"
     ]
    }
   ],
   "source": [
    "import pandas as pd\n",
    "df = pd.read_csv('https://raw.githubusercontent.com/Datamanim/datarepo/main/pok/Pokemon.csv')\n",
    "df.drop('#',axis=1,inplace=True)\n",
    "# print(df.info())\n",
    "# print(df.head())\n",
    "target1 = df.sort_values(by='Attack',ascending=False)[:400]\n",
    "target2 = df.sort_values(by='Attack',ascending=False)[401:800]\n",
    "answer = (len(target1[target1.Legendary==True])- len(target2[target2.Legendary==True]))\n",
    "print(answer)"
   ]
  },
  {
   "cell_type": "markdown",
   "id": "59c4c4ea-406b-4975-b595-b2deb3724fd0",
   "metadata": {},
   "source": [
    "## Type 1 컬럼의 종류에 따른 Total 컬럼의 평균값을 내림차순 정렬했을때 상위 3번째 Type 1은 무엇인가?"
   ]
  },
  {
   "cell_type": "code",
   "execution_count": null,
   "id": "473a2c27-a645-4bf1-b9b5-1d8dd95a2d46",
   "metadata": {},
   "outputs": [],
   "source": []
  },
  {
   "cell_type": "markdown",
   "id": "8f315d0b-9992-475f-913c-5a623246ff22",
   "metadata": {},
   "source": [
    "## 결측치가 존재하는 행을 모두 지운 후 처음부터 순서대로 60% 데이터를 추출하여 Defense컬럼의 1분위수를 구하여라"
   ]
  },
  {
   "cell_type": "code",
   "execution_count": 111,
   "id": "b76a1735-6622-4d32-b443-57f8070e8469",
   "metadata": {},
   "outputs": [
    {
     "name": "stdout",
     "output_type": "stream",
     "text": [
      "<class 'pandas.core.frame.DataFrame'>\n",
      "Int64Index: 414 entries, 0 to 799\n",
      "Data columns (total 12 columns):\n",
      " #   Column      Non-Null Count  Dtype \n",
      "---  ------      --------------  ----- \n",
      " 0   Name        414 non-null    object\n",
      " 1   Type 1      414 non-null    object\n",
      " 2   Type 2      414 non-null    object\n",
      " 3   Total       414 non-null    int64 \n",
      " 4   HP          414 non-null    int64 \n",
      " 5   Attack      414 non-null    int64 \n",
      " 6   Defense     414 non-null    int64 \n",
      " 7   Sp. Atk     414 non-null    int64 \n",
      " 8   Sp. Def     414 non-null    int64 \n",
      " 9   Speed       414 non-null    int64 \n",
      " 10  Generation  414 non-null    int64 \n",
      " 11  Legendary   414 non-null    bool  \n",
      "dtypes: bool(1), int64(8), object(3)\n",
      "memory usage: 39.2+ KB\n",
      "None\n"
     ]
    }
   ],
   "source": [
    "print(df_drop.info())"
   ]
  },
  {
   "cell_type": "code",
   "execution_count": 114,
   "id": "2cabe3bd-3fec-4f9b-ac0c-4b435b35897d",
   "metadata": {},
   "outputs": [
    {
     "name": "stdout",
     "output_type": "stream",
     "text": [
      "50.0\n"
     ]
    }
   ],
   "source": [
    "df_drop = df.dropna()\n",
    "answer = df_drop[:int(len(df_drop)*(0.6))].Defense.quantile(0.25)\n",
    "print(answer)"
   ]
  },
  {
   "cell_type": "markdown",
   "id": "7aec7eb8-b58f-4b58-b440-8bb359887774",
   "metadata": {},
   "source": [
    "## Type 1 컬럼의 속성이 Fire인 포켓몬들의 Attack의 평균이상인 Water속성의 포켓몬 수를 구하여라"
   ]
  },
  {
   "cell_type": "code",
   "execution_count": 115,
   "id": "74b16e8a-d14d-4660-927e-b83ce33b6f13",
   "metadata": {},
   "outputs": [
    {
     "name": "stdout",
     "output_type": "stream",
     "text": [
      "37\n"
     ]
    }
   ],
   "source": [
    "target = df.loc[df['Type 1']=='Fire'].Attack.mean()\n",
    "answer = len(df.loc[(df['Type 1']=='Water') & (df['Attack']>=target)])\n",
    "print(answer)"
   ]
  },
  {
   "cell_type": "markdown",
   "id": "795a02e6-3519-473c-8559-f1b5089a954a",
   "metadata": {},
   "source": [
    "## 각 세대 중(Generation 컬럼)의 Speed와 Defense 컬럼의 차이(절댓값)이 가장 큰 세대는?"
   ]
  },
  {
   "cell_type": "code",
   "execution_count": 135,
   "id": "398c77f8-bcdf-44ad-9662-075975844121",
   "metadata": {},
   "outputs": [
    {
     "name": "stdout",
     "output_type": "stream",
     "text": [
      "            Speed    Defense\n",
      "Generation                  \n",
      "1             NaN   1.722892\n",
      "2             NaN  11.575472\n",
      "3             NaN   7.175000\n",
      "4             NaN   6.793388\n",
      "5             NaN   4.248485\n",
      "6             NaN  10.243902\n",
      "\t\n",
      "2\n"
     ]
    }
   ],
   "source": [
    "a=abs(df.groupby(['Generation'])[['Speed','Defense']].mean().T.diff().T)\n",
    "print(a)\n",
    "print('\\t')\n",
    "print(a.Defense.sort_values(ascending=False).index[0])"
   ]
  },
  {
   "cell_type": "code",
   "execution_count": 117,
   "id": "67584f27-ef56-4db4-b688-28d76ed3ea11",
   "metadata": {},
   "outputs": [
    {
     "name": "stdout",
     "output_type": "stream",
     "text": [
      "[1 2 3 4 5 6]\n"
     ]
    }
   ],
   "source": [
    "print(df.Generation.unique())\n",
    "\n",
    "# answer =\n",
    "# print(answer)"
   ]
  },
  {
   "cell_type": "markdown",
   "id": "09341644-68ec-42e7-8dbe-7a7c13be5bd3",
   "metadata": {},
   "source": [
    "# 제 2유형"
   ]
  },
  {
   "cell_type": "markdown",
   "id": "c4315026-8c8e-4f6f-b704-c83b8fa3cf33",
   "metadata": {},
   "source": [
    "데이터 출처 : https://www.kaggle.com/datasets/fedesoriano/stroke-prediction-dataset (후처리 작업)\n",
    "\n",
    "데이터 설명 : 뇌졸증 발생여부 예측\n",
    "\n",
    "train : https://raw.githubusercontent.com/Datamanim/datarepo/main/stroke_/train.csv\n",
    "\n",
    "test : https://raw.githubusercontent.com/Datamanim/datarepo/main/stroke_/test.csv"
   ]
  },
  {
   "cell_type": "code",
   "execution_count": 11,
   "id": "0255314b-ff9c-44d1-ac96-afbbb5cd3cff",
   "metadata": {},
   "outputs": [
    {
     "name": "stdout",
     "output_type": "stream",
     "text": [
      "train 점수: 1.0\n",
      "test검증 점수: 0.8640350877192983\n",
      "test 값 roc점수 0.7857142857142858\n"
     ]
    }
   ],
   "source": [
    "import pandas as pd\n",
    "import numpy as np\n",
    "\n",
    "from sklearn.preprocessing import StandardScaler, LabelEncoder\n",
    "Scaler_s = StandardScaler()\n",
    "LE = LabelEncoder()\n",
    "from sklearn.model_selection import train_test_split\n",
    "from sklearn.ensemble import RandomForestClassifier\n",
    "rfc = RandomForestClassifier(random_state=2022)\n",
    "\n",
    "train = pd.read_csv('https://raw.githubusercontent.com/Datamanim/datarepo/main/stroke_/train.csv')\n",
    "test = pd.read_csv('https://raw.githubusercontent.com/Datamanim/datarepo/main/stroke_/test.csv')\n",
    "X_train = train.drop(['id','stroke'],axis=1)\n",
    "y = train.stroke\n",
    "X_test = test.drop('id',axis=1)\n",
    "\n",
    "\n",
    "# print(X_train.head())\n",
    "# print(X_train['heart_disease'].value_counts())\n",
    "# print(y_train.head())\n",
    "# print(X_train.info())\n",
    "# print(X_train.gender.unique())\n",
    "# print(X_test.info())\n",
    "# print(X_train.age.unique())\n",
    "\n",
    "#데이터전처리 (null값 처리, 스케일링, 인코딩)\n",
    "X_train['age']=X_train['age'].replace('*82','82')\n",
    "X_train['age']=X_train['age'].astype(int)\n",
    "\n",
    "X_train['heart_disease'] = X_train['heart_disease'].astype('object') #0,1으로만 되어있는 숫자형식이라서 string타입으로 category화 해줬다.\n",
    "X_test['heart_disease'] = X_test['heart_disease'].astype('object') #갯수가 많은 것을 yes로할지 no로할지는 너무 내마음대로인것 같아서 그렇게 바꾸진않았다.\n",
    "# print(X_train.info())\n",
    "# print(X_train.loc[X_train.bmi.notnull()].bmi.describe())\n",
    "# print(X_test.info())\n",
    "\n",
    "X_train['bmi'] = X_train['bmi'].fillna(X_train.loc[X_train.bmi.notnull()].bmi.mean())\n",
    "X_test['bmi'] = X_test['bmi'].fillna(X_test.loc[X_test.bmi.notnull()].bmi.mean())\n",
    "# print(X_test.info())\n",
    "obj_X_train = X_train.select_dtypes(include='object').columns\n",
    "obj_X_test = X_test.select_dtypes(include='object').columns\n",
    "num_X_train = X_train.select_dtypes(include='number').columns\n",
    "num_X_test = X_test.select_dtypes(include='number').columns\n",
    "# for col in obj_X_train:\n",
    "#     print(X_train[col].unique())\n",
    "    \n",
    "X_train_obj = X_train[obj_X_train]\n",
    "X_test_obj =X_test[obj_X_test]\n",
    "X_train_num = X_train[num_X_train]\n",
    "X_test_num = X_test[num_X_test]\n",
    "\n",
    "X_train_obj =pd.get_dummies(X_train_obj)\n",
    "X_test_obj = pd.get_dummies(X_test_obj)\n",
    "X_train_obj, X_test_obj = X_train_obj.align(X_test_obj, join='inner',axis=1)\n",
    "\n",
    "Scaler_s.fit(X_train_num)\n",
    "X_train_num = Scaler_s.transform(X_train_num)\n",
    "X_test_num = Scaler_s.transform(X_test_num)\n",
    "\n",
    "X = pd.concat([pd.DataFrame(X_train_num,columns=num_X_train),X_train_obj],axis=1)\n",
    "X_test = pd.concat([pd.DataFrame(X_test_num,columns=num_X_test), X_test_obj],axis=1)\n",
    "# print(num_X_train)\n",
    "# print(X_train_num)\n",
    "# print(X.head())\n",
    "# print(X.info())\n",
    "\n",
    "X_tr,X_val,y_tr,y_val = train_test_split(X, y, random_state=0,test_size=0.2)\n",
    "\n",
    "rfc.fit(X_tr,y_tr)\n",
    "pred_y_val = rfc.predict(X_val)\n",
    "pred_y_valproba = rfc.predict_proba(X_val)\n",
    "print(\"train 점수:\",rfc.score(X_tr,y_tr))\n",
    "print(\"test검증 점수:\",rfc.score(X_val,y_val)) \n",
    "\n",
    "from sklearn.metrics import roc_auc_score\n",
    "print(\"test 값 roc점수\",roc_auc_score(y_val,pred_y_valproba[:,1]))\n",
    "\n",
    "# submission = pd.DataFrame({'id':test.id,'pred':pred_y})\n",
    "# submission.to_csv('수험번호.csv',index=False)\n",
    "# check = pd.read_csv('수험번호.csv')\n",
    "# print(check.head())"
   ]
  },
  {
   "cell_type": "markdown",
   "id": "48f88ff0-e246-4577-98b8-b3f940b1ce7a",
   "metadata": {},
   "source": [
    "다시"
   ]
  },
  {
   "cell_type": "code",
   "execution_count": 31,
   "id": "dddcb757-d6b9-4f6a-a708-a6f532cb2cec",
   "metadata": {},
   "outputs": [
    {
     "name": "stdout",
     "output_type": "stream",
     "text": [
      "train 점수: 1.0\n",
      "test 점수: 0.868421052631579\n",
      "test 값 roc점수 0.8296428571428571\n"
     ]
    }
   ],
   "source": [
    "import pandas as pd\n",
    "import warnings \n",
    "warnings.filterwarnings('ignore')\n",
    "\n",
    "from sklearn.preprocessing import LabelEncoder, MinMaxScaler, StandardScaler\n",
    "LE = LabelEncoder()\n",
    "Scaler_m = MinMaxScaler()\n",
    "Scaler_s = StandardScaler()\n",
    "\n",
    "from sklearn.model_selection import train_test_split\n",
    "from sklearn.ensemble import RandomForestClassifier #회귀는 Regressor\n",
    "rfc = RandomForestClassifier(random_state=0)\n",
    "\n",
    "train = pd.read_csv('https://raw.githubusercontent.com/Datamanim/datarepo/main/stroke_/train.csv')\n",
    "test = pd.read_csv('https://raw.githubusercontent.com/Datamanim/datarepo/main/stroke_/test.csv')\n",
    "\n",
    "# print(train.head())\n",
    "# print(train.isnull().sum())\n",
    "# print(train.info())\n",
    "# print('\\t')\n",
    "# print(test.info())\n",
    "# print(test.isnull().sum())\n",
    "# print(train.age.unique())\n",
    "# print(test.age.unique())\n",
    "\n",
    "train['age'] = train.age.str.replace('*','').astype(int)\n",
    "\n",
    "\n",
    "# print(train.age.unique())\n",
    "# print(train['Residence_type'].unique())\n",
    "# print(test['Residence_type'].unique())\n",
    "# print(train['smoking_status'].unique())\n",
    "# print(test['smoking_status'].unique())\n",
    "# print(train['work_type'].unique())\n",
    "# print(test['work_type'].unique())\n",
    "# print(train['gender'].unique())\n",
    "# print(test['gender'].unique())\n",
    "\n",
    "obj = train.select_dtypes(include='object').columns\n",
    "# print(train[obj].head(3))\n",
    "\n",
    "X = train.drop(['id','stroke'],axis=1)\n",
    "y = train.stroke\n",
    "X_test = test.drop('id',axis=1)\n",
    "\n",
    "# print(X_test.head())\n",
    "X['bmi'] = X.bmi.fillna(X.bmi.mean())\n",
    "X_test['bmi'] = X_test.bmi.fillna(X_test.bmi.mean())\n",
    "\n",
    "obj_le =['ever_married','Residence_type']\n",
    "obj_oh = ['gender','work_type','smoking_status']\n",
    "num = X.select_dtypes(include='number').columns\n",
    "\n",
    "# print(num)\n",
    "# print(X[num].describe())\n",
    "\n",
    "for col in num: #수치형 스케일링\n",
    "    Scaler_m.fit(X[[col]])\n",
    "    X[col] = Scaler_m.transform(X[[col]])\n",
    "    X_test[col] = Scaler_m.transform(X_test[[col]])\n",
    "\n",
    "for col in obj_le: #범주형 중 2개값만 있는 것은 label 인코딩을 해주었고\n",
    "    LE.fit(X[col])\n",
    "    X[col]= LE.transform(X[col])\n",
    "    X_test[col]= LE.transform(X_test[col])\n",
    "    \n",
    "\n",
    "X_dum = X[obj_oh]     #범주형 중 3개 이상 있는 것들은 따로 빼서 get_dummies (원핫인코딩)을 해주었다.\n",
    "X_test_dum = X_test[obj_oh]\n",
    "X = X.drop(obj_oh,axis=1)\n",
    "X_test = X_test.drop(obj_oh,axis=1)\n",
    "\n",
    "X_dum = pd.get_dummies(X_dum)\n",
    "X_test_dum = pd.get_dummies(X_test_dum)\n",
    "# print(X_dum.head())\n",
    "X_final = pd.concat([X,X_dum],axis=1)\n",
    "X_test_final = pd.concat([X_test,X_test_dum],axis=1)\n",
    "# print(X_final.head())\n",
    "# print(X_test_final.head())\n",
    "# print(y.isnull().sum())\n",
    "\n",
    "X_tr,X_val,y_tr,y_val = train_test_split(X_final,y,random_state=3,test_size=0.2)\n",
    "rfc.fit(X_tr,y_tr)\n",
    "pred_y_val = rfc.predict(X_val)\n",
    "pred_y_valproba = rfc.predict_proba(X_val)\n",
    "print(\"train 점수:\",rfc.score(X_tr,y_tr))\n",
    "print(\"test 점수:\",rfc.score(X_val,y_val))\n",
    "\n",
    "from sklearn.metrics import roc_auc_score\n",
    "print(\"test 값 roc점수\",roc_auc_score(y_val,pred_y_valproba[:,1]))\n"
   ]
  },
  {
   "cell_type": "code",
   "execution_count": null,
   "id": "d5ae420e-2de3-4e54-9553-445cf467a33a",
   "metadata": {},
   "outputs": [],
   "source": []
  },
  {
   "cell_type": "code",
   "execution_count": null,
   "id": "c3ccba7a-cba0-42cb-8005-5e723581ca71",
   "metadata": {},
   "outputs": [],
   "source": []
  }
 ],
 "metadata": {
  "kernelspec": {
   "display_name": "Python 3 (ipykernel)",
   "language": "python",
   "name": "python3"
  },
  "language_info": {
   "codemirror_mode": {
    "name": "ipython",
    "version": 3
   },
   "file_extension": ".py",
   "mimetype": "text/x-python",
   "name": "python",
   "nbconvert_exporter": "python",
   "pygments_lexer": "ipython3",
   "version": "3.8.12"
  }
 },
 "nbformat": 4,
 "nbformat_minor": 5
}
