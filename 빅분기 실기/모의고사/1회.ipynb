{
 "cells": [
  {
   "cell_type": "markdown",
   "id": "9075f1cc-9a1b-4d96-a382-83c9582cc5ac",
   "metadata": {},
   "source": [
    "# 제 1유형"
   ]
  },
  {
   "cell_type": "markdown",
   "id": "00c05d00-fc15-4998-9eb5-e2fc67a1811f",
   "metadata": {},
   "source": [
    "데이터 출처 : https://archive.ics.uci.edu/ml/datasets/Bank+Marketing (후처리 작업)\n",
    "\n",
    "데이터 설명 : 은행의 전화 마케팅에 대해 고객의 반응 여부\n",
    "dataurl : https://raw.githubusercontent.com/Datamanim/datarepo/main/bank/train.csv"
   ]
  },
  {
   "cell_type": "markdown",
   "id": "f65e629d-5f14-4805-9ee7-1af21e06f930",
   "metadata": {},
   "source": [
    "## 마케팅 응답 고객들의 나이를 10살 단위로 변환 했을 때, 가장 많은 인원을 가진 나이대는?  (0 - 9 : 0 , 10- 19 : 10)"
   ]
  },
  {
   "cell_type": "code",
   "execution_count": 9,
   "id": "35924126-e5dc-4e63-8863-7c3eee673a91",
   "metadata": {},
   "outputs": [
    {
     "name": "stdout",
     "output_type": "stream",
     "text": [
      "30\n"
     ]
    }
   ],
   "source": [
    "import pandas as pd\n",
    "df = pd.read_csv('https://raw.githubusercontent.com/Datamanim/datarepo/main/bank/train.csv')\n",
    "# print(df.head())\n",
    "# print(df.isnull().sum())\n",
    "# print(df.info())\n",
    "df['age2'] = df.age//10 *10\n",
    "# print(df.age2)\n",
    "answer = df.age2.value_counts().index[0]\n",
    "print(answer)"
   ]
  },
  {
   "cell_type": "code",
   "execution_count": 33,
   "id": "3a1c86a2-94ae-4b9c-ad57-da131847541d",
   "metadata": {},
   "outputs": [
    {
     "data": {
      "text/html": [
       "<div>\n",
       "<style scoped>\n",
       "    .dataframe tbody tr th:only-of-type {\n",
       "        vertical-align: middle;\n",
       "    }\n",
       "\n",
       "    .dataframe tbody tr th {\n",
       "        vertical-align: top;\n",
       "    }\n",
       "\n",
       "    .dataframe thead th {\n",
       "        text-align: right;\n",
       "    }\n",
       "</style>\n",
       "<table border=\"1\" class=\"dataframe\">\n",
       "  <thead>\n",
       "    <tr style=\"text-align: right;\">\n",
       "      <th></th>\n",
       "      <th>ID</th>\n",
       "      <th>age</th>\n",
       "      <th>job</th>\n",
       "      <th>marital</th>\n",
       "      <th>education</th>\n",
       "      <th>default</th>\n",
       "      <th>balance</th>\n",
       "      <th>housing</th>\n",
       "      <th>loan</th>\n",
       "      <th>contact</th>\n",
       "      <th>day</th>\n",
       "      <th>month</th>\n",
       "      <th>campaign</th>\n",
       "      <th>pdays</th>\n",
       "      <th>previous</th>\n",
       "      <th>poutcome</th>\n",
       "      <th>y</th>\n",
       "      <th>age2</th>\n",
       "    </tr>\n",
       "  </thead>\n",
       "  <tbody>\n",
       "    <tr>\n",
       "      <th>0</th>\n",
       "      <td>13829</td>\n",
       "      <td>29</td>\n",
       "      <td>technician</td>\n",
       "      <td>single</td>\n",
       "      <td>tertiary</td>\n",
       "      <td>no</td>\n",
       "      <td>18254</td>\n",
       "      <td>no</td>\n",
       "      <td>no</td>\n",
       "      <td>cellular</td>\n",
       "      <td>11</td>\n",
       "      <td>may</td>\n",
       "      <td>2</td>\n",
       "      <td>-1</td>\n",
       "      <td>0</td>\n",
       "      <td>unknown</td>\n",
       "      <td>no</td>\n",
       "      <td>20</td>\n",
       "    </tr>\n",
       "    <tr>\n",
       "      <th>1</th>\n",
       "      <td>22677</td>\n",
       "      <td>26</td>\n",
       "      <td>services</td>\n",
       "      <td>single</td>\n",
       "      <td>secondary</td>\n",
       "      <td>no</td>\n",
       "      <td>512</td>\n",
       "      <td>yes</td>\n",
       "      <td>yes</td>\n",
       "      <td>unknown</td>\n",
       "      <td>5</td>\n",
       "      <td>jun</td>\n",
       "      <td>3</td>\n",
       "      <td>-1</td>\n",
       "      <td>0</td>\n",
       "      <td>unknown</td>\n",
       "      <td>no</td>\n",
       "      <td>20</td>\n",
       "    </tr>\n",
       "    <tr>\n",
       "      <th>2</th>\n",
       "      <td>10541</td>\n",
       "      <td>30</td>\n",
       "      <td>management</td>\n",
       "      <td>single</td>\n",
       "      <td>secondary</td>\n",
       "      <td>no</td>\n",
       "      <td>135</td>\n",
       "      <td>no</td>\n",
       "      <td>no</td>\n",
       "      <td>cellular</td>\n",
       "      <td>14</td>\n",
       "      <td>aug</td>\n",
       "      <td>2</td>\n",
       "      <td>-1</td>\n",
       "      <td>0</td>\n",
       "      <td>unknown</td>\n",
       "      <td>no</td>\n",
       "      <td>30</td>\n",
       "    </tr>\n",
       "    <tr>\n",
       "      <th>3</th>\n",
       "      <td>13689</td>\n",
       "      <td>41</td>\n",
       "      <td>technician</td>\n",
       "      <td>married</td>\n",
       "      <td>unknown</td>\n",
       "      <td>no</td>\n",
       "      <td>30</td>\n",
       "      <td>yes</td>\n",
       "      <td>no</td>\n",
       "      <td>cellular</td>\n",
       "      <td>10</td>\n",
       "      <td>jul</td>\n",
       "      <td>1</td>\n",
       "      <td>-1</td>\n",
       "      <td>0</td>\n",
       "      <td>unknown</td>\n",
       "      <td>no</td>\n",
       "      <td>40</td>\n",
       "    </tr>\n",
       "    <tr>\n",
       "      <th>4</th>\n",
       "      <td>11304</td>\n",
       "      <td>27</td>\n",
       "      <td>admin.</td>\n",
       "      <td>single</td>\n",
       "      <td>secondary</td>\n",
       "      <td>no</td>\n",
       "      <td>321</td>\n",
       "      <td>no</td>\n",
       "      <td>yes</td>\n",
       "      <td>unknown</td>\n",
       "      <td>2</td>\n",
       "      <td>sep</td>\n",
       "      <td>1</td>\n",
       "      <td>-1</td>\n",
       "      <td>0</td>\n",
       "      <td>unknown</td>\n",
       "      <td>no</td>\n",
       "      <td>20</td>\n",
       "    </tr>\n",
       "  </tbody>\n",
       "</table>\n",
       "</div>"
      ],
      "text/plain": [
       "      ID  age         job  marital  education default  balance housing loan  \\\n",
       "0  13829   29  technician   single   tertiary      no    18254      no   no   \n",
       "1  22677   26    services   single  secondary      no      512     yes  yes   \n",
       "2  10541   30  management   single  secondary      no      135      no   no   \n",
       "3  13689   41  technician  married    unknown      no       30     yes   no   \n",
       "4  11304   27      admin.   single  secondary      no      321      no  yes   \n",
       "\n",
       "    contact  day month  campaign  pdays  previous poutcome   y  age2  \n",
       "0  cellular   11   may         2     -1         0  unknown  no    20  \n",
       "1   unknown    5   jun         3     -1         0  unknown  no    20  \n",
       "2  cellular   14   aug         2     -1         0  unknown  no    30  \n",
       "3  cellular   10   jul         1     -1         0  unknown  no    40  \n",
       "4   unknown    2   sep         1     -1         0  unknown  no    20  "
      ]
     },
     "execution_count": 33,
     "metadata": {},
     "output_type": "execute_result"
    }
   ],
   "source": [
    "df.head()"
   ]
  },
  {
   "cell_type": "markdown",
   "id": "44d8c6f4-e623-4f74-9713-a785f92f7b80",
   "metadata": {},
   "source": [
    "## 마케팅 응답 고객들의 나이를 10살 단위로 변환 했을 때, 가장 많은 나이대 구간의 인원은 몇명인가?"
   ]
  },
  {
   "cell_type": "code",
   "execution_count": 14,
   "id": "4346c8c6-0de3-45cf-9015-35cf5c18e81d",
   "metadata": {},
   "outputs": [
    {
     "name": "stdout",
     "output_type": "stream",
     "text": [
      "5056\n"
     ]
    }
   ],
   "source": [
    "answer = len(df.loc[df.age2==30])\n",
    "print(answer)"
   ]
  },
  {
   "cell_type": "markdown",
   "id": "9713f9c1-3b05-4d4c-bdb6-813d23ce4b4a",
   "metadata": {},
   "source": [
    "## 나이가 25살 이상 29살 미만인 응답 고객들중 housing컬럼의 값이 yes인 고객의 수는?"
   ]
  },
  {
   "cell_type": "code",
   "execution_count": 16,
   "id": "fdafbc8b-9078-466f-8039-279eae768843",
   "metadata": {},
   "outputs": [
    {
     "name": "stdout",
     "output_type": "stream",
     "text": [
      "504\n"
     ]
    }
   ],
   "source": [
    "target = df.loc[(df.age>=25)&(df.age<29)]\n",
    "answer= len(target.loc[target.housing =='yes'])\n",
    "print(answer)"
   ]
  },
  {
   "cell_type": "markdown",
   "id": "460d7f83-9022-4083-84c7-f93d641f534f",
   "metadata": {},
   "source": [
    "## numeric한 값을 가지지 않은 컬럼들중 unique한 값을 가장 많이 가지는 컬럼은?"
   ]
  },
  {
   "cell_type": "code",
   "execution_count": 61,
   "id": "f62dfe5a-e04b-4e6c-9cf9-cb789fa86cbf",
   "metadata": {},
   "outputs": [
    {
     "name": "stdout",
     "output_type": "stream",
     "text": [
      "<class 'pandas.core.frame.DataFrame'>\n",
      "RangeIndex: 12870 entries, 0 to 12869\n",
      "Data columns (total 18 columns):\n",
      " #   Column     Non-Null Count  Dtype \n",
      "---  ------     --------------  ----- \n",
      " 0   ID         12870 non-null  int64 \n",
      " 1   age        12870 non-null  int64 \n",
      " 2   job        12870 non-null  object\n",
      " 3   marital    12870 non-null  object\n",
      " 4   education  12870 non-null  object\n",
      " 5   default    12870 non-null  object\n",
      " 6   balance    12870 non-null  int64 \n",
      " 7   housing    12870 non-null  object\n",
      " 8   loan       12870 non-null  object\n",
      " 9   contact    12870 non-null  object\n",
      " 10  day        12870 non-null  int64 \n",
      " 11  month      12870 non-null  object\n",
      " 12  campaign   12870 non-null  int64 \n",
      " 13  pdays      12870 non-null  int64 \n",
      " 14  previous   12870 non-null  int64 \n",
      " 15  poutcome   12870 non-null  object\n",
      " 16  y          12870 non-null  object\n",
      " 17  age2       12870 non-null  int64 \n",
      "dtypes: int64(8), object(10)\n",
      "memory usage: 1.8+ MB\n"
     ]
    }
   ],
   "source": [
    "df.info()"
   ]
  },
  {
   "cell_type": "code",
   "execution_count": 55,
   "id": "d69473f4-8ec2-4586-b5e2-5c8149ab95e4",
   "metadata": {},
   "outputs": [
    {
     "name": "stdout",
     "output_type": "stream",
     "text": [
      "job\n"
     ]
    }
   ],
   "source": [
    "lst= [] \n",
    "for col in df.select_dtypes(exclude='int'):\n",
    "    target = df[col]\n",
    "    lst.append([col,target.nunique()])\n",
    "\n",
    "result = pd.DataFrame(lst).sort_values(1,ascending=False).values[0][0]\n",
    "print(result)"
   ]
  },
  {
   "cell_type": "code",
   "execution_count": 84,
   "id": "1368ed83-e81a-4326-83b4-0e8eb5140aa1",
   "metadata": {},
   "outputs": [
    {
     "name": "stdout",
     "output_type": "stream",
     "text": [
      "           0   1\n",
      "0        job  12\n",
      "7      month  12\n",
      "2  education   4\n",
      "8   poutcome   4\n",
      "1    marital   3\n",
      "6    contact   3\n",
      "3    default   2\n",
      "4    housing   2\n",
      "5       loan   2\n",
      "9          y   2\n"
     ]
    }
   ],
   "source": [
    "lst= [] \n",
    "for col in df.select_dtypes(include='object'):\n",
    "    target = df[col]\n",
    "    lst.append([col,target.nunique()])\n",
    "\n",
    "result = pd.DataFrame(lst).sort_values(by=1,ascending=False)\n",
    "print(result)"
   ]
  },
  {
   "cell_type": "code",
   "execution_count": 59,
   "id": "de317d60-c821-4cdb-9e64-271924396f48",
   "metadata": {},
   "outputs": [
    {
     "name": "stdout",
     "output_type": "stream",
     "text": [
      "12\n",
      "12\n"
     ]
    }
   ],
   "source": [
    "obj = df.select_dtypes(include='object').columns\n",
    "target = df.loc[:,obj]\n",
    "# print(target.info())\n",
    "# print(target.job.nunique())\n",
    "# print(len(target.job.unique()))\n",
    "lst =[]\n",
    "for col in target.columns:\n",
    "    "
   ]
  },
  {
   "cell_type": "markdown",
   "id": "c887f15b-7f6e-4dce-acba-f767432af90e",
   "metadata": {},
   "source": [
    "## balance 컬럼값들의 평균값 이상을 가지는 데이터를 ID값을 기준으로 내림차순 정렬했을때 상위 100개 데이터의 balance값의 평균은?"
   ]
  },
  {
   "cell_type": "code",
   "execution_count": 63,
   "id": "bb428c7d-9b3d-4ea5-a527-5dbf25797166",
   "metadata": {},
   "outputs": [
    {
     "name": "stdout",
     "output_type": "stream",
     "text": [
      "3473.73\n"
     ]
    }
   ],
   "source": [
    "target = df.loc[df.balance >= df.balance.mean()]\n",
    "answer = target.sort_values(by='ID',ascending=False)[:100].balance.mean()\n",
    "print(answer)"
   ]
  },
  {
   "cell_type": "markdown",
   "id": "7a22218e-1141-43c8-a266-8768122dcb9a",
   "metadata": {},
   "source": [
    "## 가장 많은 광고를 집행했던 날짜는 언제인가? (데이터 그대로 일(숫자),달(영문)으로 표기)"
   ]
  },
  {
   "cell_type": "code",
   "execution_count": 49,
   "id": "fbdf50d9-aad6-4a33-9143-265208df834d",
   "metadata": {},
   "outputs": [
    {
     "name": "stdout",
     "output_type": "stream",
     "text": [
      "(15, 'may')\n"
     ]
    }
   ],
   "source": [
    "answer = df[['day','month']].value_counts().index[0]\n",
    "print(answer)"
   ]
  },
  {
   "cell_type": "code",
   "execution_count": 47,
   "id": "1a867f78-2a4e-4f34-9eab-e51f34cf0192",
   "metadata": {},
   "outputs": [
    {
     "name": "stdout",
     "output_type": "stream",
     "text": [
      "      day month\n",
      "2556    9   jul\n"
     ]
    }
   ],
   "source": [
    "# print(df.head())\n",
    "# print(df.campaign.max())\n",
    "# answer= df.loc[df.campaign==43][['day','month']]\n",
    "# print(answer)"
   ]
  },
  {
   "cell_type": "markdown",
   "id": "8d43be64-e0f1-4e47-ba44-ca2861ca9867",
   "metadata": {},
   "source": [
    "## 데이터의 job이 unknown 상태인 고객들의 age 컬럼 값의 정규성을 검정하고자 한다. 샤피로 검정의 p-value값을 구하여라"
   ]
  },
  {
   "cell_type": "code",
   "execution_count": 64,
   "id": "c6cbe8d0-b391-4fa1-8125-f3af188c129d",
   "metadata": {},
   "outputs": [
    {
     "data": {
      "text/plain": [
       "25       52\n",
       "86       55\n",
       "135      46\n",
       "237      54\n",
       "409      45\n",
       "         ..\n",
       "12250    48\n",
       "12615    58\n",
       "12675    57\n",
       "12689    38\n",
       "12866    31\n",
       "Name: age, Length: 80, dtype: int64"
      ]
     },
     "execution_count": 64,
     "metadata": {},
     "output_type": "execute_result"
    }
   ],
   "source": [
    "target = df.loc[df.job=='unknown'].age\n",
    "target"
   ]
  },
  {
   "cell_type": "code",
   "execution_count": 72,
   "id": "ff8d9141-3beb-4765-86bb-ebe05933ec3d",
   "metadata": {
    "tags": []
   },
   "outputs": [
    {
     "name": "stdout",
     "output_type": "stream",
     "text": [
      "(0.9784717559814453, 0.1961131989955902)\n"
     ]
    }
   ],
   "source": [
    "from scipy.stats import shapiro\n",
    "answer = shapiro(target)\n",
    "print(answer) #뒤의 값이 p-value"
   ]
  },
  {
   "cell_type": "code",
   "execution_count": 71,
   "id": "df7ae4ea-6ed1-44d1-b623-c5c3663ee211",
   "metadata": {},
   "outputs": [
    {
     "name": "stdout",
     "output_type": "stream",
     "text": [
      "0.1961131989955902\n"
     ]
    }
   ],
   "source": [
    "print(answer[1])"
   ]
  },
  {
   "cell_type": "markdown",
   "id": "6edb46b6-14a5-4837-b558-ec765502b564",
   "metadata": {},
   "source": [
    "## age와 balance의 상관계수를 구하여라"
   ]
  },
  {
   "cell_type": "code",
   "execution_count": 44,
   "id": "9aff13ed-175f-4396-a5b3-8546fb5ed17f",
   "metadata": {},
   "outputs": [
    {
     "name": "stdout",
     "output_type": "stream",
     "text": [
      "0.10198734763981462\n"
     ]
    }
   ],
   "source": [
    "target = df.loc[:,['age','balance']]\n",
    "answer = target.corr().iloc[0,1]\n",
    "print(answer)"
   ]
  },
  {
   "cell_type": "markdown",
   "id": "e8b61427-bb40-4875-91e8-2d89989e2b80",
   "metadata": {},
   "source": [
    "## y 변수와 education 변수는 독립인지 카이제곱검정을 통해 확인하려한다. p-value값을 출력하라"
   ]
  },
  {
   "cell_type": "code",
   "execution_count": 75,
   "id": "0951bc25-6926-42d0-9ed7-a0a777e22fc6",
   "metadata": {},
   "outputs": [
    {
     "name": "stdout",
     "output_type": "stream",
     "text": [
      "         y  education\n",
      "0       no   tertiary\n",
      "1       no  secondary\n",
      "2       no  secondary\n",
      "3       no    unknown\n",
      "4       no  secondary\n",
      "...    ...        ...\n",
      "12865  yes  secondary\n",
      "12866  yes  secondary\n",
      "12867   no   tertiary\n",
      "12868   no   tertiary\n",
      "12869   no  secondary\n",
      "\n",
      "[12870 rows x 2 columns]\n"
     ]
    }
   ],
   "source": [
    "target = df.loc[:,['y','education']]\n",
    "print(target)\n"
   ]
  },
  {
   "cell_type": "markdown",
   "id": "70c7203e-45c9-4f14-abd9-0270e4d5aa73",
   "metadata": {},
   "source": [
    "## 각 job에 따라 divorced/married 인원의 비율을 확인 했을 때 그 값이 가장 높은 값은? (다시하기)"
   ]
  },
  {
   "cell_type": "code",
   "execution_count": null,
   "id": "5e6572f1-fcc3-4ceb-883a-277ffc96ba9b",
   "metadata": {},
   "outputs": [],
   "source": []
  },
  {
   "cell_type": "code",
   "execution_count": 53,
   "id": "49fb5df2-9949-4274-b007-bfac99642d0d",
   "metadata": {},
   "outputs": [
    {
     "name": "stdout",
     "output_type": "stream",
     "text": [
      "married     7490\n",
      "single      3905\n",
      "divorced    1475\n",
      "Name: marital, dtype: int64\n",
      "                         cnt\n",
      "job           marital       \n",
      "admin.        divorced   207\n",
      "              married    762\n",
      "              single     495\n",
      "blue-collar   divorced   205\n",
      "              married   1775\n",
      "              single     591\n",
      "entrepreneur  divorced    44\n",
      "              married    272\n",
      "              single      67\n",
      "housemaid     divorced    49\n",
      "              married    245\n",
      "              single      40\n",
      "management    divorced   323\n",
      "              married   1580\n",
      "              single     955\n",
      "retired       divorced   157\n",
      "              married    572\n",
      "              single      41\n",
      "self-employed divorced    39\n",
      "              married    284\n",
      "              single     131\n",
      "services      divorced   138\n",
      "              married    584\n",
      "              single     321\n",
      "student       married     24\n",
      "              single     334\n",
      "technician    divorced   246\n",
      "              married   1115\n",
      "              single     780\n",
      "unemployed    divorced    62\n",
      "              married    219\n",
      "              single     133\n",
      "unknown       divorced     5\n",
      "              married     58\n",
      "              single      17\n"
     ]
    }
   ],
   "source": [
    "print(df.marital.value_counts())\n",
    "df2 =df.copy()\n",
    "df2 = df2.groupby(['job','marital']).size().to_frame('cnt')\n",
    "\n",
    "print(df2)"
   ]
  },
  {
   "cell_type": "markdown",
   "id": "06b78be9-74c3-4e34-bf71-ac6fc02967e5",
   "metadata": {},
   "source": [
    "# 제 2유형"
   ]
  },
  {
   "cell_type": "markdown",
   "id": "4e7e15b1-292d-41c6-b447-ef0452c4be2c",
   "metadata": {},
   "source": [
    "데이터 출처 : https://archive.ics.uci.edu/ml/datasets/Bank+Marketing (후처리 작업)\n",
    "\n",
    "데이터 설명 : 은행의 전화 마케팅에 대해 고객의 반응 여부\n",
    "\n",
    "train : https://raw.githubusercontent.com/Datamanim/datarepo/main/bank/train.csv\n",
    "\n",
    "test : https://raw.githubusercontent.com/Datamanim/datarepo/main/bank/test.csv"
   ]
  },
  {
   "cell_type": "code",
   "execution_count": null,
   "id": "9d3abf6e-eef8-471b-a7a7-e6c4a1b9c447",
   "metadata": {},
   "outputs": [],
   "source": []
  },
  {
   "cell_type": "code",
   "execution_count": 167,
   "id": "c95a480f-b97d-4250-a73d-83ad18179f62",
   "metadata": {
    "tags": []
   },
   "outputs": [
    {
     "name": "stdout",
     "output_type": "stream",
     "text": [
      "1.0\n",
      "0.7828282828282829\n",
      "0.7505571266838701\n",
      "      ID  pred_proba\n",
      "0  53608        0.63\n",
      "1  51055        0.49\n",
      "2  52573        0.32\n",
      "3  50458        0.28\n",
      "4  52272        0.43\n"
     ]
    }
   ],
   "source": [
    "import pandas as pd\n",
    "import numpy as np\n",
    "import warnings\n",
    "warnings.filterwarnings('ignore')\n",
    "from sklearn.preprocessing import StandardScaler, LabelEncoder\n",
    "Scaler_s =StandardScaler()\n",
    "LE = LabelEncoder()\n",
    "from sklearn import preprocessing\n",
    "from sklearn.model_selection import train_test_split\n",
    "from sklearn.ensemble import RandomForestClassifier\n",
    "rfc = RandomForestClassifier(random_state=32)\n",
    "from sklearn.metrics import roc_auc_score\n",
    "\n",
    "train = pd.read_csv('https://raw.githubusercontent.com/Datamanim/datarepo/main/bank/train.csv')\n",
    "test = pd.read_csv('https://raw.githubusercontent.com/Datamanim/datarepo/main/bank/test.csv')\n",
    "# print(train.head())\n",
    "# print(train.info())\n",
    "# print(train.describe())\n",
    "# print(train.age.quantile(0.25))\n",
    "# print(train.y.unique())\n",
    "\n",
    "x_train = train.drop(['ID','y'],axis=1)\n",
    "y_train = train.y\n",
    "x_test = test.drop('ID',axis=1)\n",
    "#수치형 스케일링\n",
    "num1 = x_train.select_dtypes(include='number').columns\n",
    "num2 = x_test.select_dtypes(include='number').columns\n",
    "for col in num1:\n",
    "    x_train[col] = Scaler_s.fit_transform(x_train[[col]])\n",
    "for col in num2:\n",
    "    x_test[col] = Scaler_s.transform(x_test[[col]])\n",
    "\n",
    "# print(x_train.head())\n",
    "# print(x_test.head())\n",
    "#범주형 인코딩\n",
    "obj1 = x_train.select_dtypes(include='object').columns\n",
    "obj2 = x_test.select_dtypes(include='object').columns\n",
    "\n",
    "# for col in obj1:\n",
    "#     x_train[col] = LE.fit_transform(x_train[[col]])\n",
    "    \n",
    "# for col in obj2:\n",
    "#     x_test[col] = LE.transform(x_test[[col]])\n",
    "    \n",
    "# print(x_train.head())\n",
    "# print(x_test.head())\n",
    "# print(y_train.head())\n",
    "\n",
    "encoders = {}\n",
    "for col in obj1:\n",
    "    encoders[col] = preprocessing.LabelEncoder()\n",
    "    x_train[col] = encoders[col].fit_transform(x_train[col])\n",
    "    \n",
    "for col in obj2:\n",
    "    x_test[col] = encoders[col].transform(x_test[col])\n",
    "\n",
    "train['y'] = LE.fit_transform(train[['y']])  #no :0, yes:1\n",
    "y_train = train['y']\n",
    "# print(y_train.head())\n",
    "# print(x_train.head())\n",
    "# print(x_test.head())\n",
    "\n",
    "# print(x_train.describe())\n",
    "# print(y_train)\n",
    "x_tr, x_val, y_tr, y_val = train_test_split(x_train,y_train,random_state=0,test_size=0.2)\n",
    "\n",
    "rfc.fit(x_tr,y_tr)\n",
    "pred_val = rfc.predict(x_val)\n",
    "# print(pred_val)\n",
    "print(rfc.score(x_tr,y_tr))\n",
    "print(rfc.score(x_val,y_val))\n",
    "print(roc_auc_score(pred_val,y_val))\n",
    "\n",
    "pred_proba = rfc.predict_proba(x_test)\n",
    "submission=pd.DataFrame({'ID':test.ID , 'pred_proba':pred_proba[:,1]}) #마케팅에 yes할 확률\n",
    "submission.to_csv('수험번호.csv', index=False)\n",
    "check = pd.read_csv('수험번호.csv')\n",
    "print(check.head())"
   ]
  },
  {
   "cell_type": "markdown",
   "id": "69301b51-9962-4bf5-ab1f-bf714e5a5462",
   "metadata": {},
   "source": [
    "다시"
   ]
  },
  {
   "cell_type": "code",
   "execution_count": 206,
   "id": "443cc9ee-7e71-4aac-8079-138769e0d00b",
   "metadata": {},
   "outputs": [
    {
     "name": "stdout",
     "output_type": "stream",
     "text": [
      "0.9999028749028749\n",
      "0.7867132867132867\n",
      "0.7825737646135768\n",
      "(0, 0.7791826002445552)\n"
     ]
    }
   ],
   "source": [
    "import pandas as pd\n",
    "import warnings\n",
    "warnings.filterwarnings('ignore')\n",
    "\n",
    "from sklearn.preprocessing import LabelEncoder, MinMaxScaler, StandardScaler\n",
    "LE = LabelEncoder()\n",
    "Scaler_m = MinMaxScaler()\n",
    "Scaler_s = StandardScaler()\n",
    "\n",
    "from sklearn.model_selection import train_test_split\n",
    "from sklearn.ensemble import RandomForestClassifier\n",
    "rfc = RandomForestClassifier(random_state=2022)\n",
    "                        \n",
    "\n",
    "train = pd.read_csv('https://raw.githubusercontent.com/Datamanim/datarepo/main/bank/train.csv')\n",
    "test = pd.read_csv('https://raw.githubusercontent.com/Datamanim/datarepo/main/bank/test.csv')\n",
    "# print(train.columns)\n",
    "# print(test.head(2))\n",
    "# print(train.isnull().sum())\n",
    "# print(test.isnull().sum())\n",
    "X = train.drop(['ID','y'],axis=1)\n",
    "y = train.y\n",
    "X_test = test.drop('ID', axis=1)\n",
    "\n",
    "obj = X.select_dtypes(include='object').columns #object타입 컬럼\n",
    "num = X.select_dtypes(include='number').columns #수치형타입 컬럼\n",
    "\n",
    "# print(X[num].describe())\n",
    "# print(num)\n",
    "\n",
    "for col in num:\n",
    "    Scaler_m.fit(X[[col]])\n",
    "    X[col] = Scaler_m.transform(X[[col]])\n",
    "    X_test[col] =Scaler_m.transform(X_test[[col]])\n",
    "\n",
    "# print(num)\n",
    "# print(X_test.select_dtypes(include='number').columns)\n",
    "# print(obj)\n",
    "# print(X_test.select_dtypes(include='object').columns)\n",
    "# print(X.info())\n",
    "\n",
    "# for col in obj: #label인코딩과 원핫인코딩구분하기위해서 알아보기\n",
    "#     print(X[col].unique())\n",
    "    \n",
    "obj_le=['default','housing','loan']\n",
    "obj_oh= [x for x in obj if x not in obj_le]\n",
    "# print(obj_oh)\n",
    "\n",
    "for col in obj_le:\n",
    "    LE.fit(X[col])\n",
    "    X[col] = LE.transform(X[col])\n",
    "    X_test[col] = LE.transform(X_test[col])\n",
    "X_dum = X[obj_oh]\n",
    "X_test_dum = X_test[obj_oh]\n",
    "X = X.drop(obj_oh,axis=1)\n",
    "X_test =X_test.drop(obj_oh,axis=1)\n",
    "\n",
    "X_dum = pd.get_dummies(X_dum)\n",
    "X_test_dum = pd.get_dummies(X_test_dum)\n",
    "\n",
    "X_final = pd.concat([X,X_dum],axis=1)\n",
    "X_test_final = pd.concat([X_test,X_test_dum],axis=1)\n",
    "# print(X_final.head(2))\n",
    "\n",
    "X_tr,X_val,y_tr,y_val = train_test_split(X_final,y,random_state=6,test_size=0.2)\n",
    "\n",
    "rfc.fit(X_tr,y_tr)\n",
    "pred_y_val = rfc.predict(X_val)\n",
    "pred_proba_y_val = rfc.predict_proba(X_val)\n",
    "print(rfc.score(X_tr,y_tr))\n",
    "print(rfc.score(X_val,y_val))\n",
    "\n",
    "from sklearn.metrics import roc_auc_score\n",
    "print(roc_auc_score(y_val,pred_proba_y_val[:,1]))\n",
    "\n",
    "\n",
    "roc_list = []\n",
    "for a in range(50):\n",
    "    X_tr,X_val,y_tr,y_val = train_test_split(X_final,y,random_state=a,test_size=0.2)\n",
    "\n",
    "    rfc.fit(X_tr,y_tr)\n",
    "    pred_proba_y_val = rfc.predict_proba(X_val)\n",
    "    roc = roc_auc_score(y_val,pred_proba_y_val[:,1])\n",
    "    \n",
    "    roc_list.append((a,roc))\n",
    "roc_list.sort()\n",
    "print(roc_list[0])"
   ]
  },
  {
   "cell_type": "code",
   "execution_count": 212,
   "id": "8e26bbbb-4dad-403e-a19a-d8d9236500d9",
   "metadata": {},
   "outputs": [
    {
     "name": "stdout",
     "output_type": "stream",
     "text": [
      "0.9999028749028749\n",
      "0.7855477855477856\n",
      "0.778654634408111\n"
     ]
    }
   ],
   "source": [
    "import pandas as pd\n",
    "import warnings\n",
    "warnings.filterwarnings('ignore')\n",
    "\n",
    "from sklearn.preprocessing import LabelEncoder, MinMaxScaler, StandardScaler\n",
    "LE = LabelEncoder()\n",
    "Scaler_m = MinMaxScaler()\n",
    "Scaler_s = StandardScaler()\n",
    "\n",
    "from sklearn.model_selection import train_test_split\n",
    "from sklearn.ensemble import RandomForestClassifier\n",
    "rfc = RandomForestClassifier(random_state=2022)\n",
    "                        \n",
    "\n",
    "train = pd.read_csv('https://raw.githubusercontent.com/Datamanim/datarepo/main/bank/train.csv')\n",
    "test = pd.read_csv('https://raw.githubusercontent.com/Datamanim/datarepo/main/bank/test.csv')\n",
    "# print(train.columns)\n",
    "# print(test.head(2))\n",
    "# print(train.isnull().sum())\n",
    "# print(test.isnull().sum())\n",
    "X = train.drop(['ID','y'],axis=1)\n",
    "y = train.y\n",
    "X_test = test.drop('ID', axis=1)\n",
    "\n",
    "obj = X.select_dtypes(include='object').columns #object타입 컬럼\n",
    "num = X.select_dtypes(include='number').columns #수치형타입 컬럼\n",
    "\n",
    "# print(X[num].describe())\n",
    "# print(num)\n",
    "\n",
    "for col in num:\n",
    "    Scaler_m.fit(X[[col]])\n",
    "    X[col] = Scaler_m.transform(X[[col]])\n",
    "    X_test[col] =Scaler_m.transform(X_test[[col]])\n",
    "\n",
    "# print(num)\n",
    "# print(X_test.select_dtypes(include='number').columns)\n",
    "# print(obj)\n",
    "# print(X_test.select_dtypes(include='object').columns)\n",
    "# print(X.info())\n",
    "\n",
    "# for col in obj: #label인코딩과 원핫인코딩구분하기위해서 알아보기\n",
    "#     print(X[col].unique())\n",
    "    \n",
    "obj_le=['default','housing','loan']\n",
    "obj_oh= [x for x in obj if x not in obj_le]\n",
    "# print(obj_oh)\n",
    "\n",
    "# for col in obj_le:\n",
    "#     LE.fit(X[col])\n",
    "#     X[col] = LE.transform(X[col])\n",
    "#     X_test[col] = LE.transform(X_test[col])\n",
    "    \n",
    "\n",
    "LE= {}\n",
    "\n",
    "for col in obj_le:\n",
    "    LE[col] = LabelEncoder()\n",
    "    X[col] = LE[col].fit_transform(X[col])\n",
    "for col in obj_le:\n",
    "    X_test[col] = LE[col].transform(X_test[col])\n",
    "    \n",
    "X_dum = X[obj_oh]\n",
    "X_test_dum = X_test[obj_oh]\n",
    "X = X.drop(obj_oh,axis=1)\n",
    "X_test =X_test.drop(obj_oh,axis=1)\n",
    "\n",
    "X_dum = pd.get_dummies(X_dum)\n",
    "X_test_dum = pd.get_dummies(X_test_dum)\n",
    "\n",
    "X_dum, X_test_dum = X_dum.align(X_test_dum,join='inner',axis=1)\n",
    "\n",
    "X_final = pd.concat([X,X_dum],axis=1)\n",
    "X_test_final = pd.concat([X_test,X_test_dum],axis=1)\n",
    "# print(X_final.head(2))\n",
    "\n",
    "X_tr,X_val,y_tr,y_val = train_test_split(X_final,y,random_state=9,test_size=0.2)\n",
    "\n",
    "rfc.fit(X_tr,y_tr)\n",
    "pred_y_val = rfc.predict(X_val)\n",
    "pred_proba_y_val = rfc.predict_proba(X_val)\n",
    "print(rfc.score(X_tr,y_tr))\n",
    "print(rfc.score(X_val,y_val))\n",
    "\n",
    "from sklearn.metrics import roc_auc_score\n",
    "print(roc_auc_score(y_val,pred_proba_y_val[:,1]))\n"
   ]
  },
  {
   "cell_type": "code",
   "execution_count": null,
   "id": "1d7dc1b7-c445-40e5-ac1e-25c26a1c1ac4",
   "metadata": {},
   "outputs": [],
   "source": []
  }
 ],
 "metadata": {
  "kernelspec": {
   "display_name": "Python 3 (ipykernel)",
   "language": "python",
   "name": "python3"
  },
  "language_info": {
   "codemirror_mode": {
    "name": "ipython",
    "version": 3
   },
   "file_extension": ".py",
   "mimetype": "text/x-python",
   "name": "python",
   "nbconvert_exporter": "python",
   "pygments_lexer": "ipython3",
   "version": "3.8.12"
  }
 },
 "nbformat": 4,
 "nbformat_minor": 5
}
