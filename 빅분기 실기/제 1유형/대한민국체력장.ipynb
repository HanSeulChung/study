{
 "cells": [
  {
   "cell_type": "markdown",
   "id": "052f5d44-94dd-4961-8747-0e17e3d05a7e",
   "metadata": {},
   "source": [
    "# 목록 및 데이터 불러오기"
   ]
  },
  {
   "cell_type": "markdown",
   "id": "8714459a-1046-4f4e-9b0b-43944bfea0d9",
   "metadata": {},
   "source": [
    "데이터 설명 : 대한민국 국민 체력장 평가data url = [https://raw.githubusercontent.com/Datamanim/datarepo/main/body/body.csv](https://raw.githubusercontent.com/Datamanim/datarepo/main/body/body.csv)\n",
    "\n",
    "<font color=red> 컬럼명에서 :을 _으로 교환하는거 숙지하기\n",
    "\n",
    "Question **전체데이터의 수축기혈압(최고) - 이완기혈압(최저)의 평균을 구하여라**\n",
    "\n",
    "Question **50~59세의 신장평균을 구하여라**\n",
    "\n",
    "Question **연령대 (20~29 : 20대 …) 별 인원수를 구하여라**\n",
    "\n",
    "Question **연령대 (20~29 : 20대 …) 별 등급의 숫자를 데이터 프레임으로 표현하라**\n",
    "\n",
    "Question **남성 중 A등급과 D등급의 체지방률 평균의 차이(큰 값에서 작은 값의 차)를 구하여라**\n",
    "\n",
    "Question **여성 중 A등급과 D등급의 체중의 평균의 차이(큰 값에서 작은 값의 차)를 구하여라**\n",
    "\n",
    "Question **bmi는 자신의 몸무게(kg)를 키의 제곱(m)으로 나눈값이다. 데이터의 bmi 를 구한 새로운 컬럼을 만들고 남성의 bmi 평균을 구하여라**\n",
    "\n",
    "Question **bmi보다 체지방율이 높은 사람들의 체중평균을 구하여라**\n",
    "\n",
    "Question **남성과 여성의 악력 평균의 차이를 구하여라**\n",
    "\n",
    "Question **남성과 여성의 교차윗몸일으키기 횟수의 평균의 차이를 구하여라**"
   ]
  },
  {
   "cell_type": "code",
   "execution_count": 2,
   "id": "d7c62b4f-69af-4832-92c0-97d0970d2ad4",
   "metadata": {},
   "outputs": [
    {
     "data": {
      "text/html": [
       "<div>\n",
       "<style scoped>\n",
       "    .dataframe tbody tr th:only-of-type {\n",
       "        vertical-align: middle;\n",
       "    }\n",
       "\n",
       "    .dataframe tbody tr th {\n",
       "        vertical-align: top;\n",
       "    }\n",
       "\n",
       "    .dataframe thead th {\n",
       "        text-align: right;\n",
       "    }\n",
       "</style>\n",
       "<table border=\"1\" class=\"dataframe\">\n",
       "  <thead>\n",
       "    <tr style=\"text-align: right;\">\n",
       "      <th></th>\n",
       "      <th>측정나이</th>\n",
       "      <th>측정회원성별</th>\n",
       "      <th>신장 : cm</th>\n",
       "      <th>체중 : kg</th>\n",
       "      <th>체지방율 : %</th>\n",
       "      <th>이완기혈압(최저) : mmHg</th>\n",
       "      <th>수축기혈압(최고) : mmHg</th>\n",
       "      <th>악력D : kg</th>\n",
       "      <th>앉아윗몸앞으로굽히기 : cm</th>\n",
       "      <th>교차윗몸일으키기 : 회</th>\n",
       "      <th>제자리 멀리뛰기 : cm</th>\n",
       "      <th>등급</th>\n",
       "    </tr>\n",
       "  </thead>\n",
       "  <tbody>\n",
       "    <tr>\n",
       "      <th>0</th>\n",
       "      <td>59.0</td>\n",
       "      <td>M</td>\n",
       "      <td>175.0</td>\n",
       "      <td>70.6</td>\n",
       "      <td>19.2</td>\n",
       "      <td>91.0</td>\n",
       "      <td>150.0</td>\n",
       "      <td>40.6</td>\n",
       "      <td>12.2</td>\n",
       "      <td>30.0</td>\n",
       "      <td>179.0</td>\n",
       "      <td>C</td>\n",
       "    </tr>\n",
       "    <tr>\n",
       "      <th>1</th>\n",
       "      <td>40.0</td>\n",
       "      <td>F</td>\n",
       "      <td>161.4</td>\n",
       "      <td>45.8</td>\n",
       "      <td>21.7</td>\n",
       "      <td>62.0</td>\n",
       "      <td>119.0</td>\n",
       "      <td>22.1</td>\n",
       "      <td>16.0</td>\n",
       "      <td>32.0</td>\n",
       "      <td>165.0</td>\n",
       "      <td>B</td>\n",
       "    </tr>\n",
       "    <tr>\n",
       "      <th>2</th>\n",
       "      <td>27.0</td>\n",
       "      <td>M</td>\n",
       "      <td>176.6</td>\n",
       "      <td>84.8</td>\n",
       "      <td>19.2</td>\n",
       "      <td>87.0</td>\n",
       "      <td>153.0</td>\n",
       "      <td>45.9</td>\n",
       "      <td>13.2</td>\n",
       "      <td>61.0</td>\n",
       "      <td>216.0</td>\n",
       "      <td>B</td>\n",
       "    </tr>\n",
       "  </tbody>\n",
       "</table>\n",
       "</div>"
      ],
      "text/plain": [
       "   측정나이 측정회원성별  신장 : cm  체중 : kg  체지방율 : %  이완기혈압(최저) : mmHg  \\\n",
       "0  59.0      M    175.0     70.6      19.2              91.0   \n",
       "1  40.0      F    161.4     45.8      21.7              62.0   \n",
       "2  27.0      M    176.6     84.8      19.2              87.0   \n",
       "\n",
       "   수축기혈압(최고) : mmHg  악력D : kg  앉아윗몸앞으로굽히기 : cm  교차윗몸일으키기 : 회  제자리 멀리뛰기 : cm 등급  \n",
       "0             150.0      40.6             12.2          30.0          179.0  C  \n",
       "1             119.0      22.1             16.0          32.0          165.0  B  \n",
       "2             153.0      45.9             13.2          61.0          216.0  B  "
      ]
     },
     "execution_count": 2,
     "metadata": {},
     "output_type": "execute_result"
    }
   ],
   "source": [
    "import pandas as pd\n",
    "df = pd.read_csv(\"https://raw.githubusercontent.com/Datamanim/datarepo/main/body/body.csv\")\n",
    "df.head(3)"
   ]
  },
  {
   "cell_type": "markdown",
   "id": "b4c87d8b-3d98-45fb-b994-82cafbf2e95d",
   "metadata": {},
   "source": [
    "# Question **전체데이터의 수축기혈압(최고) - 이완기혈압(최저)의 평균을 구하여라**"
   ]
  },
  {
   "cell_type": "code",
   "execution_count": 3,
   "id": "86abd962-81bc-41ad-a9df-2c0c648e77d0",
   "metadata": {},
   "outputs": [
    {
     "name": "stdout",
     "output_type": "stream",
     "text": [
      "<class 'pandas.core.frame.DataFrame'>\n",
      "RangeIndex: 13396 entries, 0 to 13395\n",
      "Data columns (total 12 columns):\n",
      " #   Column            Non-Null Count  Dtype  \n",
      "---  ------            --------------  -----  \n",
      " 0   측정나이              13396 non-null  float64\n",
      " 1   측정회원성별            13396 non-null  object \n",
      " 2   신장 : cm           13396 non-null  float64\n",
      " 3   체중 : kg           13396 non-null  float64\n",
      " 4   체지방율 : %          13396 non-null  float64\n",
      " 5   이완기혈압(최저) : mmHg  13396 non-null  float64\n",
      " 6   수축기혈압(최고) : mmHg  13396 non-null  float64\n",
      " 7   악력D : kg          13396 non-null  float64\n",
      " 8   앉아윗몸앞으로굽히기 : cm   13396 non-null  float64\n",
      " 9   교차윗몸일으키기 : 회      13396 non-null  float64\n",
      " 10  제자리 멀리뛰기 : cm     13396 non-null  float64\n",
      " 11  등급                13396 non-null  object \n",
      "dtypes: float64(10), object(2)\n",
      "memory usage: 1.2+ MB\n"
     ]
    }
   ],
   "source": [
    "df.info()"
   ]
  },
  {
   "cell_type": "code",
   "execution_count": 6,
   "id": "fffc180c-45ba-400f-abcf-d2067946a216",
   "metadata": {},
   "outputs": [
    {
     "data": {
      "text/plain": [
       "52.19539414750672"
      ]
     },
     "execution_count": 6,
     "metadata": {},
     "output_type": "execute_result"
    }
   ],
   "source": [
    "answer = (df['수축기혈압(최고) : mmHg']-df['이완기혈압(최저) : mmHg']).mean()\n",
    "answer"
   ]
  },
  {
   "cell_type": "code",
   "execution_count": 61,
   "id": "7b2d68dd-4479-454e-beca-cd11f5506fc2",
   "metadata": {},
   "outputs": [
    {
     "name": "stdout",
     "output_type": "stream",
     "text": [
      "52.19539414750672\n"
     ]
    }
   ],
   "source": [
    "#답\n",
    "result  = (df['수축기혈압(최고) : mmHg'] - df['이완기혈압(최저) : mmHg']).mean()\n",
    "print(result)"
   ]
  },
  {
   "cell_type": "markdown",
   "id": "ca01dc19-b1b3-4214-923d-036013ec0869",
   "metadata": {},
   "source": [
    "# Question **50~59세의 신장평균을 구하여라**"
   ]
  },
  {
   "cell_type": "code",
   "execution_count": 63,
   "id": "040fceb7-6f12-4d9e-ae21-54c7402a7701",
   "metadata": {},
   "outputs": [
    {
     "data": {
      "text/html": [
       "<div>\n",
       "<style scoped>\n",
       "    .dataframe tbody tr th:only-of-type {\n",
       "        vertical-align: middle;\n",
       "    }\n",
       "\n",
       "    .dataframe tbody tr th {\n",
       "        vertical-align: top;\n",
       "    }\n",
       "\n",
       "    .dataframe thead th {\n",
       "        text-align: right;\n",
       "    }\n",
       "</style>\n",
       "<table border=\"1\" class=\"dataframe\">\n",
       "  <thead>\n",
       "    <tr style=\"text-align: right;\">\n",
       "      <th></th>\n",
       "      <th>측정나이</th>\n",
       "      <th>측정회원성별</th>\n",
       "      <th>신장 : cm</th>\n",
       "      <th>체중 : kg</th>\n",
       "      <th>체지방율 : %</th>\n",
       "      <th>이완기혈압(최저) : mmHg</th>\n",
       "      <th>수축기혈압(최고) : mmHg</th>\n",
       "      <th>악력D : kg</th>\n",
       "      <th>앉아윗몸앞으로굽히기 : cm</th>\n",
       "      <th>교차윗몸일으키기 : 회</th>\n",
       "      <th>제자리 멀리뛰기 : cm</th>\n",
       "      <th>등급</th>\n",
       "      <th>bmi</th>\n",
       "      <th>연령대</th>\n",
       "    </tr>\n",
       "  </thead>\n",
       "  <tbody>\n",
       "    <tr>\n",
       "      <th>0</th>\n",
       "      <td>59.0</td>\n",
       "      <td>M</td>\n",
       "      <td>175.0</td>\n",
       "      <td>70.6</td>\n",
       "      <td>19.2</td>\n",
       "      <td>91.0</td>\n",
       "      <td>150.0</td>\n",
       "      <td>40.6</td>\n",
       "      <td>12.2</td>\n",
       "      <td>30.0</td>\n",
       "      <td>179.0</td>\n",
       "      <td>C</td>\n",
       "      <td>23.053061</td>\n",
       "      <td>50.0</td>\n",
       "    </tr>\n",
       "    <tr>\n",
       "      <th>1</th>\n",
       "      <td>40.0</td>\n",
       "      <td>F</td>\n",
       "      <td>161.4</td>\n",
       "      <td>45.8</td>\n",
       "      <td>21.7</td>\n",
       "      <td>62.0</td>\n",
       "      <td>119.0</td>\n",
       "      <td>22.1</td>\n",
       "      <td>16.0</td>\n",
       "      <td>32.0</td>\n",
       "      <td>165.0</td>\n",
       "      <td>B</td>\n",
       "      <td>17.581601</td>\n",
       "      <td>40.0</td>\n",
       "    </tr>\n",
       "    <tr>\n",
       "      <th>2</th>\n",
       "      <td>27.0</td>\n",
       "      <td>M</td>\n",
       "      <td>176.6</td>\n",
       "      <td>84.8</td>\n",
       "      <td>19.2</td>\n",
       "      <td>87.0</td>\n",
       "      <td>153.0</td>\n",
       "      <td>45.9</td>\n",
       "      <td>13.2</td>\n",
       "      <td>61.0</td>\n",
       "      <td>216.0</td>\n",
       "      <td>B</td>\n",
       "      <td>27.190328</td>\n",
       "      <td>20.0</td>\n",
       "    </tr>\n",
       "    <tr>\n",
       "      <th>3</th>\n",
       "      <td>38.0</td>\n",
       "      <td>M</td>\n",
       "      <td>167.6</td>\n",
       "      <td>76.7</td>\n",
       "      <td>24.7</td>\n",
       "      <td>63.0</td>\n",
       "      <td>132.0</td>\n",
       "      <td>43.6</td>\n",
       "      <td>16.0</td>\n",
       "      <td>45.0</td>\n",
       "      <td>231.0</td>\n",
       "      <td>A</td>\n",
       "      <td>27.305324</td>\n",
       "      <td>30.0</td>\n",
       "    </tr>\n",
       "    <tr>\n",
       "      <th>4</th>\n",
       "      <td>21.0</td>\n",
       "      <td>M</td>\n",
       "      <td>165.2</td>\n",
       "      <td>66.2</td>\n",
       "      <td>21.5</td>\n",
       "      <td>83.0</td>\n",
       "      <td>106.0</td>\n",
       "      <td>33.5</td>\n",
       "      <td>10.6</td>\n",
       "      <td>46.0</td>\n",
       "      <td>198.0</td>\n",
       "      <td>C</td>\n",
       "      <td>24.257046</td>\n",
       "      <td>20.0</td>\n",
       "    </tr>\n",
       "    <tr>\n",
       "      <th>...</th>\n",
       "      <td>...</td>\n",
       "      <td>...</td>\n",
       "      <td>...</td>\n",
       "      <td>...</td>\n",
       "      <td>...</td>\n",
       "      <td>...</td>\n",
       "      <td>...</td>\n",
       "      <td>...</td>\n",
       "      <td>...</td>\n",
       "      <td>...</td>\n",
       "      <td>...</td>\n",
       "      <td>...</td>\n",
       "      <td>...</td>\n",
       "      <td>...</td>\n",
       "    </tr>\n",
       "    <tr>\n",
       "      <th>13391</th>\n",
       "      <td>61.0</td>\n",
       "      <td>M</td>\n",
       "      <td>167.0</td>\n",
       "      <td>65.8</td>\n",
       "      <td>22.2</td>\n",
       "      <td>71.0</td>\n",
       "      <td>130.0</td>\n",
       "      <td>33.7</td>\n",
       "      <td>14.5</td>\n",
       "      <td>37.0</td>\n",
       "      <td>182.0</td>\n",
       "      <td>C</td>\n",
       "      <td>23.593531</td>\n",
       "      <td>60.0</td>\n",
       "    </tr>\n",
       "    <tr>\n",
       "      <th>13392</th>\n",
       "      <td>25.0</td>\n",
       "      <td>M</td>\n",
       "      <td>170.7</td>\n",
       "      <td>64.2</td>\n",
       "      <td>22.4</td>\n",
       "      <td>57.0</td>\n",
       "      <td>121.0</td>\n",
       "      <td>32.5</td>\n",
       "      <td>11.8</td>\n",
       "      <td>48.0</td>\n",
       "      <td>196.0</td>\n",
       "      <td>C</td>\n",
       "      <td>22.032713</td>\n",
       "      <td>20.0</td>\n",
       "    </tr>\n",
       "    <tr>\n",
       "      <th>13393</th>\n",
       "      <td>47.0</td>\n",
       "      <td>M</td>\n",
       "      <td>166.2</td>\n",
       "      <td>77.5</td>\n",
       "      <td>22.8</td>\n",
       "      <td>84.0</td>\n",
       "      <td>133.0</td>\n",
       "      <td>52.4</td>\n",
       "      <td>11.9</td>\n",
       "      <td>45.0</td>\n",
       "      <td>220.0</td>\n",
       "      <td>B</td>\n",
       "      <td>28.056899</td>\n",
       "      <td>40.0</td>\n",
       "    </tr>\n",
       "    <tr>\n",
       "      <th>13394</th>\n",
       "      <td>29.0</td>\n",
       "      <td>M</td>\n",
       "      <td>175.4</td>\n",
       "      <td>74.4</td>\n",
       "      <td>16.1</td>\n",
       "      <td>77.0</td>\n",
       "      <td>124.0</td>\n",
       "      <td>58.4</td>\n",
       "      <td>23.5</td>\n",
       "      <td>48.0</td>\n",
       "      <td>245.0</td>\n",
       "      <td>B</td>\n",
       "      <td>24.183199</td>\n",
       "      <td>20.0</td>\n",
       "    </tr>\n",
       "    <tr>\n",
       "      <th>13395</th>\n",
       "      <td>28.0</td>\n",
       "      <td>M</td>\n",
       "      <td>173.8</td>\n",
       "      <td>78.5</td>\n",
       "      <td>17.3</td>\n",
       "      <td>88.0</td>\n",
       "      <td>119.0</td>\n",
       "      <td>50.1</td>\n",
       "      <td>19.9</td>\n",
       "      <td>57.0</td>\n",
       "      <td>237.0</td>\n",
       "      <td>A</td>\n",
       "      <td>25.987836</td>\n",
       "      <td>20.0</td>\n",
       "    </tr>\n",
       "  </tbody>\n",
       "</table>\n",
       "<p>13396 rows × 14 columns</p>\n",
       "</div>"
      ],
      "text/plain": [
       "       측정나이 측정회원성별  신장 : cm  체중 : kg  체지방율 : %  이완기혈압(최저) : mmHg  \\\n",
       "0      59.0      M    175.0     70.6      19.2              91.0   \n",
       "1      40.0      F    161.4     45.8      21.7              62.0   \n",
       "2      27.0      M    176.6     84.8      19.2              87.0   \n",
       "3      38.0      M    167.6     76.7      24.7              63.0   \n",
       "4      21.0      M    165.2     66.2      21.5              83.0   \n",
       "...     ...    ...      ...      ...       ...               ...   \n",
       "13391  61.0      M    167.0     65.8      22.2              71.0   \n",
       "13392  25.0      M    170.7     64.2      22.4              57.0   \n",
       "13393  47.0      M    166.2     77.5      22.8              84.0   \n",
       "13394  29.0      M    175.4     74.4      16.1              77.0   \n",
       "13395  28.0      M    173.8     78.5      17.3              88.0   \n",
       "\n",
       "       수축기혈압(최고) : mmHg  악력D : kg  앉아윗몸앞으로굽히기 : cm  교차윗몸일으키기 : 회  \\\n",
       "0                 150.0      40.6             12.2          30.0   \n",
       "1                 119.0      22.1             16.0          32.0   \n",
       "2                 153.0      45.9             13.2          61.0   \n",
       "3                 132.0      43.6             16.0          45.0   \n",
       "4                 106.0      33.5             10.6          46.0   \n",
       "...                 ...       ...              ...           ...   \n",
       "13391             130.0      33.7             14.5          37.0   \n",
       "13392             121.0      32.5             11.8          48.0   \n",
       "13393             133.0      52.4             11.9          45.0   \n",
       "13394             124.0      58.4             23.5          48.0   \n",
       "13395             119.0      50.1             19.9          57.0   \n",
       "\n",
       "       제자리 멀리뛰기 : cm 등급        bmi   연령대  \n",
       "0              179.0  C  23.053061  50.0  \n",
       "1              165.0  B  17.581601  40.0  \n",
       "2              216.0  B  27.190328  20.0  \n",
       "3              231.0  A  27.305324  30.0  \n",
       "4              198.0  C  24.257046  20.0  \n",
       "...              ... ..        ...   ...  \n",
       "13391          182.0  C  23.593531  60.0  \n",
       "13392          196.0  C  22.032713  20.0  \n",
       "13393          220.0  B  28.056899  40.0  \n",
       "13394          245.0  B  24.183199  20.0  \n",
       "13395          237.0  A  25.987836  20.0  \n",
       "\n",
       "[13396 rows x 14 columns]"
      ]
     },
     "execution_count": 63,
     "metadata": {},
     "output_type": "execute_result"
    }
   ],
   "source": [
    "df['연령대'] = (df['측정나이']//10)*10\n",
    "df['연령대']= df['연령대'].astype(\"object\")\n",
    "df"
   ]
  },
  {
   "cell_type": "code",
   "execution_count": 64,
   "id": "dc53e1e0-9b65-4e1e-afd4-982b5164e527",
   "metadata": {},
   "outputs": [
    {
     "data": {
      "text/plain": [
       "164.07490107405314"
      ]
     },
     "execution_count": 64,
     "metadata": {},
     "output_type": "execute_result"
    }
   ],
   "source": [
    "answer = df[df.연령대==50]['신장 : cm'].mean()\n",
    "answer"
   ]
  },
  {
   "cell_type": "code",
   "execution_count": 65,
   "id": "39230174-2377-4391-ac14-3519a52bf127",
   "metadata": {},
   "outputs": [
    {
     "name": "stdout",
     "output_type": "stream",
     "text": [
      "164.07490107405314\n"
     ]
    }
   ],
   "source": [
    "#답\n",
    "result = df[(df.측정나이 <60) & (df.측정나이>=50)].iloc[:,2].mean()\n",
    "print(result)"
   ]
  },
  {
   "cell_type": "code",
   "execution_count": 70,
   "id": "444b747a-9500-4ae1-9c09-99d281ea3f6a",
   "metadata": {},
   "outputs": [
    {
     "data": {
      "text/plain": [
       "0        175.0\n",
       "15       153.1\n",
       "17       181.9\n",
       "28       159.9\n",
       "31       152.7\n",
       "         ...  \n",
       "13340    161.0\n",
       "13343    160.0\n",
       "13370    163.6\n",
       "13374    149.4\n",
       "13376    160.1\n",
       "Name: 신장 : cm, Length: 1769, dtype: float64"
      ]
     },
     "execution_count": 70,
     "metadata": {},
     "output_type": "execute_result"
    }
   ],
   "source": [
    "result = df[(df.측정나이 <60) & (df.측정나이>=50)].iloc[:,2] #컬럼의 인덱스가 2인 부분이 신장이여서 이렇게 쓸수 있다.\n",
    "result "
   ]
  },
  {
   "cell_type": "markdown",
   "id": "a6f5829d-3141-44df-a7f6-7ac6756bf0e2",
   "metadata": {
    "tags": []
   },
   "source": [
    "# Question **연령대 (20~29 : 20대 …) 별 인원수를 구하여라**"
   ]
  },
  {
   "cell_type": "code",
   "execution_count": 52,
   "id": "ca8fa010-ea1e-4311-a6fb-52f88a81f42c",
   "metadata": {},
   "outputs": [
    {
     "data": {
      "text/html": [
       "<div>\n",
       "<style scoped>\n",
       "    .dataframe tbody tr th:only-of-type {\n",
       "        vertical-align: middle;\n",
       "    }\n",
       "\n",
       "    .dataframe tbody tr th {\n",
       "        vertical-align: top;\n",
       "    }\n",
       "\n",
       "    .dataframe thead th {\n",
       "        text-align: right;\n",
       "    }\n",
       "</style>\n",
       "<table border=\"1\" class=\"dataframe\">\n",
       "  <thead>\n",
       "    <tr style=\"text-align: right;\">\n",
       "      <th></th>\n",
       "      <th>연령대</th>\n",
       "      <th>count</th>\n",
       "    </tr>\n",
       "  </thead>\n",
       "  <tbody>\n",
       "    <tr>\n",
       "      <th>0</th>\n",
       "      <td>20.0</td>\n",
       "      <td>5831</td>\n",
       "    </tr>\n",
       "    <tr>\n",
       "      <th>1</th>\n",
       "      <td>30.0</td>\n",
       "      <td>2660</td>\n",
       "    </tr>\n",
       "    <tr>\n",
       "      <th>2</th>\n",
       "      <td>40.0</td>\n",
       "      <td>1801</td>\n",
       "    </tr>\n",
       "    <tr>\n",
       "      <th>3</th>\n",
       "      <td>50.0</td>\n",
       "      <td>1769</td>\n",
       "    </tr>\n",
       "    <tr>\n",
       "      <th>4</th>\n",
       "      <td>60.0</td>\n",
       "      <td>1335</td>\n",
       "    </tr>\n",
       "  </tbody>\n",
       "</table>\n",
       "</div>"
      ],
      "text/plain": [
       "    연령대  count\n",
       "0  20.0   5831\n",
       "1  30.0   2660\n",
       "2  40.0   1801\n",
       "3  50.0   1769\n",
       "4  60.0   1335"
      ]
     },
     "execution_count": 52,
     "metadata": {},
     "output_type": "execute_result"
    }
   ],
   "source": [
    "answer = df.groupby('연령대').size().reset_index().rename(columns={0:\"count\"})\n",
    "answer"
   ]
  },
  {
   "cell_type": "code",
   "execution_count": 59,
   "id": "f153dd27-6f8e-4909-be43-a142e9273a9f",
   "metadata": {},
   "outputs": [
    {
     "data": {
      "text/html": [
       "<div>\n",
       "<style scoped>\n",
       "    .dataframe tbody tr th:only-of-type {\n",
       "        vertical-align: middle;\n",
       "    }\n",
       "\n",
       "    .dataframe tbody tr th {\n",
       "        vertical-align: top;\n",
       "    }\n",
       "\n",
       "    .dataframe thead th {\n",
       "        text-align: right;\n",
       "    }\n",
       "</style>\n",
       "<table border=\"1\" class=\"dataframe\">\n",
       "  <thead>\n",
       "    <tr style=\"text-align: right;\">\n",
       "      <th></th>\n",
       "      <th>count</th>\n",
       "    </tr>\n",
       "    <tr>\n",
       "      <th>연령대</th>\n",
       "      <th></th>\n",
       "    </tr>\n",
       "  </thead>\n",
       "  <tbody>\n",
       "    <tr>\n",
       "      <th>20.0</th>\n",
       "      <td>5831</td>\n",
       "    </tr>\n",
       "    <tr>\n",
       "      <th>30.0</th>\n",
       "      <td>2660</td>\n",
       "    </tr>\n",
       "    <tr>\n",
       "      <th>40.0</th>\n",
       "      <td>1801</td>\n",
       "    </tr>\n",
       "    <tr>\n",
       "      <th>50.0</th>\n",
       "      <td>1769</td>\n",
       "    </tr>\n",
       "    <tr>\n",
       "      <th>60.0</th>\n",
       "      <td>1335</td>\n",
       "    </tr>\n",
       "  </tbody>\n",
       "</table>\n",
       "</div>"
      ],
      "text/plain": [
       "      count\n",
       "연령대        \n",
       "20.0   5831\n",
       "30.0   2660\n",
       "40.0   1801\n",
       "50.0   1769\n",
       "60.0   1335"
      ]
     },
     "execution_count": 59,
     "metadata": {},
     "output_type": "execute_result"
    }
   ],
   "source": [
    "answer = df.groupby('연령대').size().to_frame(\"count\")\n",
    "answer"
   ]
  },
  {
   "cell_type": "code",
   "execution_count": 71,
   "id": "a6e43a4d-c993-45a9-ace9-fe7f870b79c0",
   "metadata": {},
   "outputs": [
    {
     "name": "stdout",
     "output_type": "stream",
     "text": [
      "20.0    5831\n",
      "30.0    2660\n",
      "40.0    1801\n",
      "50.0    1769\n",
      "60.0    1335\n",
      "Name: 연령대, dtype: int64\n"
     ]
    }
   ],
   "source": [
    "#답\n",
    "df['연령대']  =df.측정나이 //10 *10\n",
    "result = df['연령대'].value_counts()\n",
    "print(result)"
   ]
  },
  {
   "cell_type": "markdown",
   "id": "5310fc02-5038-4e54-98b6-cd2f58e7cd13",
   "metadata": {},
   "source": [
    "# Question **연령대 (20~29 : 20대 …) 별 등급의 숫자를 데이터 프레임으로 표현하라**"
   ]
  },
  {
   "cell_type": "code",
   "execution_count": 60,
   "id": "3a97a3c4-68ea-4b2c-b6e9-ef3aaaacf5a6",
   "metadata": {},
   "outputs": [
    {
     "data": {
      "text/html": [
       "<div>\n",
       "<style scoped>\n",
       "    .dataframe tbody tr th:only-of-type {\n",
       "        vertical-align: middle;\n",
       "    }\n",
       "\n",
       "    .dataframe tbody tr th {\n",
       "        vertical-align: top;\n",
       "    }\n",
       "\n",
       "    .dataframe thead th {\n",
       "        text-align: right;\n",
       "    }\n",
       "</style>\n",
       "<table border=\"1\" class=\"dataframe\">\n",
       "  <thead>\n",
       "    <tr style=\"text-align: right;\">\n",
       "      <th></th>\n",
       "      <th></th>\n",
       "      <th>count</th>\n",
       "    </tr>\n",
       "    <tr>\n",
       "      <th>연령대</th>\n",
       "      <th>등급</th>\n",
       "      <th></th>\n",
       "    </tr>\n",
       "  </thead>\n",
       "  <tbody>\n",
       "    <tr>\n",
       "      <th rowspan=\"4\" valign=\"top\">20.0</th>\n",
       "      <th>A</th>\n",
       "      <td>1585</td>\n",
       "    </tr>\n",
       "    <tr>\n",
       "      <th>B</th>\n",
       "      <td>1443</td>\n",
       "    </tr>\n",
       "    <tr>\n",
       "      <th>C</th>\n",
       "      <td>1455</td>\n",
       "    </tr>\n",
       "    <tr>\n",
       "      <th>D</th>\n",
       "      <td>1348</td>\n",
       "    </tr>\n",
       "    <tr>\n",
       "      <th rowspan=\"4\" valign=\"top\">30.0</th>\n",
       "      <th>A</th>\n",
       "      <td>743</td>\n",
       "    </tr>\n",
       "    <tr>\n",
       "      <th>B</th>\n",
       "      <td>697</td>\n",
       "    </tr>\n",
       "    <tr>\n",
       "      <th>C</th>\n",
       "      <td>626</td>\n",
       "    </tr>\n",
       "    <tr>\n",
       "      <th>D</th>\n",
       "      <td>594</td>\n",
       "    </tr>\n",
       "    <tr>\n",
       "      <th rowspan=\"4\" valign=\"top\">40.0</th>\n",
       "      <th>A</th>\n",
       "      <td>386</td>\n",
       "    </tr>\n",
       "    <tr>\n",
       "      <th>B</th>\n",
       "      <td>428</td>\n",
       "    </tr>\n",
       "    <tr>\n",
       "      <th>C</th>\n",
       "      <td>455</td>\n",
       "    </tr>\n",
       "    <tr>\n",
       "      <th>D</th>\n",
       "      <td>532</td>\n",
       "    </tr>\n",
       "    <tr>\n",
       "      <th rowspan=\"4\" valign=\"top\">50.0</th>\n",
       "      <th>A</th>\n",
       "      <td>321</td>\n",
       "    </tr>\n",
       "    <tr>\n",
       "      <th>B</th>\n",
       "      <td>410</td>\n",
       "    </tr>\n",
       "    <tr>\n",
       "      <th>C</th>\n",
       "      <td>474</td>\n",
       "    </tr>\n",
       "    <tr>\n",
       "      <th>D</th>\n",
       "      <td>564</td>\n",
       "    </tr>\n",
       "    <tr>\n",
       "      <th rowspan=\"4\" valign=\"top\">60.0</th>\n",
       "      <th>A</th>\n",
       "      <td>314</td>\n",
       "    </tr>\n",
       "    <tr>\n",
       "      <th>B</th>\n",
       "      <td>371</td>\n",
       "    </tr>\n",
       "    <tr>\n",
       "      <th>C</th>\n",
       "      <td>339</td>\n",
       "    </tr>\n",
       "    <tr>\n",
       "      <th>D</th>\n",
       "      <td>311</td>\n",
       "    </tr>\n",
       "  </tbody>\n",
       "</table>\n",
       "</div>"
      ],
      "text/plain": [
       "         count\n",
       "연령대  등급       \n",
       "20.0 A    1585\n",
       "     B    1443\n",
       "     C    1455\n",
       "     D    1348\n",
       "30.0 A     743\n",
       "     B     697\n",
       "     C     626\n",
       "     D     594\n",
       "40.0 A     386\n",
       "     B     428\n",
       "     C     455\n",
       "     D     532\n",
       "50.0 A     321\n",
       "     B     410\n",
       "     C     474\n",
       "     D     564\n",
       "60.0 A     314\n",
       "     B     371\n",
       "     C     339\n",
       "     D     311"
      ]
     },
     "execution_count": 60,
     "metadata": {},
     "output_type": "execute_result"
    }
   ],
   "source": [
    "answer = df.groupby(['연령대','등급']).size().to_frame(\"count\")\n",
    "answer"
   ]
  },
  {
   "cell_type": "code",
   "execution_count": 76,
   "id": "3be37c29-9e02-46fa-91b4-53aa032f06b8",
   "metadata": {},
   "outputs": [
    {
     "data": {
      "text/html": [
       "<div>\n",
       "<style scoped>\n",
       "    .dataframe tbody tr th:only-of-type {\n",
       "        vertical-align: middle;\n",
       "    }\n",
       "\n",
       "    .dataframe tbody tr th {\n",
       "        vertical-align: top;\n",
       "    }\n",
       "\n",
       "    .dataframe thead th {\n",
       "        text-align: right;\n",
       "    }\n",
       "</style>\n",
       "<table border=\"1\" class=\"dataframe\">\n",
       "  <thead>\n",
       "    <tr style=\"text-align: right;\">\n",
       "      <th></th>\n",
       "      <th>연령대</th>\n",
       "      <th>등급</th>\n",
       "      <th>size</th>\n",
       "    </tr>\n",
       "  </thead>\n",
       "  <tbody>\n",
       "    <tr>\n",
       "      <th>0</th>\n",
       "      <td>20.0</td>\n",
       "      <td>A</td>\n",
       "      <td>1585</td>\n",
       "    </tr>\n",
       "    <tr>\n",
       "      <th>1</th>\n",
       "      <td>20.0</td>\n",
       "      <td>B</td>\n",
       "      <td>1443</td>\n",
       "    </tr>\n",
       "    <tr>\n",
       "      <th>2</th>\n",
       "      <td>20.0</td>\n",
       "      <td>C</td>\n",
       "      <td>1455</td>\n",
       "    </tr>\n",
       "    <tr>\n",
       "      <th>3</th>\n",
       "      <td>20.0</td>\n",
       "      <td>D</td>\n",
       "      <td>1348</td>\n",
       "    </tr>\n",
       "    <tr>\n",
       "      <th>4</th>\n",
       "      <td>30.0</td>\n",
       "      <td>A</td>\n",
       "      <td>743</td>\n",
       "    </tr>\n",
       "    <tr>\n",
       "      <th>5</th>\n",
       "      <td>30.0</td>\n",
       "      <td>B</td>\n",
       "      <td>697</td>\n",
       "    </tr>\n",
       "    <tr>\n",
       "      <th>6</th>\n",
       "      <td>30.0</td>\n",
       "      <td>C</td>\n",
       "      <td>626</td>\n",
       "    </tr>\n",
       "    <tr>\n",
       "      <th>7</th>\n",
       "      <td>30.0</td>\n",
       "      <td>D</td>\n",
       "      <td>594</td>\n",
       "    </tr>\n",
       "    <tr>\n",
       "      <th>8</th>\n",
       "      <td>40.0</td>\n",
       "      <td>A</td>\n",
       "      <td>386</td>\n",
       "    </tr>\n",
       "    <tr>\n",
       "      <th>9</th>\n",
       "      <td>40.0</td>\n",
       "      <td>B</td>\n",
       "      <td>428</td>\n",
       "    </tr>\n",
       "    <tr>\n",
       "      <th>10</th>\n",
       "      <td>40.0</td>\n",
       "      <td>C</td>\n",
       "      <td>455</td>\n",
       "    </tr>\n",
       "    <tr>\n",
       "      <th>11</th>\n",
       "      <td>40.0</td>\n",
       "      <td>D</td>\n",
       "      <td>532</td>\n",
       "    </tr>\n",
       "    <tr>\n",
       "      <th>12</th>\n",
       "      <td>50.0</td>\n",
       "      <td>A</td>\n",
       "      <td>321</td>\n",
       "    </tr>\n",
       "    <tr>\n",
       "      <th>13</th>\n",
       "      <td>50.0</td>\n",
       "      <td>B</td>\n",
       "      <td>410</td>\n",
       "    </tr>\n",
       "    <tr>\n",
       "      <th>14</th>\n",
       "      <td>50.0</td>\n",
       "      <td>C</td>\n",
       "      <td>474</td>\n",
       "    </tr>\n",
       "    <tr>\n",
       "      <th>15</th>\n",
       "      <td>50.0</td>\n",
       "      <td>D</td>\n",
       "      <td>564</td>\n",
       "    </tr>\n",
       "    <tr>\n",
       "      <th>16</th>\n",
       "      <td>60.0</td>\n",
       "      <td>A</td>\n",
       "      <td>314</td>\n",
       "    </tr>\n",
       "    <tr>\n",
       "      <th>17</th>\n",
       "      <td>60.0</td>\n",
       "      <td>B</td>\n",
       "      <td>371</td>\n",
       "    </tr>\n",
       "    <tr>\n",
       "      <th>18</th>\n",
       "      <td>60.0</td>\n",
       "      <td>C</td>\n",
       "      <td>339</td>\n",
       "    </tr>\n",
       "    <tr>\n",
       "      <th>19</th>\n",
       "      <td>60.0</td>\n",
       "      <td>D</td>\n",
       "      <td>311</td>\n",
       "    </tr>\n",
       "  </tbody>\n",
       "</table>\n",
       "</div>"
      ],
      "text/plain": [
       "     연령대 등급  size\n",
       "0   20.0  A  1585\n",
       "1   20.0  B  1443\n",
       "2   20.0  C  1455\n",
       "3   20.0  D  1348\n",
       "4   30.0  A   743\n",
       "5   30.0  B   697\n",
       "6   30.0  C   626\n",
       "7   30.0  D   594\n",
       "8   40.0  A   386\n",
       "9   40.0  B   428\n",
       "10  40.0  C   455\n",
       "11  40.0  D   532\n",
       "12  50.0  A   321\n",
       "13  50.0  B   410\n",
       "14  50.0  C   474\n",
       "15  50.0  D   564\n",
       "16  60.0  A   314\n",
       "17  60.0  B   371\n",
       "18  60.0  C   339\n",
       "19  60.0  D   311"
      ]
     },
     "execution_count": 76,
     "metadata": {},
     "output_type": "execute_result"
    }
   ],
   "source": [
    "#답\n",
    "result = df.groupby(['연령대','등급'],as_index=False).size()\n",
    "result"
   ]
  },
  {
   "cell_type": "markdown",
   "id": "09cbe835-d15f-462a-ad9d-d0da673846ac",
   "metadata": {},
   "source": [
    "# Question **남성 중 A등급과 D등급의 체지방률 평균의 차이(큰 값에서 작은 값의 차)를 구하여라**"
   ]
  },
  {
   "cell_type": "code",
   "execution_count": 82,
   "id": "cb04bc4e-c677-4738-8840-5258b50eea55",
   "metadata": {},
   "outputs": [
    {
     "data": {
      "text/plain": [
       "7.932086486137521"
      ]
     },
     "execution_count": 82,
     "metadata": {},
     "output_type": "execute_result"
    }
   ],
   "source": [
    "answer = abs(df[(df.측정회원성별==\"M\")&(df.등급==\"A\")]['체지방율 : %'].mean() - df[(df.측정회원성별==\"M\")&(df.등급==\"D\")]['체지방율 : %'].mean())\n",
    "answer "
   ]
  },
  {
   "cell_type": "code",
   "execution_count": 84,
   "id": "b9786574-4a54-4823-8ec2-9a316fb61d88",
   "metadata": {},
   "outputs": [
    {
     "data": {
      "text/html": [
       "<div>\n",
       "<style scoped>\n",
       "    .dataframe tbody tr th:only-of-type {\n",
       "        vertical-align: middle;\n",
       "    }\n",
       "\n",
       "    .dataframe tbody tr th {\n",
       "        vertical-align: top;\n",
       "    }\n",
       "\n",
       "    .dataframe thead th {\n",
       "        text-align: right;\n",
       "    }\n",
       "</style>\n",
       "<table border=\"1\" class=\"dataframe\">\n",
       "  <thead>\n",
       "    <tr style=\"text-align: right;\">\n",
       "      <th></th>\n",
       "      <th>측정나이</th>\n",
       "      <th>측정회원성별</th>\n",
       "      <th>신장 : cm</th>\n",
       "      <th>체중 : kg</th>\n",
       "      <th>체지방율 : %</th>\n",
       "      <th>이완기혈압(최저) : mmHg</th>\n",
       "      <th>수축기혈압(최고) : mmHg</th>\n",
       "      <th>악력D : kg</th>\n",
       "      <th>앉아윗몸앞으로굽히기 : cm</th>\n",
       "      <th>교차윗몸일으키기 : 회</th>\n",
       "      <th>제자리 멀리뛰기 : cm</th>\n",
       "      <th>등급</th>\n",
       "      <th>bmi</th>\n",
       "      <th>연령대</th>\n",
       "    </tr>\n",
       "  </thead>\n",
       "  <tbody>\n",
       "    <tr>\n",
       "      <th>0</th>\n",
       "      <td>59.0</td>\n",
       "      <td>M</td>\n",
       "      <td>175.0</td>\n",
       "      <td>70.6</td>\n",
       "      <td>19.2</td>\n",
       "      <td>91.0</td>\n",
       "      <td>150.0</td>\n",
       "      <td>40.6</td>\n",
       "      <td>12.2</td>\n",
       "      <td>30.0</td>\n",
       "      <td>179.0</td>\n",
       "      <td>C</td>\n",
       "      <td>23.053061</td>\n",
       "      <td>50.0</td>\n",
       "    </tr>\n",
       "    <tr>\n",
       "      <th>1</th>\n",
       "      <td>40.0</td>\n",
       "      <td>F</td>\n",
       "      <td>161.4</td>\n",
       "      <td>45.8</td>\n",
       "      <td>21.7</td>\n",
       "      <td>62.0</td>\n",
       "      <td>119.0</td>\n",
       "      <td>22.1</td>\n",
       "      <td>16.0</td>\n",
       "      <td>32.0</td>\n",
       "      <td>165.0</td>\n",
       "      <td>B</td>\n",
       "      <td>17.581601</td>\n",
       "      <td>40.0</td>\n",
       "    </tr>\n",
       "    <tr>\n",
       "      <th>2</th>\n",
       "      <td>27.0</td>\n",
       "      <td>M</td>\n",
       "      <td>176.6</td>\n",
       "      <td>84.8</td>\n",
       "      <td>19.2</td>\n",
       "      <td>87.0</td>\n",
       "      <td>153.0</td>\n",
       "      <td>45.9</td>\n",
       "      <td>13.2</td>\n",
       "      <td>61.0</td>\n",
       "      <td>216.0</td>\n",
       "      <td>B</td>\n",
       "      <td>27.190328</td>\n",
       "      <td>20.0</td>\n",
       "    </tr>\n",
       "    <tr>\n",
       "      <th>3</th>\n",
       "      <td>38.0</td>\n",
       "      <td>M</td>\n",
       "      <td>167.6</td>\n",
       "      <td>76.7</td>\n",
       "      <td>24.7</td>\n",
       "      <td>63.0</td>\n",
       "      <td>132.0</td>\n",
       "      <td>43.6</td>\n",
       "      <td>16.0</td>\n",
       "      <td>45.0</td>\n",
       "      <td>231.0</td>\n",
       "      <td>A</td>\n",
       "      <td>27.305324</td>\n",
       "      <td>30.0</td>\n",
       "    </tr>\n",
       "    <tr>\n",
       "      <th>4</th>\n",
       "      <td>21.0</td>\n",
       "      <td>M</td>\n",
       "      <td>165.2</td>\n",
       "      <td>66.2</td>\n",
       "      <td>21.5</td>\n",
       "      <td>83.0</td>\n",
       "      <td>106.0</td>\n",
       "      <td>33.5</td>\n",
       "      <td>10.6</td>\n",
       "      <td>46.0</td>\n",
       "      <td>198.0</td>\n",
       "      <td>C</td>\n",
       "      <td>24.257046</td>\n",
       "      <td>20.0</td>\n",
       "    </tr>\n",
       "    <tr>\n",
       "      <th>...</th>\n",
       "      <td>...</td>\n",
       "      <td>...</td>\n",
       "      <td>...</td>\n",
       "      <td>...</td>\n",
       "      <td>...</td>\n",
       "      <td>...</td>\n",
       "      <td>...</td>\n",
       "      <td>...</td>\n",
       "      <td>...</td>\n",
       "      <td>...</td>\n",
       "      <td>...</td>\n",
       "      <td>...</td>\n",
       "      <td>...</td>\n",
       "      <td>...</td>\n",
       "    </tr>\n",
       "    <tr>\n",
       "      <th>13391</th>\n",
       "      <td>61.0</td>\n",
       "      <td>M</td>\n",
       "      <td>167.0</td>\n",
       "      <td>65.8</td>\n",
       "      <td>22.2</td>\n",
       "      <td>71.0</td>\n",
       "      <td>130.0</td>\n",
       "      <td>33.7</td>\n",
       "      <td>14.5</td>\n",
       "      <td>37.0</td>\n",
       "      <td>182.0</td>\n",
       "      <td>C</td>\n",
       "      <td>23.593531</td>\n",
       "      <td>60.0</td>\n",
       "    </tr>\n",
       "    <tr>\n",
       "      <th>13392</th>\n",
       "      <td>25.0</td>\n",
       "      <td>M</td>\n",
       "      <td>170.7</td>\n",
       "      <td>64.2</td>\n",
       "      <td>22.4</td>\n",
       "      <td>57.0</td>\n",
       "      <td>121.0</td>\n",
       "      <td>32.5</td>\n",
       "      <td>11.8</td>\n",
       "      <td>48.0</td>\n",
       "      <td>196.0</td>\n",
       "      <td>C</td>\n",
       "      <td>22.032713</td>\n",
       "      <td>20.0</td>\n",
       "    </tr>\n",
       "    <tr>\n",
       "      <th>13393</th>\n",
       "      <td>47.0</td>\n",
       "      <td>M</td>\n",
       "      <td>166.2</td>\n",
       "      <td>77.5</td>\n",
       "      <td>22.8</td>\n",
       "      <td>84.0</td>\n",
       "      <td>133.0</td>\n",
       "      <td>52.4</td>\n",
       "      <td>11.9</td>\n",
       "      <td>45.0</td>\n",
       "      <td>220.0</td>\n",
       "      <td>B</td>\n",
       "      <td>28.056899</td>\n",
       "      <td>40.0</td>\n",
       "    </tr>\n",
       "    <tr>\n",
       "      <th>13394</th>\n",
       "      <td>29.0</td>\n",
       "      <td>M</td>\n",
       "      <td>175.4</td>\n",
       "      <td>74.4</td>\n",
       "      <td>16.1</td>\n",
       "      <td>77.0</td>\n",
       "      <td>124.0</td>\n",
       "      <td>58.4</td>\n",
       "      <td>23.5</td>\n",
       "      <td>48.0</td>\n",
       "      <td>245.0</td>\n",
       "      <td>B</td>\n",
       "      <td>24.183199</td>\n",
       "      <td>20.0</td>\n",
       "    </tr>\n",
       "    <tr>\n",
       "      <th>13395</th>\n",
       "      <td>28.0</td>\n",
       "      <td>M</td>\n",
       "      <td>173.8</td>\n",
       "      <td>78.5</td>\n",
       "      <td>17.3</td>\n",
       "      <td>88.0</td>\n",
       "      <td>119.0</td>\n",
       "      <td>50.1</td>\n",
       "      <td>19.9</td>\n",
       "      <td>57.0</td>\n",
       "      <td>237.0</td>\n",
       "      <td>A</td>\n",
       "      <td>25.987836</td>\n",
       "      <td>20.0</td>\n",
       "    </tr>\n",
       "  </tbody>\n",
       "</table>\n",
       "<p>13396 rows × 14 columns</p>\n",
       "</div>"
      ],
      "text/plain": [
       "       측정나이 측정회원성별  신장 : cm  체중 : kg  체지방율 : %  이완기혈압(최저) : mmHg  \\\n",
       "0      59.0      M    175.0     70.6      19.2              91.0   \n",
       "1      40.0      F    161.4     45.8      21.7              62.0   \n",
       "2      27.0      M    176.6     84.8      19.2              87.0   \n",
       "3      38.0      M    167.6     76.7      24.7              63.0   \n",
       "4      21.0      M    165.2     66.2      21.5              83.0   \n",
       "...     ...    ...      ...      ...       ...               ...   \n",
       "13391  61.0      M    167.0     65.8      22.2              71.0   \n",
       "13392  25.0      M    170.7     64.2      22.4              57.0   \n",
       "13393  47.0      M    166.2     77.5      22.8              84.0   \n",
       "13394  29.0      M    175.4     74.4      16.1              77.0   \n",
       "13395  28.0      M    173.8     78.5      17.3              88.0   \n",
       "\n",
       "       수축기혈압(최고) : mmHg  악력D : kg  앉아윗몸앞으로굽히기 : cm  교차윗몸일으키기 : 회  \\\n",
       "0                 150.0      40.6             12.2          30.0   \n",
       "1                 119.0      22.1             16.0          32.0   \n",
       "2                 153.0      45.9             13.2          61.0   \n",
       "3                 132.0      43.6             16.0          45.0   \n",
       "4                 106.0      33.5             10.6          46.0   \n",
       "...                 ...       ...              ...           ...   \n",
       "13391             130.0      33.7             14.5          37.0   \n",
       "13392             121.0      32.5             11.8          48.0   \n",
       "13393             133.0      52.4             11.9          45.0   \n",
       "13394             124.0      58.4             23.5          48.0   \n",
       "13395             119.0      50.1             19.9          57.0   \n",
       "\n",
       "       제자리 멀리뛰기 : cm 등급        bmi   연령대  \n",
       "0              179.0  C  23.053061  50.0  \n",
       "1              165.0  B  17.581601  40.0  \n",
       "2              216.0  B  27.190328  20.0  \n",
       "3              231.0  A  27.305324  30.0  \n",
       "4              198.0  C  24.257046  20.0  \n",
       "...              ... ..        ...   ...  \n",
       "13391          182.0  C  23.593531  60.0  \n",
       "13392          196.0  C  22.032713  20.0  \n",
       "13393          220.0  B  28.056899  40.0  \n",
       "13394          245.0  B  24.183199  20.0  \n",
       "13395          237.0  A  25.987836  20.0  \n",
       "\n",
       "[13396 rows x 14 columns]"
      ]
     },
     "execution_count": 84,
     "metadata": {},
     "output_type": "execute_result"
    }
   ],
   "source": [
    "df"
   ]
  },
  {
   "cell_type": "code",
   "execution_count": 83,
   "id": "ad2caddc-d9b4-4013-9241-79ca0cca1e0f",
   "metadata": {},
   "outputs": [
    {
     "name": "stdout",
     "output_type": "stream",
     "text": [
      "7.932086486137521\n"
     ]
    }
   ],
   "source": [
    "#답\n",
    "result = abs(df[(df.측정회원성별 =='M') &(df.등급 =='A')].iloc[:,4].mean() -df[(df.측정회원성별 =='M') &(df.등급 =='D')].iloc[:,4].mean())\n",
    "print(result)"
   ]
  },
  {
   "cell_type": "markdown",
   "id": "0f6968aa-2ae0-4362-8d96-b5bfa273b286",
   "metadata": {},
   "source": [
    "# Question **여성 중 A등급과 D등급의 체중의 평균의 차이(큰 값에서 작은 값의 차)를 구하여라**"
   ]
  },
  {
   "cell_type": "code",
   "execution_count": 87,
   "id": "8ca400f4-8008-4c4d-a28a-f4969b2275cf",
   "metadata": {},
   "outputs": [
    {
     "data": {
      "text/plain": [
       "5.176211590296504"
      ]
     },
     "execution_count": 87,
     "metadata": {},
     "output_type": "execute_result"
    }
   ],
   "source": [
    "answer = abs(df[(df.측정회원성별==\"F\") & (df.등급==\"A\")]['체중 : kg'].mean() -df[(df.측정회원성별==\"F\") & (df.등급==\"D\")]['체중 : kg'].mean())\n",
    "answer "
   ]
  },
  {
   "cell_type": "code",
   "execution_count": 86,
   "id": "9f98a440-e10f-4f67-90ff-071100c839e9",
   "metadata": {},
   "outputs": [
    {
     "name": "stdout",
     "output_type": "stream",
     "text": [
      "5.176211590296504\n"
     ]
    }
   ],
   "source": [
    "#답\n",
    "result = abs(df[(df.측정회원성별 =='F') &(df.등급 =='A')].iloc[:,3].mean() -df[(df.측정회원성별 =='F') &(df.등급 =='D')].iloc[:,3].mean())\n",
    "print(result)"
   ]
  },
  {
   "cell_type": "markdown",
   "id": "096fa691-8d79-40a3-826c-c1be40a4b407",
   "metadata": {},
   "source": [
    "# Question **bmi는 자신의 몸무게(kg)를 키의 제곱(m)으로 나눈값이다. 데이터의 bmi 를 구한 새로운 컬럼을 만들고 남성의 bmi 평균을 구하여라**"
   ]
  },
  {
   "cell_type": "code",
   "execution_count": 17,
   "id": "a6d17bc8-7599-45b1-b646-ea4075f77697",
   "metadata": {},
   "outputs": [
    {
     "data": {
      "text/plain": [
       "24.46134409819308"
      ]
     },
     "execution_count": 17,
     "metadata": {},
     "output_type": "execute_result"
    }
   ],
   "source": [
    "df['bmi'] = df['체중 : kg']/(df['신장 : cm']/100)**2\n",
    "answer = df[df.측정회원성별==\"M\"]['bmi'].mean()\n",
    "answer"
   ]
  },
  {
   "cell_type": "code",
   "execution_count": 88,
   "id": "3feda375-cd72-420f-a3f7-9ea879617cdc",
   "metadata": {},
   "outputs": [
    {
     "name": "stdout",
     "output_type": "stream",
     "text": [
      "24.46134409819308\n"
     ]
    }
   ],
   "source": [
    "# 답\n",
    "df['bmi'] = df['체중 : kg'] / (df['신장 : cm']/100) **2\n",
    "result = df[df.측정회원성별 =='M'].bmi.mean()\n",
    "\n",
    "print(result)"
   ]
  },
  {
   "cell_type": "markdown",
   "id": "5a6a4b91-76a3-4c16-9512-9b8aae4965bc",
   "metadata": {},
   "source": [
    "# Question **bmi보다 체지방율이 높은 사람들의 체중평균을 구하여라**"
   ]
  },
  {
   "cell_type": "code",
   "execution_count": 27,
   "id": "d80a60f3-ae0a-40ee-b3d3-170cfb46de3a",
   "metadata": {},
   "outputs": [
    {
     "name": "stdout",
     "output_type": "stream",
     "text": [
      "61.7408806392542 kg\n",
      "61.7408806392542kg\n",
      "61.7409kg\n"
     ]
    }
   ],
   "source": [
    "answer = df[df['체지방율 : %']>df['bmi']]['체중 : kg'].mean()\n",
    "print(answer,\"kg\")\n",
    "print(\"{}kg\".format(answer))\n",
    "print(f\"{answer:.4f}kg\")"
   ]
  },
  {
   "cell_type": "code",
   "execution_count": 89,
   "id": "7f1bd5c1-6ed8-489a-883b-bb44bc39034f",
   "metadata": {},
   "outputs": [
    {
     "name": "stdout",
     "output_type": "stream",
     "text": [
      "61.7408806392542\n"
     ]
    }
   ],
   "source": [
    "# 답\n",
    "result =df[df.bmi <df['체지방율 : %']]['체중 : kg'].mean()\n",
    "print(result)"
   ]
  },
  {
   "cell_type": "markdown",
   "id": "5c7f54d2-b52e-484f-ac37-5ef3fdff603e",
   "metadata": {},
   "source": [
    "# Question **남성과 여성의 악력 평균의 차이를 구하여라**"
   ]
  },
  {
   "cell_type": "code",
   "execution_count": 28,
   "id": "a9a73b26-0c7a-4580-9986-ff1b581da6aa",
   "metadata": {},
   "outputs": [
    {
     "data": {
      "text/plain": [
       "17.55954185047464"
      ]
     },
     "execution_count": 28,
     "metadata": {},
     "output_type": "execute_result"
    }
   ],
   "source": [
    "answer = df[df.측정회원성별==\"M\"]['악력D : kg'].mean() - df[df.측정회원성별==\"F\"]['악력D : kg'].mean()\n",
    "answer "
   ]
  },
  {
   "cell_type": "code",
   "execution_count": 90,
   "id": "b991cfb7-d972-401e-808e-f3caac206630",
   "metadata": {},
   "outputs": [
    {
     "name": "stdout",
     "output_type": "stream",
     "text": [
      "17.55954185047465\n"
     ]
    }
   ],
   "source": [
    "# 답\n",
    "target= df.groupby('측정회원성별')['악력D : kg'].mean()\n",
    "\n",
    "result = target.M - target.F\n",
    "print(result)"
   ]
  },
  {
   "cell_type": "markdown",
   "id": "e0ae6f17-29da-4dc5-a6b1-d4e1b139f79a",
   "metadata": {},
   "source": [
    "# Question **남성과 여성의 교차윗몸일으키기 횟수의 평균의 차이를 구하여라**"
   ]
  },
  {
   "cell_type": "code",
   "execution_count": 16,
   "id": "0ae58af3-8de1-4fe8-96cb-6a2e60a1134c",
   "metadata": {},
   "outputs": [
    {
     "data": {
      "text/plain": [
       "14.243156833157627"
      ]
     },
     "execution_count": 16,
     "metadata": {},
     "output_type": "execute_result"
    }
   ],
   "source": [
    "M_m = df[df.측정회원성별==\"M\"]['교차윗몸일으키기 : 회'].mean()\n",
    "F_m = df[df.측정회원성별==\"F\"]['교차윗몸일으키기 : 회'].mean()\n",
    "answer = M_m - F_m\n",
    "answer"
   ]
  },
  {
   "cell_type": "code",
   "execution_count": 91,
   "id": "63789090-c229-4689-b04b-b2148040633e",
   "metadata": {},
   "outputs": [
    {
     "name": "stdout",
     "output_type": "stream",
     "text": [
      "14.243156833157627\n"
     ]
    }
   ],
   "source": [
    "# 답\n",
    "target= df.groupby('측정회원성별')['교차윗몸일으키기 : 회'].mean()\n",
    "\n",
    "result = target.M - target.F\n",
    "print(result)"
   ]
  }
 ],
 "metadata": {
  "kernelspec": {
   "display_name": "Python 3 (ipykernel)",
   "language": "python",
   "name": "python3"
  },
  "language_info": {
   "codemirror_mode": {
    "name": "ipython",
    "version": 3
   },
   "file_extension": ".py",
   "mimetype": "text/x-python",
   "name": "python",
   "nbconvert_exporter": "python",
   "pygments_lexer": "ipython3",
   "version": "3.8.12"
  }
 },
 "nbformat": 4,
 "nbformat_minor": 5
}
