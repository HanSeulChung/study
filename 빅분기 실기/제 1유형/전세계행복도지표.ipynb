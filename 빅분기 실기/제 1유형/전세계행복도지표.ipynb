{
 "cells": [
  {
   "cell_type": "markdown",
   "id": "83c8e585-fd6b-4280-a785-45e2b14c763f",
   "metadata": {},
   "source": [
    "데이터 설명 : 전세계 행복도 지표 조사data url = [https://raw.githubusercontent.com/Datamanim/datarepo/main/happy2/happiness.csv](https://raw.githubusercontent.com/Datamanim/datarepo/main/happy2/happiness.csv)\n",
    "\n",
    "Question **데이터는 2018년도와 2019년도의 전세계 행복 지수를 표현한다. 각년도의 행복랭킹 10위를 차지한 나라의 행복점수의 평균을 구하여라**\n",
    "\n",
    "Question **데이터는 2018년도와 2019년도의 전세계 행복 지수를 표현한다. 각년도의 행복랭킹 50위이내의 나라들의 각각의 행복점수 평균을 데이터프레임으로 표시하라**\n",
    "\n",
    "Question **2018년도 데이터들만 추출하여 행복점수와 부패에 대한 인식에 대한 상관계수를 구하여라**\n",
    "\n",
    "<font color='red'>Question **2018년도와 2019년도의 행복랭킹이 변화하지 않은 나라명의 수를 구하여라**</font>\n",
    "\n",
    "Question **2019년도 데이터들만 추출하여 각변수간 상관계수를 구하고 내림차순으로 정렬한 후 상위 5개를 데이터 프레임으로 출력하라. 컬럼명은 v1,v2,corr으로 표시하라**\n",
    "\n",
    "Question **각 년도별 하위 행복점수의 하위 5개 국가의 평균 행복점수를 구하여라**\n",
    "\n",
    "Question **2019년 데이터를 추출하고 해당데이터의 상대 GDP 평균 이상의 나라들과 평균 이하의 나라들의 행복점수 평균을 각각 구하고 그 차이값을 출력하라**\n",
    "\n",
    "Question **각년도의 부패에 대한인식을 내림차순 정렬했을때 상위 20개 국가의 부패에 대한인식의 평균을 구하여라**\n",
    "\n",
    "<font color='red'>Question **2018년도 행복랭킹 50위 이내에 포함됐다가 2019년 50위 밖으로 밀려난 국가의 숫자를 구하여라**</font>\n",
    "\n",
    "<font color='red'> Question **2018년,2019년 모두 기록이 있는 나라들 중 년도별 행복점수가 가장 증가한 나라와 그 증가 수치는?** 젤어렵다"
   ]
  },
  {
   "cell_type": "code",
   "execution_count": 2,
   "id": "b97eba7d-4e29-44a5-8d9c-11d02e34c032",
   "metadata": {},
   "outputs": [
    {
     "data": {
      "text/html": [
       "<div>\n",
       "<style scoped>\n",
       "    .dataframe tbody tr th:only-of-type {\n",
       "        vertical-align: middle;\n",
       "    }\n",
       "\n",
       "    .dataframe tbody tr th {\n",
       "        vertical-align: top;\n",
       "    }\n",
       "\n",
       "    .dataframe thead th {\n",
       "        text-align: right;\n",
       "    }\n",
       "</style>\n",
       "<table border=\"1\" class=\"dataframe\">\n",
       "  <thead>\n",
       "    <tr style=\"text-align: right;\">\n",
       "      <th></th>\n",
       "      <th>행복랭킹</th>\n",
       "      <th>나라명</th>\n",
       "      <th>점수</th>\n",
       "      <th>상대GDP</th>\n",
       "      <th>사회적지원</th>\n",
       "      <th>행복기대치</th>\n",
       "      <th>선택의 자유도</th>\n",
       "      <th>관대함</th>\n",
       "      <th>부패에 대한인식</th>\n",
       "      <th>년도</th>\n",
       "    </tr>\n",
       "  </thead>\n",
       "  <tbody>\n",
       "    <tr>\n",
       "      <th>0</th>\n",
       "      <td>1</td>\n",
       "      <td>Finland</td>\n",
       "      <td>7.769</td>\n",
       "      <td>1.340</td>\n",
       "      <td>1.587</td>\n",
       "      <td>0.986</td>\n",
       "      <td>0.596</td>\n",
       "      <td>0.153</td>\n",
       "      <td>0.393</td>\n",
       "      <td>2019</td>\n",
       "    </tr>\n",
       "    <tr>\n",
       "      <th>1</th>\n",
       "      <td>2</td>\n",
       "      <td>Denmark</td>\n",
       "      <td>7.600</td>\n",
       "      <td>1.383</td>\n",
       "      <td>1.573</td>\n",
       "      <td>0.996</td>\n",
       "      <td>0.592</td>\n",
       "      <td>0.252</td>\n",
       "      <td>0.410</td>\n",
       "      <td>2019</td>\n",
       "    </tr>\n",
       "    <tr>\n",
       "      <th>2</th>\n",
       "      <td>3</td>\n",
       "      <td>Norway</td>\n",
       "      <td>7.554</td>\n",
       "      <td>1.488</td>\n",
       "      <td>1.582</td>\n",
       "      <td>1.028</td>\n",
       "      <td>0.603</td>\n",
       "      <td>0.271</td>\n",
       "      <td>0.341</td>\n",
       "      <td>2019</td>\n",
       "    </tr>\n",
       "  </tbody>\n",
       "</table>\n",
       "</div>"
      ],
      "text/plain": [
       "   행복랭킹      나라명     점수  상대GDP  사회적지원  행복기대치  선택의 자유도    관대함  부패에 대한인식    년도\n",
       "0     1  Finland  7.769  1.340  1.587  0.986    0.596  0.153     0.393  2019\n",
       "1     2  Denmark  7.600  1.383  1.573  0.996    0.592  0.252     0.410  2019\n",
       "2     3   Norway  7.554  1.488  1.582  1.028    0.603  0.271     0.341  2019"
      ]
     },
     "execution_count": 2,
     "metadata": {},
     "output_type": "execute_result"
    }
   ],
   "source": [
    "import pandas as pd\n",
    "df =pd.read_csv(\"https://raw.githubusercontent.com/Datamanim/datarepo/main/happy2/happiness.csv\")\n",
    "df.head(3)"
   ]
  },
  {
   "cell_type": "markdown",
   "id": "97a87061-8a1d-4e35-a8a7-09fb9426d286",
   "metadata": {
    "jp-MarkdownHeadingCollapsed": true,
    "tags": []
   },
   "source": [
    "# Question **데이터는 2018년도와 2019년도의 전세계 행복 지수를 표현한다. 각년도의 행복랭킹 10위를 차지한 나라의 행복점수의 평균을 구하여라**\n",
    "\n"
   ]
  },
  {
   "cell_type": "code",
   "execution_count": 8,
   "id": "654d8bbf-825d-404f-898f-c8c2f4b8727a",
   "metadata": {},
   "outputs": [
    {
     "data": {
      "text/plain": [
       "7.259"
      ]
     },
     "execution_count": 8,
     "metadata": {},
     "output_type": "execute_result"
    }
   ],
   "source": [
    "answer = df[df['행복랭킹']==10].점수.mean()\n",
    "answer "
   ]
  },
  {
   "cell_type": "markdown",
   "id": "fd73889a-f3fa-4b4e-aca8-830f50518386",
   "metadata": {},
   "source": [
    "# Question **데이터는 2018년도와 2019년도의 전세계 행복 지수를 표현한다. 각년도의 행복랭킹 50위이내의 나라들의 각각의 행복점수 평균을 데이터프레임으로 표시하라**"
   ]
  },
  {
   "cell_type": "code",
   "execution_count": 12,
   "id": "0c4a55be-7b05-49d1-b113-ebf3fd84747e",
   "metadata": {},
   "outputs": [
    {
     "data": {
      "text/html": [
       "<div>\n",
       "<style scoped>\n",
       "    .dataframe tbody tr th:only-of-type {\n",
       "        vertical-align: middle;\n",
       "    }\n",
       "\n",
       "    .dataframe tbody tr th {\n",
       "        vertical-align: top;\n",
       "    }\n",
       "\n",
       "    .dataframe thead th {\n",
       "        text-align: right;\n",
       "    }\n",
       "</style>\n",
       "<table border=\"1\" class=\"dataframe\">\n",
       "  <thead>\n",
       "    <tr style=\"text-align: right;\">\n",
       "      <th></th>\n",
       "      <th>년도</th>\n",
       "      <th>점수</th>\n",
       "    </tr>\n",
       "  </thead>\n",
       "  <tbody>\n",
       "    <tr>\n",
       "      <th>0</th>\n",
       "      <td>2018</td>\n",
       "      <td>6.64678</td>\n",
       "    </tr>\n",
       "    <tr>\n",
       "      <th>1</th>\n",
       "      <td>2019</td>\n",
       "      <td>6.67002</td>\n",
       "    </tr>\n",
       "  </tbody>\n",
       "</table>\n",
       "</div>"
      ],
      "text/plain": [
       "     년도       점수\n",
       "0  2018  6.64678\n",
       "1  2019  6.67002"
      ]
     },
     "execution_count": 12,
     "metadata": {},
     "output_type": "execute_result"
    }
   ],
   "source": [
    "answer = df[df['행복랭킹']<=50].groupby('년도').점수.mean().reset_index()\n",
    "answer"
   ]
  },
  {
   "cell_type": "code",
   "execution_count": 13,
   "id": "ee942559-06ff-49ba-823f-8b98097f3bd1",
   "metadata": {},
   "outputs": [
    {
     "data": {
      "text/html": [
       "<div>\n",
       "<style scoped>\n",
       "    .dataframe tbody tr th:only-of-type {\n",
       "        vertical-align: middle;\n",
       "    }\n",
       "\n",
       "    .dataframe tbody tr th {\n",
       "        vertical-align: top;\n",
       "    }\n",
       "\n",
       "    .dataframe thead th {\n",
       "        text-align: right;\n",
       "    }\n",
       "</style>\n",
       "<table border=\"1\" class=\"dataframe\">\n",
       "  <thead>\n",
       "    <tr style=\"text-align: right;\">\n",
       "      <th></th>\n",
       "      <th>점수</th>\n",
       "    </tr>\n",
       "    <tr>\n",
       "      <th>년도</th>\n",
       "      <th></th>\n",
       "    </tr>\n",
       "  </thead>\n",
       "  <tbody>\n",
       "    <tr>\n",
       "      <th>2018</th>\n",
       "      <td>6.64678</td>\n",
       "    </tr>\n",
       "    <tr>\n",
       "      <th>2019</th>\n",
       "      <td>6.67002</td>\n",
       "    </tr>\n",
       "  </tbody>\n",
       "</table>\n",
       "</div>"
      ],
      "text/plain": [
       "           점수\n",
       "년도           \n",
       "2018  6.64678\n",
       "2019  6.67002"
      ]
     },
     "execution_count": 13,
     "metadata": {},
     "output_type": "execute_result"
    }
   ],
   "source": [
    "answer = df[df['행복랭킹']<=50].groupby('년도').점수.mean().to_frame()\n",
    "answer"
   ]
  },
  {
   "cell_type": "code",
   "execution_count": 17,
   "id": "17d3687d-94a5-44fa-a1a4-23ec62917c23",
   "metadata": {},
   "outputs": [
    {
     "data": {
      "text/html": [
       "<div>\n",
       "<style scoped>\n",
       "    .dataframe tbody tr th:only-of-type {\n",
       "        vertical-align: middle;\n",
       "    }\n",
       "\n",
       "    .dataframe tbody tr th {\n",
       "        vertical-align: top;\n",
       "    }\n",
       "\n",
       "    .dataframe thead th {\n",
       "        text-align: right;\n",
       "    }\n",
       "</style>\n",
       "<table border=\"1\" class=\"dataframe\">\n",
       "  <thead>\n",
       "    <tr style=\"text-align: right;\">\n",
       "      <th></th>\n",
       "      <th>점수</th>\n",
       "    </tr>\n",
       "    <tr>\n",
       "      <th>년도</th>\n",
       "      <th></th>\n",
       "    </tr>\n",
       "  </thead>\n",
       "  <tbody>\n",
       "    <tr>\n",
       "      <th>2018</th>\n",
       "      <td>6.64678</td>\n",
       "    </tr>\n",
       "    <tr>\n",
       "      <th>2019</th>\n",
       "      <td>6.67002</td>\n",
       "    </tr>\n",
       "  </tbody>\n",
       "</table>\n",
       "</div>"
      ],
      "text/plain": [
       "           점수\n",
       "년도           \n",
       "2018  6.64678\n",
       "2019  6.67002"
      ]
     },
     "execution_count": 17,
     "metadata": {},
     "output_type": "execute_result"
    }
   ],
   "source": [
    "#답\n",
    "result = df[df.행복랭킹<=50][['년도','점수']].groupby('년도').mean()\n",
    "result"
   ]
  },
  {
   "cell_type": "markdown",
   "id": "25a0d44b-939a-414d-865f-aa6f2ccab7c1",
   "metadata": {
    "jp-MarkdownHeadingCollapsed": true,
    "tags": []
   },
   "source": [
    "# Question **2018년도 데이터들만 추출하여 행복점수와 부패에 대한 인식에 대한 상관계수를 구하여라**"
   ]
  },
  {
   "cell_type": "code",
   "execution_count": 19,
   "id": "b3382b2c-a7a2-4914-a100-943859226d67",
   "metadata": {},
   "outputs": [
    {
     "data": {
      "text/html": [
       "<div>\n",
       "<style scoped>\n",
       "    .dataframe tbody tr th:only-of-type {\n",
       "        vertical-align: middle;\n",
       "    }\n",
       "\n",
       "    .dataframe tbody tr th {\n",
       "        vertical-align: top;\n",
       "    }\n",
       "\n",
       "    .dataframe thead th {\n",
       "        text-align: right;\n",
       "    }\n",
       "</style>\n",
       "<table border=\"1\" class=\"dataframe\">\n",
       "  <thead>\n",
       "    <tr style=\"text-align: right;\">\n",
       "      <th></th>\n",
       "      <th>점수</th>\n",
       "      <th>부패에 대한인식</th>\n",
       "    </tr>\n",
       "  </thead>\n",
       "  <tbody>\n",
       "    <tr>\n",
       "      <th>점수</th>\n",
       "      <td>1.000000</td>\n",
       "      <td>0.405292</td>\n",
       "    </tr>\n",
       "    <tr>\n",
       "      <th>부패에 대한인식</th>\n",
       "      <td>0.405292</td>\n",
       "      <td>1.000000</td>\n",
       "    </tr>\n",
       "  </tbody>\n",
       "</table>\n",
       "</div>"
      ],
      "text/plain": [
       "                점수  부패에 대한인식\n",
       "점수        1.000000  0.405292\n",
       "부패에 대한인식  0.405292  1.000000"
      ]
     },
     "execution_count": 19,
     "metadata": {},
     "output_type": "execute_result"
    }
   ],
   "source": [
    "answer= df[df.년도==2018][['점수','부패에 대한인식']].corr()\n",
    "answer"
   ]
  },
  {
   "cell_type": "markdown",
   "id": "dc59f72f-bc76-421a-b5eb-a9bdf65e5df1",
   "metadata": {},
   "source": [
    "# Question **2018년도와 2019년도의 행복랭킹이 변화하지 않은 나라명의 수를 구하여라**"
   ]
  },
  {
   "cell_type": "code",
   "execution_count": 106,
   "id": "bb0e230b-9f16-4d31-9f04-aba9418fd8ec",
   "metadata": {},
   "outputs": [
    {
     "data": {
      "text/html": [
       "<div>\n",
       "<style scoped>\n",
       "    .dataframe tbody tr th:only-of-type {\n",
       "        vertical-align: middle;\n",
       "    }\n",
       "\n",
       "    .dataframe tbody tr th {\n",
       "        vertical-align: top;\n",
       "    }\n",
       "\n",
       "    .dataframe thead th {\n",
       "        text-align: right;\n",
       "    }\n",
       "</style>\n",
       "<table border=\"1\" class=\"dataframe\">\n",
       "  <thead>\n",
       "    <tr style=\"text-align: right;\">\n",
       "      <th></th>\n",
       "      <th>행복랭킹</th>\n",
       "      <th>나라명</th>\n",
       "    </tr>\n",
       "  </thead>\n",
       "  <tbody>\n",
       "    <tr>\n",
       "      <th>0</th>\n",
       "      <td>1</td>\n",
       "      <td>Finland</td>\n",
       "    </tr>\n",
       "    <tr>\n",
       "      <th>1</th>\n",
       "      <td>2</td>\n",
       "      <td>Denmark</td>\n",
       "    </tr>\n",
       "    <tr>\n",
       "      <th>2</th>\n",
       "      <td>3</td>\n",
       "      <td>Norway</td>\n",
       "    </tr>\n",
       "    <tr>\n",
       "      <th>3</th>\n",
       "      <td>4</td>\n",
       "      <td>Iceland</td>\n",
       "    </tr>\n",
       "    <tr>\n",
       "      <th>4</th>\n",
       "      <td>5</td>\n",
       "      <td>Netherlands</td>\n",
       "    </tr>\n",
       "    <tr>\n",
       "      <th>...</th>\n",
       "      <td>...</td>\n",
       "      <td>...</td>\n",
       "    </tr>\n",
       "    <tr>\n",
       "      <th>307</th>\n",
       "      <td>152</td>\n",
       "      <td>Yemen</td>\n",
       "    </tr>\n",
       "    <tr>\n",
       "      <th>308</th>\n",
       "      <td>153</td>\n",
       "      <td>Tanzania</td>\n",
       "    </tr>\n",
       "    <tr>\n",
       "      <th>309</th>\n",
       "      <td>154</td>\n",
       "      <td>South Sudan</td>\n",
       "    </tr>\n",
       "    <tr>\n",
       "      <th>310</th>\n",
       "      <td>155</td>\n",
       "      <td>Central African Republic</td>\n",
       "    </tr>\n",
       "    <tr>\n",
       "      <th>311</th>\n",
       "      <td>156</td>\n",
       "      <td>Burundi</td>\n",
       "    </tr>\n",
       "  </tbody>\n",
       "</table>\n",
       "<p>312 rows × 2 columns</p>\n",
       "</div>"
      ],
      "text/plain": [
       "     행복랭킹                       나라명\n",
       "0       1                   Finland\n",
       "1       2                   Denmark\n",
       "2       3                    Norway\n",
       "3       4                   Iceland\n",
       "4       5               Netherlands\n",
       "..    ...                       ...\n",
       "307   152                     Yemen\n",
       "308   153                  Tanzania\n",
       "309   154               South Sudan\n",
       "310   155  Central African Republic\n",
       "311   156                   Burundi\n",
       "\n",
       "[312 rows x 2 columns]"
      ]
     },
     "execution_count": 106,
     "metadata": {},
     "output_type": "execute_result"
    }
   ],
   "source": [
    "df[['행복랭킹','나라명']]"
   ]
  },
  {
   "cell_type": "code",
   "execution_count": 107,
   "id": "60152d96-020b-47f6-9e3d-2ed2b4eeba3c",
   "metadata": {},
   "outputs": [
    {
     "data": {
      "text/html": [
       "<div>\n",
       "<style scoped>\n",
       "    .dataframe tbody tr th:only-of-type {\n",
       "        vertical-align: middle;\n",
       "    }\n",
       "\n",
       "    .dataframe tbody tr th {\n",
       "        vertical-align: top;\n",
       "    }\n",
       "\n",
       "    .dataframe thead th {\n",
       "        text-align: right;\n",
       "    }\n",
       "</style>\n",
       "<table border=\"1\" class=\"dataframe\">\n",
       "  <thead>\n",
       "    <tr style=\"text-align: right;\">\n",
       "      <th></th>\n",
       "      <th>행복랭킹</th>\n",
       "      <th>나라명</th>\n",
       "    </tr>\n",
       "  </thead>\n",
       "  <tbody>\n",
       "    <tr>\n",
       "      <th>0</th>\n",
       "      <td>1</td>\n",
       "      <td>Finland</td>\n",
       "    </tr>\n",
       "    <tr>\n",
       "      <th>1</th>\n",
       "      <td>2</td>\n",
       "      <td>Denmark</td>\n",
       "    </tr>\n",
       "    <tr>\n",
       "      <th>2</th>\n",
       "      <td>3</td>\n",
       "      <td>Norway</td>\n",
       "    </tr>\n",
       "    <tr>\n",
       "      <th>3</th>\n",
       "      <td>4</td>\n",
       "      <td>Iceland</td>\n",
       "    </tr>\n",
       "    <tr>\n",
       "      <th>4</th>\n",
       "      <td>5</td>\n",
       "      <td>Netherlands</td>\n",
       "    </tr>\n",
       "    <tr>\n",
       "      <th>...</th>\n",
       "      <td>...</td>\n",
       "      <td>...</td>\n",
       "    </tr>\n",
       "    <tr>\n",
       "      <th>305</th>\n",
       "      <td>150</td>\n",
       "      <td>Syria</td>\n",
       "    </tr>\n",
       "    <tr>\n",
       "      <th>306</th>\n",
       "      <td>151</td>\n",
       "      <td>Rwanda</td>\n",
       "    </tr>\n",
       "    <tr>\n",
       "      <th>307</th>\n",
       "      <td>152</td>\n",
       "      <td>Yemen</td>\n",
       "    </tr>\n",
       "    <tr>\n",
       "      <th>309</th>\n",
       "      <td>154</td>\n",
       "      <td>South Sudan</td>\n",
       "    </tr>\n",
       "    <tr>\n",
       "      <th>311</th>\n",
       "      <td>156</td>\n",
       "      <td>Burundi</td>\n",
       "    </tr>\n",
       "  </tbody>\n",
       "</table>\n",
       "<p>297 rows × 2 columns</p>\n",
       "</div>"
      ],
      "text/plain": [
       "     행복랭킹          나라명\n",
       "0       1      Finland\n",
       "1       2      Denmark\n",
       "2       3       Norway\n",
       "3       4      Iceland\n",
       "4       5  Netherlands\n",
       "..    ...          ...\n",
       "305   150        Syria\n",
       "306   151       Rwanda\n",
       "307   152        Yemen\n",
       "309   154  South Sudan\n",
       "311   156      Burundi\n",
       "\n",
       "[297 rows x 2 columns]"
      ]
     },
     "execution_count": 107,
     "metadata": {},
     "output_type": "execute_result"
    }
   ],
   "source": [
    "df[['행복랭킹','나라명']].drop_duplicates()"
   ]
  },
  {
   "cell_type": "markdown",
   "id": "4a1d8450-9a20-40ff-962b-33f6b0f57f59",
   "metadata": {},
   "source": [
    "잘못된 방법"
   ]
  },
  {
   "cell_type": "code",
   "execution_count": 22,
   "id": "112084dc-4bb2-488b-acc7-2a41caa43b08",
   "metadata": {},
   "outputs": [
    {
     "data": {
      "text/plain": [
       "156      1\n",
       "157      2\n",
       "158      3\n",
       "159      4\n",
       "160      5\n",
       "      ... \n",
       "307    152\n",
       "308    153\n",
       "309    154\n",
       "310    155\n",
       "311    156\n",
       "Name: 행복랭킹, Length: 156, dtype: int64"
      ]
     },
     "execution_count": 22,
     "metadata": {},
     "output_type": "execute_result"
    }
   ],
   "source": [
    "df[df['년도']==2018].행복랭킹"
   ]
  },
  {
   "cell_type": "code",
   "execution_count": 23,
   "id": "8f75c22a-b9f5-4ada-bd5e-d650606f7da8",
   "metadata": {},
   "outputs": [
    {
     "ename": "ValueError",
     "evalue": "Can only compare identically-labeled Series objects",
     "output_type": "error",
     "traceback": [
      "\u001b[1;31m---------------------------------------------------------------------------\u001b[0m",
      "\u001b[1;31mValueError\u001b[0m                                Traceback (most recent call last)",
      "\u001b[1;32m~\\AppData\\Local\\Temp/ipykernel_28252/1931703514.py\u001b[0m in \u001b[0;36m<module>\u001b[1;34m\u001b[0m\n\u001b[1;32m----> 1\u001b[1;33m \u001b[0manswer\u001b[0m \u001b[1;33m=\u001b[0m\u001b[0mdf\u001b[0m\u001b[1;33m.\u001b[0m\u001b[0mloc\u001b[0m\u001b[1;33m[\u001b[0m\u001b[0mdf\u001b[0m\u001b[1;33m[\u001b[0m\u001b[0mdf\u001b[0m\u001b[1;33m[\u001b[0m\u001b[1;34m'년도'\u001b[0m\u001b[1;33m]\u001b[0m\u001b[1;33m==\u001b[0m\u001b[1;36m2018\u001b[0m\u001b[1;33m]\u001b[0m\u001b[1;33m.\u001b[0m\u001b[0m행복랭킹\u001b[0m \u001b[1;33m==\u001b[0m \u001b[0mdf\u001b[0m\u001b[1;33m[\u001b[0m\u001b[0mdf\u001b[0m\u001b[1;33m[\u001b[0m\u001b[1;34m'년도'\u001b[0m\u001b[1;33m]\u001b[0m\u001b[1;33m==\u001b[0m\u001b[1;36m2019\u001b[0m\u001b[1;33m]\u001b[0m\u001b[1;33m.\u001b[0m\u001b[0m행복랭킹\u001b[0m\u001b[1;33m]\u001b[0m\u001b[1;33m\u001b[0m\u001b[1;33m\u001b[0m\u001b[0m\n\u001b[0m\u001b[0;32m      2\u001b[0m \u001b[0manswer\u001b[0m\u001b[1;33m\u001b[0m\u001b[1;33m\u001b[0m\u001b[0m\n",
      "\u001b[1;32m~\\.conda\\envs\\py3.8\\lib\\site-packages\\pandas\\core\\ops\\common.py\u001b[0m in \u001b[0;36mnew_method\u001b[1;34m(self, other)\u001b[0m\n\u001b[0;32m     67\u001b[0m         \u001b[0mother\u001b[0m \u001b[1;33m=\u001b[0m \u001b[0mitem_from_zerodim\u001b[0m\u001b[1;33m(\u001b[0m\u001b[0mother\u001b[0m\u001b[1;33m)\u001b[0m\u001b[1;33m\u001b[0m\u001b[1;33m\u001b[0m\u001b[0m\n\u001b[0;32m     68\u001b[0m \u001b[1;33m\u001b[0m\u001b[0m\n\u001b[1;32m---> 69\u001b[1;33m         \u001b[1;32mreturn\u001b[0m \u001b[0mmethod\u001b[0m\u001b[1;33m(\u001b[0m\u001b[0mself\u001b[0m\u001b[1;33m,\u001b[0m \u001b[0mother\u001b[0m\u001b[1;33m)\u001b[0m\u001b[1;33m\u001b[0m\u001b[1;33m\u001b[0m\u001b[0m\n\u001b[0m\u001b[0;32m     70\u001b[0m \u001b[1;33m\u001b[0m\u001b[0m\n\u001b[0;32m     71\u001b[0m     \u001b[1;32mreturn\u001b[0m \u001b[0mnew_method\u001b[0m\u001b[1;33m\u001b[0m\u001b[1;33m\u001b[0m\u001b[0m\n",
      "\u001b[1;32m~\\.conda\\envs\\py3.8\\lib\\site-packages\\pandas\\core\\arraylike.py\u001b[0m in \u001b[0;36m__eq__\u001b[1;34m(self, other)\u001b[0m\n\u001b[0;32m     30\u001b[0m     \u001b[1;33m@\u001b[0m\u001b[0munpack_zerodim_and_defer\u001b[0m\u001b[1;33m(\u001b[0m\u001b[1;34m\"__eq__\"\u001b[0m\u001b[1;33m)\u001b[0m\u001b[1;33m\u001b[0m\u001b[1;33m\u001b[0m\u001b[0m\n\u001b[0;32m     31\u001b[0m     \u001b[1;32mdef\u001b[0m \u001b[0m__eq__\u001b[0m\u001b[1;33m(\u001b[0m\u001b[0mself\u001b[0m\u001b[1;33m,\u001b[0m \u001b[0mother\u001b[0m\u001b[1;33m)\u001b[0m\u001b[1;33m:\u001b[0m\u001b[1;33m\u001b[0m\u001b[1;33m\u001b[0m\u001b[0m\n\u001b[1;32m---> 32\u001b[1;33m         \u001b[1;32mreturn\u001b[0m \u001b[0mself\u001b[0m\u001b[1;33m.\u001b[0m\u001b[0m_cmp_method\u001b[0m\u001b[1;33m(\u001b[0m\u001b[0mother\u001b[0m\u001b[1;33m,\u001b[0m \u001b[0moperator\u001b[0m\u001b[1;33m.\u001b[0m\u001b[0meq\u001b[0m\u001b[1;33m)\u001b[0m\u001b[1;33m\u001b[0m\u001b[1;33m\u001b[0m\u001b[0m\n\u001b[0m\u001b[0;32m     33\u001b[0m \u001b[1;33m\u001b[0m\u001b[0m\n\u001b[0;32m     34\u001b[0m     \u001b[1;33m@\u001b[0m\u001b[0munpack_zerodim_and_defer\u001b[0m\u001b[1;33m(\u001b[0m\u001b[1;34m\"__ne__\"\u001b[0m\u001b[1;33m)\u001b[0m\u001b[1;33m\u001b[0m\u001b[1;33m\u001b[0m\u001b[0m\n",
      "\u001b[1;32m~\\.conda\\envs\\py3.8\\lib\\site-packages\\pandas\\core\\series.py\u001b[0m in \u001b[0;36m_cmp_method\u001b[1;34m(self, other, op)\u001b[0m\n\u001b[0;32m   5494\u001b[0m \u001b[1;33m\u001b[0m\u001b[0m\n\u001b[0;32m   5495\u001b[0m         \u001b[1;32mif\u001b[0m \u001b[0misinstance\u001b[0m\u001b[1;33m(\u001b[0m\u001b[0mother\u001b[0m\u001b[1;33m,\u001b[0m \u001b[0mSeries\u001b[0m\u001b[1;33m)\u001b[0m \u001b[1;32mand\u001b[0m \u001b[1;32mnot\u001b[0m \u001b[0mself\u001b[0m\u001b[1;33m.\u001b[0m\u001b[0m_indexed_same\u001b[0m\u001b[1;33m(\u001b[0m\u001b[0mother\u001b[0m\u001b[1;33m)\u001b[0m\u001b[1;33m:\u001b[0m\u001b[1;33m\u001b[0m\u001b[1;33m\u001b[0m\u001b[0m\n\u001b[1;32m-> 5496\u001b[1;33m             \u001b[1;32mraise\u001b[0m \u001b[0mValueError\u001b[0m\u001b[1;33m(\u001b[0m\u001b[1;34m\"Can only compare identically-labeled Series objects\"\u001b[0m\u001b[1;33m)\u001b[0m\u001b[1;33m\u001b[0m\u001b[1;33m\u001b[0m\u001b[0m\n\u001b[0m\u001b[0;32m   5497\u001b[0m \u001b[1;33m\u001b[0m\u001b[0m\n\u001b[0;32m   5498\u001b[0m         \u001b[0mlvalues\u001b[0m \u001b[1;33m=\u001b[0m \u001b[0mself\u001b[0m\u001b[1;33m.\u001b[0m\u001b[0m_values\u001b[0m\u001b[1;33m\u001b[0m\u001b[1;33m\u001b[0m\u001b[0m\n",
      "\u001b[1;31mValueError\u001b[0m: Can only compare identically-labeled Series objects"
     ]
    }
   ],
   "source": [
    "answer =df.loc[df[df['년도']==2018].행복랭킹 == df[df['년도']==2019].행복랭킹]\n",
    "answer"
   ]
  },
  {
   "cell_type": "code",
   "execution_count": 130,
   "id": "ce460d65-fca5-4b60-808c-54fe29df6cfd",
   "metadata": {},
   "outputs": [
    {
     "data": {
      "text/plain": [
       "15"
      ]
     },
     "execution_count": 130,
     "metadata": {},
     "output_type": "execute_result"
    }
   ],
   "source": [
    "# 답\n",
    "answer = len(df[['행복랭킹','나라명']]) - len(df[['행복랭킹','나라명']].drop_duplicates())\n",
    "answer"
   ]
  },
  {
   "cell_type": "markdown",
   "id": "a8df3cbd-7193-4b97-969b-691e50de7d67",
   "metadata": {},
   "source": [
    "# Question **2019년도 데이터들만 추출하여 각변수간 상관계수를 구하고 내림차순으로 정렬한 후 상위 5개를 데이터 프레임으로 출력하라. 컬럼명은 v1,v2,corr으로 표시하라**"
   ]
  },
  {
   "cell_type": "code",
   "execution_count": 71,
   "id": "4f9c54e4-d343-4a43-8858-5dad7fd3ff65",
   "metadata": {},
   "outputs": [
    {
     "data": {
      "text/html": [
       "<div>\n",
       "<style scoped>\n",
       "    .dataframe tbody tr th:only-of-type {\n",
       "        vertical-align: middle;\n",
       "    }\n",
       "\n",
       "    .dataframe tbody tr th {\n",
       "        vertical-align: top;\n",
       "    }\n",
       "\n",
       "    .dataframe thead th {\n",
       "        text-align: right;\n",
       "    }\n",
       "</style>\n",
       "<table border=\"1\" class=\"dataframe\">\n",
       "  <thead>\n",
       "    <tr style=\"text-align: right;\">\n",
       "      <th></th>\n",
       "      <th>v1</th>\n",
       "      <th>v2</th>\n",
       "      <th>corr</th>\n",
       "    </tr>\n",
       "  </thead>\n",
       "  <tbody>\n",
       "    <tr>\n",
       "      <th>0</th>\n",
       "      <td>행복기대치</td>\n",
       "      <td>상대GDP</td>\n",
       "      <td>0.835462</td>\n",
       "    </tr>\n",
       "    <tr>\n",
       "      <th>1</th>\n",
       "      <td>상대GDP</td>\n",
       "      <td>점수</td>\n",
       "      <td>0.793883</td>\n",
       "    </tr>\n",
       "    <tr>\n",
       "      <th>2</th>\n",
       "      <td>행복기대치</td>\n",
       "      <td>점수</td>\n",
       "      <td>0.779883</td>\n",
       "    </tr>\n",
       "    <tr>\n",
       "      <th>3</th>\n",
       "      <td>사회적지원</td>\n",
       "      <td>점수</td>\n",
       "      <td>0.777058</td>\n",
       "    </tr>\n",
       "    <tr>\n",
       "      <th>4</th>\n",
       "      <td>사회적지원</td>\n",
       "      <td>상대GDP</td>\n",
       "      <td>0.754906</td>\n",
       "    </tr>\n",
       "  </tbody>\n",
       "</table>\n",
       "</div>"
      ],
      "text/plain": [
       "      v1     v2      corr\n",
       "0  행복기대치  상대GDP  0.835462\n",
       "1  상대GDP     점수  0.793883\n",
       "2  행복기대치     점수  0.779883\n",
       "3  사회적지원     점수  0.777058\n",
       "4  사회적지원  상대GDP  0.754906"
      ]
     },
     "metadata": {},
     "output_type": "display_data"
    }
   ],
   "source": [
    "#답\n",
    "zz = df[df.년도 ==2019].corr().unstack().to_frame().reset_index().dropna()\n",
    "\n",
    "result = zz[zz[0] !=1].sort_values(0,ascending=False).drop_duplicates(0)\n",
    "answer = result.head(5).reset_index(drop=True)\n",
    "answer.columns = ['v1','v2','corr']\n",
    "display(answer)"
   ]
  },
  {
   "cell_type": "code",
   "execution_count": 131,
   "id": "1962041b-996b-4205-9d49-28230ba0255c",
   "metadata": {},
   "outputs": [
    {
     "data": {
      "text/html": [
       "<div>\n",
       "<style scoped>\n",
       "    .dataframe tbody tr th:only-of-type {\n",
       "        vertical-align: middle;\n",
       "    }\n",
       "\n",
       "    .dataframe tbody tr th {\n",
       "        vertical-align: top;\n",
       "    }\n",
       "\n",
       "    .dataframe thead th {\n",
       "        text-align: right;\n",
       "    }\n",
       "</style>\n",
       "<table border=\"1\" class=\"dataframe\">\n",
       "  <thead>\n",
       "    <tr style=\"text-align: right;\">\n",
       "      <th></th>\n",
       "      <th>level_0</th>\n",
       "      <th>level_1</th>\n",
       "      <th>0</th>\n",
       "    </tr>\n",
       "  </thead>\n",
       "  <tbody>\n",
       "    <tr>\n",
       "      <th>0</th>\n",
       "      <td>행복랭킹</td>\n",
       "      <td>행복랭킹</td>\n",
       "      <td>1.000000</td>\n",
       "    </tr>\n",
       "    <tr>\n",
       "      <th>1</th>\n",
       "      <td>행복랭킹</td>\n",
       "      <td>점수</td>\n",
       "      <td>-0.989096</td>\n",
       "    </tr>\n",
       "    <tr>\n",
       "      <th>2</th>\n",
       "      <td>행복랭킹</td>\n",
       "      <td>상대GDP</td>\n",
       "      <td>-0.801947</td>\n",
       "    </tr>\n",
       "    <tr>\n",
       "      <th>3</th>\n",
       "      <td>행복랭킹</td>\n",
       "      <td>사회적지원</td>\n",
       "      <td>-0.767465</td>\n",
       "    </tr>\n",
       "    <tr>\n",
       "      <th>4</th>\n",
       "      <td>행복랭킹</td>\n",
       "      <td>행복기대치</td>\n",
       "      <td>-0.787411</td>\n",
       "    </tr>\n",
       "    <tr>\n",
       "      <th>...</th>\n",
       "      <td>...</td>\n",
       "      <td>...</td>\n",
       "      <td>...</td>\n",
       "    </tr>\n",
       "    <tr>\n",
       "      <th>59</th>\n",
       "      <td>부패에 대한인식</td>\n",
       "      <td>사회적지원</td>\n",
       "      <td>0.181899</td>\n",
       "    </tr>\n",
       "    <tr>\n",
       "      <th>60</th>\n",
       "      <td>부패에 대한인식</td>\n",
       "      <td>행복기대치</td>\n",
       "      <td>0.295283</td>\n",
       "    </tr>\n",
       "    <tr>\n",
       "      <th>61</th>\n",
       "      <td>부패에 대한인식</td>\n",
       "      <td>선택의 자유도</td>\n",
       "      <td>0.438843</td>\n",
       "    </tr>\n",
       "    <tr>\n",
       "      <th>62</th>\n",
       "      <td>부패에 대한인식</td>\n",
       "      <td>관대함</td>\n",
       "      <td>0.326538</td>\n",
       "    </tr>\n",
       "    <tr>\n",
       "      <th>63</th>\n",
       "      <td>부패에 대한인식</td>\n",
       "      <td>부패에 대한인식</td>\n",
       "      <td>1.000000</td>\n",
       "    </tr>\n",
       "  </tbody>\n",
       "</table>\n",
       "<p>64 rows × 3 columns</p>\n",
       "</div>"
      ],
      "text/plain": [
       "     level_0   level_1         0\n",
       "0       행복랭킹      행복랭킹  1.000000\n",
       "1       행복랭킹        점수 -0.989096\n",
       "2       행복랭킹     상대GDP -0.801947\n",
       "3       행복랭킹     사회적지원 -0.767465\n",
       "4       행복랭킹     행복기대치 -0.787411\n",
       "..       ...       ...       ...\n",
       "59  부패에 대한인식     사회적지원  0.181899\n",
       "60  부패에 대한인식     행복기대치  0.295283\n",
       "61  부패에 대한인식   선택의 자유도  0.438843\n",
       "62  부패에 대한인식       관대함  0.326538\n",
       "63  부패에 대한인식  부패에 대한인식  1.000000\n",
       "\n",
       "[64 rows x 3 columns]"
      ]
     },
     "metadata": {},
     "output_type": "display_data"
    },
    {
     "data": {
      "text/html": [
       "<div>\n",
       "<style scoped>\n",
       "    .dataframe tbody tr th:only-of-type {\n",
       "        vertical-align: middle;\n",
       "    }\n",
       "\n",
       "    .dataframe tbody tr th {\n",
       "        vertical-align: top;\n",
       "    }\n",
       "\n",
       "    .dataframe thead th {\n",
       "        text-align: right;\n",
       "    }\n",
       "</style>\n",
       "<table border=\"1\" class=\"dataframe\">\n",
       "  <thead>\n",
       "    <tr style=\"text-align: right;\">\n",
       "      <th></th>\n",
       "      <th>v1</th>\n",
       "      <th>v2</th>\n",
       "      <th>corr</th>\n",
       "    </tr>\n",
       "  </thead>\n",
       "  <tbody>\n",
       "    <tr>\n",
       "      <th>0</th>\n",
       "      <td>행복기대치</td>\n",
       "      <td>상대GDP</td>\n",
       "      <td>0.835462</td>\n",
       "    </tr>\n",
       "    <tr>\n",
       "      <th>1</th>\n",
       "      <td>상대GDP</td>\n",
       "      <td>행복기대치</td>\n",
       "      <td>0.835462</td>\n",
       "    </tr>\n",
       "    <tr>\n",
       "      <th>2</th>\n",
       "      <td>상대GDP</td>\n",
       "      <td>점수</td>\n",
       "      <td>0.793883</td>\n",
       "    </tr>\n",
       "    <tr>\n",
       "      <th>3</th>\n",
       "      <td>점수</td>\n",
       "      <td>상대GDP</td>\n",
       "      <td>0.793883</td>\n",
       "    </tr>\n",
       "    <tr>\n",
       "      <th>4</th>\n",
       "      <td>행복기대치</td>\n",
       "      <td>점수</td>\n",
       "      <td>0.779883</td>\n",
       "    </tr>\n",
       "  </tbody>\n",
       "</table>\n",
       "</div>"
      ],
      "text/plain": [
       "      v1     v2      corr\n",
       "0  행복기대치  상대GDP  0.835462\n",
       "1  상대GDP  행복기대치  0.835462\n",
       "2  상대GDP     점수  0.793883\n",
       "3     점수  상대GDP  0.793883\n",
       "4  행복기대치     점수  0.779883"
      ]
     },
     "execution_count": 131,
     "metadata": {},
     "output_type": "execute_result"
    }
   ],
   "source": [
    "target = df[df['년도']==2019].corr().stack().reset_index()\n",
    "display(target)\n",
    "target2 = target.loc[target[0]!=1].rename(columns = {\"level_0\":\"v1\",\"level_1\":\"v2\",0:\"corr\"}).sort_values(by=\"corr\",ascending=False).head(5).reset_index(drop=True)\n",
    "target2"
   ]
  },
  {
   "cell_type": "code",
   "execution_count": 59,
   "id": "0a1fa2eb-fb12-4da3-8e5c-876aea0a955a",
   "metadata": {},
   "outputs": [
    {
     "data": {
      "text/html": [
       "<div>\n",
       "<style scoped>\n",
       "    .dataframe tbody tr th:only-of-type {\n",
       "        vertical-align: middle;\n",
       "    }\n",
       "\n",
       "    .dataframe tbody tr th {\n",
       "        vertical-align: top;\n",
       "    }\n",
       "\n",
       "    .dataframe thead th {\n",
       "        text-align: right;\n",
       "    }\n",
       "</style>\n",
       "<table border=\"1\" class=\"dataframe\">\n",
       "  <thead>\n",
       "    <tr style=\"text-align: right;\">\n",
       "      <th></th>\n",
       "      <th>v1</th>\n",
       "      <th>v2</th>\n",
       "      <th>corr</th>\n",
       "    </tr>\n",
       "  </thead>\n",
       "  <tbody>\n",
       "    <tr>\n",
       "      <th>0</th>\n",
       "      <td>행복랭킹</td>\n",
       "      <td>행복랭킹</td>\n",
       "      <td>1.0</td>\n",
       "    </tr>\n",
       "    <tr>\n",
       "      <th>9</th>\n",
       "      <td>점수</td>\n",
       "      <td>점수</td>\n",
       "      <td>1.0</td>\n",
       "    </tr>\n",
       "    <tr>\n",
       "      <th>54</th>\n",
       "      <td>관대함</td>\n",
       "      <td>관대함</td>\n",
       "      <td>1.0</td>\n",
       "    </tr>\n",
       "    <tr>\n",
       "      <th>45</th>\n",
       "      <td>선택의 자유도</td>\n",
       "      <td>선택의 자유도</td>\n",
       "      <td>1.0</td>\n",
       "    </tr>\n",
       "    <tr>\n",
       "      <th>36</th>\n",
       "      <td>행복기대치</td>\n",
       "      <td>행복기대치</td>\n",
       "      <td>1.0</td>\n",
       "    </tr>\n",
       "  </tbody>\n",
       "</table>\n",
       "</div>"
      ],
      "text/plain": [
       "         v1       v2  corr\n",
       "0      행복랭킹     행복랭킹   1.0\n",
       "9        점수       점수   1.0\n",
       "54      관대함      관대함   1.0\n",
       "45  선택의 자유도  선택의 자유도   1.0\n",
       "36    행복기대치    행복기대치   1.0"
      ]
     },
     "execution_count": 59,
     "metadata": {},
     "output_type": "execute_result"
    }
   ],
   "source": [
    "target = df[df['년도']==2019].corr().dropna(how='all').dropna(axis=1)\n",
    "target2 = target.stack().reset_index().rename(columns={\"level_0\":\"v1\",\"level_1\":\"v2\",0: \"corr\"}).sort_values(by=\"corr\",ascending=False).head(5) \n",
    "#컬럼을 인덱스로 바꾼뒤 인덱스를 reset시켰다.\n",
    "target2"
   ]
  },
  {
   "cell_type": "markdown",
   "id": "3e572c20-57a4-4a13-82a1-083858d495b9",
   "metadata": {},
   "source": [
    "# Question **각 년도별 하위 행복점수의 하위 5개 국가의 평균 행복점수를 구하여라**"
   ]
  },
  {
   "cell_type": "code",
   "execution_count": 78,
   "id": "5a190b48-ed47-420a-bcd6-dc7e13990348",
   "metadata": {},
   "outputs": [
    {
     "data": {
      "text/plain": [
       "3.1604"
      ]
     },
     "execution_count": 78,
     "metadata": {},
     "output_type": "execute_result"
    }
   ],
   "source": [
    "answer = df.sort_values(['년도','점수']).groupby('년도').head(5).점수.mean()\n",
    "answer"
   ]
  },
  {
   "cell_type": "code",
   "execution_count": 92,
   "id": "04267a43-01ab-42df-89b9-48d7919a620e",
   "metadata": {},
   "outputs": [
    {
     "data": {
      "text/html": [
       "<div>\n",
       "<style scoped>\n",
       "    .dataframe tbody tr th:only-of-type {\n",
       "        vertical-align: middle;\n",
       "    }\n",
       "\n",
       "    .dataframe tbody tr th {\n",
       "        vertical-align: top;\n",
       "    }\n",
       "\n",
       "    .dataframe thead th {\n",
       "        text-align: right;\n",
       "    }\n",
       "</style>\n",
       "<table border=\"1\" class=\"dataframe\">\n",
       "  <thead>\n",
       "    <tr style=\"text-align: right;\">\n",
       "      <th></th>\n",
       "      <th>점수</th>\n",
       "    </tr>\n",
       "    <tr>\n",
       "      <th>년도</th>\n",
       "      <th></th>\n",
       "    </tr>\n",
       "  </thead>\n",
       "  <tbody>\n",
       "    <tr>\n",
       "      <th>2018</th>\n",
       "      <td>3.1800</td>\n",
       "    </tr>\n",
       "    <tr>\n",
       "      <th>2019</th>\n",
       "      <td>3.1408</td>\n",
       "    </tr>\n",
       "  </tbody>\n",
       "</table>\n",
       "</div>"
      ],
      "text/plain": [
       "          점수\n",
       "년도          \n",
       "2018  3.1800\n",
       "2019  3.1408"
      ]
     },
     "execution_count": 92,
     "metadata": {},
     "output_type": "execute_result"
    }
   ],
   "source": [
    "answer = df.sort_values(['년도','점수']).groupby('년도').head(5).groupby('년도').mean()[['점수']]\n",
    "answer"
   ]
  },
  {
   "cell_type": "code",
   "execution_count": 93,
   "id": "0decf061-5779-49d9-a999-3e2aee652374",
   "metadata": {},
   "outputs": [
    {
     "name": "stdout",
     "output_type": "stream",
     "text": [
      "          점수\n",
      "년도          \n",
      "2018  3.1800\n",
      "2019  3.1408\n"
     ]
    }
   ],
   "source": [
    "#답\n",
    "result = df.groupby('년도').tail(5).groupby('년도').mean()[['점수']]\n",
    "print(result)"
   ]
  },
  {
   "cell_type": "markdown",
   "id": "d25b2e8b-a221-4e77-893d-6f290b718700",
   "metadata": {},
   "source": [
    "# Question **2019년 데이터를 추출하고 해당데이터의 상대 GDP 평균 이상의 나라들과 평균 이하의 나라들의 행복점수 평균을 각각 구하고 그 차이값을 출력하라**"
   ]
  },
  {
   "cell_type": "code",
   "execution_count": 112,
   "id": "28311dd9-2bbd-4cf9-9bd4-ebf556063fbe",
   "metadata": {},
   "outputs": [
    {
     "name": "stdout",
     "output_type": "stream",
     "text": [
      "1.2000454545454546 0.523514705882353 0.6765307486631016\n"
     ]
    }
   ],
   "source": [
    "target = df[df['년도']==2019]\n",
    "upper = target[target.상대GDP >= target.상대GDP.mean()].상대GDP.mean()\n",
    "lower = target[target.상대GDP <= target.상대GDP.mean()].상대GDP.mean()\n",
    "answer = upper - lower\n",
    "print(upper,lower,answer)"
   ]
  },
  {
   "cell_type": "code",
   "execution_count": 113,
   "id": "e89808b1-9c96-4b5c-a203-fd9d39476685",
   "metadata": {},
   "outputs": [
    {
     "name": "stdout",
     "output_type": "stream",
     "text": [
      "1.4212148925537234\n"
     ]
    }
   ],
   "source": [
    "# 답은 이건데 내답이 맞는 것같다. 2019년도 데이터를 추출하지 않았기 때문에\n",
    "over = df[df.상대GDP >= df.상대GDP.mean()]['점수'].mean()\n",
    "under = df[df.상대GDP <= df.상대GDP.mean()]['점수'].mean()\n",
    "\n",
    "result= over - under\n",
    "print(result)"
   ]
  },
  {
   "cell_type": "markdown",
   "id": "53eb5cfc-71f7-46ec-ad3c-5f0f8effc98f",
   "metadata": {},
   "source": [
    "# Question **각년도의 부패에 대한인식을 내림차순 정렬했을때 상위 20개 국가의 부패에 대한인식의 평균을 구하여라**"
   ]
  },
  {
   "cell_type": "code",
   "execution_count": 90,
   "id": "c794a349-42d7-466d-948f-9a9b0e7d7ef8",
   "metadata": {},
   "outputs": [
    {
     "name": "stdout",
     "output_type": "stream",
     "text": [
      "      부패에 대한인식\n",
      "년도            \n",
      "2018    0.3267\n",
      "2019    0.3201\n"
     ]
    }
   ],
   "source": [
    "#답\n",
    "answer = df.sort_values(['년도','부패에 대한인식'],ascending=False).groupby('년도').head(20).groupby('년도').mean()[['부패에 대한인식']]\n",
    "print(answer)"
   ]
  },
  {
   "cell_type": "code",
   "execution_count": 99,
   "id": "ca32ec2f-ba9c-4929-a247-ffc1b15bcace",
   "metadata": {},
   "outputs": [
    {
     "data": {
      "text/plain": [
       "년도\n",
       "2018    0.3267\n",
       "2019    0.3201\n",
       "Name: 부패에 대한인식, dtype: float64"
      ]
     },
     "execution_count": 99,
     "metadata": {},
     "output_type": "execute_result"
    }
   ],
   "source": [
    "answer = df.sort_values(['년도','부패에 대한인식'],ascending=False).groupby('년도').head(20).groupby('년도').mean()['부패에 대한인식']\n",
    "answer"
   ]
  },
  {
   "cell_type": "code",
   "execution_count": 97,
   "id": "d4702874-dd2f-4f0d-a79b-335349f334ca",
   "metadata": {},
   "outputs": [
    {
     "data": {
      "text/html": [
       "<div>\n",
       "<style scoped>\n",
       "    .dataframe tbody tr th:only-of-type {\n",
       "        vertical-align: middle;\n",
       "    }\n",
       "\n",
       "    .dataframe tbody tr th {\n",
       "        vertical-align: top;\n",
       "    }\n",
       "\n",
       "    .dataframe thead th {\n",
       "        text-align: right;\n",
       "    }\n",
       "</style>\n",
       "<table border=\"1\" class=\"dataframe\">\n",
       "  <thead>\n",
       "    <tr style=\"text-align: right;\">\n",
       "      <th></th>\n",
       "      <th>부패에 대한인식</th>\n",
       "    </tr>\n",
       "    <tr>\n",
       "      <th>년도</th>\n",
       "      <th></th>\n",
       "    </tr>\n",
       "  </thead>\n",
       "  <tbody>\n",
       "    <tr>\n",
       "      <th>2018</th>\n",
       "      <td>0.276579</td>\n",
       "    </tr>\n",
       "    <tr>\n",
       "      <th>2019</th>\n",
       "      <td>0.259900</td>\n",
       "    </tr>\n",
       "  </tbody>\n",
       "</table>\n",
       "</div>"
      ],
      "text/plain": [
       "      부패에 대한인식\n",
       "년도            \n",
       "2018  0.276579\n",
       "2019  0.259900"
      ]
     },
     "execution_count": 97,
     "metadata": {},
     "output_type": "execute_result"
    }
   ],
   "source": [
    "answer = df.groupby('년도').head(20).groupby('년도').mean()[['부패에 대한인식']]\n",
    "answer"
   ]
  },
  {
   "cell_type": "code",
   "execution_count": 101,
   "id": "335e3ef1-98b5-4875-b59e-e7d96e0d4571",
   "metadata": {},
   "outputs": [
    {
     "data": {
      "text/html": [
       "<div>\n",
       "<style scoped>\n",
       "    .dataframe tbody tr th:only-of-type {\n",
       "        vertical-align: middle;\n",
       "    }\n",
       "\n",
       "    .dataframe tbody tr th {\n",
       "        vertical-align: top;\n",
       "    }\n",
       "\n",
       "    .dataframe thead th {\n",
       "        text-align: right;\n",
       "    }\n",
       "</style>\n",
       "<table border=\"1\" class=\"dataframe\">\n",
       "  <thead>\n",
       "    <tr style=\"text-align: right;\">\n",
       "      <th></th>\n",
       "      <th>부패에 대한인식</th>\n",
       "    </tr>\n",
       "    <tr>\n",
       "      <th>년도</th>\n",
       "      <th></th>\n",
       "    </tr>\n",
       "  </thead>\n",
       "  <tbody>\n",
       "    <tr>\n",
       "      <th>2018</th>\n",
       "      <td>0.276579</td>\n",
       "    </tr>\n",
       "    <tr>\n",
       "      <th>2019</th>\n",
       "      <td>0.259900</td>\n",
       "    </tr>\n",
       "  </tbody>\n",
       "</table>\n",
       "</div>"
      ],
      "text/plain": [
       "      부패에 대한인식\n",
       "년도            \n",
       "2018  0.276579\n",
       "2019  0.259900"
      ]
     },
     "execution_count": 101,
     "metadata": {},
     "output_type": "execute_result"
    }
   ],
   "source": [
    "answer = df.groupby('년도').head(20).sort_values(['년도','부패에 대한인식'],ascending=False).groupby('년도').mean()[['부패에 대한인식']]\n",
    "answer"
   ]
  },
  {
   "cell_type": "code",
   "execution_count": 102,
   "id": "d025cb94-5373-49c0-baaa-1cc5f39fb076",
   "metadata": {},
   "outputs": [
    {
     "data": {
      "text/html": [
       "<div>\n",
       "<style scoped>\n",
       "    .dataframe tbody tr th:only-of-type {\n",
       "        vertical-align: middle;\n",
       "    }\n",
       "\n",
       "    .dataframe tbody tr th {\n",
       "        vertical-align: top;\n",
       "    }\n",
       "\n",
       "    .dataframe thead th {\n",
       "        text-align: right;\n",
       "    }\n",
       "</style>\n",
       "<table border=\"1\" class=\"dataframe\">\n",
       "  <thead>\n",
       "    <tr style=\"text-align: right;\">\n",
       "      <th></th>\n",
       "      <th>행복랭킹</th>\n",
       "      <th>나라명</th>\n",
       "      <th>점수</th>\n",
       "      <th>상대GDP</th>\n",
       "      <th>사회적지원</th>\n",
       "      <th>행복기대치</th>\n",
       "      <th>선택의 자유도</th>\n",
       "      <th>관대함</th>\n",
       "      <th>부패에 대한인식</th>\n",
       "      <th>년도</th>\n",
       "    </tr>\n",
       "  </thead>\n",
       "  <tbody>\n",
       "    <tr>\n",
       "      <th>0</th>\n",
       "      <td>1</td>\n",
       "      <td>Finland</td>\n",
       "      <td>7.769</td>\n",
       "      <td>1.340</td>\n",
       "      <td>1.587</td>\n",
       "      <td>0.986</td>\n",
       "      <td>0.596</td>\n",
       "      <td>0.153</td>\n",
       "      <td>0.393</td>\n",
       "      <td>2019</td>\n",
       "    </tr>\n",
       "    <tr>\n",
       "      <th>1</th>\n",
       "      <td>2</td>\n",
       "      <td>Denmark</td>\n",
       "      <td>7.600</td>\n",
       "      <td>1.383</td>\n",
       "      <td>1.573</td>\n",
       "      <td>0.996</td>\n",
       "      <td>0.592</td>\n",
       "      <td>0.252</td>\n",
       "      <td>0.410</td>\n",
       "      <td>2019</td>\n",
       "    </tr>\n",
       "    <tr>\n",
       "      <th>2</th>\n",
       "      <td>3</td>\n",
       "      <td>Norway</td>\n",
       "      <td>7.554</td>\n",
       "      <td>1.488</td>\n",
       "      <td>1.582</td>\n",
       "      <td>1.028</td>\n",
       "      <td>0.603</td>\n",
       "      <td>0.271</td>\n",
       "      <td>0.341</td>\n",
       "      <td>2019</td>\n",
       "    </tr>\n",
       "    <tr>\n",
       "      <th>3</th>\n",
       "      <td>4</td>\n",
       "      <td>Iceland</td>\n",
       "      <td>7.494</td>\n",
       "      <td>1.380</td>\n",
       "      <td>1.624</td>\n",
       "      <td>1.026</td>\n",
       "      <td>0.591</td>\n",
       "      <td>0.354</td>\n",
       "      <td>0.118</td>\n",
       "      <td>2019</td>\n",
       "    </tr>\n",
       "    <tr>\n",
       "      <th>4</th>\n",
       "      <td>5</td>\n",
       "      <td>Netherlands</td>\n",
       "      <td>7.488</td>\n",
       "      <td>1.396</td>\n",
       "      <td>1.522</td>\n",
       "      <td>0.999</td>\n",
       "      <td>0.557</td>\n",
       "      <td>0.322</td>\n",
       "      <td>0.298</td>\n",
       "      <td>2019</td>\n",
       "    </tr>\n",
       "    <tr>\n",
       "      <th>156</th>\n",
       "      <td>1</td>\n",
       "      <td>Finland</td>\n",
       "      <td>7.632</td>\n",
       "      <td>1.305</td>\n",
       "      <td>1.592</td>\n",
       "      <td>0.874</td>\n",
       "      <td>0.681</td>\n",
       "      <td>0.202</td>\n",
       "      <td>0.393</td>\n",
       "      <td>2018</td>\n",
       "    </tr>\n",
       "    <tr>\n",
       "      <th>157</th>\n",
       "      <td>2</td>\n",
       "      <td>Norway</td>\n",
       "      <td>7.594</td>\n",
       "      <td>1.456</td>\n",
       "      <td>1.582</td>\n",
       "      <td>0.861</td>\n",
       "      <td>0.686</td>\n",
       "      <td>0.286</td>\n",
       "      <td>0.340</td>\n",
       "      <td>2018</td>\n",
       "    </tr>\n",
       "    <tr>\n",
       "      <th>158</th>\n",
       "      <td>3</td>\n",
       "      <td>Denmark</td>\n",
       "      <td>7.555</td>\n",
       "      <td>1.351</td>\n",
       "      <td>1.590</td>\n",
       "      <td>0.868</td>\n",
       "      <td>0.683</td>\n",
       "      <td>0.284</td>\n",
       "      <td>0.408</td>\n",
       "      <td>2018</td>\n",
       "    </tr>\n",
       "    <tr>\n",
       "      <th>159</th>\n",
       "      <td>4</td>\n",
       "      <td>Iceland</td>\n",
       "      <td>7.495</td>\n",
       "      <td>1.343</td>\n",
       "      <td>1.644</td>\n",
       "      <td>0.914</td>\n",
       "      <td>0.677</td>\n",
       "      <td>0.353</td>\n",
       "      <td>0.138</td>\n",
       "      <td>2018</td>\n",
       "    </tr>\n",
       "    <tr>\n",
       "      <th>160</th>\n",
       "      <td>5</td>\n",
       "      <td>Switzerland</td>\n",
       "      <td>7.487</td>\n",
       "      <td>1.420</td>\n",
       "      <td>1.549</td>\n",
       "      <td>0.927</td>\n",
       "      <td>0.660</td>\n",
       "      <td>0.256</td>\n",
       "      <td>0.357</td>\n",
       "      <td>2018</td>\n",
       "    </tr>\n",
       "  </tbody>\n",
       "</table>\n",
       "</div>"
      ],
      "text/plain": [
       "     행복랭킹          나라명     점수  상대GDP  사회적지원  행복기대치  선택의 자유도    관대함  부패에 대한인식  \\\n",
       "0       1      Finland  7.769  1.340  1.587  0.986    0.596  0.153     0.393   \n",
       "1       2      Denmark  7.600  1.383  1.573  0.996    0.592  0.252     0.410   \n",
       "2       3       Norway  7.554  1.488  1.582  1.028    0.603  0.271     0.341   \n",
       "3       4      Iceland  7.494  1.380  1.624  1.026    0.591  0.354     0.118   \n",
       "4       5  Netherlands  7.488  1.396  1.522  0.999    0.557  0.322     0.298   \n",
       "156     1      Finland  7.632  1.305  1.592  0.874    0.681  0.202     0.393   \n",
       "157     2       Norway  7.594  1.456  1.582  0.861    0.686  0.286     0.340   \n",
       "158     3      Denmark  7.555  1.351  1.590  0.868    0.683  0.284     0.408   \n",
       "159     4      Iceland  7.495  1.343  1.644  0.914    0.677  0.353     0.138   \n",
       "160     5  Switzerland  7.487  1.420  1.549  0.927    0.660  0.256     0.357   \n",
       "\n",
       "       년도  \n",
       "0    2019  \n",
       "1    2019  \n",
       "2    2019  \n",
       "3    2019  \n",
       "4    2019  \n",
       "156  2018  \n",
       "157  2018  \n",
       "158  2018  \n",
       "159  2018  \n",
       "160  2018  "
      ]
     },
     "execution_count": 102,
     "metadata": {},
     "output_type": "execute_result"
    }
   ],
   "source": [
    "answer = df.groupby('년도').head(5)\n",
    "answer"
   ]
  },
  {
   "cell_type": "code",
   "execution_count": 115,
   "id": "bd78687f-b63f-4100-9f7e-bb80fe3cc200",
   "metadata": {},
   "outputs": [
    {
     "data": {
      "text/html": [
       "<div>\n",
       "<style scoped>\n",
       "    .dataframe tbody tr th:only-of-type {\n",
       "        vertical-align: middle;\n",
       "    }\n",
       "\n",
       "    .dataframe tbody tr th {\n",
       "        vertical-align: top;\n",
       "    }\n",
       "\n",
       "    .dataframe thead th {\n",
       "        text-align: right;\n",
       "    }\n",
       "</style>\n",
       "<table border=\"1\" class=\"dataframe\">\n",
       "  <thead>\n",
       "    <tr style=\"text-align: right;\">\n",
       "      <th></th>\n",
       "      <th>행복랭킹</th>\n",
       "      <th>나라명</th>\n",
       "      <th>점수</th>\n",
       "      <th>상대GDP</th>\n",
       "      <th>사회적지원</th>\n",
       "      <th>행복기대치</th>\n",
       "      <th>선택의 자유도</th>\n",
       "      <th>관대함</th>\n",
       "      <th>부패에 대한인식</th>\n",
       "      <th>년도</th>\n",
       "    </tr>\n",
       "  </thead>\n",
       "  <tbody>\n",
       "    <tr>\n",
       "      <th>33</th>\n",
       "      <td>34</td>\n",
       "      <td>Singapore</td>\n",
       "      <td>6.262</td>\n",
       "      <td>1.572</td>\n",
       "      <td>1.463</td>\n",
       "      <td>1.141</td>\n",
       "      <td>0.556</td>\n",
       "      <td>0.271</td>\n",
       "      <td>0.453</td>\n",
       "      <td>2019</td>\n",
       "    </tr>\n",
       "    <tr>\n",
       "      <th>151</th>\n",
       "      <td>152</td>\n",
       "      <td>Rwanda</td>\n",
       "      <td>3.334</td>\n",
       "      <td>0.359</td>\n",
       "      <td>0.711</td>\n",
       "      <td>0.614</td>\n",
       "      <td>0.555</td>\n",
       "      <td>0.217</td>\n",
       "      <td>0.411</td>\n",
       "      <td>2019</td>\n",
       "    </tr>\n",
       "    <tr>\n",
       "      <th>1</th>\n",
       "      <td>2</td>\n",
       "      <td>Denmark</td>\n",
       "      <td>7.600</td>\n",
       "      <td>1.383</td>\n",
       "      <td>1.573</td>\n",
       "      <td>0.996</td>\n",
       "      <td>0.592</td>\n",
       "      <td>0.252</td>\n",
       "      <td>0.410</td>\n",
       "      <td>2019</td>\n",
       "    </tr>\n",
       "    <tr>\n",
       "      <th>0</th>\n",
       "      <td>1</td>\n",
       "      <td>Finland</td>\n",
       "      <td>7.769</td>\n",
       "      <td>1.340</td>\n",
       "      <td>1.587</td>\n",
       "      <td>0.986</td>\n",
       "      <td>0.596</td>\n",
       "      <td>0.153</td>\n",
       "      <td>0.393</td>\n",
       "      <td>2019</td>\n",
       "    </tr>\n",
       "    <tr>\n",
       "      <th>7</th>\n",
       "      <td>8</td>\n",
       "      <td>New Zealand</td>\n",
       "      <td>7.307</td>\n",
       "      <td>1.303</td>\n",
       "      <td>1.557</td>\n",
       "      <td>1.026</td>\n",
       "      <td>0.585</td>\n",
       "      <td>0.330</td>\n",
       "      <td>0.380</td>\n",
       "      <td>2019</td>\n",
       "    </tr>\n",
       "    <tr>\n",
       "      <th>189</th>\n",
       "      <td>34</td>\n",
       "      <td>Singapore</td>\n",
       "      <td>6.343</td>\n",
       "      <td>1.529</td>\n",
       "      <td>1.451</td>\n",
       "      <td>1.008</td>\n",
       "      <td>0.631</td>\n",
       "      <td>0.261</td>\n",
       "      <td>0.457</td>\n",
       "      <td>2018</td>\n",
       "    </tr>\n",
       "    <tr>\n",
       "      <th>306</th>\n",
       "      <td>151</td>\n",
       "      <td>Rwanda</td>\n",
       "      <td>3.408</td>\n",
       "      <td>0.332</td>\n",
       "      <td>0.896</td>\n",
       "      <td>0.400</td>\n",
       "      <td>0.636</td>\n",
       "      <td>0.200</td>\n",
       "      <td>0.444</td>\n",
       "      <td>2018</td>\n",
       "    </tr>\n",
       "    <tr>\n",
       "      <th>158</th>\n",
       "      <td>3</td>\n",
       "      <td>Denmark</td>\n",
       "      <td>7.555</td>\n",
       "      <td>1.351</td>\n",
       "      <td>1.590</td>\n",
       "      <td>0.868</td>\n",
       "      <td>0.683</td>\n",
       "      <td>0.284</td>\n",
       "      <td>0.408</td>\n",
       "      <td>2018</td>\n",
       "    </tr>\n",
       "    <tr>\n",
       "      <th>156</th>\n",
       "      <td>1</td>\n",
       "      <td>Finland</td>\n",
       "      <td>7.632</td>\n",
       "      <td>1.305</td>\n",
       "      <td>1.592</td>\n",
       "      <td>0.874</td>\n",
       "      <td>0.681</td>\n",
       "      <td>0.202</td>\n",
       "      <td>0.393</td>\n",
       "      <td>2018</td>\n",
       "    </tr>\n",
       "    <tr>\n",
       "      <th>163</th>\n",
       "      <td>8</td>\n",
       "      <td>New Zealand</td>\n",
       "      <td>7.324</td>\n",
       "      <td>1.268</td>\n",
       "      <td>1.601</td>\n",
       "      <td>0.876</td>\n",
       "      <td>0.669</td>\n",
       "      <td>0.365</td>\n",
       "      <td>0.389</td>\n",
       "      <td>2018</td>\n",
       "    </tr>\n",
       "  </tbody>\n",
       "</table>\n",
       "</div>"
      ],
      "text/plain": [
       "     행복랭킹          나라명     점수  상대GDP  사회적지원  행복기대치  선택의 자유도    관대함  부패에 대한인식  \\\n",
       "33     34    Singapore  6.262  1.572  1.463  1.141    0.556  0.271     0.453   \n",
       "151   152       Rwanda  3.334  0.359  0.711  0.614    0.555  0.217     0.411   \n",
       "1       2      Denmark  7.600  1.383  1.573  0.996    0.592  0.252     0.410   \n",
       "0       1      Finland  7.769  1.340  1.587  0.986    0.596  0.153     0.393   \n",
       "7       8  New Zealand  7.307  1.303  1.557  1.026    0.585  0.330     0.380   \n",
       "189    34    Singapore  6.343  1.529  1.451  1.008    0.631  0.261     0.457   \n",
       "306   151       Rwanda  3.408  0.332  0.896  0.400    0.636  0.200     0.444   \n",
       "158     3      Denmark  7.555  1.351  1.590  0.868    0.683  0.284     0.408   \n",
       "156     1      Finland  7.632  1.305  1.592  0.874    0.681  0.202     0.393   \n",
       "163     8  New Zealand  7.324  1.268  1.601  0.876    0.669  0.365     0.389   \n",
       "\n",
       "       년도  \n",
       "33   2019  \n",
       "151  2019  \n",
       "1    2019  \n",
       "0    2019  \n",
       "7    2019  \n",
       "189  2018  \n",
       "306  2018  \n",
       "158  2018  \n",
       "156  2018  \n",
       "163  2018  "
      ]
     },
     "execution_count": 115,
     "metadata": {},
     "output_type": "execute_result"
    }
   ],
   "source": [
    "answer = df.sort_values(['년도','부패에 대한인식'],ascending=False).groupby('년도').head(5)\n",
    "answer"
   ]
  },
  {
   "cell_type": "markdown",
   "id": "9d1a33b2-a816-482e-8e52-9bc8734138f1",
   "metadata": {},
   "source": [
    "# Question **2018년도 행복랭킹 50위 이내에 포함됐다가 2019년 50위 밖으로 밀려난 국가의 숫자를 구하여라**"
   ]
  },
  {
   "cell_type": "code",
   "execution_count": 128,
   "id": "43f8f98a-6fd4-4104-8372-a622c7c656b7",
   "metadata": {},
   "outputs": [
    {
     "name": "stdout",
     "output_type": "stream",
     "text": [
      "4\n"
     ]
    }
   ],
   "source": [
    "#답\n",
    "result = set(df[(df.년도==2018) & (df.행복랭킹 <=50)].나라명)  -set(df[(df.년도==2019) & (df.행복랭킹 <=50)].나라명)\n",
    "answer = len(result)\n",
    "print(answer)"
   ]
  },
  {
   "cell_type": "code",
   "execution_count": 127,
   "id": "df9427e8-2dd8-4ae2-bc6f-fdb4e3f9041e",
   "metadata": {},
   "outputs": [
    {
     "name": "stdout",
     "output_type": "stream",
     "text": [
      "{'Mexico', 'El Salvador', 'Taiwan', 'Czech Republic', 'United Kingdom', 'Iceland', 'United States', 'Netherlands', 'Luxembourg', 'Ecuador', 'Malaysia', 'Lithuania', 'Poland', 'Belize', 'Kuwait', 'Costa Rica', 'Belgium', 'Malta', 'Brazil', 'Israel', 'Norway', 'Trinidad & Tobago', 'Colombia', 'Nicaragua', 'Guatemala', 'Thailand', 'Australia', 'Sweden', 'Ireland', 'Austria', 'Italy', 'France', 'United Arab Emirates', 'Canada', 'Argentina', 'Saudi Arabia', 'Singapore', 'Slovakia', 'Panama', 'Spain', 'New Zealand', 'Uruguay', 'Denmark', 'Germany', 'Switzerland', 'Qatar', 'Bahrain', 'Finland', 'Uzbekistan', 'Chile'} \n",
      " {'Mexico', 'El Salvador', 'Taiwan', 'Czech Republic', 'United Kingdom', 'Iceland', 'United States', 'Netherlands', 'Luxembourg', 'Lithuania', 'Ecuador', 'Poland', 'Kosovo', 'Costa Rica', 'Belgium', 'Malta', 'Brazil', 'Israel', 'Norway', 'Trinidad & Tobago', 'Colombia', 'Nicaragua', 'Guatemala', 'Australia', 'Sweden', 'Ireland', 'Austria', 'Italy', 'France', 'United Arab Emirates', 'Canada', 'Saudi Arabia', 'Argentina', 'Romania', 'Singapore', 'Slovakia', 'Slovenia', 'Panama', 'Cyprus', 'Spain', 'New Zealand', 'Qatar', 'Denmark', 'Germany', 'Switzerland', 'Uruguay', 'Bahrain', 'Finland', 'Uzbekistan', 'Chile'}\n",
      "\t\n",
      "{'Thailand', 'Belize', 'Kuwait', 'Malaysia'}\n"
     ]
    }
   ],
   "source": [
    "a2018 = set(df[(df.년도==2018) & (df.행복랭킹 <=50)].나라명) \n",
    "a2019 = set(df[(df.년도==2019) & (df.행복랭킹 <=50)].나라명)\n",
    "print(a2018, \"\\n\", a2019)\n",
    "print(\"\\t\")\n",
    "print(a2018-a2019)"
   ]
  },
  {
   "cell_type": "markdown",
   "id": "0bfe35c1-9a31-47f3-bcd4-9748490a9ad9",
   "metadata": {},
   "source": [
    "# Question **2018년,2019년 모두 기록이 있는 나라들 중 년도별 행복점수가 가장 증가한 나라와 그 증가 수치는?**"
   ]
  },
  {
   "cell_type": "code",
   "execution_count": null,
   "id": "ee7b854e-b94d-464b-a6de-fc7cd16c8043",
   "metadata": {},
   "outputs": [],
   "source": []
  },
  {
   "cell_type": "code",
   "execution_count": 129,
   "id": "f074e39c-3a77-4d64-889e-80581d737630",
   "metadata": {},
   "outputs": [
    {
     "data": {
      "text/plain": [
       "점수    0.87\n",
       "Name: Burundi, dtype: float64"
      ]
     },
     "execution_count": 129,
     "metadata": {},
     "output_type": "execute_result"
    }
   ],
   "source": [
    "#답\n",
    "count = df.나라명.value_counts()\n",
    "target = count[count>=2].index\n",
    "\n",
    "df2 =df.copy()\n",
    "multiple = df2[df2.나라명.isin(target)].reset_index(drop=True)\n",
    "multiple.loc[multiple['년도']==2018,'점수'] = multiple[multiple.년도 ==2018]['점수'].values * (-1)\n",
    "result = multiple.groupby('나라명').sum()['점수'].sort_values().to_frame().iloc[-1]\n",
    "result"
   ]
  },
  {
   "cell_type": "code",
   "execution_count": null,
   "id": "6c445c30-31aa-4a26-b319-88afe245023a",
   "metadata": {},
   "outputs": [],
   "source": []
  }
 ],
 "metadata": {
  "kernelspec": {
   "display_name": "Python 3 (ipykernel)",
   "language": "python",
   "name": "python3"
  },
  "language_info": {
   "codemirror_mode": {
    "name": "ipython",
    "version": 3
   },
   "file_extension": ".py",
   "mimetype": "text/x-python",
   "name": "python",
   "nbconvert_exporter": "python",
   "pygments_lexer": "ipython3",
   "version": "3.8.12"
  }
 },
 "nbformat": 4,
 "nbformat_minor": 5
}
