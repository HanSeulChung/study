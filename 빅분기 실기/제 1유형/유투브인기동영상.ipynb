{
 "cells": [
  {
   "cell_type": "markdown",
   "id": "c6157025-351d-4733-a717-37a9b5db2e94",
   "metadata": {
    "tags": []
   },
   "source": [
    "# 유투브인기동영상"
   ]
  },
  {
   "cell_type": "markdown",
   "id": "00c22ff0-bd15-4457-beb5-adefdc062769",
   "metadata": {},
   "source": [
    "dataurl : https://raw.githubusercontent.com/Datamanim/datarepo/main/youtube/youtube.csv"
   ]
  },
  {
   "cell_type": "markdown",
   "id": "6a449474-00c6-4395-bf59-02fde39d933d",
   "metadata": {},
   "source": [
    "Question 인기동영상 제작횟수가 많은 채널 상위 10개명을 출력하라 (날짜기준, 중복포함)\n",
    "\n",
    "Question 논란으로 인기동영상이 된 케이스를 확인하고 싶다. dislikes수가 like 수보다 높은 동영상을 제작한 채널을 모두 출력하라\n",
    "\n",
    "Question 채널명을 바꾼 케이스가 있는지 확인하고 싶다. channelId의 경우 고유값이므로 이를 통해 채널명을 한번이라도 바꾼 채널의 갯수를 구하여라\n",
    "\n",
    "Question 일요일에 인기있었던 영상들중 가장많은 영상 종류(categoryId)는 무엇인가?\n",
    "\n",
    "Question 각 요일별 인기 영상들의 categoryId는 각각 몇개 씩인지 하나의 데이터 프레임으로 표현하라\n",
    "\n",
    "Question 댓글의 수로 (comment_count) 영상 반응에 대한 판단을 할 수 있다. viewcount대비 댓글수가 가장 높은 영상을 확인하라 (view_count값이 0인 경우는 제외한다)\n",
    "\n",
    "Question 댓글의 수로 (comment_count) 영상 반응에 대한 판단을 할 수 있다.viewcount대비 댓글수가 가장 낮은 영상을 확인하라 (view_counts, ratio값이 0인경우는 제외한다.)\n",
    "\n",
    "Question like 대비 dislike의 수가 가장 적은 영상은 무엇인가? (like, dislike 값이 0인경우는 제외한다)\n",
    "\n",
    "Question 가장많은 트렌드 영상을 제작한 채널의 이름은 무엇인가? (날짜기준, 중복포함)\n",
    "\n",
    "Question 20회(20일)이상 인기동영상 리스트에 포함된 동영상의 숫자는?"
   ]
  },
  {
   "cell_type": "code",
   "execution_count": 9,
   "id": "9209c2c6-26ab-4320-927e-7cf14bfed052",
   "metadata": {},
   "outputs": [
    {
     "data": {
      "text/html": [
       "<div>\n",
       "<style scoped>\n",
       "    .dataframe tbody tr th:only-of-type {\n",
       "        vertical-align: middle;\n",
       "    }\n",
       "\n",
       "    .dataframe tbody tr th {\n",
       "        vertical-align: top;\n",
       "    }\n",
       "\n",
       "    .dataframe thead th {\n",
       "        text-align: right;\n",
       "    }\n",
       "</style>\n",
       "<table border=\"1\" class=\"dataframe\">\n",
       "  <thead>\n",
       "    <tr style=\"text-align: right;\">\n",
       "      <th></th>\n",
       "      <th>Unnamed: 0</th>\n",
       "      <th>title</th>\n",
       "      <th>channelTitle</th>\n",
       "      <th>categoryId</th>\n",
       "      <th>view_count</th>\n",
       "      <th>likes</th>\n",
       "      <th>dislikes</th>\n",
       "      <th>comment_count</th>\n",
       "      <th>channelId</th>\n",
       "      <th>trending_date2</th>\n",
       "    </tr>\n",
       "  </thead>\n",
       "  <tbody>\n",
       "    <tr>\n",
       "      <th>0</th>\n",
       "      <td>0</td>\n",
       "      <td>[신병] 물자창고</td>\n",
       "      <td>장삐쭈</td>\n",
       "      <td>23</td>\n",
       "      <td>1893473</td>\n",
       "      <td>38249</td>\n",
       "      <td>730</td>\n",
       "      <td>8595</td>\n",
       "      <td>UChbE5OZQ6dRHECsX0tEPEZQ</td>\n",
       "      <td>2021-01-01</td>\n",
       "    </tr>\n",
       "    <tr>\n",
       "      <th>1</th>\n",
       "      <td>1</td>\n",
       "      <td>RAIN(비) - 나로 바꾸자 Switch to me (duet with JYP) MV</td>\n",
       "      <td>RAIN's Official Channel</td>\n",
       "      <td>10</td>\n",
       "      <td>2600864</td>\n",
       "      <td>0</td>\n",
       "      <td>0</td>\n",
       "      <td>20129</td>\n",
       "      <td>UCxXgIeE5hxWxHG6dz9Scg2w</td>\n",
       "      <td>2021-01-01</td>\n",
       "    </tr>\n",
       "    <tr>\n",
       "      <th>2</th>\n",
       "      <td>2</td>\n",
       "      <td>2020년 제야의 종 온라인 타종행사 | 보신각 현장 행사는 진행하지 않습니다.</td>\n",
       "      <td>서울시 · Seoul</td>\n",
       "      <td>29</td>\n",
       "      <td>347049</td>\n",
       "      <td>3564</td>\n",
       "      <td>120</td>\n",
       "      <td>178</td>\n",
       "      <td>UCZUPZW5idAxYp-Asj__lVAA</td>\n",
       "      <td>2021-01-01</td>\n",
       "    </tr>\n",
       "    <tr>\n",
       "      <th>3</th>\n",
       "      <td>3</td>\n",
       "      <td>고기남자의 칠면조 파티</td>\n",
       "      <td>고기남자 MeatMan</td>\n",
       "      <td>26</td>\n",
       "      <td>528458</td>\n",
       "      <td>15372</td>\n",
       "      <td>280</td>\n",
       "      <td>3470</td>\n",
       "      <td>UCT3CumbFIJiW33uq0UI3zlg</td>\n",
       "      <td>2021-01-01</td>\n",
       "    </tr>\n",
       "    <tr>\n",
       "      <th>4</th>\n",
       "      <td>4</td>\n",
       "      <td>골목 3mc를 분노하게 만든 마음고생이 심했을 공릉 백반집 사장님의 푸념?! [예능...</td>\n",
       "      <td>스브스밥집</td>\n",
       "      <td>24</td>\n",
       "      <td>494904</td>\n",
       "      <td>3918</td>\n",
       "      <td>111</td>\n",
       "      <td>3142</td>\n",
       "      <td>UCdWgRSfttvDucq4ApcCg5Mw</td>\n",
       "      <td>2021-01-01</td>\n",
       "    </tr>\n",
       "  </tbody>\n",
       "</table>\n",
       "</div>"
      ],
      "text/plain": [
       "   Unnamed: 0                                              title  \\\n",
       "0           0                                          [신병] 물자창고   \n",
       "1           1   RAIN(비) - 나로 바꾸자 Switch to me (duet with JYP) MV   \n",
       "2           2       2020년 제야의 종 온라인 타종행사 | 보신각 현장 행사는 진행하지 않습니다.   \n",
       "3           3                                       고기남자의 칠면조 파티   \n",
       "4           4  골목 3mc를 분노하게 만든 마음고생이 심했을 공릉 백반집 사장님의 푸념?! [예능...   \n",
       "\n",
       "              channelTitle  categoryId  view_count  likes  dislikes  \\\n",
       "0                      장삐쭈          23     1893473  38249       730   \n",
       "1  RAIN's Official Channel          10     2600864      0         0   \n",
       "2              서울시 · Seoul          29      347049   3564       120   \n",
       "3             고기남자 MeatMan          26      528458  15372       280   \n",
       "4                    스브스밥집          24      494904   3918       111   \n",
       "\n",
       "   comment_count                 channelId trending_date2  \n",
       "0           8595  UChbE5OZQ6dRHECsX0tEPEZQ     2021-01-01  \n",
       "1          20129  UCxXgIeE5hxWxHG6dz9Scg2w     2021-01-01  \n",
       "2            178  UCZUPZW5idAxYp-Asj__lVAA     2021-01-01  \n",
       "3           3470  UCT3CumbFIJiW33uq0UI3zlg     2021-01-01  \n",
       "4           3142  UCdWgRSfttvDucq4ApcCg5Mw     2021-01-01  "
      ]
     },
     "execution_count": 9,
     "metadata": {},
     "output_type": "execute_result"
    }
   ],
   "source": [
    "import pandas as pd\n",
    "df = pd.read_csv(\"https://raw.githubusercontent.com/Datamanim/datarepo/main/youtube/youtube.csv\")\n",
    "df.head()"
   ]
  },
  {
   "cell_type": "code",
   "execution_count": 19,
   "id": "64bf5d06-6f0b-484b-8168-fdde1ee18a4c",
   "metadata": {},
   "outputs": [
    {
     "data": {
      "text/html": [
       "<div>\n",
       "<style scoped>\n",
       "    .dataframe tbody tr th:only-of-type {\n",
       "        vertical-align: middle;\n",
       "    }\n",
       "\n",
       "    .dataframe tbody tr th {\n",
       "        vertical-align: top;\n",
       "    }\n",
       "\n",
       "    .dataframe thead th {\n",
       "        text-align: right;\n",
       "    }\n",
       "</style>\n",
       "<table border=\"1\" class=\"dataframe\">\n",
       "  <thead>\n",
       "    <tr style=\"text-align: right;\">\n",
       "      <th></th>\n",
       "      <th>title</th>\n",
       "      <th>channelTitle</th>\n",
       "      <th>categoryId</th>\n",
       "      <th>view_count</th>\n",
       "      <th>likes</th>\n",
       "      <th>dislikes</th>\n",
       "      <th>comment_count</th>\n",
       "      <th>channelId</th>\n",
       "      <th>trending_date2</th>\n",
       "    </tr>\n",
       "  </thead>\n",
       "  <tbody>\n",
       "    <tr>\n",
       "      <th>0</th>\n",
       "      <td>[신병] 물자창고</td>\n",
       "      <td>장삐쭈</td>\n",
       "      <td>23</td>\n",
       "      <td>1893473</td>\n",
       "      <td>38249</td>\n",
       "      <td>730</td>\n",
       "      <td>8595</td>\n",
       "      <td>UChbE5OZQ6dRHECsX0tEPEZQ</td>\n",
       "      <td>2021-01-01</td>\n",
       "    </tr>\n",
       "    <tr>\n",
       "      <th>1</th>\n",
       "      <td>RAIN(비) - 나로 바꾸자 Switch to me (duet with JYP) MV</td>\n",
       "      <td>RAIN's Official Channel</td>\n",
       "      <td>10</td>\n",
       "      <td>2600864</td>\n",
       "      <td>0</td>\n",
       "      <td>0</td>\n",
       "      <td>20129</td>\n",
       "      <td>UCxXgIeE5hxWxHG6dz9Scg2w</td>\n",
       "      <td>2021-01-01</td>\n",
       "    </tr>\n",
       "    <tr>\n",
       "      <th>2</th>\n",
       "      <td>2020년 제야의 종 온라인 타종행사 | 보신각 현장 행사는 진행하지 않습니다.</td>\n",
       "      <td>서울시 · Seoul</td>\n",
       "      <td>29</td>\n",
       "      <td>347049</td>\n",
       "      <td>3564</td>\n",
       "      <td>120</td>\n",
       "      <td>178</td>\n",
       "      <td>UCZUPZW5idAxYp-Asj__lVAA</td>\n",
       "      <td>2021-01-01</td>\n",
       "    </tr>\n",
       "  </tbody>\n",
       "</table>\n",
       "</div>"
      ],
      "text/plain": [
       "                                              title             channelTitle  \\\n",
       "0                                         [신병] 물자창고                      장삐쭈   \n",
       "1  RAIN(비) - 나로 바꾸자 Switch to me (duet with JYP) MV  RAIN's Official Channel   \n",
       "2      2020년 제야의 종 온라인 타종행사 | 보신각 현장 행사는 진행하지 않습니다.              서울시 · Seoul   \n",
       "\n",
       "   categoryId  view_count  likes  dislikes  comment_count  \\\n",
       "0          23     1893473  38249       730           8595   \n",
       "1          10     2600864      0         0          20129   \n",
       "2          29      347049   3564       120            178   \n",
       "\n",
       "                  channelId trending_date2  \n",
       "0  UChbE5OZQ6dRHECsX0tEPEZQ     2021-01-01  \n",
       "1  UCxXgIeE5hxWxHG6dz9Scg2w     2021-01-01  \n",
       "2  UCZUPZW5idAxYp-Asj__lVAA     2021-01-01  "
      ]
     },
     "execution_count": 19,
     "metadata": {},
     "output_type": "execute_result"
    }
   ],
   "source": [
    "df1= df.drop(columns=['Unnamed: 0']) #, axis=1 )\n",
    "df1.head(3)"
   ]
  },
  {
   "cell_type": "code",
   "execution_count": 20,
   "id": "6d161d4a-cca4-475f-b4d6-c0944af3d2a2",
   "metadata": {},
   "outputs": [
    {
     "data": {
      "text/html": [
       "<div>\n",
       "<style scoped>\n",
       "    .dataframe tbody tr th:only-of-type {\n",
       "        vertical-align: middle;\n",
       "    }\n",
       "\n",
       "    .dataframe tbody tr th {\n",
       "        vertical-align: top;\n",
       "    }\n",
       "\n",
       "    .dataframe thead th {\n",
       "        text-align: right;\n",
       "    }\n",
       "</style>\n",
       "<table border=\"1\" class=\"dataframe\">\n",
       "  <thead>\n",
       "    <tr style=\"text-align: right;\">\n",
       "      <th></th>\n",
       "      <th>title</th>\n",
       "      <th>channelTitle</th>\n",
       "      <th>categoryId</th>\n",
       "      <th>view_count</th>\n",
       "      <th>likes</th>\n",
       "      <th>dislikes</th>\n",
       "      <th>comment_count</th>\n",
       "      <th>channelId</th>\n",
       "      <th>trending_date2</th>\n",
       "    </tr>\n",
       "  </thead>\n",
       "  <tbody>\n",
       "    <tr>\n",
       "      <th>0</th>\n",
       "      <td>[신병] 물자창고</td>\n",
       "      <td>장삐쭈</td>\n",
       "      <td>23</td>\n",
       "      <td>1893473</td>\n",
       "      <td>38249</td>\n",
       "      <td>730</td>\n",
       "      <td>8595</td>\n",
       "      <td>UChbE5OZQ6dRHECsX0tEPEZQ</td>\n",
       "      <td>2021-01-01</td>\n",
       "    </tr>\n",
       "    <tr>\n",
       "      <th>1</th>\n",
       "      <td>RAIN(비) - 나로 바꾸자 Switch to me (duet with JYP) MV</td>\n",
       "      <td>RAIN's Official Channel</td>\n",
       "      <td>10</td>\n",
       "      <td>2600864</td>\n",
       "      <td>0</td>\n",
       "      <td>0</td>\n",
       "      <td>20129</td>\n",
       "      <td>UCxXgIeE5hxWxHG6dz9Scg2w</td>\n",
       "      <td>2021-01-01</td>\n",
       "    </tr>\n",
       "    <tr>\n",
       "      <th>2</th>\n",
       "      <td>2020년 제야의 종 온라인 타종행사 | 보신각 현장 행사는 진행하지 않습니다.</td>\n",
       "      <td>서울시 · Seoul</td>\n",
       "      <td>29</td>\n",
       "      <td>347049</td>\n",
       "      <td>3564</td>\n",
       "      <td>120</td>\n",
       "      <td>178</td>\n",
       "      <td>UCZUPZW5idAxYp-Asj__lVAA</td>\n",
       "      <td>2021-01-01</td>\n",
       "    </tr>\n",
       "    <tr>\n",
       "      <th>3</th>\n",
       "      <td>고기남자의 칠면조 파티</td>\n",
       "      <td>고기남자 MeatMan</td>\n",
       "      <td>26</td>\n",
       "      <td>528458</td>\n",
       "      <td>15372</td>\n",
       "      <td>280</td>\n",
       "      <td>3470</td>\n",
       "      <td>UCT3CumbFIJiW33uq0UI3zlg</td>\n",
       "      <td>2021-01-01</td>\n",
       "    </tr>\n",
       "    <tr>\n",
       "      <th>4</th>\n",
       "      <td>골목 3mc를 분노하게 만든 마음고생이 심했을 공릉 백반집 사장님의 푸념?! [예능...</td>\n",
       "      <td>스브스밥집</td>\n",
       "      <td>24</td>\n",
       "      <td>494904</td>\n",
       "      <td>3918</td>\n",
       "      <td>111</td>\n",
       "      <td>3142</td>\n",
       "      <td>UCdWgRSfttvDucq4ApcCg5Mw</td>\n",
       "      <td>2021-01-01</td>\n",
       "    </tr>\n",
       "  </tbody>\n",
       "</table>\n",
       "</div>"
      ],
      "text/plain": [
       "                                               title             channelTitle  \\\n",
       "0                                          [신병] 물자창고                      장삐쭈   \n",
       "1   RAIN(비) - 나로 바꾸자 Switch to me (duet with JYP) MV  RAIN's Official Channel   \n",
       "2       2020년 제야의 종 온라인 타종행사 | 보신각 현장 행사는 진행하지 않습니다.              서울시 · Seoul   \n",
       "3                                       고기남자의 칠면조 파티             고기남자 MeatMan   \n",
       "4  골목 3mc를 분노하게 만든 마음고생이 심했을 공릉 백반집 사장님의 푸념?! [예능...                    스브스밥집   \n",
       "\n",
       "   categoryId  view_count  likes  dislikes  comment_count  \\\n",
       "0          23     1893473  38249       730           8595   \n",
       "1          10     2600864      0         0          20129   \n",
       "2          29      347049   3564       120            178   \n",
       "3          26      528458  15372       280           3470   \n",
       "4          24      494904   3918       111           3142   \n",
       "\n",
       "                  channelId trending_date2  \n",
       "0  UChbE5OZQ6dRHECsX0tEPEZQ     2021-01-01  \n",
       "1  UCxXgIeE5hxWxHG6dz9Scg2w     2021-01-01  \n",
       "2  UCZUPZW5idAxYp-Asj__lVAA     2021-01-01  \n",
       "3  UCT3CumbFIJiW33uq0UI3zlg     2021-01-01  \n",
       "4  UCdWgRSfttvDucq4ApcCg5Mw     2021-01-01  "
      ]
     },
     "execution_count": 20,
     "metadata": {},
     "output_type": "execute_result"
    }
   ],
   "source": [
    "import pandas as pd\n",
    "df = pd.read_csv(\"https://raw.githubusercontent.com/Datamanim/datarepo/main/youtube/youtube.csv\",index_col=0)\n",
    "df.head()"
   ]
  },
  {
   "cell_type": "code",
   "execution_count": 41,
   "id": "d5ec19c0-6a46-403e-813d-411b021e0c77",
   "metadata": {},
   "outputs": [
    {
     "name": "stdout",
     "output_type": "stream",
     "text": [
      "<class 'pandas.core.frame.DataFrame'>\n",
      "Int64Index: 60399 entries, 0 to 60398\n",
      "Data columns (total 9 columns):\n",
      " #   Column          Non-Null Count  Dtype \n",
      "---  ------          --------------  ----- \n",
      " 0   title           60399 non-null  object\n",
      " 1   channelTitle    60399 non-null  object\n",
      " 2   categoryId      60399 non-null  int64 \n",
      " 3   view_count      60399 non-null  int64 \n",
      " 4   likes           60399 non-null  int64 \n",
      " 5   dislikes        60399 non-null  int64 \n",
      " 6   comment_count   60399 non-null  int64 \n",
      " 7   channelId       60399 non-null  object\n",
      " 8   trending_date2  60399 non-null  object\n",
      "dtypes: int64(5), object(4)\n",
      "memory usage: 4.6+ MB\n"
     ]
    }
   ],
   "source": [
    "df.info()"
   ]
  },
  {
   "cell_type": "markdown",
   "id": "8c2f4637-341c-4c09-9b37-f6daaf3792b8",
   "metadata": {},
   "source": [
    "## Question 인기동영상 제작횟수가 많은 채널 상위 10개명을 출력하라 (날짜기준, 중복포함)"
   ]
  },
  {
   "cell_type": "markdown",
   "id": "95cc3b17-6c7f-48a4-9ac3-b042922f7cd9",
   "metadata": {},
   "source": [
    "답"
   ]
  },
  {
   "cell_type": "code",
   "execution_count": 263,
   "id": "3f10e78b-afb6-4e59-aa74-107d29992825",
   "metadata": {},
   "outputs": [
    {
     "name": "stdout",
     "output_type": "stream",
     "text": [
      "['장삐쭈', '총몇명', '파뿌리', '짤툰', '런닝맨 - 스브스 공식 채널', '엠뚜루마뚜루 : MBC 공식 종합 채널', 'SPOTV', '채널 십오야', '이과장', 'BANGTANTV']\n"
     ]
    }
   ],
   "source": [
    "answer =list(df.loc[df.channelId.isin(df.channelId.value_counts().head(10).index)].channelTitle.unique())\n",
    "print(answer) # 답"
   ]
  },
  {
   "cell_type": "code",
   "execution_count": null,
   "id": "754d5310-61b0-40f6-b5ee-d13034ae4277",
   "metadata": {},
   "outputs": [],
   "source": []
  },
  {
   "cell_type": "markdown",
   "id": "ccff7ae4-9b29-4c29-adce-371b30553e59",
   "metadata": {},
   "source": [
    "##  Question 논란으로 인기동영상이 된 케이스를 확인하고 싶다. dislikes수가 like 수보다 높은 동영상을 제작한 채널을 모두 출력하라"
   ]
  },
  {
   "cell_type": "code",
   "execution_count": 112,
   "id": "d43848fb-2410-400d-bf16-dba9711a921d",
   "metadata": {},
   "outputs": [
    {
     "data": {
      "text/plain": [
       "['ASMR 애정TV',\n",
       " '양팡 YangPang',\n",
       " '왜냐맨하우스',\n",
       " '(MUTUBE)와꾸대장봉준',\n",
       " '오메킴TV',\n",
       " 'MapleStory_KR',\n",
       " 'Gen.G esports',\n",
       " 'ROAD FIGHTING CHAMPIONSHIP',\n",
       " '철구형 (CHULTUBE)',\n",
       " '나혼자산다 STUDIO',\n",
       " '하얀트리HayanTree',\n",
       " '핫도그TV',\n",
       " '육지담',\n",
       " '사나이 김기훈']"
      ]
     },
     "execution_count": 112,
     "metadata": {},
     "output_type": "execute_result"
    }
   ],
   "source": [
    "answer = df.loc[df['dislikes'] > df['likes']].channelTitle.to_list()\n",
    "answer = list(set(answer))\n",
    "answer"
   ]
  },
  {
   "cell_type": "code",
   "execution_count": 259,
   "id": "7161734a-e9a5-4706-844c-ecdc6197af5f",
   "metadata": {},
   "outputs": [
    {
     "data": {
      "text/plain": [
       "channelTitle\n",
       "(MUTUBE)와꾸대장봉준                11\n",
       "ASMR 애정TV                      2\n",
       "Gen.G esports                 17\n",
       "MapleStory_KR                  7\n",
       "ROAD FIGHTING CHAMPIONSHIP     7\n",
       "나혼자산다 STUDIO                   1\n",
       "사나이 김기훈                        1\n",
       "양팡 YangPang                   44\n",
       "오메킴TV                         10\n",
       "왜냐맨하우스                         8\n",
       "육지담                            7\n",
       "철구형 (CHULTUBE)                10\n",
       "하얀트리HayanTree                 10\n",
       "핫도그TV                          8\n",
       "dtype: int64"
      ]
     },
     "execution_count": 259,
     "metadata": {},
     "output_type": "execute_result"
    }
   ],
   "source": [
    "answer = df.loc[df['dislikes'] > df['likes']].groupby('channelTitle').size()\n",
    "answer "
   ]
  },
  {
   "cell_type": "markdown",
   "id": "ef0e42c7-2dc5-4c2b-a8c1-55a1a5d8fb4c",
   "metadata": {},
   "source": [
    "답"
   ]
  },
  {
   "cell_type": "code",
   "execution_count": 261,
   "id": "b61eb5aa-a009-44ec-8e86-83f4bf1de08d",
   "metadata": {},
   "outputs": [
    {
     "data": {
      "text/plain": [
       "['핫도그TV',\n",
       " 'ASMR 애정TV',\n",
       " '하얀트리HayanTree',\n",
       " '양팡 YangPang',\n",
       " '철구형 (CHULTUBE)',\n",
       " '왜냐맨하우스',\n",
       " '(MUTUBE)와꾸대장봉준',\n",
       " '오메킴TV',\n",
       " '육지담',\n",
       " 'MapleStory_KR',\n",
       " 'ROAD FIGHTING CHAMPIONSHIP',\n",
       " '사나이 김기훈',\n",
       " '나혼자산다 STUDIO',\n",
       " 'Gen.G esports']"
      ]
     },
     "execution_count": 261,
     "metadata": {},
     "output_type": "execute_result"
    }
   ],
   "source": [
    "answer = list(df.loc[df['dislikes'] > df['likes']].channelTitle.unique())\n",
    "answer"
   ]
  },
  {
   "cell_type": "markdown",
   "id": "f967e27e-1cab-46a3-b843-5ae81781ed48",
   "metadata": {},
   "source": [
    "## Question 채널명을 바꾼 케이스가 있는지 확인하고 싶다. channelId의 경우 고유값이므로 이를 통해 채널명을 한번이라도 바꾼 채널의 갯수를 구하여라"
   ]
  },
  {
   "cell_type": "code",
   "execution_count": 264,
   "id": "17ad2608-eb15-4a6f-8408-2eeedaa63248",
   "metadata": {},
   "outputs": [
    {
     "name": "stdout",
     "output_type": "stream",
     "text": [
      "71\n"
     ]
    }
   ],
   "source": [
    "change = df[['channelTitle','channelId']].drop_duplicates().channelId.value_counts()\n",
    "target = change[change>1]\n",
    "print(len(target)) # 답"
   ]
  },
  {
   "cell_type": "code",
   "execution_count": 267,
   "id": "6277e6ed-6f16-4bc1-a68c-002801bdaeba",
   "metadata": {},
   "outputs": [
    {
     "data": {
      "text/html": [
       "<div>\n",
       "<style scoped>\n",
       "    .dataframe tbody tr th:only-of-type {\n",
       "        vertical-align: middle;\n",
       "    }\n",
       "\n",
       "    .dataframe tbody tr th {\n",
       "        vertical-align: top;\n",
       "    }\n",
       "\n",
       "    .dataframe thead th {\n",
       "        text-align: right;\n",
       "    }\n",
       "</style>\n",
       "<table border=\"1\" class=\"dataframe\">\n",
       "  <thead>\n",
       "    <tr style=\"text-align: right;\">\n",
       "      <th></th>\n",
       "      <th>channelTitle</th>\n",
       "      <th>channelId</th>\n",
       "    </tr>\n",
       "  </thead>\n",
       "  <tbody>\n",
       "    <tr>\n",
       "      <th>0</th>\n",
       "      <td>장삐쭈</td>\n",
       "      <td>UChbE5OZQ6dRHECsX0tEPEZQ</td>\n",
       "    </tr>\n",
       "    <tr>\n",
       "      <th>1</th>\n",
       "      <td>RAIN's Official Channel</td>\n",
       "      <td>UCxXgIeE5hxWxHG6dz9Scg2w</td>\n",
       "    </tr>\n",
       "    <tr>\n",
       "      <th>2</th>\n",
       "      <td>서울시 · Seoul</td>\n",
       "      <td>UCZUPZW5idAxYp-Asj__lVAA</td>\n",
       "    </tr>\n",
       "    <tr>\n",
       "      <th>3</th>\n",
       "      <td>고기남자 MeatMan</td>\n",
       "      <td>UCT3CumbFIJiW33uq0UI3zlg</td>\n",
       "    </tr>\n",
       "    <tr>\n",
       "      <th>4</th>\n",
       "      <td>스브스밥집</td>\n",
       "      <td>UCdWgRSfttvDucq4ApcCg5Mw</td>\n",
       "    </tr>\n",
       "    <tr>\n",
       "      <th>...</th>\n",
       "      <td>...</td>\n",
       "      <td>...</td>\n",
       "    </tr>\n",
       "    <tr>\n",
       "      <th>60394</th>\n",
       "      <td>공룡</td>\n",
       "      <td>UCWf4QKgnTyvmehcRqw-JldQ</td>\n",
       "    </tr>\n",
       "    <tr>\n",
       "      <th>60395</th>\n",
       "      <td>놀면 뭐하니?</td>\n",
       "      <td>UCx6jsZ02B4K3SECUrkgPyzg</td>\n",
       "    </tr>\n",
       "    <tr>\n",
       "      <th>60396</th>\n",
       "      <td>김종국 GYM JONG KOOK</td>\n",
       "      <td>UCoe-0EVDJnjlSoPK8ygcGwQ</td>\n",
       "    </tr>\n",
       "    <tr>\n",
       "      <th>60397</th>\n",
       "      <td>스브스 예능맛집</td>\n",
       "      <td>UCnx4Fi4cmkLGDiFfZ311wWw</td>\n",
       "    </tr>\n",
       "    <tr>\n",
       "      <th>60398</th>\n",
       "      <td>HYBE LABELS</td>\n",
       "      <td>UC3IZKseVpdzPSBaWxBxundA</td>\n",
       "    </tr>\n",
       "  </tbody>\n",
       "</table>\n",
       "<p>60399 rows × 2 columns</p>\n",
       "</div>"
      ],
      "text/plain": [
       "                  channelTitle                 channelId\n",
       "0                          장삐쭈  UChbE5OZQ6dRHECsX0tEPEZQ\n",
       "1      RAIN's Official Channel  UCxXgIeE5hxWxHG6dz9Scg2w\n",
       "2                  서울시 · Seoul  UCZUPZW5idAxYp-Asj__lVAA\n",
       "3                 고기남자 MeatMan  UCT3CumbFIJiW33uq0UI3zlg\n",
       "4                        스브스밥집  UCdWgRSfttvDucq4ApcCg5Mw\n",
       "...                        ...                       ...\n",
       "60394                       공룡  UCWf4QKgnTyvmehcRqw-JldQ\n",
       "60395                  놀면 뭐하니?  UCx6jsZ02B4K3SECUrkgPyzg\n",
       "60396        김종국 GYM JONG KOOK  UCoe-0EVDJnjlSoPK8ygcGwQ\n",
       "60397                 스브스 예능맛집  UCnx4Fi4cmkLGDiFfZ311wWw\n",
       "60398              HYBE LABELS  UC3IZKseVpdzPSBaWxBxundA\n",
       "\n",
       "[60399 rows x 2 columns]"
      ]
     },
     "execution_count": 267,
     "metadata": {},
     "output_type": "execute_result"
    }
   ],
   "source": [
    "change = df[['channelTitle','channelId']]\n",
    "change"
   ]
  },
  {
   "cell_type": "code",
   "execution_count": 271,
   "id": "1aa771d8-bd2d-46ec-90cb-3c5b2cb81edc",
   "metadata": {},
   "outputs": [
    {
     "data": {
      "text/plain": [
       "UCtQYhzJWFai1y30UIA3uwYQ    3\n",
       "UC98TOxKQk4aLcx0EjIK0LkQ    3\n",
       "UC4nEQI74rZkFKlUSwi0ur4A    2\n",
       "UCn64fSqF2l4rkkjtQUpku2A    2\n",
       "UCjO3ji06DxmTM1RrzLVwmkA    2\n",
       "                           ..\n",
       "UCuZu8NrpBG4WPXRi-hPBl-A    1\n",
       "UCDrAR1OWC2MD4s0JLetN0MA    1\n",
       "UCx2MVBsdTJ_sv0LiUpSQU2Q    1\n",
       "UCu2R3TCLSxYV8pRyBGNOh2g    1\n",
       "UCRCK5FCJtomQT3b88jXI_DA    1\n",
       "Name: channelId, Length: 1770, dtype: int64"
      ]
     },
     "execution_count": 271,
     "metadata": {},
     "output_type": "execute_result"
    }
   ],
   "source": [
    "change = df[['channelTitle','channelId']].drop_duplicates().channelId.value_counts()\n",
    "change"
   ]
  },
  {
   "cell_type": "markdown",
   "id": "0b527d53-4ec1-4c1e-b001-8d0320d6f684",
   "metadata": {
    "tags": []
   },
   "source": [
    "## Question 일요일에 인기있었던 영상들중 가장많은 영상 종류(categoryId)는 무엇인가?"
   ]
  },
  {
   "cell_type": "code",
   "execution_count": 279,
   "id": "1ebd263d-53bf-4723-9e1d-4e39a52f40c7",
   "metadata": {},
   "outputs": [
    {
     "name": "stdout",
     "output_type": "stream",
     "text": [
      "24\n"
     ]
    }
   ],
   "source": [
    "df['trending_date2'] = pd.to_datetime(df['trending_date2'])\n",
    "answer =df.loc[df['trending_date2'].dt.day_name() =='Sunday'].categoryId.value_counts().index[0]\n",
    "print(answer) #답"
   ]
  },
  {
   "cell_type": "markdown",
   "id": "46dabd69-73d4-4e0a-93b4-671686620a3b",
   "metadata": {},
   "source": [
    "답보고 다시 해보기 ... .."
   ]
  },
  {
   "cell_type": "code",
   "execution_count": 275,
   "id": "09b846d9-b42c-460c-b4e8-514d1fa06fe7",
   "metadata": {},
   "outputs": [
    {
     "data": {
      "text/html": [
       "<div>\n",
       "<style scoped>\n",
       "    .dataframe tbody tr th:only-of-type {\n",
       "        vertical-align: middle;\n",
       "    }\n",
       "\n",
       "    .dataframe tbody tr th {\n",
       "        vertical-align: top;\n",
       "    }\n",
       "\n",
       "    .dataframe thead th {\n",
       "        text-align: right;\n",
       "    }\n",
       "</style>\n",
       "<table border=\"1\" class=\"dataframe\">\n",
       "  <thead>\n",
       "    <tr style=\"text-align: right;\">\n",
       "      <th></th>\n",
       "      <th>title</th>\n",
       "      <th>channelTitle</th>\n",
       "      <th>categoryId</th>\n",
       "      <th>view_count</th>\n",
       "      <th>likes</th>\n",
       "      <th>dislikes</th>\n",
       "      <th>comment_count</th>\n",
       "      <th>channelId</th>\n",
       "      <th>trending_date2</th>\n",
       "      <th>day</th>\n",
       "    </tr>\n",
       "  </thead>\n",
       "  <tbody>\n",
       "    <tr>\n",
       "      <th>0</th>\n",
       "      <td>[신병] 물자창고</td>\n",
       "      <td>장삐쭈</td>\n",
       "      <td>23</td>\n",
       "      <td>1893473</td>\n",
       "      <td>38249</td>\n",
       "      <td>730</td>\n",
       "      <td>8595</td>\n",
       "      <td>UChbE5OZQ6dRHECsX0tEPEZQ</td>\n",
       "      <td>2021-01-01</td>\n",
       "      <td>Friday</td>\n",
       "    </tr>\n",
       "    <tr>\n",
       "      <th>1</th>\n",
       "      <td>RAIN(비) - 나로 바꾸자 Switch to me (duet with JYP) MV</td>\n",
       "      <td>RAIN's Official Channel</td>\n",
       "      <td>10</td>\n",
       "      <td>2600864</td>\n",
       "      <td>0</td>\n",
       "      <td>0</td>\n",
       "      <td>20129</td>\n",
       "      <td>UCxXgIeE5hxWxHG6dz9Scg2w</td>\n",
       "      <td>2021-01-01</td>\n",
       "      <td>Friday</td>\n",
       "    </tr>\n",
       "    <tr>\n",
       "      <th>2</th>\n",
       "      <td>2020년 제야의 종 온라인 타종행사 | 보신각 현장 행사는 진행하지 않습니다.</td>\n",
       "      <td>서울시 · Seoul</td>\n",
       "      <td>29</td>\n",
       "      <td>347049</td>\n",
       "      <td>3564</td>\n",
       "      <td>120</td>\n",
       "      <td>178</td>\n",
       "      <td>UCZUPZW5idAxYp-Asj__lVAA</td>\n",
       "      <td>2021-01-01</td>\n",
       "      <td>Friday</td>\n",
       "    </tr>\n",
       "  </tbody>\n",
       "</table>\n",
       "</div>"
      ],
      "text/plain": [
       "                                              title             channelTitle  \\\n",
       "0                                         [신병] 물자창고                      장삐쭈   \n",
       "1  RAIN(비) - 나로 바꾸자 Switch to me (duet with JYP) MV  RAIN's Official Channel   \n",
       "2      2020년 제야의 종 온라인 타종행사 | 보신각 현장 행사는 진행하지 않습니다.              서울시 · Seoul   \n",
       "\n",
       "   categoryId  view_count  likes  dislikes  comment_count  \\\n",
       "0          23     1893473  38249       730           8595   \n",
       "1          10     2600864      0         0          20129   \n",
       "2          29      347049   3564       120            178   \n",
       "\n",
       "                  channelId trending_date2     day  \n",
       "0  UChbE5OZQ6dRHECsX0tEPEZQ     2021-01-01  Friday  \n",
       "1  UCxXgIeE5hxWxHG6dz9Scg2w     2021-01-01  Friday  \n",
       "2  UCZUPZW5idAxYp-Asj__lVAA     2021-01-01  Friday  "
      ]
     },
     "execution_count": 275,
     "metadata": {},
     "output_type": "execute_result"
    }
   ],
   "source": [
    "df['day'] = pd.to_datetime(df['trending_date2']).dt.day_name()\n",
    "df.head(3)"
   ]
  },
  {
   "cell_type": "code",
   "execution_count": 282,
   "id": "530478a1-7044-41b2-a052-74e0f9d38f04",
   "metadata": {},
   "outputs": [
    {
     "data": {
      "text/plain": [
       "24"
      ]
     },
     "execution_count": 282,
     "metadata": {},
     "output_type": "execute_result"
    }
   ],
   "source": [
    "df['day']=pd.to_datetime(df['trending_date2']).dt.day_name()\n",
    "answer = df.loc[df['day']=='Sunday'].categoryId.value_counts().index[0]\n",
    "answer"
   ]
  },
  {
   "cell_type": "code",
   "execution_count": 297,
   "id": "0811ee7d-c036-4c46-a2e9-677f2e55b675",
   "metadata": {},
   "outputs": [
    {
     "data": {
      "text/plain": [
       "24    3096\n",
       "22    1337\n",
       "10     830\n",
       "17     636\n",
       "23     556\n",
       "25     437\n",
       "26     363\n",
       "20     289\n",
       "1      274\n",
       "15     217\n",
       "27     199\n",
       "28     167\n",
       "2       99\n",
       "19      91\n",
       "29       9\n",
       "Name: categoryId, dtype: int64"
      ]
     },
     "execution_count": 297,
     "metadata": {},
     "output_type": "execute_result"
    }
   ],
   "source": [
    "df['day']=pd.to_datetime(df['trending_date2']).dt.day_name()\n",
    "answer = df.loc[df['day']=='Sunday'].categoryId.value_counts() #큰 수 순서\n",
    "answer"
   ]
  },
  {
   "cell_type": "code",
   "execution_count": 309,
   "id": "da03fb68-14e3-4b77-9f43-087c68bbc345",
   "metadata": {},
   "outputs": [
    {
     "data": {
      "text/plain": [
       "categoryId\n",
       "29       9\n",
       "19      91\n",
       "2       99\n",
       "28     167\n",
       "27     199\n",
       "15     217\n",
       "1      274\n",
       "20     289\n",
       "26     363\n",
       "25     437\n",
       "23     556\n",
       "17     636\n",
       "10     830\n",
       "22    1337\n",
       "24    3096\n",
       "dtype: int64"
      ]
     },
     "execution_count": 309,
     "metadata": {},
     "output_type": "execute_result"
    }
   ],
   "source": [
    "df['day']=pd.to_datetime(df['trending_date2']).dt.day_name()\n",
    "answer = df.loc[df['day']=='Sunday'].groupby('categoryId').size().sort_values() #작은 수 순서\n",
    "answer"
   ]
  },
  {
   "cell_type": "markdown",
   "id": "10d3845b-b263-4ccf-8938-2d7b8a736d69",
   "metadata": {
    "tags": []
   },
   "source": [
    "### 기존에 내가 생각한 답 .. 인기있었던 동영상 자체니까 이런거 안해도됨 .. "
   ]
  },
  {
   "cell_type": "code",
   "execution_count": 68,
   "id": "b7564f13-1a74-492b-8255-a155ecb262e9",
   "metadata": {},
   "outputs": [
    {
     "name": "stdout",
     "output_type": "stream",
     "text": [
      "80428.40813953488 , 762\n",
      "10640.0 , 4300\n"
     ]
    }
   ],
   "source": [
    "print(target.likes.mean(), \",\" ,len(target[target['likes']>target.likes.mean()]))\n",
    "print(target.likes.median(),\",\",len(target[target['likes']>target.likes.median()]))"
   ]
  },
  {
   "cell_type": "code",
   "execution_count": 246,
   "id": "ba8338d6-1c8c-439d-bb35-744659446cfa",
   "metadata": {},
   "outputs": [
    {
     "data": {
      "text/plain": [
       "10"
      ]
     },
     "execution_count": 246,
     "metadata": {},
     "output_type": "execute_result"
    }
   ],
   "source": [
    "df['day'] = pd.to_datetime(df['trending_date2']).dt.weekday \n",
    "target = df.loc[df['day']==6].reset_index(drop='True') # 6이 일요일\n",
    "answer = target[target['likes']>target.likes.mean()].groupby('categoryId').size().sort_values().index[-1]\n",
    "answer"
   ]
  },
  {
   "cell_type": "markdown",
   "id": "229fa565-b5d5-4cf9-b626-59dcb8d38c07",
   "metadata": {
    "tags": []
   },
   "source": [
    "## Question 각 요일별 인기 영상들의 categoryId는 각각 몇개 씩인지 하나의 데이터 프레임으로 표현하라"
   ]
  },
  {
   "cell_type": "markdown",
   "id": "a71544eb-b884-4d75-9616-e08cc8ed70d1",
   "metadata": {},
   "source": [
    "답"
   ]
  },
  {
   "cell_type": "code",
   "execution_count": 334,
   "id": "6c83fe30-c688-4ff9-b09f-09ac1717cadb",
   "metadata": {},
   "outputs": [
    {
     "data": {
      "text/html": [
       "<div>\n",
       "<style scoped>\n",
       "    .dataframe tbody tr th:only-of-type {\n",
       "        vertical-align: middle;\n",
       "    }\n",
       "\n",
       "    .dataframe tbody tr th {\n",
       "        vertical-align: top;\n",
       "    }\n",
       "\n",
       "    .dataframe thead tr th {\n",
       "        text-align: left;\n",
       "    }\n",
       "\n",
       "    .dataframe thead tr:last-of-type th {\n",
       "        text-align: right;\n",
       "    }\n",
       "</style>\n",
       "<table border=\"1\" class=\"dataframe\">\n",
       "  <thead>\n",
       "    <tr>\n",
       "      <th></th>\n",
       "      <th colspan=\"7\" halign=\"left\">size</th>\n",
       "    </tr>\n",
       "    <tr>\n",
       "      <th>trending_date2</th>\n",
       "      <th>Friday</th>\n",
       "      <th>Monday</th>\n",
       "      <th>Saturday</th>\n",
       "      <th>Sunday</th>\n",
       "      <th>Thursday</th>\n",
       "      <th>Tuesday</th>\n",
       "      <th>Wednesday</th>\n",
       "    </tr>\n",
       "    <tr>\n",
       "      <th>categoryId</th>\n",
       "      <th></th>\n",
       "      <th></th>\n",
       "      <th></th>\n",
       "      <th></th>\n",
       "      <th></th>\n",
       "      <th></th>\n",
       "      <th></th>\n",
       "    </tr>\n",
       "  </thead>\n",
       "  <tbody>\n",
       "    <tr>\n",
       "      <th>1</th>\n",
       "      <td>243</td>\n",
       "      <td>263</td>\n",
       "      <td>255</td>\n",
       "      <td>274</td>\n",
       "      <td>246</td>\n",
       "      <td>257</td>\n",
       "      <td>234</td>\n",
       "    </tr>\n",
       "    <tr>\n",
       "      <th>2</th>\n",
       "      <td>120</td>\n",
       "      <td>105</td>\n",
       "      <td>119</td>\n",
       "      <td>99</td>\n",
       "      <td>128</td>\n",
       "      <td>119</td>\n",
       "      <td>129</td>\n",
       "    </tr>\n",
       "    <tr>\n",
       "      <th>10</th>\n",
       "      <td>833</td>\n",
       "      <td>837</td>\n",
       "      <td>776</td>\n",
       "      <td>830</td>\n",
       "      <td>890</td>\n",
       "      <td>894</td>\n",
       "      <td>917</td>\n",
       "    </tr>\n",
       "    <tr>\n",
       "      <th>15</th>\n",
       "      <td>187</td>\n",
       "      <td>215</td>\n",
       "      <td>198</td>\n",
       "      <td>217</td>\n",
       "      <td>207</td>\n",
       "      <td>208</td>\n",
       "      <td>207</td>\n",
       "    </tr>\n",
       "    <tr>\n",
       "      <th>17</th>\n",
       "      <td>633</td>\n",
       "      <td>668</td>\n",
       "      <td>592</td>\n",
       "      <td>636</td>\n",
       "      <td>682</td>\n",
       "      <td>708</td>\n",
       "      <td>706</td>\n",
       "    </tr>\n",
       "    <tr>\n",
       "      <th>19</th>\n",
       "      <td>90</td>\n",
       "      <td>92</td>\n",
       "      <td>87</td>\n",
       "      <td>91</td>\n",
       "      <td>92</td>\n",
       "      <td>89</td>\n",
       "      <td>85</td>\n",
       "    </tr>\n",
       "    <tr>\n",
       "      <th>20</th>\n",
       "      <td>283</td>\n",
       "      <td>298</td>\n",
       "      <td>296</td>\n",
       "      <td>289</td>\n",
       "      <td>282</td>\n",
       "      <td>285</td>\n",
       "      <td>291</td>\n",
       "    </tr>\n",
       "    <tr>\n",
       "      <th>22</th>\n",
       "      <td>1288</td>\n",
       "      <td>1373</td>\n",
       "      <td>1289</td>\n",
       "      <td>1337</td>\n",
       "      <td>1341</td>\n",
       "      <td>1375</td>\n",
       "      <td>1333</td>\n",
       "    </tr>\n",
       "    <tr>\n",
       "      <th>23</th>\n",
       "      <td>568</td>\n",
       "      <td>594</td>\n",
       "      <td>570</td>\n",
       "      <td>556</td>\n",
       "      <td>560</td>\n",
       "      <td>569</td>\n",
       "      <td>566</td>\n",
       "    </tr>\n",
       "    <tr>\n",
       "      <th>24</th>\n",
       "      <td>2976</td>\n",
       "      <td>3148</td>\n",
       "      <td>3066</td>\n",
       "      <td>3096</td>\n",
       "      <td>2954</td>\n",
       "      <td>3084</td>\n",
       "      <td>3090</td>\n",
       "    </tr>\n",
       "    <tr>\n",
       "      <th>25</th>\n",
       "      <td>444</td>\n",
       "      <td>453</td>\n",
       "      <td>422</td>\n",
       "      <td>437</td>\n",
       "      <td>470</td>\n",
       "      <td>452</td>\n",
       "      <td>468</td>\n",
       "    </tr>\n",
       "    <tr>\n",
       "      <th>26</th>\n",
       "      <td>369</td>\n",
       "      <td>378</td>\n",
       "      <td>364</td>\n",
       "      <td>363</td>\n",
       "      <td>375</td>\n",
       "      <td>394</td>\n",
       "      <td>385</td>\n",
       "    </tr>\n",
       "    <tr>\n",
       "      <th>27</th>\n",
       "      <td>183</td>\n",
       "      <td>205</td>\n",
       "      <td>183</td>\n",
       "      <td>199</td>\n",
       "      <td>194</td>\n",
       "      <td>194</td>\n",
       "      <td>212</td>\n",
       "    </tr>\n",
       "    <tr>\n",
       "      <th>28</th>\n",
       "      <td>171</td>\n",
       "      <td>160</td>\n",
       "      <td>173</td>\n",
       "      <td>167</td>\n",
       "      <td>166</td>\n",
       "      <td>161</td>\n",
       "      <td>165</td>\n",
       "    </tr>\n",
       "    <tr>\n",
       "      <th>29</th>\n",
       "      <td>12</td>\n",
       "      <td>10</td>\n",
       "      <td>10</td>\n",
       "      <td>9</td>\n",
       "      <td>13</td>\n",
       "      <td>11</td>\n",
       "      <td>12</td>\n",
       "    </tr>\n",
       "  </tbody>\n",
       "</table>\n",
       "</div>"
      ],
      "text/plain": [
       "                 size                                                  \n",
       "trending_date2 Friday Monday Saturday Sunday Thursday Tuesday Wednesday\n",
       "categoryId                                                             \n",
       "1                 243    263      255    274      246     257       234\n",
       "2                 120    105      119     99      128     119       129\n",
       "10                833    837      776    830      890     894       917\n",
       "15                187    215      198    217      207     208       207\n",
       "17                633    668      592    636      682     708       706\n",
       "19                 90     92       87     91       92      89        85\n",
       "20                283    298      296    289      282     285       291\n",
       "22               1288   1373     1289   1337     1341    1375      1333\n",
       "23                568    594      570    556      560     569       566\n",
       "24               2976   3148     3066   3096     2954    3084      3090\n",
       "25                444    453      422    437      470     452       468\n",
       "26                369    378      364    363      375     394       385\n",
       "27                183    205      183    199      194     194       212\n",
       "28                171    160      173    167      166     161       165\n",
       "29                 12     10       10      9       13      11        12"
      ]
     },
     "metadata": {},
     "output_type": "display_data"
    }
   ],
   "source": [
    "group = df.groupby([df['trending_date2'].dt.day_name(),'categoryId'],as_index=False).size()\n",
    "answer= group.pivot(index='categoryId',columns='trending_date2')\n",
    "display(answer)"
   ]
  },
  {
   "cell_type": "markdown",
   "id": "94980c38-4d7d-4660-9a23-a1ea508f51a5",
   "metadata": {
    "jp-MarkdownHeadingCollapsed": true,
    "tags": []
   },
   "source": [
    "## Question 댓글의 수로 (comment_count) 영상 반응에 대한 판단을 할 수 있다. viewcount대비 댓글수가 가장 높은 영상을 확인하라 (view_count값이 0인 경우는 제외한다)"
   ]
  },
  {
   "cell_type": "code",
   "execution_count": 251,
   "id": "e104af23-2702-49c9-a4c0-798c4b0587e8",
   "metadata": {},
   "outputs": [
    {
     "data": {
      "text/html": [
       "<div>\n",
       "<style scoped>\n",
       "    .dataframe tbody tr th:only-of-type {\n",
       "        vertical-align: middle;\n",
       "    }\n",
       "\n",
       "    .dataframe tbody tr th {\n",
       "        vertical-align: top;\n",
       "    }\n",
       "\n",
       "    .dataframe thead th {\n",
       "        text-align: right;\n",
       "    }\n",
       "</style>\n",
       "<table border=\"1\" class=\"dataframe\">\n",
       "  <thead>\n",
       "    <tr style=\"text-align: right;\">\n",
       "      <th></th>\n",
       "      <th>title</th>\n",
       "      <th>channelTitle</th>\n",
       "      <th>categoryId</th>\n",
       "      <th>view_count</th>\n",
       "      <th>likes</th>\n",
       "      <th>dislikes</th>\n",
       "      <th>comment_count</th>\n",
       "      <th>channelId</th>\n",
       "      <th>trending_date2</th>\n",
       "      <th>day</th>\n",
       "    </tr>\n",
       "  </thead>\n",
       "  <tbody>\n",
       "    <tr>\n",
       "      <th>0</th>\n",
       "      <td>[신병] 물자창고</td>\n",
       "      <td>장삐쭈</td>\n",
       "      <td>23</td>\n",
       "      <td>1893473</td>\n",
       "      <td>38249</td>\n",
       "      <td>730</td>\n",
       "      <td>8595</td>\n",
       "      <td>UChbE5OZQ6dRHECsX0tEPEZQ</td>\n",
       "      <td>2021-01-01</td>\n",
       "      <td>4</td>\n",
       "    </tr>\n",
       "    <tr>\n",
       "      <th>1</th>\n",
       "      <td>RAIN(비) - 나로 바꾸자 Switch to me (duet with JYP) MV</td>\n",
       "      <td>RAIN's Official Channel</td>\n",
       "      <td>10</td>\n",
       "      <td>2600864</td>\n",
       "      <td>0</td>\n",
       "      <td>0</td>\n",
       "      <td>20129</td>\n",
       "      <td>UCxXgIeE5hxWxHG6dz9Scg2w</td>\n",
       "      <td>2021-01-01</td>\n",
       "      <td>4</td>\n",
       "    </tr>\n",
       "  </tbody>\n",
       "</table>\n",
       "</div>"
      ],
      "text/plain": [
       "                                              title             channelTitle  \\\n",
       "0                                         [신병] 물자창고                      장삐쭈   \n",
       "1  RAIN(비) - 나로 바꾸자 Switch to me (duet with JYP) MV  RAIN's Official Channel   \n",
       "\n",
       "   categoryId  view_count  likes  dislikes  comment_count  \\\n",
       "0          23     1893473  38249       730           8595   \n",
       "1          10     2600864      0         0          20129   \n",
       "\n",
       "                  channelId trending_date2  day  \n",
       "0  UChbE5OZQ6dRHECsX0tEPEZQ     2021-01-01    4  \n",
       "1  UCxXgIeE5hxWxHG6dz9Scg2w     2021-01-01    4  "
      ]
     },
     "execution_count": 251,
     "metadata": {},
     "output_type": "execute_result"
    }
   ],
   "source": [
    "df.head(2)"
   ]
  },
  {
   "cell_type": "code",
   "execution_count": 198,
   "id": "a6d6f952-7b8a-4279-afaf-c054e4024b6b",
   "metadata": {},
   "outputs": [
    {
     "name": "stdout",
     "output_type": "stream",
     "text": [
      "13\n",
      "60386\n",
      "60399\n"
     ]
    }
   ],
   "source": [
    "df1=df.drop(index=df.loc[df['view_count']==0].index)\n",
    "print(len(df.loc[df['view_count']==0]))\n",
    "print(len(df1))\n",
    "print(len(df))"
   ]
  },
  {
   "cell_type": "code",
   "execution_count": 217,
   "id": "48ca6ca7-8c8d-412f-942a-5596ede697cf",
   "metadata": {},
   "outputs": [
    {
     "data": {
      "text/plain": [
       "['60분 동안 댓글이 달리지 않으면, 영상이 삭제됩니다. (챌린지)']"
      ]
     },
     "execution_count": 217,
     "metadata": {},
     "output_type": "execute_result"
    }
   ],
   "source": [
    "df1=df.drop(index=df.loc[df['view_count']==0].index)\n",
    "df1['comment/view']= df1['comment_count']/df1['view_count']\n",
    "answer = df1[df1['comment/view']==df1['comment/view'].max()].title.to_list()\n",
    "answer"
   ]
  },
  {
   "cell_type": "code",
   "execution_count": 286,
   "id": "a94e049d-612a-4bfc-8369-ddffcba52d5e",
   "metadata": {},
   "outputs": [
    {
     "data": {
      "text/plain": [
       "'60분 동안 댓글이 달리지 않으면, 영상이 삭제됩니다. (챌린지)'"
      ]
     },
     "execution_count": 286,
     "metadata": {},
     "output_type": "execute_result"
    }
   ],
   "source": [
    "df1=df.drop(index=df.loc[df['view_count']==0].index)\n",
    "df1['comment/view']= df1['comment_count']/df1['view_count']\n",
    "answer = df1[df1['comment/view']==df1['comment/view'].max()].title.to_list()[0]\n",
    "answer"
   ]
  },
  {
   "cell_type": "markdown",
   "id": "2ec9eb58-402b-4283-b782-3e8d449cfb39",
   "metadata": {},
   "source": [
    "답"
   ]
  },
  {
   "cell_type": "code",
   "execution_count": 283,
   "id": "07cf5e18-69a1-4a31-a519-d16448bf5b8b",
   "metadata": {},
   "outputs": [
    {
     "name": "stdout",
     "output_type": "stream",
     "text": [
      "60분 동안 댓글이 달리지 않으면, 영상이 삭제됩니다. (챌린지)\n"
     ]
    }
   ],
   "source": [
    "target2= df.loc[df.view_count!=0]\n",
    "t = target2.copy()\n",
    "t['ratio'] = (target2['comment_count']/target2['view_count']).dropna()\n",
    "result = t.sort_values(by='ratio', ascending=False).iloc[0].title\n",
    "print(result)"
   ]
  },
  {
   "cell_type": "markdown",
   "id": "a1702ee2-f0c5-4bd3-a807-84330c0ee99f",
   "metadata": {
    "jp-MarkdownHeadingCollapsed": true,
    "tags": []
   },
   "source": [
    "## Question 댓글의 수로 (comment_count) 영상 반응에 대한 판단을 할 수 있다.viewcount대비 댓글수가 가장 낮은 영상을 확인하라 (view_counts, ratio값이 0인경우는 제외한다.)"
   ]
  },
  {
   "cell_type": "code",
   "execution_count": 289,
   "id": "b021ee88-38bf-4981-851e-040ae160156d",
   "metadata": {},
   "outputs": [
    {
     "name": "stdout",
     "output_type": "stream",
     "text": [
      "Join the BTS #PermissiontoDance Challenge only on YouTube #Shorts\n"
     ]
    }
   ],
   "source": [
    "df1=df.drop(index=df.loc[(df['view_count']==0)].index)\n",
    "df1['ratio'] = df1['comment_count']/df1['view_count']\n",
    "df1.drop(index= df1[df1['ratio']==0.0].index, inplace =True)\n",
    "answer = df1[df1['ratio']==df1['ratio'].min()].title.to_list()[0]\n",
    "print(answer)"
   ]
  },
  {
   "cell_type": "code",
   "execution_count": 303,
   "id": "e1c57c53-89a2-42a6-90bb-ca3eb86bc794",
   "metadata": {},
   "outputs": [
    {
     "data": {
      "text/plain": [
       "46005    2.152456e-08\n",
       "46210    3.874120e-08\n",
       "51798    1.931927e-07\n",
       "51579    1.976488e-07\n",
       "51353    2.031132e-07\n",
       "             ...     \n",
       "526               inf\n",
       "1180              inf\n",
       "957               inf\n",
       "740               inf\n",
       "297               inf\n",
       "Length: 59615, dtype: float64"
      ]
     },
     "execution_count": 303,
     "metadata": {},
     "output_type": "execute_result"
    }
   ],
   "source": [
    "ratio =(df['comment_count']/df['view_count']).dropna().sort_values()\n",
    "ratio[ratio !=0]"
   ]
  },
  {
   "cell_type": "markdown",
   "id": "778d8b4e-0dc0-4c98-9706-700a5ea93ea7",
   "metadata": {},
   "source": [
    "답"
   ]
  },
  {
   "cell_type": "code",
   "execution_count": 291,
   "id": "70ffdb5c-7fca-4c60-880e-8d4bc1ffffd1",
   "metadata": {},
   "outputs": [
    {
     "name": "stdout",
     "output_type": "stream",
     "text": [
      "Join the BTS #PermissiontoDance Challenge only on YouTube #Shorts\n"
     ]
    }
   ],
   "source": [
    "ratio = (df['comment_count'] / df['view_count']).dropna().sort_values()\n",
    "ratio[ratio!=0].index[0]\n",
    "\n",
    "result= df.iloc[ratio[ratio!=0].index[0]].title\n",
    "print(result)"
   ]
  },
  {
   "cell_type": "markdown",
   "id": "ee7c9aaa-c866-4c1b-9e25-5eaf08389fee",
   "metadata": {
    "tags": []
   },
   "source": [
    "## Question like 대비 dislike의 수가 가장 적은 영상은 무엇인가? (like, dislike 값이 0인경우는 제외한다)"
   ]
  },
  {
   "cell_type": "code",
   "execution_count": 172,
   "id": "b41d166e-1c2d-455d-bcd0-876b680fe90c",
   "metadata": {},
   "outputs": [
    {
     "name": "stdout",
     "output_type": "stream",
     "text": [
      "<class 'pandas.core.frame.DataFrame'>\n",
      "RangeIndex: 59693 entries, 0 to 59692\n",
      "Data columns (total 10 columns):\n",
      " #   Column          Non-Null Count  Dtype \n",
      "---  ------          --------------  ----- \n",
      " 0   title           59693 non-null  object\n",
      " 1   channelTitle    59693 non-null  object\n",
      " 2   categoryId      59693 non-null  int64 \n",
      " 3   view_count      59693 non-null  int64 \n",
      " 4   likes           59693 non-null  int64 \n",
      " 5   dislikes        59693 non-null  int64 \n",
      " 6   comment_count   59693 non-null  int64 \n",
      " 7   channelId       59693 non-null  object\n",
      " 8   trending_date2  59693 non-null  object\n",
      " 9   day             59693 non-null  int64 \n",
      "dtypes: int64(6), object(4)\n",
      "memory usage: 4.6+ MB\n"
     ]
    }
   ],
   "source": [
    "df1 = df.drop(index = df.loc[(df['likes']==0) |(df['dislikes']==0)].index).reset_index(drop=True)\n",
    "df1.info()"
   ]
  },
  {
   "cell_type": "code",
   "execution_count": 190,
   "id": "2e7f762f-84f2-4f50-85a7-1d40628cbb37",
   "metadata": {},
   "outputs": [
    {
     "name": "stdout",
     "output_type": "stream",
     "text": [
      "<class 'pandas.core.frame.DataFrame'>\n",
      "RangeIndex: 59693 entries, 0 to 59692\n",
      "Data columns (total 11 columns):\n",
      " #   Column          Non-Null Count  Dtype  \n",
      "---  ------          --------------  -----  \n",
      " 0   title           59693 non-null  object \n",
      " 1   channelTitle    59693 non-null  object \n",
      " 2   categoryId      59693 non-null  int64  \n",
      " 3   view_count      59693 non-null  int64  \n",
      " 4   likes           59693 non-null  int64  \n",
      " 5   dislikes        59693 non-null  int64  \n",
      " 6   comment_count   59693 non-null  int64  \n",
      " 7   channelId       59693 non-null  object \n",
      " 8   trending_date2  59693 non-null  object \n",
      " 9   day             59693 non-null  int64  \n",
      " 10  dis/like        59693 non-null  float64\n",
      "dtypes: float64(1), int64(6), object(4)\n",
      "memory usage: 5.0+ MB\n"
     ]
    }
   ],
   "source": [
    "df1['dis/like'] = df1['dislikes']/df1['likes']\n",
    "df1.info()"
   ]
  },
  {
   "cell_type": "code",
   "execution_count": 197,
   "id": "6d51519f-d5a8-44cb-b5c5-250f0af80bd7",
   "metadata": {},
   "outputs": [
    {
     "data": {
      "text/plain": [
       "['[줌터뷰] *최초공개* 사부작즈🐰🐶의 비공식 이름은 아이라인즈? 꿀조합 티키타카 가득한 NCT 127 도영&정우의 줌터뷰']"
      ]
     },
     "execution_count": 197,
     "metadata": {},
     "output_type": "execute_result"
    }
   ],
   "source": [
    "answer = df1[df1['dis/like']==df1['dis/like'].min()].title.to_list()\n",
    "answer"
   ]
  },
  {
   "cell_type": "markdown",
   "id": "e308de50-d1ad-403b-ab20-4eab16752c6d",
   "metadata": {
    "tags": []
   },
   "source": [
    "## Question 가장많은 트렌드 영상을 제작한 채널의 이름은 무엇인가? (날짜기준, 중복포함)"
   ]
  },
  {
   "cell_type": "markdown",
   "id": "5c910804-a3e3-4b9e-9027-c33388db89f4",
   "metadata": {},
   "source": [
    "답"
   ]
  },
  {
   "cell_type": "code",
   "execution_count": 333,
   "id": "f3775931-4fe8-4c9d-b714-f2ba6123ca90",
   "metadata": {},
   "outputs": [
    {
     "name": "stdout",
     "output_type": "stream",
     "text": [
      "짤툰\n"
     ]
    }
   ],
   "source": [
    "answer = df.loc[df.channelId ==df.channelId.value_counts().index[0]].channelTitle.unique()[0]\n",
    "print(answer)"
   ]
  },
  {
   "cell_type": "code",
   "execution_count": null,
   "id": "8d41674b-a43a-4cf8-8959-9d2f774820ca",
   "metadata": {},
   "outputs": [],
   "source": []
  },
  {
   "cell_type": "markdown",
   "id": "1500f7be-c030-49f5-89f9-2388ddb1761e",
   "metadata": {},
   "source": [
    "## Question 20회(20일)이상 인기동영상 리스트에 포함된 동영상의 숫자는?"
   ]
  },
  {
   "cell_type": "code",
   "execution_count": 327,
   "id": "c49ade4a-fa88-4a60-928a-4e0e578b99ee",
   "metadata": {},
   "outputs": [
    {
     "data": {
      "text/html": [
       "<div>\n",
       "<style scoped>\n",
       "    .dataframe tbody tr th:only-of-type {\n",
       "        vertical-align: middle;\n",
       "    }\n",
       "\n",
       "    .dataframe tbody tr th {\n",
       "        vertical-align: top;\n",
       "    }\n",
       "\n",
       "    .dataframe thead th {\n",
       "        text-align: right;\n",
       "    }\n",
       "</style>\n",
       "<table border=\"1\" class=\"dataframe\">\n",
       "  <thead>\n",
       "    <tr style=\"text-align: right;\">\n",
       "      <th></th>\n",
       "      <th>title</th>\n",
       "      <th>trending_date2</th>\n",
       "    </tr>\n",
       "  </thead>\n",
       "  <tbody>\n",
       "    <tr>\n",
       "      <th>0</th>\n",
       "      <td>#1. [슈퍼리그] 챔스 종결? 드디어 창설된 슈퍼리그, 형태와 방식은?</td>\n",
       "      <td>8</td>\n",
       "    </tr>\n",
       "    <tr>\n",
       "      <th>1</th>\n",
       "      <td>#181.왜 나만 갖고 그래?? #shorts</td>\n",
       "      <td>10</td>\n",
       "    </tr>\n",
       "    <tr>\n",
       "      <th>2</th>\n",
       "      <td>#254. 조만간 사고 낼 것 같아요 #shorts</td>\n",
       "      <td>10</td>\n",
       "    </tr>\n",
       "    <tr>\n",
       "      <th>3</th>\n",
       "      <td>#302. 끌바냐? 단속이냐?   #shorts</td>\n",
       "      <td>8</td>\n",
       "    </tr>\n",
       "    <tr>\n",
       "      <th>4</th>\n",
       "      <td>#MtnDew3PT​ Contest Full Highlights | 2021 #NB...</td>\n",
       "      <td>7</td>\n",
       "    </tr>\n",
       "    <tr>\n",
       "      <th>...</th>\n",
       "      <td>...</td>\n",
       "      <td>...</td>\n",
       "    </tr>\n",
       "    <tr>\n",
       "      <th>7849</th>\n",
       "      <td>🧳ep.12-1 좋은 거 다 주고 싶었던(?) 배우들의 역대급 몸으로 말해요 | 🧳...</td>\n",
       "      <td>2</td>\n",
       "    </tr>\n",
       "    <tr>\n",
       "      <th>7850</th>\n",
       "      <td>🧳스페셜(1) 최다 출연 X 최단 시간, 이렇게 힘든 걸 금가즈가 해냅니다 | 🧳출...</td>\n",
       "      <td>2</td>\n",
       "    </tr>\n",
       "    <tr>\n",
       "      <th>7851</th>\n",
       "      <td>🧳스페셜(2) 솔찍히 썸네일만 봐도 벌써 재밌다 | 🧳출장십오야 X 빈센조 스페셜</td>\n",
       "      <td>2</td>\n",
       "    </tr>\n",
       "    <tr>\n",
       "      <th>7852</th>\n",
       "      <td>🧳최종화 BH의 안녕과 평화(?)가 걸린, 난이도 극악(!) 고요 속의 외침 | 🧳...</td>\n",
       "      <td>2</td>\n",
       "    </tr>\n",
       "    <tr>\n",
       "      <th>7853</th>\n",
       "      <td>🩸괴담회에 어서오세요🩸: 첫 번째 이야기 | WELCOME TO NCT’S HORR...</td>\n",
       "      <td>9</td>\n",
       "    </tr>\n",
       "  </tbody>\n",
       "</table>\n",
       "<p>7854 rows × 2 columns</p>\n",
       "</div>"
      ],
      "text/plain": [
       "                                                  title  trending_date2\n",
       "0              #1. [슈퍼리그] 챔스 종결? 드디어 창설된 슈퍼리그, 형태와 방식은?               8\n",
       "1                             #181.왜 나만 갖고 그래?? #shorts              10\n",
       "2                          #254. 조만간 사고 낼 것 같아요 #shorts              10\n",
       "3                            #302. 끌바냐? 단속이냐?   #shorts               8\n",
       "4     #MtnDew3PT​ Contest Full Highlights | 2021 #NB...               7\n",
       "...                                                 ...             ...\n",
       "7849  🧳ep.12-1 좋은 거 다 주고 싶었던(?) 배우들의 역대급 몸으로 말해요 | 🧳...               2\n",
       "7850  🧳스페셜(1) 최다 출연 X 최단 시간, 이렇게 힘든 걸 금가즈가 해냅니다 | 🧳출...               2\n",
       "7851      🧳스페셜(2) 솔찍히 썸네일만 봐도 벌써 재밌다 | 🧳출장십오야 X 빈센조 스페셜               2\n",
       "7852  🧳최종화 BH의 안녕과 평화(?)가 걸린, 난이도 극악(!) 고요 속의 외침 | 🧳...               2\n",
       "7853  🩸괴담회에 어서오세요🩸: 첫 번째 이야기 | WELCOME TO NCT’S HORR...               9\n",
       "\n",
       "[7854 rows x 2 columns]"
      ]
     },
     "execution_count": 327,
     "metadata": {},
     "output_type": "execute_result"
    }
   ],
   "source": [
    "target = df.groupby('title').trending_date2.size().to_frame().reset_index()\n",
    "target"
   ]
  },
  {
   "cell_type": "code",
   "execution_count": 328,
   "id": "f785f9f2-ce32-4b00-a769-12c0e96bf396",
   "metadata": {},
   "outputs": [
    {
     "name": "stdout",
     "output_type": "stream",
     "text": [
      "<class 'pandas.core.frame.DataFrame'>\n",
      "RangeIndex: 7854 entries, 0 to 7853\n",
      "Data columns (total 2 columns):\n",
      " #   Column          Non-Null Count  Dtype \n",
      "---  ------          --------------  ----- \n",
      " 0   title           7854 non-null   object\n",
      " 1   trending_date2  7854 non-null   int64 \n",
      "dtypes: int64(1), object(1)\n",
      "memory usage: 122.8+ KB\n"
     ]
    }
   ],
   "source": [
    "target.info()"
   ]
  },
  {
   "cell_type": "code",
   "execution_count": 329,
   "id": "5d6cd7d0-f975-44ea-a48e-a556033b821a",
   "metadata": {},
   "outputs": [
    {
     "name": "stdout",
     "output_type": "stream",
     "text": [
      "41\n"
     ]
    }
   ],
   "source": [
    "answer = target[target['trending_date2']>=20]\n",
    "print(len(answer))"
   ]
  },
  {
   "cell_type": "code",
   "execution_count": 331,
   "id": "6ddf8385-9f95-49b2-ad0d-f42c018f303f",
   "metadata": {},
   "outputs": [
    {
     "data": {
      "text/html": [
       "<div>\n",
       "<style scoped>\n",
       "    .dataframe tbody tr th:only-of-type {\n",
       "        vertical-align: middle;\n",
       "    }\n",
       "\n",
       "    .dataframe tbody tr th {\n",
       "        vertical-align: top;\n",
       "    }\n",
       "\n",
       "    .dataframe thead th {\n",
       "        text-align: right;\n",
       "    }\n",
       "</style>\n",
       "<table border=\"1\" class=\"dataframe\">\n",
       "  <thead>\n",
       "    <tr style=\"text-align: right;\">\n",
       "      <th></th>\n",
       "      <th>title</th>\n",
       "      <th>channelId</th>\n",
       "      <th>trending_date2</th>\n",
       "    </tr>\n",
       "  </thead>\n",
       "  <tbody>\n",
       "    <tr>\n",
       "      <th>0</th>\n",
       "      <td>#1. [슈퍼리그] 챔스 종결? 드디어 창설된 슈퍼리그, 형태와 방식은?</td>\n",
       "      <td>UCn9mJ4htO64-1osMWYu9k5Q</td>\n",
       "      <td>8</td>\n",
       "    </tr>\n",
       "    <tr>\n",
       "      <th>1</th>\n",
       "      <td>#181.왜 나만 갖고 그래?? #shorts</td>\n",
       "      <td>UCH5U89kvHrVxxS80xpoOydw</td>\n",
       "      <td>10</td>\n",
       "    </tr>\n",
       "    <tr>\n",
       "      <th>2</th>\n",
       "      <td>#254. 조만간 사고 낼 것 같아요 #shorts</td>\n",
       "      <td>UCH5U89kvHrVxxS80xpoOydw</td>\n",
       "      <td>10</td>\n",
       "    </tr>\n",
       "    <tr>\n",
       "      <th>3</th>\n",
       "      <td>#302. 끌바냐? 단속이냐?   #shorts</td>\n",
       "      <td>UCH5U89kvHrVxxS80xpoOydw</td>\n",
       "      <td>8</td>\n",
       "    </tr>\n",
       "    <tr>\n",
       "      <th>4</th>\n",
       "      <td>#MtnDew3PT​ Contest Full Highlights | 2021 #NB...</td>\n",
       "      <td>UCWJ2lWNubArHWmf3FIHbfcQ</td>\n",
       "      <td>7</td>\n",
       "    </tr>\n",
       "    <tr>\n",
       "      <th>...</th>\n",
       "      <td>...</td>\n",
       "      <td>...</td>\n",
       "      <td>...</td>\n",
       "    </tr>\n",
       "    <tr>\n",
       "      <th>7862</th>\n",
       "      <td>🧳ep.12-1 좋은 거 다 주고 싶었던(?) 배우들의 역대급 몸으로 말해요 | 🧳...</td>\n",
       "      <td>UCQ2O-iftmnlfrBuNsUUTofQ</td>\n",
       "      <td>2</td>\n",
       "    </tr>\n",
       "    <tr>\n",
       "      <th>7863</th>\n",
       "      <td>🧳스페셜(1) 최다 출연 X 최단 시간, 이렇게 힘든 걸 금가즈가 해냅니다 | 🧳출...</td>\n",
       "      <td>UCQ2O-iftmnlfrBuNsUUTofQ</td>\n",
       "      <td>2</td>\n",
       "    </tr>\n",
       "    <tr>\n",
       "      <th>7864</th>\n",
       "      <td>🧳스페셜(2) 솔찍히 썸네일만 봐도 벌써 재밌다 | 🧳출장십오야 X 빈센조 스페셜</td>\n",
       "      <td>UCQ2O-iftmnlfrBuNsUUTofQ</td>\n",
       "      <td>2</td>\n",
       "    </tr>\n",
       "    <tr>\n",
       "      <th>7865</th>\n",
       "      <td>🧳최종화 BH의 안녕과 평화(?)가 걸린, 난이도 극악(!) 고요 속의 외침 | 🧳...</td>\n",
       "      <td>UCQ2O-iftmnlfrBuNsUUTofQ</td>\n",
       "      <td>2</td>\n",
       "    </tr>\n",
       "    <tr>\n",
       "      <th>7866</th>\n",
       "      <td>🩸괴담회에 어서오세요🩸: 첫 번째 이야기 | WELCOME TO NCT’S HORR...</td>\n",
       "      <td>UCwgtORdDtUKhpjE1VBv6XfA</td>\n",
       "      <td>9</td>\n",
       "    </tr>\n",
       "  </tbody>\n",
       "</table>\n",
       "<p>7867 rows × 3 columns</p>\n",
       "</div>"
      ],
      "text/plain": [
       "                                                  title  \\\n",
       "0              #1. [슈퍼리그] 챔스 종결? 드디어 창설된 슈퍼리그, 형태와 방식은?   \n",
       "1                             #181.왜 나만 갖고 그래?? #shorts   \n",
       "2                          #254. 조만간 사고 낼 것 같아요 #shorts   \n",
       "3                            #302. 끌바냐? 단속이냐?   #shorts   \n",
       "4     #MtnDew3PT​ Contest Full Highlights | 2021 #NB...   \n",
       "...                                                 ...   \n",
       "7862  🧳ep.12-1 좋은 거 다 주고 싶었던(?) 배우들의 역대급 몸으로 말해요 | 🧳...   \n",
       "7863  🧳스페셜(1) 최다 출연 X 최단 시간, 이렇게 힘든 걸 금가즈가 해냅니다 | 🧳출...   \n",
       "7864      🧳스페셜(2) 솔찍히 썸네일만 봐도 벌써 재밌다 | 🧳출장십오야 X 빈센조 스페셜   \n",
       "7865  🧳최종화 BH의 안녕과 평화(?)가 걸린, 난이도 극악(!) 고요 속의 외침 | 🧳...   \n",
       "7866  🩸괴담회에 어서오세요🩸: 첫 번째 이야기 | WELCOME TO NCT’S HORR...   \n",
       "\n",
       "                     channelId  trending_date2  \n",
       "0     UCn9mJ4htO64-1osMWYu9k5Q               8  \n",
       "1     UCH5U89kvHrVxxS80xpoOydw              10  \n",
       "2     UCH5U89kvHrVxxS80xpoOydw              10  \n",
       "3     UCH5U89kvHrVxxS80xpoOydw               8  \n",
       "4     UCWJ2lWNubArHWmf3FIHbfcQ               7  \n",
       "...                        ...             ...  \n",
       "7862  UCQ2O-iftmnlfrBuNsUUTofQ               2  \n",
       "7863  UCQ2O-iftmnlfrBuNsUUTofQ               2  \n",
       "7864  UCQ2O-iftmnlfrBuNsUUTofQ               2  \n",
       "7865  UCQ2O-iftmnlfrBuNsUUTofQ               2  \n",
       "7866  UCwgtORdDtUKhpjE1VBv6XfA               9  \n",
       "\n",
       "[7867 rows x 3 columns]"
      ]
     },
     "execution_count": 331,
     "metadata": {},
     "output_type": "execute_result"
    }
   ],
   "source": [
    "target = df.groupby(['title','channelId']).trending_date2.size().to_frame().reset_index()\n",
    "target #왜 title, channelId 를 둘다 그룹화 해야하지??"
   ]
  },
  {
   "cell_type": "code",
   "execution_count": 332,
   "id": "ee325001-3610-47bb-bb7d-9bc36be78ac7",
   "metadata": {},
   "outputs": [
    {
     "name": "stdout",
     "output_type": "stream",
     "text": [
      "40\n"
     ]
    }
   ],
   "source": [
    "answer = target[target['trending_date2']>=20]\n",
    "print(len(answer)) "
   ]
  },
  {
   "cell_type": "markdown",
   "id": "e2fbeec5-502f-425f-b9a3-3a8b078e1b74",
   "metadata": {},
   "source": [
    "답"
   ]
  },
  {
   "cell_type": "code",
   "execution_count": 330,
   "id": "e83ab0b3-d6d9-4c41-9d5d-b5a015c4afe8",
   "metadata": {},
   "outputs": [
    {
     "name": "stdout",
     "output_type": "stream",
     "text": [
      "40\n"
     ]
    }
   ],
   "source": [
    "answer= (df[['title','channelId']].value_counts()>=20).sum()\n",
    "print(answer)"
   ]
  }
 ],
 "metadata": {
  "kernelspec": {
   "display_name": "Python 3 (ipykernel)",
   "language": "python",
   "name": "python3"
  },
  "language_info": {
   "codemirror_mode": {
    "name": "ipython",
    "version": 3
   },
   "file_extension": ".py",
   "mimetype": "text/x-python",
   "name": "python",
   "nbconvert_exporter": "python",
   "pygments_lexer": "ipython3",
   "version": "3.8.12"
  }
 },
 "nbformat": 4,
 "nbformat_minor": 5
}
