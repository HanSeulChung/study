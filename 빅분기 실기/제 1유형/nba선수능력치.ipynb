{
 "cells": [
  {
   "cell_type": "markdown",
   "id": "458fff68-9aec-433e-a976-9905b96dbaeb",
   "metadata": {},
   "source": [
    "# 목록 및 데이터 불러오기"
   ]
  },
  {
   "cell_type": "markdown",
   "id": "1c8c8f12-31fa-4888-8df9-d5bd0b3a5696",
   "metadata": {},
   "source": [
    "Data url :[https://raw.githubusercontent.com/Datamanim/datarepo/main/nba/nba.csv](https://raw.githubusercontent.com/Datamanim/datarepo/main/nba/nba.csv)\n",
    "\n",
    "Question **Tm 컬럼은 각 팀의 이름을 의미한다. TOR팀의 평균나이를 소수 4째 자리까지 구하여라**\n",
    "\n",
    "Question **Pos 컬럼은 포지션을 의미한다. 전체 선수 중 최소나이대의 선수들을 필터하고 그들 중 가장 많은 포지션은 무엇인지 확인하라**\n",
    "\n",
    "<font color=red>Question **선수들의 이름은 first_name+ 공백 + last_name으로 이루어져 있다. 가장 많은 first_name은 무엇이며 몇 회 발생하는지 확인하라**\n",
    "\n",
    "Question **PTS컬럼은 경기당 평균득점수 이다. 각포지션별로 경기당 평균득점수의 평균을 구하여라**\n",
    "\n",
    "Question **G컬럼은 참여한 경기의 숫자이다. 각 팀별로 가장 높은 경기참여 수를 가진 선수들의 경기 참여 숫자의 평균을 구하여라**\n",
    "\n",
    "Question **Tm의 값이 MIA이며 Pos는 C또는 PF인 선수의 MP값의 평균은?**\n",
    "\n",
    "Question **전체 데이터중 G의 평균값의 1.5배 이상인 데이터들만 추출했을때 3P값의 평균은?**\n",
    "\n",
    "Question **Age의 평균 이상인 그룹과 평균 미만인 그룹간의 G값의 평균의 차이는?**\n",
    "\n",
    "Question **평균나이가 가장 젊은 팀은 어디인가**\n",
    "\n",
    "Question **Pos그룹별 평균 MP값을 구하여라**\n"
   ]
  },
  {
   "cell_type": "code",
   "execution_count": 33,
   "id": "21026240-63ee-41d6-8bb6-ddd822561387",
   "metadata": {},
   "outputs": [
    {
     "data": {
      "text/html": [
       "<div>\n",
       "<style scoped>\n",
       "    .dataframe tbody tr th:only-of-type {\n",
       "        vertical-align: middle;\n",
       "    }\n",
       "\n",
       "    .dataframe tbody tr th {\n",
       "        vertical-align: top;\n",
       "    }\n",
       "\n",
       "    .dataframe thead th {\n",
       "        text-align: right;\n",
       "    }\n",
       "</style>\n",
       "<table border=\"1\" class=\"dataframe\">\n",
       "  <thead>\n",
       "    <tr style=\"text-align: right;\">\n",
       "      <th></th>\n",
       "      <th>Rk</th>\n",
       "      <th>Player</th>\n",
       "      <th>Pos</th>\n",
       "      <th>Age</th>\n",
       "      <th>Tm</th>\n",
       "      <th>G</th>\n",
       "      <th>GS</th>\n",
       "      <th>MP</th>\n",
       "      <th>FG</th>\n",
       "      <th>FGA</th>\n",
       "      <th>FG%</th>\n",
       "      <th>3P</th>\n",
       "      <th>3PA</th>\n",
       "      <th>3P%</th>\n",
       "      <th>2P</th>\n",
       "      <th>2PA</th>\n",
       "      <th>2P%</th>\n",
       "      <th>eFG%</th>\n",
       "      <th>FT</th>\n",
       "      <th>FTA</th>\n",
       "      <th>FT%</th>\n",
       "      <th>ORB</th>\n",
       "      <th>DRB</th>\n",
       "      <th>TRB</th>\n",
       "      <th>AST</th>\n",
       "      <th>STL</th>\n",
       "      <th>BLK</th>\n",
       "      <th>TOV</th>\n",
       "      <th>PF</th>\n",
       "      <th>PTS</th>\n",
       "    </tr>\n",
       "  </thead>\n",
       "  <tbody>\n",
       "    <tr>\n",
       "      <th>0</th>\n",
       "      <td>1</td>\n",
       "      <td>Precious Achiuwa</td>\n",
       "      <td>C</td>\n",
       "      <td>22</td>\n",
       "      <td>TOR</td>\n",
       "      <td>73</td>\n",
       "      <td>28</td>\n",
       "      <td>23.6</td>\n",
       "      <td>3.6</td>\n",
       "      <td>8.3</td>\n",
       "      <td>0.439</td>\n",
       "      <td>0.8</td>\n",
       "      <td>2.1</td>\n",
       "      <td>0.359</td>\n",
       "      <td>2.9</td>\n",
       "      <td>6.1</td>\n",
       "      <td>0.468</td>\n",
       "      <td>0.486</td>\n",
       "      <td>1.1</td>\n",
       "      <td>1.8</td>\n",
       "      <td>0.595</td>\n",
       "      <td>2.0</td>\n",
       "      <td>4.5</td>\n",
       "      <td>6.5</td>\n",
       "      <td>1.1</td>\n",
       "      <td>0.5</td>\n",
       "      <td>0.6</td>\n",
       "      <td>1.2</td>\n",
       "      <td>2.1</td>\n",
       "      <td>9.1</td>\n",
       "    </tr>\n",
       "    <tr>\n",
       "      <th>1</th>\n",
       "      <td>2</td>\n",
       "      <td>Steven Adams</td>\n",
       "      <td>C</td>\n",
       "      <td>28</td>\n",
       "      <td>MEM</td>\n",
       "      <td>76</td>\n",
       "      <td>75</td>\n",
       "      <td>26.3</td>\n",
       "      <td>2.8</td>\n",
       "      <td>5.1</td>\n",
       "      <td>0.547</td>\n",
       "      <td>0.0</td>\n",
       "      <td>0.0</td>\n",
       "      <td>0.000</td>\n",
       "      <td>2.8</td>\n",
       "      <td>5.0</td>\n",
       "      <td>0.548</td>\n",
       "      <td>0.547</td>\n",
       "      <td>1.4</td>\n",
       "      <td>2.6</td>\n",
       "      <td>0.543</td>\n",
       "      <td>4.6</td>\n",
       "      <td>5.4</td>\n",
       "      <td>10.0</td>\n",
       "      <td>3.4</td>\n",
       "      <td>0.9</td>\n",
       "      <td>0.8</td>\n",
       "      <td>1.5</td>\n",
       "      <td>2.0</td>\n",
       "      <td>6.9</td>\n",
       "    </tr>\n",
       "    <tr>\n",
       "      <th>2</th>\n",
       "      <td>3</td>\n",
       "      <td>Bam Adebayo</td>\n",
       "      <td>C</td>\n",
       "      <td>24</td>\n",
       "      <td>MIA</td>\n",
       "      <td>56</td>\n",
       "      <td>56</td>\n",
       "      <td>32.6</td>\n",
       "      <td>7.3</td>\n",
       "      <td>13.0</td>\n",
       "      <td>0.557</td>\n",
       "      <td>0.0</td>\n",
       "      <td>0.1</td>\n",
       "      <td>0.000</td>\n",
       "      <td>7.3</td>\n",
       "      <td>12.9</td>\n",
       "      <td>0.562</td>\n",
       "      <td>0.557</td>\n",
       "      <td>4.6</td>\n",
       "      <td>6.1</td>\n",
       "      <td>0.753</td>\n",
       "      <td>2.4</td>\n",
       "      <td>7.6</td>\n",
       "      <td>10.1</td>\n",
       "      <td>3.4</td>\n",
       "      <td>1.4</td>\n",
       "      <td>0.8</td>\n",
       "      <td>2.6</td>\n",
       "      <td>3.1</td>\n",
       "      <td>19.1</td>\n",
       "    </tr>\n",
       "  </tbody>\n",
       "</table>\n",
       "</div>"
      ],
      "text/plain": [
       "   Rk            Player Pos  Age   Tm   G  GS    MP   FG   FGA    FG%   3P  3PA    3P%   2P   2PA    2P%   eFG%   FT  FTA    FT%  ORB  DRB   TRB  AST  STL  BLK  TOV   PF   PTS\n",
       "0   1  Precious Achiuwa   C   22  TOR  73  28  23.6  3.6   8.3  0.439  0.8  2.1  0.359  2.9   6.1  0.468  0.486  1.1  1.8  0.595  2.0  4.5   6.5  1.1  0.5  0.6  1.2  2.1   9.1\n",
       "1   2      Steven Adams   C   28  MEM  76  75  26.3  2.8   5.1  0.547  0.0  0.0  0.000  2.8   5.0  0.548  0.547  1.4  2.6  0.543  4.6  5.4  10.0  3.4  0.9  0.8  1.5  2.0   6.9\n",
       "2   3       Bam Adebayo   C   24  MIA  56  56  32.6  7.3  13.0  0.557  0.0  0.1  0.000  7.3  12.9  0.562  0.557  4.6  6.1  0.753  2.4  7.6  10.1  3.4  1.4  0.8  2.6  3.1  19.1"
      ]
     },
     "execution_count": 33,
     "metadata": {},
     "output_type": "execute_result"
    }
   ],
   "source": [
    "import pandas as pd\n",
    "pd.set_option('display.max_columns',30)\n",
    "pd.set_option('display.width',  1000)\n",
    "df = pd.read_csv(\"https://raw.githubusercontent.com/Datamanim/datarepo/main/nba/nba.csv\",encoding=\"L1\", sep=';')\n",
    "df.head(3)"
   ]
  },
  {
   "cell_type": "markdown",
   "id": "ed64b4af-a399-4620-b18e-e0e27dcb42bf",
   "metadata": {
    "jp-MarkdownHeadingCollapsed": true,
    "tags": []
   },
   "source": [
    "from IPython.core.display import display, HTML\n",
    "**전체 구간을 넓게**\n",
    "display(HTML(\"<style>.container { width:100% !important; }</style>\")) \n",
    "\n",
    "**각 컬럼 width 최대로**\n",
    "pd.set_option('display.max_colwidth', -1)\n",
    "\n",
    "**rows 500**\n",
    "pd.set_option('display.max_rows', 500)\n",
    "\n",
    "**columns**\n",
    "pd.set_option('display.max_columns', 500)\n",
    "\n",
    "pd.set_option('display.width', 1000)"
   ]
  },
  {
   "cell_type": "markdown",
   "id": "6d98e6ff-c7c2-4b71-889a-5cd02671802d",
   "metadata": {
    "jp-MarkdownHeadingCollapsed": true,
    "tags": []
   },
   "source": [
    "# Question **Tm 컬럼은 각 팀의 이름을 의미한다. TOR팀의 평균나이를 소수 4째 자리까지 구하여라**"
   ]
  },
  {
   "cell_type": "code",
   "execution_count": 10,
   "id": "ecceeceb-ea51-46ca-85ae-5fb442b6c189",
   "metadata": {},
   "outputs": [
    {
     "name": "stdout",
     "output_type": "stream",
     "text": [
      "24.8696\n"
     ]
    }
   ],
   "source": [
    "answer = df[df.Tm==\"TOR\"].Age.mean()\n",
    "print(round(answer,4))"
   ]
  },
  {
   "cell_type": "code",
   "execution_count": 87,
   "id": "f08839f8-a56c-4e46-96ec-219a67b5072d",
   "metadata": {},
   "outputs": [
    {
     "name": "stdout",
     "output_type": "stream",
     "text": [
      "24.8696\n"
     ]
    }
   ],
   "source": [
    "# 답\n",
    "result = round(df[df.Tm =='TOR'].Age.mean(),4)\n",
    "print(result)"
   ]
  },
  {
   "cell_type": "markdown",
   "id": "31e9eced-9d2a-4a80-9a93-2ff2641c3ebc",
   "metadata": {
    "jp-MarkdownHeadingCollapsed": true,
    "tags": []
   },
   "source": [
    "# Question **Pos 컬럼은 포지션을 의미한다. 전체 선수 중 최소나이대의 선수들을 필터하고 그들 중 가장 많은 포지션은 무엇인지 확인하라**"
   ]
  },
  {
   "cell_type": "code",
   "execution_count": 30,
   "id": "c7b75ba8-68c5-47b9-b953-9e3ef9970cd8",
   "metadata": {},
   "outputs": [
    {
     "data": {
      "text/plain": [
       "'SG'"
      ]
     },
     "execution_count": 30,
     "metadata": {},
     "output_type": "execute_result"
    }
   ],
   "source": [
    "answer= df[df.Age==df.Age.min()].Pos.value_counts().index[0]\n",
    "answer"
   ]
  },
  {
   "cell_type": "code",
   "execution_count": 88,
   "id": "a2161c98-979c-417f-845a-454c85837bb0",
   "metadata": {},
   "outputs": [
    {
     "name": "stdout",
     "output_type": "stream",
     "text": [
      "SG\n"
     ]
    }
   ],
   "source": [
    "# 답\n",
    "result = df[df.Age==df.Age.min()].Pos.value_counts().index[0]\n",
    "print(result)"
   ]
  },
  {
   "cell_type": "markdown",
   "id": "d6a8bcc4-b81a-4b88-82bf-b16f88e7c23c",
   "metadata": {},
   "source": [
    "# Question **선수들의 이름은 first_name+ 공백 + last_name으로 이루어져 있다. 가장 많은 first_name은 무엇이며 몇 회 발생하는지 확인하라**"
   ]
  },
  {
   "cell_type": "code",
   "execution_count": 100,
   "id": "c037ab28-4349-49c0-8cc7-26ff9d0fa6c7",
   "metadata": {},
   "outputs": [
    {
     "data": {
      "text/plain": [
       "0       Precious Achiuwa\n",
       "1           Steven Adams\n",
       "2            Bam Adebayo\n",
       "3           Santi Aldama\n",
       "4      LaMarcus Aldridge\n",
       "             ...        \n",
       "807       Thaddeus Young\n",
       "808           Trae Young\n",
       "809       Omer Yurtseven\n",
       "810          Cody Zeller\n",
       "811          Ivica Zubac\n",
       "Name: Player, Length: 812, dtype: object"
      ]
     },
     "execution_count": 100,
     "metadata": {},
     "output_type": "execute_result"
    }
   ],
   "source": [
    "df.Player"
   ]
  },
  {
   "cell_type": "code",
   "execution_count": 103,
   "id": "d53ae8d1-7c31-4ef7-aa5c-7d71bee2abbe",
   "metadata": {},
   "outputs": [
    {
     "data": {
      "text/plain": [
       "812"
      ]
     },
     "execution_count": 103,
     "metadata": {},
     "output_type": "execute_result"
    }
   ],
   "source": [
    "len(df.Player)"
   ]
  },
  {
   "cell_type": "code",
   "execution_count": 105,
   "id": "fb07889d-0ab6-4e93-9f65-a6a58a133c2f",
   "metadata": {},
   "outputs": [
    {
     "data": {
      "text/plain": [
       "'Santi'"
      ]
     },
     "execution_count": 105,
     "metadata": {},
     "output_type": "execute_result"
    }
   ],
   "source": [
    "df.Player[3].split()[0]"
   ]
  },
  {
   "cell_type": "code",
   "execution_count": 130,
   "id": "e3fab484-c255-4e4d-8636-c7a120d9c192",
   "metadata": {},
   "outputs": [
    {
     "data": {
      "text/html": [
       "<div>\n",
       "<style scoped>\n",
       "    .dataframe tbody tr th:only-of-type {\n",
       "        vertical-align: middle;\n",
       "    }\n",
       "\n",
       "    .dataframe tbody tr th {\n",
       "        vertical-align: top;\n",
       "    }\n",
       "\n",
       "    .dataframe thead th {\n",
       "        text-align: right;\n",
       "    }\n",
       "</style>\n",
       "<table border=\"1\" class=\"dataframe\">\n",
       "  <thead>\n",
       "    <tr style=\"text-align: right;\">\n",
       "      <th></th>\n",
       "      <th>Rk</th>\n",
       "      <th>Player</th>\n",
       "      <th>Pos</th>\n",
       "      <th>Age</th>\n",
       "      <th>Tm</th>\n",
       "      <th>G</th>\n",
       "      <th>GS</th>\n",
       "      <th>MP</th>\n",
       "      <th>FG</th>\n",
       "      <th>FGA</th>\n",
       "      <th>FG%</th>\n",
       "      <th>3P</th>\n",
       "      <th>3PA</th>\n",
       "      <th>3P%</th>\n",
       "      <th>2P</th>\n",
       "      <th>...</th>\n",
       "      <th>2P%</th>\n",
       "      <th>eFG%</th>\n",
       "      <th>FT</th>\n",
       "      <th>FTA</th>\n",
       "      <th>FT%</th>\n",
       "      <th>ORB</th>\n",
       "      <th>DRB</th>\n",
       "      <th>TRB</th>\n",
       "      <th>AST</th>\n",
       "      <th>STL</th>\n",
       "      <th>BLK</th>\n",
       "      <th>TOV</th>\n",
       "      <th>PF</th>\n",
       "      <th>PTS</th>\n",
       "      <th>first_name</th>\n",
       "    </tr>\n",
       "  </thead>\n",
       "  <tbody>\n",
       "    <tr>\n",
       "      <th>0</th>\n",
       "      <td>1</td>\n",
       "      <td>Precious Achiuwa</td>\n",
       "      <td>C</td>\n",
       "      <td>22</td>\n",
       "      <td>TOR</td>\n",
       "      <td>73</td>\n",
       "      <td>28</td>\n",
       "      <td>23.6</td>\n",
       "      <td>3.6</td>\n",
       "      <td>8.3</td>\n",
       "      <td>0.439</td>\n",
       "      <td>0.8</td>\n",
       "      <td>2.1</td>\n",
       "      <td>0.359</td>\n",
       "      <td>2.9</td>\n",
       "      <td>...</td>\n",
       "      <td>0.468</td>\n",
       "      <td>0.486</td>\n",
       "      <td>1.1</td>\n",
       "      <td>1.8</td>\n",
       "      <td>0.595</td>\n",
       "      <td>2.0</td>\n",
       "      <td>4.5</td>\n",
       "      <td>6.5</td>\n",
       "      <td>1.1</td>\n",
       "      <td>0.5</td>\n",
       "      <td>0.6</td>\n",
       "      <td>1.2</td>\n",
       "      <td>2.1</td>\n",
       "      <td>9.1</td>\n",
       "      <td>Precious</td>\n",
       "    </tr>\n",
       "    <tr>\n",
       "      <th>1</th>\n",
       "      <td>2</td>\n",
       "      <td>Steven Adams</td>\n",
       "      <td>C</td>\n",
       "      <td>28</td>\n",
       "      <td>MEM</td>\n",
       "      <td>76</td>\n",
       "      <td>75</td>\n",
       "      <td>26.3</td>\n",
       "      <td>2.8</td>\n",
       "      <td>5.1</td>\n",
       "      <td>0.547</td>\n",
       "      <td>0.0</td>\n",
       "      <td>0.0</td>\n",
       "      <td>0.000</td>\n",
       "      <td>2.8</td>\n",
       "      <td>...</td>\n",
       "      <td>0.548</td>\n",
       "      <td>0.547</td>\n",
       "      <td>1.4</td>\n",
       "      <td>2.6</td>\n",
       "      <td>0.543</td>\n",
       "      <td>4.6</td>\n",
       "      <td>5.4</td>\n",
       "      <td>10.0</td>\n",
       "      <td>3.4</td>\n",
       "      <td>0.9</td>\n",
       "      <td>0.8</td>\n",
       "      <td>1.5</td>\n",
       "      <td>2.0</td>\n",
       "      <td>6.9</td>\n",
       "      <td>Steven</td>\n",
       "    </tr>\n",
       "    <tr>\n",
       "      <th>2</th>\n",
       "      <td>3</td>\n",
       "      <td>Bam Adebayo</td>\n",
       "      <td>C</td>\n",
       "      <td>24</td>\n",
       "      <td>MIA</td>\n",
       "      <td>56</td>\n",
       "      <td>56</td>\n",
       "      <td>32.6</td>\n",
       "      <td>7.3</td>\n",
       "      <td>13.0</td>\n",
       "      <td>0.557</td>\n",
       "      <td>0.0</td>\n",
       "      <td>0.1</td>\n",
       "      <td>0.000</td>\n",
       "      <td>7.3</td>\n",
       "      <td>...</td>\n",
       "      <td>0.562</td>\n",
       "      <td>0.557</td>\n",
       "      <td>4.6</td>\n",
       "      <td>6.1</td>\n",
       "      <td>0.753</td>\n",
       "      <td>2.4</td>\n",
       "      <td>7.6</td>\n",
       "      <td>10.1</td>\n",
       "      <td>3.4</td>\n",
       "      <td>1.4</td>\n",
       "      <td>0.8</td>\n",
       "      <td>2.6</td>\n",
       "      <td>3.1</td>\n",
       "      <td>19.1</td>\n",
       "      <td>Bam</td>\n",
       "    </tr>\n",
       "  </tbody>\n",
       "</table>\n",
       "<p>3 rows × 31 columns</p>\n",
       "</div>"
      ],
      "text/plain": [
       "   Rk            Player Pos  Age   Tm   G  GS    MP   FG   FGA    FG%   3P  3PA    3P%   2P  ...    2P%   eFG%   FT  FTA    FT%  ORB  DRB   TRB  AST  STL  BLK  TOV   PF   PTS  first_name\n",
       "0   1  Precious Achiuwa   C   22  TOR  73  28  23.6  3.6   8.3  0.439  0.8  2.1  0.359  2.9  ...  0.468  0.486  1.1  1.8  0.595  2.0  4.5   6.5  1.1  0.5  0.6  1.2  2.1   9.1    Precious\n",
       "1   2      Steven Adams   C   28  MEM  76  75  26.3  2.8   5.1  0.547  0.0  0.0  0.000  2.8  ...  0.548  0.547  1.4  2.6  0.543  4.6  5.4  10.0  3.4  0.9  0.8  1.5  2.0   6.9      Steven\n",
       "2   3       Bam Adebayo   C   24  MIA  56  56  32.6  7.3  13.0  0.557  0.0  0.1  0.000  7.3  ...  0.562  0.557  4.6  6.1  0.753  2.4  7.6  10.1  3.4  1.4  0.8  2.6  3.1  19.1         Bam\n",
       "\n",
       "[3 rows x 31 columns]"
      ]
     },
     "execution_count": 130,
     "metadata": {},
     "output_type": "execute_result"
    }
   ],
   "source": [
    "df['first_name']= df.Player.str.split().str[0]\n",
    "df.head(3)"
   ]
  },
  {
   "cell_type": "code",
   "execution_count": 133,
   "id": "97e6d295-5d2e-4879-a389-878397ad88f3",
   "metadata": {},
   "outputs": [
    {
     "data": {
      "text/plain": [
       "Justin    14\n",
       "Name: first_name, dtype: int64"
      ]
     },
     "execution_count": 133,
     "metadata": {},
     "output_type": "execute_result"
    }
   ],
   "source": [
    "answer = df.first_name.value_counts().head(1)\n",
    "answer "
   ]
  },
  {
   "cell_type": "code",
   "execution_count": 114,
   "id": "30c1c830-5ad6-4c7b-8c1c-fb19fc227476",
   "metadata": {},
   "outputs": [
    {
     "name": "stdout",
     "output_type": "stream",
     "text": [
      "justin    14\n",
      "Name: Player, dtype: int64\n"
     ]
    }
   ],
   "source": [
    "# 답\n",
    "result= df['Player'].str.split().str[0].str.lower().value_counts().head(1)\n",
    "print(result)"
   ]
  },
  {
   "cell_type": "markdown",
   "id": "fc54fd75-5444-4656-ac0d-85214bf2c0a2",
   "metadata": {
    "jp-MarkdownHeadingCollapsed": true,
    "tags": []
   },
   "source": [
    "# Question **PTS컬럼은 경기당 평균득점수 이다. 각포지션별로 경기당 평균득점수의 평균을 구하여라**"
   ]
  },
  {
   "cell_type": "code",
   "execution_count": 75,
   "id": "8ac75d34-357c-4202-9fe4-6ee191bae1ca",
   "metadata": {},
   "outputs": [
    {
     "data": {
      "text/plain": [
       "Pos\n",
       "C         7.690769\n",
       "C-PF     12.850000\n",
       "PF        7.737500\n",
       "PF-SF     8.500000\n",
       "PG        8.325161\n",
       "PG-SG    22.000000\n",
       "SF        7.270253\n",
       "SF-SG     8.660000\n",
       "SG        7.810553\n",
       "SG-PG     9.525000\n",
       "SG-SF     7.360000\n",
       "Name: PTS, dtype: float64"
      ]
     },
     "execution_count": 75,
     "metadata": {},
     "output_type": "execute_result"
    }
   ],
   "source": [
    "answer = df.groupby('Pos').PTS.mean()\n",
    "answer "
   ]
  },
  {
   "cell_type": "code",
   "execution_count": 89,
   "id": "b44c98d1-a0f6-4a8f-af06-dffb9c2a43b0",
   "metadata": {},
   "outputs": [
    {
     "name": "stdout",
     "output_type": "stream",
     "text": [
      "Pos\n",
      "SF        7.270253\n",
      "SG-SF     7.360000\n",
      "C         7.690769\n",
      "PF        7.737500\n",
      "SG        7.810553\n",
      "PG        8.325161\n",
      "PF-SF     8.500000\n",
      "SF-SG     8.660000\n",
      "SG-PG     9.525000\n",
      "C-PF     12.850000\n",
      "PG-SG    22.000000\n",
      "Name: PTS, dtype: float64\n"
     ]
    }
   ],
   "source": [
    "result = df.groupby('Pos')['PTS'].mean().sort_values()\n",
    "print(result)"
   ]
  },
  {
   "cell_type": "markdown",
   "id": "a92a2768-ad02-43ff-a739-bcf6d65b87ad",
   "metadata": {
    "jp-MarkdownHeadingCollapsed": true,
    "tags": []
   },
   "source": [
    "# Question **G컬럼은 참여한 경기의 숫자이다. 각 팀별로 가장 높은 경기참여 수를 가진 선수들의 경기 참여 숫자의 평균을 구하여라**"
   ]
  },
  {
   "cell_type": "code",
   "execution_count": 86,
   "id": "29dd0eeb-3699-46d2-8a6f-f47ef75f3012",
   "metadata": {},
   "outputs": [
    {
     "data": {
      "text/plain": [
       "77.51612903225806"
      ]
     },
     "execution_count": 86,
     "metadata": {},
     "output_type": "execute_result"
    }
   ],
   "source": [
    "answer = df.groupby('Tm').G.max().mean()\n",
    "answer"
   ]
  },
  {
   "cell_type": "code",
   "execution_count": 91,
   "id": "9daa0c6f-fc7b-4d85-8024-e75957d8232c",
   "metadata": {},
   "outputs": [
    {
     "name": "stdout",
     "output_type": "stream",
     "text": [
      "77.51612903225806\n"
     ]
    }
   ],
   "source": [
    "# 답 (내가 낫다)\n",
    "result = df.sort_values(['Tm','G']).groupby('Tm').tail(1).G.mean()\n",
    "print(result)"
   ]
  },
  {
   "cell_type": "markdown",
   "id": "b660f0ea-3217-4f72-bf57-16e017b98209",
   "metadata": {},
   "source": [
    "# Question **Tm의 값이 MIA이며 Pos는 C또는 PF인 선수의 MP값의 평균은?**"
   ]
  },
  {
   "cell_type": "code",
   "execution_count": 84,
   "id": "511aa8ff-2bd6-4f9f-953b-4d788cefcad9",
   "metadata": {},
   "outputs": [
    {
     "data": {
      "text/plain": [
       "16.7875"
      ]
     },
     "execution_count": 84,
     "metadata": {},
     "output_type": "execute_result"
    }
   ],
   "source": [
    "answer = df[(df.Tm==\"MIA\") & ((df.Pos =='C')|(df.Pos=='PF'))].MP.mean()\n",
    "answer"
   ]
  },
  {
   "cell_type": "code",
   "execution_count": 92,
   "id": "f30d850b-eccc-4acb-9c55-ef466d39c646",
   "metadata": {},
   "outputs": [
    {
     "name": "stdout",
     "output_type": "stream",
     "text": [
      "16.7875\n"
     ]
    }
   ],
   "source": [
    "# 답 (isin이 훨씬 편하겠다! 이게낫다\n",
    "result = df[(df.Tm =='MIA') & (df.Pos.isin(['C','PF']))].MP.mean()\n",
    "print(result)"
   ]
  },
  {
   "cell_type": "markdown",
   "id": "944581f4-6627-4e78-b9ae-2f6234b92294",
   "metadata": {
    "jp-MarkdownHeadingCollapsed": true,
    "tags": []
   },
   "source": [
    "# Question **전체 데이터중 G의 평균값의 1.5배 이상인 데이터들만 추출했을때 3P값의 평균은?**"
   ]
  },
  {
   "cell_type": "code",
   "execution_count": 76,
   "id": "e422b261-8ecb-41f1-98f1-16a7f22a062a",
   "metadata": {},
   "outputs": [
    {
     "data": {
      "text/plain": [
       "1.3853658536585365"
      ]
     },
     "execution_count": 76,
     "metadata": {},
     "output_type": "execute_result"
    }
   ],
   "source": [
    "target = df[df.G >= 1.5*(df.G.mean())]['3P']\n",
    "answer = target.mean()\n",
    "answer"
   ]
  },
  {
   "cell_type": "code",
   "execution_count": 94,
   "id": "ffc2c967-5d2c-4e01-924b-8b5d53b0e7b2",
   "metadata": {},
   "outputs": [
    {
     "name": "stdout",
     "output_type": "stream",
     "text": [
      "1.3853658536585365\n"
     ]
    }
   ],
   "source": [
    "# 답\n",
    "result =  df[df.G >= df.G.mean()*1.5]['3P'].mean()\n",
    "print(result)"
   ]
  },
  {
   "cell_type": "markdown",
   "id": "e03fd3ff-a118-4596-96f2-5a81eb4c30e2",
   "metadata": {
    "jp-MarkdownHeadingCollapsed": true,
    "tags": []
   },
   "source": [
    "# Question **Age의 평균 이상인 그룹과 평균 미만인 그룹간의 G값의 평균의 차이는?**"
   ]
  },
  {
   "cell_type": "code",
   "execution_count": 77,
   "id": "41b157c7-25f4-4c9e-83b6-c9a348c5a291",
   "metadata": {},
   "outputs": [
    {
     "data": {
      "text/plain": [
       "3.787674551781862"
      ]
     },
     "execution_count": 77,
     "metadata": {},
     "output_type": "execute_result"
    }
   ],
   "source": [
    "answer = df[df.Age >= df.Age.mean()].G.mean() - df[df.Age < df.Age.mean()].G.mean()\n",
    "answer "
   ]
  },
  {
   "cell_type": "code",
   "execution_count": 95,
   "id": "428cbef9-5618-4afa-8405-0fb02d24b67b",
   "metadata": {},
   "outputs": [
    {
     "name": "stdout",
     "output_type": "stream",
     "text": [
      "3.787674551781862\n"
     ]
    }
   ],
   "source": [
    "#답\n",
    "result = df[df.Age >= df.Age.mean()].G.mean() - df[df.Age < df.Age.mean()].G.mean()\n",
    "print(result)"
   ]
  },
  {
   "cell_type": "markdown",
   "id": "e337d7f7-6e31-4229-b639-2366d968b080",
   "metadata": {
    "jp-MarkdownHeadingCollapsed": true,
    "tags": []
   },
   "source": [
    "# Question **평균나이가 가장 젊은 팀은 어디인가**"
   ]
  },
  {
   "cell_type": "code",
   "execution_count": 80,
   "id": "549fd43d-c41a-4987-b819-2df44eb4b2f5",
   "metadata": {},
   "outputs": [
    {
     "data": {
      "text/plain": [
       "'MEM'"
      ]
     },
     "execution_count": 80,
     "metadata": {},
     "output_type": "execute_result"
    }
   ],
   "source": [
    "answer = df.groupby('Tm').Age.mean().sort_values().index[0]\n",
    "answer"
   ]
  },
  {
   "cell_type": "code",
   "execution_count": 96,
   "id": "2332e3e7-6362-447e-925f-30293c298e44",
   "metadata": {},
   "outputs": [
    {
     "name": "stdout",
     "output_type": "stream",
     "text": [
      "MEM\n"
     ]
    }
   ],
   "source": [
    "# 답\n",
    "result = df.groupby('Tm')['Age'].mean().sort_values().index[0]\n",
    "print(result)"
   ]
  },
  {
   "cell_type": "markdown",
   "id": "b637227a-16e3-495a-b12b-ea487c9c9370",
   "metadata": {
    "jp-MarkdownHeadingCollapsed": true,
    "tags": []
   },
   "source": [
    "# Question Pos그룹별 평균 MP값을 구하여라"
   ]
  },
  {
   "cell_type": "code",
   "execution_count": 81,
   "id": "b09b8b71-a1ff-406c-bab6-e978706b3af6",
   "metadata": {},
   "outputs": [
    {
     "data": {
      "text/plain": [
       "Pos\n",
       "C        16.990000\n",
       "C-PF     25.350000\n",
       "PF       17.937500\n",
       "PF-SF    27.300000\n",
       "PG       19.547742\n",
       "PG-SG    37.200000\n",
       "SF       17.514557\n",
       "SF-SG    20.340000\n",
       "SG       18.554271\n",
       "SG-PG    22.950000\n",
       "SG-SF    19.620000\n",
       "Name: MP, dtype: float64"
      ]
     },
     "execution_count": 81,
     "metadata": {},
     "output_type": "execute_result"
    }
   ],
   "source": [
    "answer = df.groupby('Pos').MP.mean()\n",
    "answer"
   ]
  },
  {
   "cell_type": "code",
   "execution_count": 97,
   "id": "9e761720-b930-41c3-bf72-24748310d40e",
   "metadata": {},
   "outputs": [
    {
     "name": "stdout",
     "output_type": "stream",
     "text": [
      "Pos\n",
      "C        16.990000\n",
      "C-PF     25.350000\n",
      "PF       17.937500\n",
      "PF-SF    27.300000\n",
      "PG       19.547742\n",
      "PG-SG    37.200000\n",
      "SF       17.514557\n",
      "SF-SG    20.340000\n",
      "SG       18.554271\n",
      "SG-PG    22.950000\n",
      "SG-SF    19.620000\n",
      "Name: MP, dtype: float64\n"
     ]
    }
   ],
   "source": [
    "# 답\n",
    "result = df.groupby('Pos')['MP'].mean()\n",
    "print(result)"
   ]
  },
  {
   "cell_type": "code",
   "execution_count": null,
   "id": "0a806909-0c57-44f6-b41c-5bf64c344900",
   "metadata": {},
   "outputs": [],
   "source": []
  }
 ],
 "metadata": {
  "kernelspec": {
   "display_name": "Python 3 (ipykernel)",
   "language": "python",
   "name": "python3"
  },
  "language_info": {
   "codemirror_mode": {
    "name": "ipython",
    "version": 3
   },
   "file_extension": ".py",
   "mimetype": "text/x-python",
   "name": "python",
   "nbconvert_exporter": "python",
   "pygments_lexer": "ipython3",
   "version": "3.8.12"
  }
 },
 "nbformat": 4,
 "nbformat_minor": 5
}
