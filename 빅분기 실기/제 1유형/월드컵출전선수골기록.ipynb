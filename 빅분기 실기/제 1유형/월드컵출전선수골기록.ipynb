{
 "cells": [
  {
   "cell_type": "markdown",
   "id": "dde7aa42-48c0-4d35-9b2c-13dde3617907",
   "metadata": {},
   "source": [
    "data url = https://raw.githubusercontent.com/Datamanim/datarepo/main/worldcup/worldcupgoals.csv\n",
    "\n",
    "Question1 **주어진 전체 기간의 각 나라별 골득점수 상위 5개 국가와 그 득점수를 데이터프레임형태로 출력하라**\n",
    "\n",
    "Question2 **주어진 전체기간동안 골득점을 한 선수가 가장 많은 나라 상위 5개 국가와 그 선수 숫자를 데이터 프레임 형식으로 출력하라**\n",
    "\n",
    "Question3 **Years 컬럼은 년도 -년도 형식으로 구성되어있고, 각 년도는 4자리 숫자이다. 년도 표기가 4자리 숫자로 안된 케이스가 존재한다. 해당 건은 몇건인지 출력하라**\n",
    "\n",
    "Question4  **Q3에서 발생한 예외 케이스를 제외한 데이터프레임을 df2라고 정의하고 데이터의 행의 숫자를 출력하라 (아래 문제부터는 df2로 풀이하겠습니다)**\n",
    "\n",
    "Question5 **월드컵 출전횟수를 나타내는 ‘LenCup’ 컬럼을 추가하고 4회 출전한 선수의 숫자를 구하여라**\n",
    "\n",
    "Question6 **Yugoslavia 국가의 월드컵 출전횟수가 2회인 선수들의 숫자를 구하여라**\n",
    "\n",
    "Question7 **2002년도에 출전한 전체 선수는 몇명인가?**\n",
    "\n",
    "Question8 **이름에 ‘carlos’ 단어가 들어가는 선수의 숫자는 몇 명인가? (대, 소문자 구분 x)**\n",
    "\n",
    "Question9 **월드컵 출전 횟수가 1회뿐인 선수들 중에서 가장 많은 득점을 올렸던 선수는 누구인가?**\n",
    "\n",
    "Question10 **월드컵 출전횟수가 1회 뿐인 선수들이 가장 많은 국가는 어디인가?**"
   ]
  },
  {
   "cell_type": "code",
   "execution_count": 58,
   "id": "23e6ba7e-7112-4233-8783-54f00695ac05",
   "metadata": {},
   "outputs": [
    {
     "data": {
      "text/html": [
       "<div>\n",
       "<style scoped>\n",
       "    .dataframe tbody tr th:only-of-type {\n",
       "        vertical-align: middle;\n",
       "    }\n",
       "\n",
       "    .dataframe tbody tr th {\n",
       "        vertical-align: top;\n",
       "    }\n",
       "\n",
       "    .dataframe thead th {\n",
       "        text-align: right;\n",
       "    }\n",
       "</style>\n",
       "<table border=\"1\" class=\"dataframe\">\n",
       "  <thead>\n",
       "    <tr style=\"text-align: right;\">\n",
       "      <th></th>\n",
       "      <th>Player</th>\n",
       "      <th>Goals</th>\n",
       "      <th>Years</th>\n",
       "      <th>Country</th>\n",
       "    </tr>\n",
       "  </thead>\n",
       "  <tbody>\n",
       "    <tr>\n",
       "      <th>0</th>\n",
       "      <td>Miroslav Klose</td>\n",
       "      <td>16</td>\n",
       "      <td>2002-2006-2010-2014</td>\n",
       "      <td>Germany</td>\n",
       "    </tr>\n",
       "    <tr>\n",
       "      <th>1</th>\n",
       "      <td>Ronaldo</td>\n",
       "      <td>15</td>\n",
       "      <td>1998-2002-2006</td>\n",
       "      <td>Brazil</td>\n",
       "    </tr>\n",
       "    <tr>\n",
       "      <th>2</th>\n",
       "      <td>Gerd Muller</td>\n",
       "      <td>14</td>\n",
       "      <td>1970-1974</td>\n",
       "      <td>Germany</td>\n",
       "    </tr>\n",
       "  </tbody>\n",
       "</table>\n",
       "</div>"
      ],
      "text/plain": [
       "           Player  Goals                Years  Country\n",
       "0  Miroslav Klose     16  2002-2006-2010-2014  Germany\n",
       "1         Ronaldo     15       1998-2002-2006   Brazil\n",
       "2     Gerd Muller     14            1970-1974  Germany"
      ]
     },
     "execution_count": 58,
     "metadata": {},
     "output_type": "execute_result"
    }
   ],
   "source": [
    "import pandas as pd\n",
    "df = pd.read_csv(\"https://raw.githubusercontent.com/Datamanim/datarepo/main/worldcup/worldcupgoals.csv\")\n",
    "df.head(3)"
   ]
  },
  {
   "cell_type": "code",
   "execution_count": 2,
   "id": "4e838bef-9ffb-45e3-b6eb-288c70d11d28",
   "metadata": {},
   "outputs": [
    {
     "name": "stdout",
     "output_type": "stream",
     "text": [
      "<class 'pandas.core.frame.DataFrame'>\n",
      "RangeIndex: 1295 entries, 0 to 1294\n",
      "Data columns (total 4 columns):\n",
      " #   Column   Non-Null Count  Dtype \n",
      "---  ------   --------------  ----- \n",
      " 0   Player   1295 non-null   object\n",
      " 1   Goals    1295 non-null   int64 \n",
      " 2   Years    1295 non-null   object\n",
      " 3   Country  1295 non-null   object\n",
      "dtypes: int64(1), object(3)\n",
      "memory usage: 40.6+ KB\n"
     ]
    }
   ],
   "source": [
    "df.info()"
   ]
  },
  {
   "cell_type": "markdown",
   "id": "3e985795-fd32-4521-a45e-fb40456293cd",
   "metadata": {
    "tags": []
   },
   "source": [
    "# Question1 주어진 전체 기간의 각 나라별 골득점수 상위 5개 국가와 그 득점수를 데이터프레임형태로 출력하라"
   ]
  },
  {
   "cell_type": "code",
   "execution_count": 7,
   "id": "6e65c1f5-e03f-409e-9be5-ef0f3e5312cd",
   "metadata": {},
   "outputs": [
    {
     "data": {
      "text/html": [
       "<div>\n",
       "<style scoped>\n",
       "    .dataframe tbody tr th:only-of-type {\n",
       "        vertical-align: middle;\n",
       "    }\n",
       "\n",
       "    .dataframe tbody tr th {\n",
       "        vertical-align: top;\n",
       "    }\n",
       "\n",
       "    .dataframe thead th {\n",
       "        text-align: right;\n",
       "    }\n",
       "</style>\n",
       "<table border=\"1\" class=\"dataframe\">\n",
       "  <thead>\n",
       "    <tr style=\"text-align: right;\">\n",
       "      <th></th>\n",
       "      <th>Country</th>\n",
       "      <th>Goals</th>\n",
       "    </tr>\n",
       "  </thead>\n",
       "  <tbody>\n",
       "    <tr>\n",
       "      <th>8</th>\n",
       "      <td>Brazil</td>\n",
       "      <td>228</td>\n",
       "    </tr>\n",
       "    <tr>\n",
       "      <th>25</th>\n",
       "      <td>Germany</td>\n",
       "      <td>226</td>\n",
       "    </tr>\n",
       "    <tr>\n",
       "      <th>2</th>\n",
       "      <td>Argentina</td>\n",
       "      <td>135</td>\n",
       "    </tr>\n",
       "    <tr>\n",
       "      <th>36</th>\n",
       "      <td>Italy</td>\n",
       "      <td>123</td>\n",
       "    </tr>\n",
       "    <tr>\n",
       "      <th>24</th>\n",
       "      <td>France</td>\n",
       "      <td>115</td>\n",
       "    </tr>\n",
       "  </tbody>\n",
       "</table>\n",
       "</div>"
      ],
      "text/plain": [
       "      Country  Goals\n",
       "8      Brazil    228\n",
       "25    Germany    226\n",
       "2   Argentina    135\n",
       "36      Italy    123\n",
       "24     France    115"
      ]
     },
     "execution_count": 7,
     "metadata": {},
     "output_type": "execute_result"
    }
   ],
   "source": [
    "answer = df.groupby('Country').sum().reset_index().sort_values(by='Goals',ascending=False)\n",
    "answer.head(5)"
   ]
  },
  {
   "cell_type": "markdown",
   "id": "e282a8bf-09a2-4f3f-b283-0d7e551298b4",
   "metadata": {},
   "source": [
    "답"
   ]
  },
  {
   "cell_type": "code",
   "execution_count": 188,
   "id": "a908eafb-c756-4229-be08-c54027e237c7",
   "metadata": {},
   "outputs": [
    {
     "data": {
      "text/html": [
       "<div>\n",
       "<style scoped>\n",
       "    .dataframe tbody tr th:only-of-type {\n",
       "        vertical-align: middle;\n",
       "    }\n",
       "\n",
       "    .dataframe tbody tr th {\n",
       "        vertical-align: top;\n",
       "    }\n",
       "\n",
       "    .dataframe thead th {\n",
       "        text-align: right;\n",
       "    }\n",
       "</style>\n",
       "<table border=\"1\" class=\"dataframe\">\n",
       "  <thead>\n",
       "    <tr style=\"text-align: right;\">\n",
       "      <th></th>\n",
       "      <th>Goals</th>\n",
       "      <th>check_TF</th>\n",
       "      <th>check</th>\n",
       "    </tr>\n",
       "    <tr>\n",
       "      <th>Country</th>\n",
       "      <th></th>\n",
       "      <th></th>\n",
       "      <th></th>\n",
       "    </tr>\n",
       "  </thead>\n",
       "  <tbody>\n",
       "    <tr>\n",
       "      <th>Brazil</th>\n",
       "      <td>228</td>\n",
       "      <td>81</td>\n",
       "      <td>81</td>\n",
       "    </tr>\n",
       "    <tr>\n",
       "      <th>Germany</th>\n",
       "      <td>226</td>\n",
       "      <td>76</td>\n",
       "      <td>76</td>\n",
       "    </tr>\n",
       "    <tr>\n",
       "      <th>Argentina</th>\n",
       "      <td>135</td>\n",
       "      <td>59</td>\n",
       "      <td>59</td>\n",
       "    </tr>\n",
       "    <tr>\n",
       "      <th>Italy</th>\n",
       "      <td>123</td>\n",
       "      <td>59</td>\n",
       "      <td>59</td>\n",
       "    </tr>\n",
       "    <tr>\n",
       "      <th>France</th>\n",
       "      <td>115</td>\n",
       "      <td>57</td>\n",
       "      <td>57</td>\n",
       "    </tr>\n",
       "  </tbody>\n",
       "</table>\n",
       "</div>"
      ],
      "text/plain": [
       "           Goals  check_TF  check\n",
       "Country                          \n",
       "Brazil       228        81     81\n",
       "Germany      226        76     76\n",
       "Argentina    135        59     59\n",
       "Italy        123        59     59\n",
       "France       115        57     57"
      ]
     },
     "metadata": {},
     "output_type": "display_data"
    }
   ],
   "source": [
    "result = df.groupby('Country').sum().sort_values('Goals',ascending=False).head(5)\n",
    "display(result)"
   ]
  },
  {
   "cell_type": "markdown",
   "id": "83b0cde7-eb26-4ea0-852b-a2b747e6a609",
   "metadata": {
    "tags": []
   },
   "source": [
    "# Question2 주어진 전체기간동안 골득점을 한 선수가 가장 많은 나라 상위 5개 국가와 그 선수 숫자를 데이터 프레임 형식으로 출력하라"
   ]
  },
  {
   "cell_type": "code",
   "execution_count": 159,
   "id": "79282605-0826-415a-9e0d-0d67f7f011d8",
   "metadata": {},
   "outputs": [
    {
     "data": {
      "text/plain": [
       "Country\n",
       "Brazil       81\n",
       "Germany      78\n",
       "Italy        60\n",
       "Argentina    59\n",
       "France       58\n",
       "Name: Player, dtype: int64"
      ]
     },
     "execution_count": 159,
     "metadata": {},
     "output_type": "execute_result"
    }
   ],
   "source": [
    "answer = df.groupby('Country').Player.count().sort_values(ascending=False).head(5)\n",
    "answer"
   ]
  },
  {
   "cell_type": "markdown",
   "id": "53da809e-0105-4c5a-9a09-b1433829fdb5",
   "metadata": {},
   "source": [
    "답"
   ]
  },
  {
   "cell_type": "code",
   "execution_count": 160,
   "id": "5c55f653-56d2-4235-8526-da8e6423df25",
   "metadata": {},
   "outputs": [
    {
     "name": "stdout",
     "output_type": "stream",
     "text": [
      "Country\n",
      "Brazil       81\n",
      "Germany      78\n",
      "Italy        60\n",
      "Argentina    59\n",
      "France       58\n",
      "dtype: int64\n"
     ]
    }
   ],
   "source": [
    "result = df.groupby('Country').size().sort_values(ascending=False).head(5)\n",
    "print(result)"
   ]
  },
  {
   "cell_type": "markdown",
   "id": "4be3d167-4916-43e9-9607-eb3b5677e7b3",
   "metadata": {
    "tags": []
   },
   "source": [
    "# Question3 Years 컬럼은 년도 -년도 형식으로 구성되어있고, 각 년도는 4자리 숫자이다. 년도 표기가 4자리 숫자로 안된 케이스가 존재한다. 해당 건은 몇건인지 출력하라"
   ]
  },
  {
   "cell_type": "code",
   "execution_count": 59,
   "id": "37ccf7ec-132e-45c5-acaf-239707e355a2",
   "metadata": {},
   "outputs": [
    {
     "data": {
      "text/html": [
       "<div>\n",
       "<style scoped>\n",
       "    .dataframe tbody tr th:only-of-type {\n",
       "        vertical-align: middle;\n",
       "    }\n",
       "\n",
       "    .dataframe tbody tr th {\n",
       "        vertical-align: top;\n",
       "    }\n",
       "\n",
       "    .dataframe thead th {\n",
       "        text-align: right;\n",
       "    }\n",
       "</style>\n",
       "<table border=\"1\" class=\"dataframe\">\n",
       "  <thead>\n",
       "    <tr style=\"text-align: right;\">\n",
       "      <th></th>\n",
       "      <th>Player</th>\n",
       "      <th>Goals</th>\n",
       "      <th>Years</th>\n",
       "      <th>Country</th>\n",
       "      <th>Years_split</th>\n",
       "    </tr>\n",
       "  </thead>\n",
       "  <tbody>\n",
       "    <tr>\n",
       "      <th>0</th>\n",
       "      <td>Miroslav Klose</td>\n",
       "      <td>16</td>\n",
       "      <td>2002-2006-2010-2014</td>\n",
       "      <td>Germany</td>\n",
       "      <td>[2002, 2006, 2010, 2014]</td>\n",
       "    </tr>\n",
       "    <tr>\n",
       "      <th>1</th>\n",
       "      <td>Ronaldo</td>\n",
       "      <td>15</td>\n",
       "      <td>1998-2002-2006</td>\n",
       "      <td>Brazil</td>\n",
       "      <td>[1998, 2002, 2006]</td>\n",
       "    </tr>\n",
       "  </tbody>\n",
       "</table>\n",
       "</div>"
      ],
      "text/plain": [
       "           Player  Goals                Years  Country  \\\n",
       "0  Miroslav Klose     16  2002-2006-2010-2014  Germany   \n",
       "1         Ronaldo     15       1998-2002-2006   Brazil   \n",
       "\n",
       "                Years_split  \n",
       "0  [2002, 2006, 2010, 2014]  \n",
       "1        [1998, 2002, 2006]  "
      ]
     },
     "execution_count": 59,
     "metadata": {},
     "output_type": "execute_result"
    }
   ],
   "source": [
    "df['Years_split'] = df['Years'].str.split(\"-\")\n",
    "df.head(2)"
   ]
  },
  {
   "cell_type": "code",
   "execution_count": 60,
   "id": "a8e34565-46eb-4ac4-a526-a3aeb83f7035",
   "metadata": {},
   "outputs": [
    {
     "data": {
      "text/plain": [
       "0       [2002, 2006, 2010, 2014]\n",
       "1             [1998, 2002, 2006]\n",
       "2                   [1970, 1974]\n",
       "3                         [1958]\n",
       "4       [1958, 1962, 1966, 1970]\n",
       "                  ...           \n",
       "1290                      [1962]\n",
       "1291                [1982, 1990]\n",
       "1292                      [1930]\n",
       "1293                      [1930]\n",
       "1294                [1954, 1958]\n",
       "Name: Years_split, Length: 1295, dtype: object"
      ]
     },
     "execution_count": 60,
     "metadata": {},
     "output_type": "execute_result"
    }
   ],
   "source": [
    "df['Years_split']"
   ]
  },
  {
   "cell_type": "code",
   "execution_count": 61,
   "id": "776fc4c5-9690-4447-8b0f-7585a4c140d5",
   "metadata": {},
   "outputs": [
    {
     "name": "stdout",
     "output_type": "stream",
     "text": [
      "45\n"
     ]
    }
   ],
   "source": [
    "def checkfour(x):\n",
    "    for value in x:\n",
    "        if len(str(value))!=4:\n",
    "            return False\n",
    "        return True\n",
    "\n",
    "df['check_TF']= df['Years_split'].apply(checkfour) \n",
    "answer = len(df.loc[df['check_TF']==False])\n",
    "print(answer) #45\n",
    "#df['check_TF1']= checkfour(df['Years_split']) \n",
    "# answer1 = len(df.loc[df.check_TF1 == False]) #왜 다르게 적용 되지???\n",
    "# print(answer1) #1295"
   ]
  },
  {
   "cell_type": "code",
   "execution_count": 162,
   "id": "71d8930c-9efe-4e5b-a0f8-3c7b44977d4b",
   "metadata": {},
   "outputs": [
    {
     "data": {
      "text/html": [
       "<div>\n",
       "<style scoped>\n",
       "    .dataframe tbody tr th:only-of-type {\n",
       "        vertical-align: middle;\n",
       "    }\n",
       "\n",
       "    .dataframe tbody tr th {\n",
       "        vertical-align: top;\n",
       "    }\n",
       "\n",
       "    .dataframe thead th {\n",
       "        text-align: right;\n",
       "    }\n",
       "</style>\n",
       "<table border=\"1\" class=\"dataframe\">\n",
       "  <thead>\n",
       "    <tr style=\"text-align: right;\">\n",
       "      <th></th>\n",
       "      <th>Player</th>\n",
       "      <th>Goals</th>\n",
       "      <th>Years</th>\n",
       "      <th>Country</th>\n",
       "      <th>Years_split</th>\n",
       "      <th>check_TF</th>\n",
       "      <th>yearLst</th>\n",
       "      <th>check</th>\n",
       "    </tr>\n",
       "  </thead>\n",
       "  <tbody>\n",
       "    <tr>\n",
       "      <th>0</th>\n",
       "      <td>Miroslav Klose</td>\n",
       "      <td>16</td>\n",
       "      <td>2002-2006-2010-2014</td>\n",
       "      <td>Germany</td>\n",
       "      <td>[2002, 2006, 2010, 2014]</td>\n",
       "      <td>True</td>\n",
       "      <td>[2002, 2006, 2010, 2014]</td>\n",
       "      <td>True</td>\n",
       "    </tr>\n",
       "    <tr>\n",
       "      <th>1</th>\n",
       "      <td>Ronaldo</td>\n",
       "      <td>15</td>\n",
       "      <td>1998-2002-2006</td>\n",
       "      <td>Brazil</td>\n",
       "      <td>[1998, 2002, 2006]</td>\n",
       "      <td>True</td>\n",
       "      <td>[1998, 2002, 2006]</td>\n",
       "      <td>True</td>\n",
       "    </tr>\n",
       "    <tr>\n",
       "      <th>2</th>\n",
       "      <td>Gerd Muller</td>\n",
       "      <td>14</td>\n",
       "      <td>1970-1974</td>\n",
       "      <td>Germany</td>\n",
       "      <td>[1970, 1974]</td>\n",
       "      <td>True</td>\n",
       "      <td>[1970, 1974]</td>\n",
       "      <td>True</td>\n",
       "    </tr>\n",
       "  </tbody>\n",
       "</table>\n",
       "</div>"
      ],
      "text/plain": [
       "           Player  Goals                Years  Country  \\\n",
       "0  Miroslav Klose     16  2002-2006-2010-2014  Germany   \n",
       "1         Ronaldo     15       1998-2002-2006   Brazil   \n",
       "2     Gerd Muller     14            1970-1974  Germany   \n",
       "\n",
       "                Years_split  check_TF                   yearLst  check  \n",
       "0  [2002, 2006, 2010, 2014]      True  [2002, 2006, 2010, 2014]   True  \n",
       "1        [1998, 2002, 2006]      True        [1998, 2002, 2006]   True  \n",
       "2              [1970, 1974]      True              [1970, 1974]   True  "
      ]
     },
     "execution_count": 162,
     "metadata": {},
     "output_type": "execute_result"
    }
   ],
   "source": [
    "df.head(3)"
   ]
  },
  {
   "cell_type": "markdown",
   "id": "25433800-e4fd-4298-ab17-9e665d1af8f8",
   "metadata": {},
   "source": [
    "답"
   ]
  },
  {
   "cell_type": "code",
   "execution_count": 161,
   "id": "66f412bb-7839-4481-a5d4-d6f523b318f5",
   "metadata": {},
   "outputs": [
    {
     "data": {
      "text/plain": [
       "45"
      ]
     },
     "execution_count": 161,
     "metadata": {},
     "output_type": "execute_result"
    }
   ],
   "source": [
    "df['yearLst'] = df.Years.str.split('-')\n",
    "\n",
    "def checkFour(x):\n",
    "    for value in x:\n",
    "        if len(str(value)) != 4:\n",
    "            return False\n",
    "        \n",
    "    return True\n",
    "    \n",
    "df['check'] = df['yearLst'].apply(checkFour)\n",
    "\n",
    "result = len(df[df.check ==False])\n",
    "result"
   ]
  },
  {
   "cell_type": "markdown",
   "id": "0bd91ef5-c1fc-4e49-bc7b-97c9952e3387",
   "metadata": {},
   "source": [
    "# Question4  Q3에서 발생한 예외 케이스를 제외한 데이터프레임을 df2라고 정의하고 데이터의 행의 숫자를 출력하라 (아래 문제부터는 df2로 풀이하겠습니다)"
   ]
  },
  {
   "cell_type": "code",
   "execution_count": 64,
   "id": "762cbb76-6175-4362-9fc9-352fdcd4c00c",
   "metadata": {},
   "outputs": [
    {
     "data": {
      "text/html": [
       "<div>\n",
       "<style scoped>\n",
       "    .dataframe tbody tr th:only-of-type {\n",
       "        vertical-align: middle;\n",
       "    }\n",
       "\n",
       "    .dataframe tbody tr th {\n",
       "        vertical-align: top;\n",
       "    }\n",
       "\n",
       "    .dataframe thead th {\n",
       "        text-align: right;\n",
       "    }\n",
       "</style>\n",
       "<table border=\"1\" class=\"dataframe\">\n",
       "  <thead>\n",
       "    <tr style=\"text-align: right;\">\n",
       "      <th></th>\n",
       "      <th>Player</th>\n",
       "      <th>Goals</th>\n",
       "      <th>Years</th>\n",
       "      <th>Country</th>\n",
       "      <th>Years_split</th>\n",
       "      <th>check_TF</th>\n",
       "    </tr>\n",
       "  </thead>\n",
       "  <tbody>\n",
       "    <tr>\n",
       "      <th>0</th>\n",
       "      <td>Miroslav Klose</td>\n",
       "      <td>16</td>\n",
       "      <td>2002-2006-2010-2014</td>\n",
       "      <td>Germany</td>\n",
       "      <td>[2002, 2006, 2010, 2014]</td>\n",
       "      <td>True</td>\n",
       "    </tr>\n",
       "    <tr>\n",
       "      <th>1</th>\n",
       "      <td>Ronaldo</td>\n",
       "      <td>15</td>\n",
       "      <td>1998-2002-2006</td>\n",
       "      <td>Brazil</td>\n",
       "      <td>[1998, 2002, 2006]</td>\n",
       "      <td>True</td>\n",
       "    </tr>\n",
       "    <tr>\n",
       "      <th>2</th>\n",
       "      <td>Gerd Muller</td>\n",
       "      <td>14</td>\n",
       "      <td>1970-1974</td>\n",
       "      <td>Germany</td>\n",
       "      <td>[1970, 1974]</td>\n",
       "      <td>True</td>\n",
       "    </tr>\n",
       "  </tbody>\n",
       "</table>\n",
       "</div>"
      ],
      "text/plain": [
       "           Player  Goals                Years  Country  \\\n",
       "0  Miroslav Klose     16  2002-2006-2010-2014  Germany   \n",
       "1         Ronaldo     15       1998-2002-2006   Brazil   \n",
       "2     Gerd Muller     14            1970-1974  Germany   \n",
       "\n",
       "                Years_split  check_TF  \n",
       "0  [2002, 2006, 2010, 2014]      True  \n",
       "1        [1998, 2002, 2006]      True  \n",
       "2              [1970, 1974]      True  "
      ]
     },
     "execution_count": 64,
     "metadata": {},
     "output_type": "execute_result"
    }
   ],
   "source": [
    "df2 = df.drop(index = df.loc[df['check_TF']==False].index)\n",
    "df2.head(3)"
   ]
  },
  {
   "cell_type": "code",
   "execution_count": 66,
   "id": "db401ec3-2040-412e-be7c-2bd407e14163",
   "metadata": {},
   "outputs": [
    {
     "data": {
      "text/plain": [
       "1250"
      ]
     },
     "execution_count": 66,
     "metadata": {},
     "output_type": "execute_result"
    }
   ],
   "source": [
    "answer = len(df2)\n",
    "answer"
   ]
  },
  {
   "cell_type": "markdown",
   "id": "c046e116-e2f2-4d78-9a35-48673152f206",
   "metadata": {},
   "source": [
    "답"
   ]
  },
  {
   "cell_type": "code",
   "execution_count": 84,
   "id": "63d77a0a-4ea7-4be3-a7e6-a1acd58c9943",
   "metadata": {},
   "outputs": [
    {
     "name": "stdout",
     "output_type": "stream",
     "text": [
      "1250\n"
     ]
    }
   ],
   "source": [
    "df2 = df[df.check_TF ==True].reset_index(drop=True)\n",
    "print(df2.shape[0]) #행\n",
    "#print(df2.shape[1]) #열"
   ]
  },
  {
   "cell_type": "markdown",
   "id": "741eebf3-1c76-43a0-a9e0-96357865c75f",
   "metadata": {},
   "source": [
    "# Question5 월드컵 출전횟수를 나타내는 ‘LenCup’ 컬럼을 추가하고 4회 출전한 선수의 숫자를 구하여라"
   ]
  },
  {
   "cell_type": "code",
   "execution_count": 71,
   "id": "f306968e-9d87-4437-ab4a-bf657e97da65",
   "metadata": {},
   "outputs": [
    {
     "data": {
      "text/plain": [
       "16"
      ]
     },
     "execution_count": 71,
     "metadata": {},
     "output_type": "execute_result"
    }
   ],
   "source": [
    "def count_num(x):\n",
    "    answer = 0\n",
    "    for value in x:\n",
    "        answer+=1\n",
    "    return answer\n",
    "\n",
    "df2['LenCup'] = df['Years_split'].apply(count_num)\n",
    "answer = len(df2[df2.LenCup==4])\n",
    "answer"
   ]
  },
  {
   "cell_type": "markdown",
   "id": "3749008f-960d-40fd-a024-485ac12a3c1f",
   "metadata": {},
   "source": [
    "답"
   ]
  },
  {
   "cell_type": "code",
   "execution_count": 163,
   "id": "ee7c50bb-f4cd-4f94-9c0c-c2d90038570d",
   "metadata": {},
   "outputs": [
    {
     "name": "stdout",
     "output_type": "stream",
     "text": [
      "16\n"
     ]
    }
   ],
   "source": [
    "df2['LenCup'] =df2['Years_split'].str.len()\n",
    "result = df2['LenCup'].value_counts()[4]\n",
    "print(result)"
   ]
  },
  {
   "cell_type": "code",
   "execution_count": 164,
   "id": "09ca1ef9-6cfd-4296-a2ff-9d8e25c5c8f3",
   "metadata": {},
   "outputs": [
    {
     "data": {
      "text/plain": [
       "1    779\n",
       "2    353\n",
       "3    102\n",
       "4     16\n",
       "Name: LenCup, dtype: int64"
      ]
     },
     "execution_count": 164,
     "metadata": {},
     "output_type": "execute_result"
    }
   ],
   "source": [
    "df2['LenCup'].value_counts()"
   ]
  },
  {
   "cell_type": "markdown",
   "id": "52fedf04-f70f-4cd4-817e-87fee03a3e04",
   "metadata": {},
   "source": [
    "# Question6 Yugoslavia 국가의 월드컵 출전횟수가 2회인 선수들의 숫자를 구하여라"
   ]
  },
  {
   "cell_type": "code",
   "execution_count": 72,
   "id": "98c8716e-778e-408e-a70a-5f5ca6ad44f7",
   "metadata": {},
   "outputs": [
    {
     "data": {
      "text/plain": [
       "7"
      ]
     },
     "execution_count": 72,
     "metadata": {},
     "output_type": "execute_result"
    }
   ],
   "source": [
    "answer = len(df2[(df2.Country == \"Yugoslavia\") &(df2.LenCup==2)])\n",
    "answer"
   ]
  },
  {
   "cell_type": "markdown",
   "id": "58ed3f4c-b34b-4ca4-b74a-76b4b8e7cfbe",
   "metadata": {},
   "source": [
    "답"
   ]
  },
  {
   "cell_type": "code",
   "execution_count": 94,
   "id": "aaba45f3-a9e0-4705-9289-b836440cba10",
   "metadata": {},
   "outputs": [
    {
     "name": "stdout",
     "output_type": "stream",
     "text": [
      "7\n"
     ]
    }
   ],
   "source": [
    "result = len(df2[(df2.LenCup==2) & (df2.Country =='Yugoslavia')])\n",
    "print(result)"
   ]
  },
  {
   "cell_type": "markdown",
   "id": "48d87f3d-7936-4ce9-b7b6-7d4ea6a2f51a",
   "metadata": {},
   "source": [
    "# Question7 2002년도에 출전한 전체 선수는 몇명인가?"
   ]
  },
  {
   "cell_type": "code",
   "execution_count": 170,
   "id": "a46fd9f6-efaa-4557-bb77-162e67068efb",
   "metadata": {},
   "outputs": [
    {
     "data": {
      "text/plain": [
       "96"
      ]
     },
     "execution_count": 170,
     "metadata": {},
     "output_type": "execute_result"
    }
   ],
   "source": [
    "def find_2002(x):\n",
    "    for value in x:\n",
    "        if value == '2002':\n",
    "            return True\n",
    "        else: \n",
    "            return False\n",
    "    \n",
    "df2['2002_TF'] = df2['Years_split'].apply(find_2002)\n",
    "answer = len(df2[df2['2002_TF']==True])\n",
    "answer"
   ]
  },
  {
   "cell_type": "markdown",
   "id": "10064376-6c25-4dc5-97a8-e93b4cb89c3b",
   "metadata": {},
   "source": [
    "답"
   ]
  },
  {
   "cell_type": "code",
   "execution_count": 169,
   "id": "a6810538-2ec5-41e0-9545-b666ffd61260",
   "metadata": {},
   "outputs": [
    {
     "name": "stdout",
     "output_type": "stream",
     "text": [
      "156\n"
     ]
    }
   ],
   "source": [
    "result =len(df2[df2.Years.str.contains('2002')])\n",
    "print(result)"
   ]
  },
  {
   "cell_type": "markdown",
   "id": "31b5afed-305c-4f4f-8699-0702d1db9b87",
   "metadata": {},
   "source": [
    "# Question8 이름에 ‘carlos’ 단어가 들어가는 선수의 숫자는 몇 명인가? (대, 소문자 구분 x)"
   ]
  },
  {
   "cell_type": "markdown",
   "id": "266d0bb1-77e0-467c-9f4d-17b5a8e13b7f",
   "metadata": {},
   "source": [
    "답보고 했음"
   ]
  },
  {
   "cell_type": "code",
   "execution_count": 186,
   "id": "7f4c5741-1399-4ba0-add9-d91fbefe575e",
   "metadata": {},
   "outputs": [
    {
     "data": {
      "text/plain": [
       "13"
      ]
     },
     "execution_count": 186,
     "metadata": {},
     "output_type": "execute_result"
    }
   ],
   "source": [
    "answer = len(df2[df2['Player'].str.lower().str.contains('carlos')])\n",
    "answer"
   ]
  },
  {
   "cell_type": "code",
   "execution_count": 187,
   "id": "2b65f310-eeb4-4693-987c-400c44d99f1a",
   "metadata": {},
   "outputs": [
    {
     "name": "stdout",
     "output_type": "stream",
     "text": [
      "13\n"
     ]
    }
   ],
   "source": [
    "result = len(df2[df2.Player.str.lower().str.contains('carlos')])\n",
    "print(result)"
   ]
  },
  {
   "cell_type": "markdown",
   "id": "4d0bd9e1-7c55-48ac-91a9-1ea0bcfde6d1",
   "metadata": {},
   "source": [
    "# Question9 월드컵 출전 횟수가 1회뿐인 선수들 중에서 가장 많은 득점을 올렸던 선수는 누구인가?"
   ]
  },
  {
   "cell_type": "code",
   "execution_count": 111,
   "id": "0c415f11-4d04-4fd2-94c7-a34638d501ce",
   "metadata": {},
   "outputs": [
    {
     "name": "stdout",
     "output_type": "stream",
     "text": [
      "Just Fontaine\n"
     ]
    }
   ],
   "source": [
    "target = df2[df2.LenCup==1].Goals.max()\n",
    "answer = df2[(df2.LenCup==1) & (df2.Goals == target)].Player.to_list()[0]\n",
    "print(answer)"
   ]
  },
  {
   "cell_type": "markdown",
   "id": "69f6da56-db73-4593-9e74-941bd4df7637",
   "metadata": {},
   "source": [
    "답"
   ]
  },
  {
   "cell_type": "code",
   "execution_count": 181,
   "id": "c60f1322-7b00-43c7-9848-805d98d65ad6",
   "metadata": {},
   "outputs": [
    {
     "name": "stdout",
     "output_type": "stream",
     "text": [
      "Just Fontaine\n"
     ]
    }
   ],
   "source": [
    "result = df2[df2.LenCup==1].sort_values('Goals',ascending=False).Player.values[0]\n",
    "print(result)"
   ]
  },
  {
   "cell_type": "markdown",
   "id": "da5c50a6-ea3a-463a-a016-a23782c54359",
   "metadata": {},
   "source": [
    "# Question10 월드컵 출전횟수가 1회 뿐인 선수들이 가장 많은 국가는 어디인가?"
   ]
  },
  {
   "cell_type": "code",
   "execution_count": 178,
   "id": "4bd28450-ca3f-41e9-aedb-8c9e289981e6",
   "metadata": {},
   "outputs": [
    {
     "data": {
      "text/plain": [
       "Country\n",
       "Brazil    43\n",
       "dtype: int64"
      ]
     },
     "execution_count": 178,
     "metadata": {},
     "output_type": "execute_result"
    }
   ],
   "source": [
    "answer = df2[df2.LenCup==1].groupby('Country').size().sort_values(ascending=False).head(1)\n",
    "answer"
   ]
  },
  {
   "cell_type": "markdown",
   "id": "59b29a7e-2cfe-496a-83c0-f6b88feeedb8",
   "metadata": {},
   "source": [
    "답"
   ]
  },
  {
   "cell_type": "code",
   "execution_count": 179,
   "id": "c98ba229-2c84-4ee7-b219-fc0367491fe6",
   "metadata": {},
   "outputs": [
    {
     "name": "stdout",
     "output_type": "stream",
     "text": [
      "Brazil\n"
     ]
    }
   ],
   "source": [
    "result= df2[df2.LenCup==1].Country.value_counts().index[0]\n",
    "print(result)"
   ]
  },
  {
   "cell_type": "code",
   "execution_count": 180,
   "id": "fb0d0fde-c42a-4853-b68d-c1309f2669e7",
   "metadata": {},
   "outputs": [
    {
     "data": {
      "text/plain": [
       "Brazil       43\n",
       "Argentina    33\n",
       "Germany      32\n",
       "France       31\n",
       "Spain        30\n",
       "             ..\n",
       "Jamaica       1\n",
       "Haiti         1\n",
       "Panama        1\n",
       "Ecuador       1\n",
       "Togo          1\n",
       "Name: Country, Length: 75, dtype: int64"
      ]
     },
     "execution_count": 180,
     "metadata": {},
     "output_type": "execute_result"
    }
   ],
   "source": [
    "result= df2[df2.LenCup==1].Country.value_counts()\n",
    "result"
   ]
  }
 ],
 "metadata": {
  "kernelspec": {
   "display_name": "Python 3 (ipykernel)",
   "language": "python",
   "name": "python3"
  },
  "language_info": {
   "codemirror_mode": {
    "name": "ipython",
    "version": 3
   },
   "file_extension": ".py",
   "mimetype": "text/x-python",
   "name": "python",
   "nbconvert_exporter": "python",
   "pygments_lexer": "ipython3",
   "version": "3.8.12"
  }
 },
 "nbformat": 4,
 "nbformat_minor": 5
}
