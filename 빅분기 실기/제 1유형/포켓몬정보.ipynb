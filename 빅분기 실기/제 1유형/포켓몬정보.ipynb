{
 "cells": [
  {
   "cell_type": "markdown",
   "id": "920982b1-722f-4300-a9c3-5730c01f977f",
   "metadata": {},
   "source": [
    "데이터 설명 : 포켓몬 정보data url = [https://raw.githubusercontent.com/Datamanim/datarepo/main/pok/Pokemon.csv](https://raw.githubusercontent.com/Datamanim/datarepo/main/pok/Pokemon.csv)\n",
    "\n",
    "Question **Legendary 컬럼은 전설포켓몬 유무를 나타낸다.전설포켓몬과 그렇지 않은 포켓몬들의 HP평균의 차이를 구하여라**\n",
    "\n",
    "Question **Type 1은 주속성 Type 2 는 부속성을 나타낸다. 가장 많은 부속성 종류는 무엇인가?**\n",
    "\n",
    "Question **가장 많은 Type 1 의 종의 평균 Attack 을 평균 Defense로 나눈값은?**\n",
    "\n",
    "Question **포켓몬 세대(Generation) 중 가장많은 Legendary를 보유한 세대는 몇세대인가?**\n",
    "\n",
    "<font color='red'>Question **‘HP’, ‘Attack’, ‘Defense’, ‘Sp. Atk’, ‘Sp. Def’, ‘Speed’ 간의 상관 계수중 가장 절댓값이 큰 두 변수와 그 값을 구하여라**</font>\n",
    "\n",
    "<font color='red'>Question **각 Generation의 Attack으로 오름차순 정렬시 상위 3개 데이터들(18개)의 Attack의 전체 평균을 구하여라**\n",
    "    <br>Question **각 Generation의 Attack으로 내림차순 정렬시 상위 5개 데이터들(30개)의 Attack의 전체 평균을 구하여라**\n",
    "    </font>\n",
    "\n",
    "<font color='red'>Question **가장 흔하게 발견되는 (Type1 , Type2) 의 쌍은 무엇인가?**\n",
    "<br>Question **한번씩만 존재하는 (Type1 , Type2)의 쌍의 갯수는 몇개인가?**\n",
    "<br>Question **한번씩만 존재하는 (Type1 , Type2)의 쌍을 각 세대(Generation)은 각각 몇개씩 가지고 있는가?**</font>"
   ]
  },
  {
   "cell_type": "code",
   "execution_count": 2,
   "id": "cfdbca8c-ce53-4fb1-b385-d2c95edfdabb",
   "metadata": {},
   "outputs": [
    {
     "data": {
      "text/html": [
       "<div>\n",
       "<style scoped>\n",
       "    .dataframe tbody tr th:only-of-type {\n",
       "        vertical-align: middle;\n",
       "    }\n",
       "\n",
       "    .dataframe tbody tr th {\n",
       "        vertical-align: top;\n",
       "    }\n",
       "\n",
       "    .dataframe thead th {\n",
       "        text-align: right;\n",
       "    }\n",
       "</style>\n",
       "<table border=\"1\" class=\"dataframe\">\n",
       "  <thead>\n",
       "    <tr style=\"text-align: right;\">\n",
       "      <th></th>\n",
       "      <th>#</th>\n",
       "      <th>Name</th>\n",
       "      <th>Type 1</th>\n",
       "      <th>Type 2</th>\n",
       "      <th>Total</th>\n",
       "      <th>HP</th>\n",
       "      <th>Attack</th>\n",
       "      <th>Defense</th>\n",
       "      <th>Sp. Atk</th>\n",
       "      <th>Sp. Def</th>\n",
       "      <th>Speed</th>\n",
       "      <th>Generation</th>\n",
       "      <th>Legendary</th>\n",
       "    </tr>\n",
       "  </thead>\n",
       "  <tbody>\n",
       "    <tr>\n",
       "      <th>0</th>\n",
       "      <td>1</td>\n",
       "      <td>Bulbasaur</td>\n",
       "      <td>Grass</td>\n",
       "      <td>Poison</td>\n",
       "      <td>318</td>\n",
       "      <td>45</td>\n",
       "      <td>49</td>\n",
       "      <td>49</td>\n",
       "      <td>65</td>\n",
       "      <td>65</td>\n",
       "      <td>45</td>\n",
       "      <td>1</td>\n",
       "      <td>False</td>\n",
       "    </tr>\n",
       "    <tr>\n",
       "      <th>1</th>\n",
       "      <td>2</td>\n",
       "      <td>Ivysaur</td>\n",
       "      <td>Grass</td>\n",
       "      <td>Poison</td>\n",
       "      <td>405</td>\n",
       "      <td>60</td>\n",
       "      <td>62</td>\n",
       "      <td>63</td>\n",
       "      <td>80</td>\n",
       "      <td>80</td>\n",
       "      <td>60</td>\n",
       "      <td>1</td>\n",
       "      <td>False</td>\n",
       "    </tr>\n",
       "    <tr>\n",
       "      <th>2</th>\n",
       "      <td>3</td>\n",
       "      <td>Venusaur</td>\n",
       "      <td>Grass</td>\n",
       "      <td>Poison</td>\n",
       "      <td>525</td>\n",
       "      <td>80</td>\n",
       "      <td>82</td>\n",
       "      <td>83</td>\n",
       "      <td>100</td>\n",
       "      <td>100</td>\n",
       "      <td>80</td>\n",
       "      <td>1</td>\n",
       "      <td>False</td>\n",
       "    </tr>\n",
       "  </tbody>\n",
       "</table>\n",
       "</div>"
      ],
      "text/plain": [
       "   #       Name Type 1  Type 2  Total  HP  Attack  Defense  Sp. Atk  Sp. Def  \\\n",
       "0  1  Bulbasaur  Grass  Poison    318  45      49       49       65       65   \n",
       "1  2    Ivysaur  Grass  Poison    405  60      62       63       80       80   \n",
       "2  3   Venusaur  Grass  Poison    525  80      82       83      100      100   \n",
       "\n",
       "   Speed  Generation  Legendary  \n",
       "0     45           1      False  \n",
       "1     60           1      False  \n",
       "2     80           1      False  "
      ]
     },
     "execution_count": 2,
     "metadata": {},
     "output_type": "execute_result"
    }
   ],
   "source": [
    "import pandas as pd\n",
    "df = pd.read_csv(\"https://raw.githubusercontent.com/Datamanim/datarepo/main/pok/Pokemon.csv\")\n",
    "df.head(3)"
   ]
  },
  {
   "cell_type": "markdown",
   "id": "87033901-b3ab-42c8-9b2b-4842e81c69aa",
   "metadata": {},
   "source": [
    "# Question Legendary 컬럼은 전설포켓몬 유무를 나타낸다.전설포켓몬과 그렇지 않은 포켓몬들의 HP평균의 차이를 구하여라"
   ]
  },
  {
   "cell_type": "code",
   "execution_count": 39,
   "id": "d0e3c0c6-9403-46a7-a706-6a56fbdc1a72",
   "metadata": {},
   "outputs": [
    {
     "data": {
      "text/plain": [
       "25.55614861329147"
      ]
     },
     "execution_count": 39,
     "metadata": {},
     "output_type": "execute_result"
    }
   ],
   "source": [
    "answer = df.groupby('Legendary').HP.mean().diff().to_list()[1]\n",
    "answer"
   ]
  },
  {
   "cell_type": "code",
   "execution_count": 40,
   "id": "c48a45b5-529d-4e20-87b8-3f79f5e5e10b",
   "metadata": {},
   "outputs": [
    {
     "name": "stdout",
     "output_type": "stream",
     "text": [
      "25.55614861329147\n"
     ]
    }
   ],
   "source": [
    "#답\n",
    "target = df.groupby('Legendary').mean()['HP']\n",
    "result = target.values[1] -target.values[0]\n",
    "print(result)"
   ]
  },
  {
   "cell_type": "markdown",
   "id": "1703b00b-9ea4-49d1-b302-dc0bc58dab29",
   "metadata": {},
   "source": [
    "# Question Type 1은 주속성 Type 2 는 부속성을 나타낸다. 가장 많은 부속성 종류는 무엇인가?"
   ]
  },
  {
   "cell_type": "code",
   "execution_count": 42,
   "id": "b16316b8-45af-4808-b4db-8744a4586493",
   "metadata": {},
   "outputs": [
    {
     "name": "stdout",
     "output_type": "stream",
     "text": [
      "Flying\n"
     ]
    }
   ],
   "source": [
    "answer = df.groupby('Type 2').size().sort_values().index[-1]\n",
    "print(answer)"
   ]
  },
  {
   "cell_type": "code",
   "execution_count": 41,
   "id": "c8d035e4-55eb-4f5e-9c2c-ac43d9880ff2",
   "metadata": {},
   "outputs": [
    {
     "name": "stdout",
     "output_type": "stream",
     "text": [
      "Flying\n"
     ]
    }
   ],
   "source": [
    "#답\n",
    "result = df['Type 2'].value_counts().index[0]\n",
    "print(result)"
   ]
  },
  {
   "cell_type": "markdown",
   "id": "5744b117-e5e8-4957-aa36-95a25dac0532",
   "metadata": {},
   "source": [
    "# Question 가장 많은 Type 1 의 종의 평균 Attack 을 평균 Defense로 나눈값은?"
   ]
  },
  {
   "cell_type": "code",
   "execution_count": 22,
   "id": "0a0bdbd4-aa4a-46d2-ba10-411550c21d9a",
   "metadata": {},
   "outputs": [
    {
     "data": {
      "text/plain": [
       "'Water'"
      ]
     },
     "execution_count": 22,
     "metadata": {},
     "output_type": "execute_result"
    }
   ],
   "source": [
    "target = df.groupby('Type 1').size().sort_values().index[-1]\n",
    "target"
   ]
  },
  {
   "cell_type": "code",
   "execution_count": 25,
   "id": "02f0eced-8920-462c-ad79-900123fa271c",
   "metadata": {},
   "outputs": [
    {
     "data": {
      "text/plain": [
       "1.0165238678090576"
      ]
     },
     "execution_count": 25,
     "metadata": {},
     "output_type": "execute_result"
    }
   ],
   "source": [
    "answer = (df['Attack'][df['Type 1']==target]).mean()/(df['Defense'][df['Type 1']==target]).mean()\n",
    "answer"
   ]
  },
  {
   "cell_type": "code",
   "execution_count": 43,
   "id": "804842ce-1ecd-4740-acfa-ee80f1c9f24a",
   "metadata": {},
   "outputs": [
    {
     "name": "stdout",
     "output_type": "stream",
     "text": [
      "1.0165238678090576\n"
     ]
    }
   ],
   "source": [
    "#답\n",
    "Max = df['Type 1'].value_counts().index[0]\n",
    "\n",
    "result = df[df['Type 1']== Max].Attack.mean() /df[df['Type 1']== Max].Defense.mean()\n",
    "print(result)"
   ]
  },
  {
   "cell_type": "markdown",
   "id": "ae78ec18-57a7-4471-bc67-103887793dfb",
   "metadata": {
    "tags": []
   },
   "source": [
    "# Question 포켓몬 세대(Generation) 중 가장많은 Legendary를 보유한 세대는 몇세대인가?"
   ]
  },
  {
   "cell_type": "code",
   "execution_count": 16,
   "id": "a7d9f524-1c2b-4e42-b8ab-33268fd67c1f",
   "metadata": {},
   "outputs": [
    {
     "data": {
      "text/plain": [
       "3"
      ]
     },
     "execution_count": 16,
     "metadata": {},
     "output_type": "execute_result"
    }
   ],
   "source": [
    "answer = df.loc[df['Legendary']==True].groupby('Generation').size().sort_values().index[-1]\n",
    "answer"
   ]
  },
  {
   "cell_type": "code",
   "execution_count": 47,
   "id": "f9f55127-c542-48b9-9d9f-8faea2b017d6",
   "metadata": {},
   "outputs": [
    {
     "data": {
      "text/plain": [
       "3"
      ]
     },
     "execution_count": 47,
     "metadata": {},
     "output_type": "execute_result"
    }
   ],
   "source": [
    "#답\n",
    "result =df[df.Legendary==True].Generation.value_counts().index[0]\n",
    "result"
   ]
  },
  {
   "cell_type": "markdown",
   "id": "a92d0e4d-48b6-4421-b6be-a182d5b5ce8f",
   "metadata": {},
   "source": [
    "# Question ‘HP’, ‘Attack’, ‘Defense’, ‘Sp. Atk’, ‘Sp. Def’, ‘Speed’ 간의 상관 계수중 가장 절댓값이 큰 두 변수와 그 값을 구하여라"
   ]
  },
  {
   "cell_type": "markdown",
   "id": "43c0316e-85d5-40e4-ab7c-3091bccbdca8",
   "metadata": {},
   "source": [
    "stack은 컬럼을 인덱스로 unstack은 인덱스를 컬럼으로 체인지시키는 역할을 합니다.\n",
    "\n",
    "하지만 stack의 경우 Series로 변환되니 염두를 해두고 코딩작업을 해야할 것 같습니다."
   ]
  },
  {
   "cell_type": "code",
   "execution_count": 15,
   "id": "797b35c0-0b0b-4b8c-b186-7421437408be",
   "metadata": {},
   "outputs": [
    {
     "name": "stdout",
     "output_type": "stream",
     "text": [
      "level_0     Sp. Def\n",
      "level_1     Defense\n",
      "corr       0.510747\n",
      "Name: 26, dtype: object\n"
     ]
    }
   ],
   "source": [
    "#답\n",
    "target = df[[ 'HP', 'Attack', 'Defense', 'Sp. Atk', 'Sp. Def', 'Speed']].corr().unstack().reset_index().rename(columns={0: \"corr\"})\n",
    "result = target[target['corr']!=1].sort_values('corr',ascending=False).iloc[0]\n",
    "print(result)"
   ]
  },
  {
   "cell_type": "code",
   "execution_count": 11,
   "id": "486a8692-e46a-4227-a372-ee6bc3912cc8",
   "metadata": {},
   "outputs": [
    {
     "data": {
      "text/html": [
       "<div>\n",
       "<style scoped>\n",
       "    .dataframe tbody tr th:only-of-type {\n",
       "        vertical-align: middle;\n",
       "    }\n",
       "\n",
       "    .dataframe tbody tr th {\n",
       "        vertical-align: top;\n",
       "    }\n",
       "\n",
       "    .dataframe thead th {\n",
       "        text-align: right;\n",
       "    }\n",
       "</style>\n",
       "<table border=\"1\" class=\"dataframe\">\n",
       "  <thead>\n",
       "    <tr style=\"text-align: right;\">\n",
       "      <th></th>\n",
       "      <th>HP</th>\n",
       "      <th>Attack</th>\n",
       "      <th>Defense</th>\n",
       "      <th>Sp. Atk</th>\n",
       "      <th>Sp. Def</th>\n",
       "      <th>Speed</th>\n",
       "    </tr>\n",
       "  </thead>\n",
       "  <tbody>\n",
       "    <tr>\n",
       "      <th>HP</th>\n",
       "      <td>1.000000</td>\n",
       "      <td>0.422386</td>\n",
       "      <td>0.239622</td>\n",
       "      <td>0.362380</td>\n",
       "      <td>0.378718</td>\n",
       "      <td>0.175952</td>\n",
       "    </tr>\n",
       "    <tr>\n",
       "      <th>Attack</th>\n",
       "      <td>0.422386</td>\n",
       "      <td>1.000000</td>\n",
       "      <td>0.438687</td>\n",
       "      <td>0.396362</td>\n",
       "      <td>0.263990</td>\n",
       "      <td>0.381240</td>\n",
       "    </tr>\n",
       "    <tr>\n",
       "      <th>Defense</th>\n",
       "      <td>0.239622</td>\n",
       "      <td>0.438687</td>\n",
       "      <td>1.000000</td>\n",
       "      <td>0.223549</td>\n",
       "      <td>0.510747</td>\n",
       "      <td>0.015227</td>\n",
       "    </tr>\n",
       "    <tr>\n",
       "      <th>Sp. Atk</th>\n",
       "      <td>0.362380</td>\n",
       "      <td>0.396362</td>\n",
       "      <td>0.223549</td>\n",
       "      <td>1.000000</td>\n",
       "      <td>0.506121</td>\n",
       "      <td>0.473018</td>\n",
       "    </tr>\n",
       "    <tr>\n",
       "      <th>Sp. Def</th>\n",
       "      <td>0.378718</td>\n",
       "      <td>0.263990</td>\n",
       "      <td>0.510747</td>\n",
       "      <td>0.506121</td>\n",
       "      <td>1.000000</td>\n",
       "      <td>0.259133</td>\n",
       "    </tr>\n",
       "    <tr>\n",
       "      <th>Speed</th>\n",
       "      <td>0.175952</td>\n",
       "      <td>0.381240</td>\n",
       "      <td>0.015227</td>\n",
       "      <td>0.473018</td>\n",
       "      <td>0.259133</td>\n",
       "      <td>1.000000</td>\n",
       "    </tr>\n",
       "  </tbody>\n",
       "</table>\n",
       "</div>"
      ],
      "text/plain": [
       "               HP    Attack   Defense   Sp. Atk   Sp. Def     Speed\n",
       "HP       1.000000  0.422386  0.239622  0.362380  0.378718  0.175952\n",
       "Attack   0.422386  1.000000  0.438687  0.396362  0.263990  0.381240\n",
       "Defense  0.239622  0.438687  1.000000  0.223549  0.510747  0.015227\n",
       "Sp. Atk  0.362380  0.396362  0.223549  1.000000  0.506121  0.473018\n",
       "Sp. Def  0.378718  0.263990  0.510747  0.506121  1.000000  0.259133\n",
       "Speed    0.175952  0.381240  0.015227  0.473018  0.259133  1.000000"
      ]
     },
     "execution_count": 11,
     "metadata": {},
     "output_type": "execute_result"
    }
   ],
   "source": [
    "target = df[[ 'HP', 'Attack', 'Defense', 'Sp. Atk', 'Sp. Def', 'Speed']].corr()\n",
    "target"
   ]
  },
  {
   "cell_type": "code",
   "execution_count": 12,
   "id": "b7d4b624-b44e-4478-83f3-33d393e2a697",
   "metadata": {},
   "outputs": [
    {
     "data": {
      "text/plain": [
       "HP       HP         1.000000\n",
       "         Attack     0.422386\n",
       "         Defense    0.239622\n",
       "         Sp. Atk    0.362380\n",
       "         Sp. Def    0.378718\n",
       "         Speed      0.175952\n",
       "Attack   HP         0.422386\n",
       "         Attack     1.000000\n",
       "         Defense    0.438687\n",
       "         Sp. Atk    0.396362\n",
       "         Sp. Def    0.263990\n",
       "         Speed      0.381240\n",
       "Defense  HP         0.239622\n",
       "         Attack     0.438687\n",
       "         Defense    1.000000\n",
       "         Sp. Atk    0.223549\n",
       "         Sp. Def    0.510747\n",
       "         Speed      0.015227\n",
       "Sp. Atk  HP         0.362380\n",
       "         Attack     0.396362\n",
       "         Defense    0.223549\n",
       "         Sp. Atk    1.000000\n",
       "         Sp. Def    0.506121\n",
       "         Speed      0.473018\n",
       "Sp. Def  HP         0.378718\n",
       "         Attack     0.263990\n",
       "         Defense    0.510747\n",
       "         Sp. Atk    0.506121\n",
       "         Sp. Def    1.000000\n",
       "         Speed      0.259133\n",
       "Speed    HP         0.175952\n",
       "         Attack     0.381240\n",
       "         Defense    0.015227\n",
       "         Sp. Atk    0.473018\n",
       "         Sp. Def    0.259133\n",
       "         Speed      1.000000\n",
       "dtype: float64"
      ]
     },
     "execution_count": 12,
     "metadata": {},
     "output_type": "execute_result"
    }
   ],
   "source": [
    "target = df[[ 'HP', 'Attack', 'Defense', 'Sp. Atk', 'Sp. Def', 'Speed']].corr().unstack()\n",
    "target"
   ]
  },
  {
   "cell_type": "code",
   "execution_count": 13,
   "id": "b15fa370-1b99-4208-aed8-a1ef5d1da2a7",
   "metadata": {},
   "outputs": [
    {
     "data": {
      "text/plain": [
       "HP       HP         1.000000\n",
       "         Attack     0.422386\n",
       "         Defense    0.239622\n",
       "         Sp. Atk    0.362380\n",
       "         Sp. Def    0.378718\n",
       "         Speed      0.175952\n",
       "Attack   HP         0.422386\n",
       "         Attack     1.000000\n",
       "         Defense    0.438687\n",
       "         Sp. Atk    0.396362\n",
       "         Sp. Def    0.263990\n",
       "         Speed      0.381240\n",
       "Defense  HP         0.239622\n",
       "         Attack     0.438687\n",
       "         Defense    1.000000\n",
       "         Sp. Atk    0.223549\n",
       "         Sp. Def    0.510747\n",
       "         Speed      0.015227\n",
       "Sp. Atk  HP         0.362380\n",
       "         Attack     0.396362\n",
       "         Defense    0.223549\n",
       "         Sp. Atk    1.000000\n",
       "         Sp. Def    0.506121\n",
       "         Speed      0.473018\n",
       "Sp. Def  HP         0.378718\n",
       "         Attack     0.263990\n",
       "         Defense    0.510747\n",
       "         Sp. Atk    0.506121\n",
       "         Sp. Def    1.000000\n",
       "         Speed      0.259133\n",
       "Speed    HP         0.175952\n",
       "         Attack     0.381240\n",
       "         Defense    0.015227\n",
       "         Sp. Atk    0.473018\n",
       "         Sp. Def    0.259133\n",
       "         Speed      1.000000\n",
       "dtype: float64"
      ]
     },
     "execution_count": 13,
     "metadata": {},
     "output_type": "execute_result"
    }
   ],
   "source": [
    "target = df[[ 'HP', 'Attack', 'Defense', 'Sp. Atk', 'Sp. Def', 'Speed']].corr().stack()\n",
    "target"
   ]
  },
  {
   "cell_type": "markdown",
   "id": "590dc2b1-bc2a-410b-b7fb-ef98a852865d",
   "metadata": {},
   "source": [
    "# Question 각 Generation의 Attack으로 오름차순 정렬시 상위 3개 데이터들(18개)의 Attack의 전체 평균을 구하여라"
   ]
  },
  {
   "cell_type": "code",
   "execution_count": 73,
   "id": "5903e7b7-201b-4cbd-bb4b-3540c7846c7a",
   "metadata": {},
   "outputs": [
    {
     "data": {
      "text/plain": [
       "19.5"
      ]
     },
     "execution_count": 73,
     "metadata": {},
     "output_type": "execute_result"
    }
   ],
   "source": [
    "answer = df.sort_values(['Generation','Attack']).groupby('Generation').head(3).Attack.mean()\n",
    "answer # 아래 답보고 유추 및 베낀거임 ㅋ.ㅋ"
   ]
  },
  {
   "cell_type": "code",
   "execution_count": 72,
   "id": "1c4cc9c6-77e4-4134-aa94-ef39695e58b5",
   "metadata": {},
   "outputs": [
    {
     "data": {
      "text/plain": [
       "19.5"
      ]
     },
     "execution_count": 72,
     "metadata": {},
     "output_type": "execute_result"
    }
   ],
   "source": [
    "# 답\n",
    "answer = df.sort_values(['Generation','Attack']).groupby('Generation').head(3).Attack.mean()\n",
    "answer"
   ]
  },
  {
   "cell_type": "markdown",
   "id": "1f377ebf-eb20-4c62-a4ef-bfbb82e2a26e",
   "metadata": {},
   "source": [
    "# Question 각 Generation의 Attack으로 내림차순 정렬시 상위 5개 데이터들(30개)의 Attack의 전체 평균을 구하여라"
   ]
  },
  {
   "cell_type": "code",
   "execution_count": 60,
   "id": "760a9d90-73c9-4ec7-a2d6-1c49da248f03",
   "metadata": {},
   "outputs": [
    {
     "data": {
      "text/html": [
       "<div>\n",
       "<style scoped>\n",
       "    .dataframe tbody tr th:only-of-type {\n",
       "        vertical-align: middle;\n",
       "    }\n",
       "\n",
       "    .dataframe tbody tr th {\n",
       "        vertical-align: top;\n",
       "    }\n",
       "\n",
       "    .dataframe thead th {\n",
       "        text-align: right;\n",
       "    }\n",
       "</style>\n",
       "<table border=\"1\" class=\"dataframe\">\n",
       "  <thead>\n",
       "    <tr style=\"text-align: right;\">\n",
       "      <th></th>\n",
       "      <th></th>\n",
       "      <th>Attack</th>\n",
       "    </tr>\n",
       "    <tr>\n",
       "      <th>Generation</th>\n",
       "      <th>Attack</th>\n",
       "      <th></th>\n",
       "    </tr>\n",
       "  </thead>\n",
       "  <tbody>\n",
       "    <tr>\n",
       "      <th rowspan=\"5\" valign=\"top\">1</th>\n",
       "      <th>65</th>\n",
       "      <td>12</td>\n",
       "    </tr>\n",
       "    <tr>\n",
       "      <th>80</th>\n",
       "      <td>11</td>\n",
       "    </tr>\n",
       "    <tr>\n",
       "      <th>45</th>\n",
       "      <td>10</td>\n",
       "    </tr>\n",
       "    <tr>\n",
       "      <th>50</th>\n",
       "      <td>8</td>\n",
       "    </tr>\n",
       "    <tr>\n",
       "      <th>70</th>\n",
       "      <td>7</td>\n",
       "    </tr>\n",
       "    <tr>\n",
       "      <th>...</th>\n",
       "      <th>...</th>\n",
       "      <td>...</td>\n",
       "    </tr>\n",
       "    <tr>\n",
       "      <th rowspan=\"5\" valign=\"top\">6</th>\n",
       "      <th>107</th>\n",
       "      <td>1</td>\n",
       "    </tr>\n",
       "    <tr>\n",
       "      <th>117</th>\n",
       "      <td>1</td>\n",
       "    </tr>\n",
       "    <tr>\n",
       "      <th>121</th>\n",
       "      <td>1</td>\n",
       "    </tr>\n",
       "    <tr>\n",
       "      <th>124</th>\n",
       "      <td>1</td>\n",
       "    </tr>\n",
       "    <tr>\n",
       "      <th>150</th>\n",
       "      <td>1</td>\n",
       "    </tr>\n",
       "  </tbody>\n",
       "</table>\n",
       "<p>305 rows × 1 columns</p>\n",
       "</div>"
      ],
      "text/plain": [
       "                   Attack\n",
       "Generation Attack        \n",
       "1          65          12\n",
       "           80          11\n",
       "           45          10\n",
       "           50           8\n",
       "           70           7\n",
       "...                   ...\n",
       "6          107          1\n",
       "           117          1\n",
       "           121          1\n",
       "           124          1\n",
       "           150          1\n",
       "\n",
       "[305 rows x 1 columns]"
      ]
     },
     "execution_count": 60,
     "metadata": {},
     "output_type": "execute_result"
    }
   ],
   "source": [
    "answer = df.groupby('Generation').Attack.value_counts().to_frame()\n",
    "answer"
   ]
  },
  {
   "cell_type": "code",
   "execution_count": 69,
   "id": "90131b21-9d81-4734-826a-e329b0e603a9",
   "metadata": {},
   "outputs": [
    {
     "data": {
      "text/plain": [
       "<pandas.core.groupby.generic.DataFrameGroupBy object at 0x000001471613DFA0>"
      ]
     },
     "execution_count": 69,
     "metadata": {},
     "output_type": "execute_result"
    }
   ],
   "source": [
    "answer = df.sort_values(['Generation','Attack'],ascending=False).groupby('Generation')\n",
    "answer"
   ]
  },
  {
   "cell_type": "code",
   "execution_count": 68,
   "id": "73b53d0c-2237-4225-a909-74a6e7e82a32",
   "metadata": {},
   "outputs": [
    {
     "data": {
      "text/html": [
       "<div>\n",
       "<style scoped>\n",
       "    .dataframe tbody tr th:only-of-type {\n",
       "        vertical-align: middle;\n",
       "    }\n",
       "\n",
       "    .dataframe tbody tr th {\n",
       "        vertical-align: top;\n",
       "    }\n",
       "\n",
       "    .dataframe thead th {\n",
       "        text-align: right;\n",
       "    }\n",
       "</style>\n",
       "<table border=\"1\" class=\"dataframe\">\n",
       "  <thead>\n",
       "    <tr style=\"text-align: right;\">\n",
       "      <th></th>\n",
       "      <th>#</th>\n",
       "      <th>Name</th>\n",
       "      <th>Type 1</th>\n",
       "      <th>Type 2</th>\n",
       "      <th>Total</th>\n",
       "      <th>HP</th>\n",
       "      <th>Attack</th>\n",
       "      <th>Defense</th>\n",
       "      <th>Sp. Atk</th>\n",
       "      <th>Sp. Def</th>\n",
       "      <th>Speed</th>\n",
       "      <th>Generation</th>\n",
       "      <th>Legendary</th>\n",
       "    </tr>\n",
       "  </thead>\n",
       "  <tbody>\n",
       "    <tr>\n",
       "      <th>796</th>\n",
       "      <td>719</td>\n",
       "      <td>DiancieMega Diancie</td>\n",
       "      <td>Rock</td>\n",
       "      <td>Fairy</td>\n",
       "      <td>700</td>\n",
       "      <td>50</td>\n",
       "      <td>160</td>\n",
       "      <td>110</td>\n",
       "      <td>160</td>\n",
       "      <td>110</td>\n",
       "      <td>110</td>\n",
       "      <td>6</td>\n",
       "      <td>True</td>\n",
       "    </tr>\n",
       "    <tr>\n",
       "      <th>798</th>\n",
       "      <td>720</td>\n",
       "      <td>HoopaHoopa Unbound</td>\n",
       "      <td>Psychic</td>\n",
       "      <td>Dark</td>\n",
       "      <td>680</td>\n",
       "      <td>80</td>\n",
       "      <td>160</td>\n",
       "      <td>60</td>\n",
       "      <td>170</td>\n",
       "      <td>130</td>\n",
       "      <td>80</td>\n",
       "      <td>6</td>\n",
       "      <td>True</td>\n",
       "    </tr>\n",
       "    <tr>\n",
       "      <th>750</th>\n",
       "      <td>681</td>\n",
       "      <td>AegislashBlade Forme</td>\n",
       "      <td>Steel</td>\n",
       "      <td>Ghost</td>\n",
       "      <td>520</td>\n",
       "      <td>60</td>\n",
       "      <td>150</td>\n",
       "      <td>50</td>\n",
       "      <td>150</td>\n",
       "      <td>50</td>\n",
       "      <td>60</td>\n",
       "      <td>6</td>\n",
       "      <td>False</td>\n",
       "    </tr>\n",
       "    <tr>\n",
       "      <th>792</th>\n",
       "      <td>716</td>\n",
       "      <td>Xerneas</td>\n",
       "      <td>Fairy</td>\n",
       "      <td>NaN</td>\n",
       "      <td>680</td>\n",
       "      <td>126</td>\n",
       "      <td>131</td>\n",
       "      <td>95</td>\n",
       "      <td>131</td>\n",
       "      <td>98</td>\n",
       "      <td>99</td>\n",
       "      <td>6</td>\n",
       "      <td>True</td>\n",
       "    </tr>\n",
       "    <tr>\n",
       "      <th>793</th>\n",
       "      <td>717</td>\n",
       "      <td>Yveltal</td>\n",
       "      <td>Dark</td>\n",
       "      <td>Flying</td>\n",
       "      <td>680</td>\n",
       "      <td>126</td>\n",
       "      <td>131</td>\n",
       "      <td>95</td>\n",
       "      <td>131</td>\n",
       "      <td>98</td>\n",
       "      <td>99</td>\n",
       "      <td>6</td>\n",
       "      <td>True</td>\n",
       "    </tr>\n",
       "    <tr>\n",
       "      <th>711</th>\n",
       "      <td>646</td>\n",
       "      <td>KyuremBlack Kyurem</td>\n",
       "      <td>Dragon</td>\n",
       "      <td>Ice</td>\n",
       "      <td>700</td>\n",
       "      <td>125</td>\n",
       "      <td>170</td>\n",
       "      <td>100</td>\n",
       "      <td>120</td>\n",
       "      <td>90</td>\n",
       "      <td>95</td>\n",
       "      <td>5</td>\n",
       "      <td>True</td>\n",
       "    </tr>\n",
       "    <tr>\n",
       "      <th>707</th>\n",
       "      <td>644</td>\n",
       "      <td>Zekrom</td>\n",
       "      <td>Dragon</td>\n",
       "      <td>Electric</td>\n",
       "      <td>680</td>\n",
       "      <td>100</td>\n",
       "      <td>150</td>\n",
       "      <td>120</td>\n",
       "      <td>120</td>\n",
       "      <td>100</td>\n",
       "      <td>90</td>\n",
       "      <td>5</td>\n",
       "      <td>True</td>\n",
       "    </tr>\n",
       "    <tr>\n",
       "      <th>673</th>\n",
       "      <td>612</td>\n",
       "      <td>Haxorus</td>\n",
       "      <td>Dragon</td>\n",
       "      <td>NaN</td>\n",
       "      <td>540</td>\n",
       "      <td>76</td>\n",
       "      <td>147</td>\n",
       "      <td>90</td>\n",
       "      <td>60</td>\n",
       "      <td>70</td>\n",
       "      <td>97</td>\n",
       "      <td>5</td>\n",
       "      <td>False</td>\n",
       "    </tr>\n",
       "    <tr>\n",
       "      <th>709</th>\n",
       "      <td>645</td>\n",
       "      <td>LandorusTherian Forme</td>\n",
       "      <td>Ground</td>\n",
       "      <td>Flying</td>\n",
       "      <td>600</td>\n",
       "      <td>89</td>\n",
       "      <td>145</td>\n",
       "      <td>90</td>\n",
       "      <td>105</td>\n",
       "      <td>80</td>\n",
       "      <td>91</td>\n",
       "      <td>5</td>\n",
       "      <td>True</td>\n",
       "    </tr>\n",
       "    <tr>\n",
       "      <th>594</th>\n",
       "      <td>534</td>\n",
       "      <td>Conkeldurr</td>\n",
       "      <td>Fighting</td>\n",
       "      <td>NaN</td>\n",
       "      <td>505</td>\n",
       "      <td>105</td>\n",
       "      <td>140</td>\n",
       "      <td>95</td>\n",
       "      <td>55</td>\n",
       "      <td>65</td>\n",
       "      <td>45</td>\n",
       "      <td>5</td>\n",
       "      <td>False</td>\n",
       "    </tr>\n",
       "    <tr>\n",
       "      <th>494</th>\n",
       "      <td>445</td>\n",
       "      <td>GarchompMega Garchomp</td>\n",
       "      <td>Dragon</td>\n",
       "      <td>Ground</td>\n",
       "      <td>700</td>\n",
       "      <td>108</td>\n",
       "      <td>170</td>\n",
       "      <td>115</td>\n",
       "      <td>120</td>\n",
       "      <td>95</td>\n",
       "      <td>92</td>\n",
       "      <td>4</td>\n",
       "      <td>False</td>\n",
       "    </tr>\n",
       "    <tr>\n",
       "      <th>454</th>\n",
       "      <td>409</td>\n",
       "      <td>Rampardos</td>\n",
       "      <td>Rock</td>\n",
       "      <td>NaN</td>\n",
       "      <td>495</td>\n",
       "      <td>97</td>\n",
       "      <td>165</td>\n",
       "      <td>60</td>\n",
       "      <td>65</td>\n",
       "      <td>50</td>\n",
       "      <td>58</td>\n",
       "      <td>4</td>\n",
       "      <td>False</td>\n",
       "    </tr>\n",
       "    <tr>\n",
       "      <th>527</th>\n",
       "      <td>475</td>\n",
       "      <td>GalladeMega Gallade</td>\n",
       "      <td>Psychic</td>\n",
       "      <td>Fighting</td>\n",
       "      <td>618</td>\n",
       "      <td>68</td>\n",
       "      <td>165</td>\n",
       "      <td>95</td>\n",
       "      <td>65</td>\n",
       "      <td>115</td>\n",
       "      <td>110</td>\n",
       "      <td>4</td>\n",
       "      <td>False</td>\n",
       "    </tr>\n",
       "    <tr>\n",
       "      <th>543</th>\n",
       "      <td>486</td>\n",
       "      <td>Regigigas</td>\n",
       "      <td>Normal</td>\n",
       "      <td>NaN</td>\n",
       "      <td>670</td>\n",
       "      <td>110</td>\n",
       "      <td>160</td>\n",
       "      <td>110</td>\n",
       "      <td>80</td>\n",
       "      <td>110</td>\n",
       "      <td>100</td>\n",
       "      <td>4</td>\n",
       "      <td>True</td>\n",
       "    </tr>\n",
       "    <tr>\n",
       "      <th>498</th>\n",
       "      <td>448</td>\n",
       "      <td>LucarioMega Lucario</td>\n",
       "      <td>Fighting</td>\n",
       "      <td>Steel</td>\n",
       "      <td>625</td>\n",
       "      <td>70</td>\n",
       "      <td>145</td>\n",
       "      <td>88</td>\n",
       "      <td>140</td>\n",
       "      <td>70</td>\n",
       "      <td>112</td>\n",
       "      <td>4</td>\n",
       "      <td>False</td>\n",
       "    </tr>\n",
       "    <tr>\n",
       "      <th>424</th>\n",
       "      <td>383</td>\n",
       "      <td>GroudonPrimal Groudon</td>\n",
       "      <td>Ground</td>\n",
       "      <td>Fire</td>\n",
       "      <td>770</td>\n",
       "      <td>100</td>\n",
       "      <td>180</td>\n",
       "      <td>160</td>\n",
       "      <td>150</td>\n",
       "      <td>90</td>\n",
       "      <td>90</td>\n",
       "      <td>3</td>\n",
       "      <td>True</td>\n",
       "    </tr>\n",
       "    <tr>\n",
       "      <th>426</th>\n",
       "      <td>384</td>\n",
       "      <td>RayquazaMega Rayquaza</td>\n",
       "      <td>Dragon</td>\n",
       "      <td>Flying</td>\n",
       "      <td>780</td>\n",
       "      <td>105</td>\n",
       "      <td>180</td>\n",
       "      <td>100</td>\n",
       "      <td>180</td>\n",
       "      <td>100</td>\n",
       "      <td>115</td>\n",
       "      <td>3</td>\n",
       "      <td>True</td>\n",
       "    </tr>\n",
       "    <tr>\n",
       "      <th>429</th>\n",
       "      <td>386</td>\n",
       "      <td>DeoxysAttack Forme</td>\n",
       "      <td>Psychic</td>\n",
       "      <td>NaN</td>\n",
       "      <td>600</td>\n",
       "      <td>50</td>\n",
       "      <td>180</td>\n",
       "      <td>20</td>\n",
       "      <td>180</td>\n",
       "      <td>20</td>\n",
       "      <td>150</td>\n",
       "      <td>3</td>\n",
       "      <td>True</td>\n",
       "    </tr>\n",
       "    <tr>\n",
       "      <th>387</th>\n",
       "      <td>354</td>\n",
       "      <td>BanetteMega Banette</td>\n",
       "      <td>Ghost</td>\n",
       "      <td>NaN</td>\n",
       "      <td>555</td>\n",
       "      <td>64</td>\n",
       "      <td>165</td>\n",
       "      <td>75</td>\n",
       "      <td>93</td>\n",
       "      <td>83</td>\n",
       "      <td>75</td>\n",
       "      <td>3</td>\n",
       "      <td>False</td>\n",
       "    </tr>\n",
       "    <tr>\n",
       "      <th>279</th>\n",
       "      <td>257</td>\n",
       "      <td>BlazikenMega Blaziken</td>\n",
       "      <td>Fire</td>\n",
       "      <td>Fighting</td>\n",
       "      <td>630</td>\n",
       "      <td>80</td>\n",
       "      <td>160</td>\n",
       "      <td>80</td>\n",
       "      <td>130</td>\n",
       "      <td>80</td>\n",
       "      <td>100</td>\n",
       "      <td>3</td>\n",
       "      <td>False</td>\n",
       "    </tr>\n",
       "    <tr>\n",
       "      <th>232</th>\n",
       "      <td>214</td>\n",
       "      <td>HeracrossMega Heracross</td>\n",
       "      <td>Bug</td>\n",
       "      <td>Fighting</td>\n",
       "      <td>600</td>\n",
       "      <td>80</td>\n",
       "      <td>185</td>\n",
       "      <td>115</td>\n",
       "      <td>40</td>\n",
       "      <td>105</td>\n",
       "      <td>75</td>\n",
       "      <td>2</td>\n",
       "      <td>False</td>\n",
       "    </tr>\n",
       "    <tr>\n",
       "      <th>268</th>\n",
       "      <td>248</td>\n",
       "      <td>TyranitarMega Tyranitar</td>\n",
       "      <td>Rock</td>\n",
       "      <td>Dark</td>\n",
       "      <td>700</td>\n",
       "      <td>100</td>\n",
       "      <td>164</td>\n",
       "      <td>150</td>\n",
       "      <td>95</td>\n",
       "      <td>120</td>\n",
       "      <td>71</td>\n",
       "      <td>2</td>\n",
       "      <td>False</td>\n",
       "    </tr>\n",
       "    <tr>\n",
       "      <th>229</th>\n",
       "      <td>212</td>\n",
       "      <td>ScizorMega Scizor</td>\n",
       "      <td>Bug</td>\n",
       "      <td>Steel</td>\n",
       "      <td>600</td>\n",
       "      <td>70</td>\n",
       "      <td>150</td>\n",
       "      <td>140</td>\n",
       "      <td>65</td>\n",
       "      <td>100</td>\n",
       "      <td>75</td>\n",
       "      <td>2</td>\n",
       "      <td>False</td>\n",
       "    </tr>\n",
       "    <tr>\n",
       "      <th>267</th>\n",
       "      <td>248</td>\n",
       "      <td>Tyranitar</td>\n",
       "      <td>Rock</td>\n",
       "      <td>Dark</td>\n",
       "      <td>600</td>\n",
       "      <td>100</td>\n",
       "      <td>134</td>\n",
       "      <td>110</td>\n",
       "      <td>95</td>\n",
       "      <td>100</td>\n",
       "      <td>61</td>\n",
       "      <td>2</td>\n",
       "      <td>False</td>\n",
       "    </tr>\n",
       "    <tr>\n",
       "      <th>228</th>\n",
       "      <td>212</td>\n",
       "      <td>Scizor</td>\n",
       "      <td>Bug</td>\n",
       "      <td>Steel</td>\n",
       "      <td>500</td>\n",
       "      <td>70</td>\n",
       "      <td>130</td>\n",
       "      <td>100</td>\n",
       "      <td>55</td>\n",
       "      <td>80</td>\n",
       "      <td>65</td>\n",
       "      <td>2</td>\n",
       "      <td>False</td>\n",
       "    </tr>\n",
       "    <tr>\n",
       "      <th>163</th>\n",
       "      <td>150</td>\n",
       "      <td>MewtwoMega Mewtwo X</td>\n",
       "      <td>Psychic</td>\n",
       "      <td>Fighting</td>\n",
       "      <td>780</td>\n",
       "      <td>106</td>\n",
       "      <td>190</td>\n",
       "      <td>100</td>\n",
       "      <td>154</td>\n",
       "      <td>100</td>\n",
       "      <td>130</td>\n",
       "      <td>1</td>\n",
       "      <td>True</td>\n",
       "    </tr>\n",
       "    <tr>\n",
       "      <th>137</th>\n",
       "      <td>127</td>\n",
       "      <td>PinsirMega Pinsir</td>\n",
       "      <td>Bug</td>\n",
       "      <td>Flying</td>\n",
       "      <td>600</td>\n",
       "      <td>65</td>\n",
       "      <td>155</td>\n",
       "      <td>120</td>\n",
       "      <td>65</td>\n",
       "      <td>90</td>\n",
       "      <td>105</td>\n",
       "      <td>1</td>\n",
       "      <td>False</td>\n",
       "    </tr>\n",
       "    <tr>\n",
       "      <th>141</th>\n",
       "      <td>130</td>\n",
       "      <td>GyaradosMega Gyarados</td>\n",
       "      <td>Water</td>\n",
       "      <td>Dark</td>\n",
       "      <td>640</td>\n",
       "      <td>95</td>\n",
       "      <td>155</td>\n",
       "      <td>109</td>\n",
       "      <td>70</td>\n",
       "      <td>130</td>\n",
       "      <td>81</td>\n",
       "      <td>1</td>\n",
       "      <td>False</td>\n",
       "    </tr>\n",
       "    <tr>\n",
       "      <th>19</th>\n",
       "      <td>15</td>\n",
       "      <td>BeedrillMega Beedrill</td>\n",
       "      <td>Bug</td>\n",
       "      <td>Poison</td>\n",
       "      <td>495</td>\n",
       "      <td>65</td>\n",
       "      <td>150</td>\n",
       "      <td>40</td>\n",
       "      <td>15</td>\n",
       "      <td>80</td>\n",
       "      <td>145</td>\n",
       "      <td>1</td>\n",
       "      <td>False</td>\n",
       "    </tr>\n",
       "    <tr>\n",
       "      <th>164</th>\n",
       "      <td>150</td>\n",
       "      <td>MewtwoMega Mewtwo Y</td>\n",
       "      <td>Psychic</td>\n",
       "      <td>NaN</td>\n",
       "      <td>780</td>\n",
       "      <td>106</td>\n",
       "      <td>150</td>\n",
       "      <td>70</td>\n",
       "      <td>194</td>\n",
       "      <td>120</td>\n",
       "      <td>140</td>\n",
       "      <td>1</td>\n",
       "      <td>True</td>\n",
       "    </tr>\n",
       "  </tbody>\n",
       "</table>\n",
       "</div>"
      ],
      "text/plain": [
       "       #                     Name    Type 1    Type 2  Total   HP  Attack  \\\n",
       "796  719      DiancieMega Diancie      Rock     Fairy    700   50     160   \n",
       "798  720       HoopaHoopa Unbound   Psychic      Dark    680   80     160   \n",
       "750  681     AegislashBlade Forme     Steel     Ghost    520   60     150   \n",
       "792  716                  Xerneas     Fairy       NaN    680  126     131   \n",
       "793  717                  Yveltal      Dark    Flying    680  126     131   \n",
       "711  646       KyuremBlack Kyurem    Dragon       Ice    700  125     170   \n",
       "707  644                   Zekrom    Dragon  Electric    680  100     150   \n",
       "673  612                  Haxorus    Dragon       NaN    540   76     147   \n",
       "709  645    LandorusTherian Forme    Ground    Flying    600   89     145   \n",
       "594  534               Conkeldurr  Fighting       NaN    505  105     140   \n",
       "494  445    GarchompMega Garchomp    Dragon    Ground    700  108     170   \n",
       "454  409                Rampardos      Rock       NaN    495   97     165   \n",
       "527  475      GalladeMega Gallade   Psychic  Fighting    618   68     165   \n",
       "543  486                Regigigas    Normal       NaN    670  110     160   \n",
       "498  448      LucarioMega Lucario  Fighting     Steel    625   70     145   \n",
       "424  383    GroudonPrimal Groudon    Ground      Fire    770  100     180   \n",
       "426  384    RayquazaMega Rayquaza    Dragon    Flying    780  105     180   \n",
       "429  386       DeoxysAttack Forme   Psychic       NaN    600   50     180   \n",
       "387  354      BanetteMega Banette     Ghost       NaN    555   64     165   \n",
       "279  257    BlazikenMega Blaziken      Fire  Fighting    630   80     160   \n",
       "232  214  HeracrossMega Heracross       Bug  Fighting    600   80     185   \n",
       "268  248  TyranitarMega Tyranitar      Rock      Dark    700  100     164   \n",
       "229  212        ScizorMega Scizor       Bug     Steel    600   70     150   \n",
       "267  248                Tyranitar      Rock      Dark    600  100     134   \n",
       "228  212                   Scizor       Bug     Steel    500   70     130   \n",
       "163  150      MewtwoMega Mewtwo X   Psychic  Fighting    780  106     190   \n",
       "137  127        PinsirMega Pinsir       Bug    Flying    600   65     155   \n",
       "141  130    GyaradosMega Gyarados     Water      Dark    640   95     155   \n",
       "19    15    BeedrillMega Beedrill       Bug    Poison    495   65     150   \n",
       "164  150      MewtwoMega Mewtwo Y   Psychic       NaN    780  106     150   \n",
       "\n",
       "     Defense  Sp. Atk  Sp. Def  Speed  Generation  Legendary  \n",
       "796      110      160      110    110           6       True  \n",
       "798       60      170      130     80           6       True  \n",
       "750       50      150       50     60           6      False  \n",
       "792       95      131       98     99           6       True  \n",
       "793       95      131       98     99           6       True  \n",
       "711      100      120       90     95           5       True  \n",
       "707      120      120      100     90           5       True  \n",
       "673       90       60       70     97           5      False  \n",
       "709       90      105       80     91           5       True  \n",
       "594       95       55       65     45           5      False  \n",
       "494      115      120       95     92           4      False  \n",
       "454       60       65       50     58           4      False  \n",
       "527       95       65      115    110           4      False  \n",
       "543      110       80      110    100           4       True  \n",
       "498       88      140       70    112           4      False  \n",
       "424      160      150       90     90           3       True  \n",
       "426      100      180      100    115           3       True  \n",
       "429       20      180       20    150           3       True  \n",
       "387       75       93       83     75           3      False  \n",
       "279       80      130       80    100           3      False  \n",
       "232      115       40      105     75           2      False  \n",
       "268      150       95      120     71           2      False  \n",
       "229      140       65      100     75           2      False  \n",
       "267      110       95      100     61           2      False  \n",
       "228      100       55       80     65           2      False  \n",
       "163      100      154      100    130           1       True  \n",
       "137      120       65       90    105           1      False  \n",
       "141      109       70      130     81           1      False  \n",
       "19        40       15       80    145           1      False  \n",
       "164       70      194      120    140           1       True  "
      ]
     },
     "execution_count": 68,
     "metadata": {},
     "output_type": "execute_result"
    }
   ],
   "source": [
    "answer = df.sort_values(['Generation','Attack'],ascending=False).groupby('Generation').head(5)\n",
    "answer"
   ]
  },
  {
   "cell_type": "code",
   "execution_count": 61,
   "id": "e0aea314-2430-425f-806a-1fd32f9807ee",
   "metadata": {},
   "outputs": [
    {
     "name": "stdout",
     "output_type": "stream",
     "text": [
      "157.23333333333332\n"
     ]
    }
   ],
   "source": [
    "# 답\n",
    "result =  df.sort_values(['Generation','Attack'],ascending=False).groupby('Generation').head(5).Attack.mean()\n",
    "print(result)"
   ]
  },
  {
   "cell_type": "markdown",
   "id": "1c16f375-f4e8-4c2c-9323-ef963e0234e2",
   "metadata": {},
   "source": [
    "# Question 가장 흔하게 발견되는 (Type1 , Type2) 의 쌍은 무엇인가?"
   ]
  },
  {
   "cell_type": "markdown",
   "id": "677103cd-b586-4617-8c59-b1c0c0e3aa89",
   "metadata": {},
   "source": [
    "답보고 베낌"
   ]
  },
  {
   "cell_type": "code",
   "execution_count": 77,
   "id": "221bb593-92e0-40f4-baef-44f1b3d7a7d9",
   "metadata": {},
   "outputs": [
    {
     "data": {
      "text/plain": [
       "Type 1  Type 2\n",
       "Normal  Flying    24\n",
       "dtype: int64"
      ]
     },
     "execution_count": 77,
     "metadata": {},
     "output_type": "execute_result"
    }
   ],
   "source": [
    "target = df[['Type 1','Type 2']].value_counts().head(1)\n",
    "target"
   ]
  },
  {
   "cell_type": "code",
   "execution_count": 79,
   "id": "12a25679-4747-4c0f-ad26-33fc2424437f",
   "metadata": {},
   "outputs": [
    {
     "data": {
      "text/plain": [
       "('Normal', 'Flying')"
      ]
     },
     "execution_count": 79,
     "metadata": {},
     "output_type": "execute_result"
    }
   ],
   "source": [
    "target = df[['Type 1','Type 2']].value_counts().index[0]\n",
    "target"
   ]
  },
  {
   "cell_type": "markdown",
   "id": "cc5c7c01-8b5f-4b89-b25e-1274faa4affa",
   "metadata": {},
   "source": [
    "# Question 한번씩만 존재하는 (Type1 , Type2)의 쌍의 갯수는 몇개인가?"
   ]
  },
  {
   "cell_type": "code",
   "execution_count": 88,
   "id": "dfb08fc0-eb1f-49eb-b4fb-4d1d83e9e5c0",
   "metadata": {},
   "outputs": [
    {
     "data": {
      "text/plain": [
       "Type 1    Type 2\n",
       "Normal    Flying    24\n",
       "Grass     Poison    15\n",
       "Bug       Flying    14\n",
       "          Poison    12\n",
       "Ghost     Grass     10\n",
       "                    ..\n",
       "Fire      Rock       1\n",
       "Ice       Ghost      1\n",
       "Fire      Dragon     1\n",
       "Fighting  Flying     1\n",
       "Water     Steel      1\n",
       "Length: 136, dtype: int64"
      ]
     },
     "execution_count": 88,
     "metadata": {},
     "output_type": "execute_result"
    }
   ],
   "source": [
    "target =  df[['Type 1','Type 2']].value_counts()\n",
    "target"
   ]
  },
  {
   "cell_type": "code",
   "execution_count": 91,
   "id": "30ec8870-ce95-40c1-a4a3-92881ae8df4c",
   "metadata": {},
   "outputs": [
    {
     "data": {
      "text/plain": [
       "39"
      ]
     },
     "execution_count": 91,
     "metadata": {},
     "output_type": "execute_result"
    }
   ],
   "source": [
    "#답\n",
    "target =  df[['Type 1','Type 2']].value_counts()\n",
    "answer = len(target[target==1])\n",
    "answer"
   ]
  },
  {
   "cell_type": "markdown",
   "id": "844f4d4d-2f67-4469-be3f-ec94476a44de",
   "metadata": {},
   "source": [
    "# Question 한번씩만 존재하는 (Type1 , Type2)의 쌍을 각 세대(Generation)은 각각 몇개씩 가지고 있는가?"
   ]
  },
  {
   "cell_type": "code",
   "execution_count": 87,
   "id": "98a437c8-d150-498a-a009-a3a30bb52136",
   "metadata": {},
   "outputs": [
    {
     "data": {
      "text/plain": [
       "Generation  Type 1  Type 2  \n",
       "6           Ghost   Grass       10\n",
       "1           Grass   Poison      10\n",
       "            Normal  Flying       9\n",
       "            Bug     Poison       6\n",
       "3           Dragon  Flying       5\n",
       "                                ..\n",
       "            Ground  Fire         1\n",
       "            Grass   Poison       1\n",
       "                    Flying       1\n",
       "                    Fighting     1\n",
       "6           Water   Dark         1\n",
       "Length: 212, dtype: int64"
      ]
     },
     "execution_count": 87,
     "metadata": {},
     "output_type": "execute_result"
    }
   ],
   "source": [
    "target =  df[['Generation','Type 1','Type 2']].value_counts()\n",
    "target"
   ]
  },
  {
   "cell_type": "code",
   "execution_count": 7,
   "id": "48b42ddc-56a6-4ced-aa0e-3871b7924fd9",
   "metadata": {},
   "outputs": [
    {
     "data": {
      "text/plain": [
       "Generation  Type 1    Type 2  \n",
       "5           Dragon    Fire        1\n",
       "                      Electric    1\n",
       "            Rock      Fighting    1\n",
       "            Fire      Psychic     1\n",
       "6           Fighting  Dark        1\n",
       "                                 ..\n",
       "3           Ground    Fire        1\n",
       "            Grass     Poison      1\n",
       "                      Flying      1\n",
       "                      Fighting    1\n",
       "6           Water     Dark        1\n",
       "Length: 101, dtype: int64"
      ]
     },
     "execution_count": 7,
     "metadata": {},
     "output_type": "execute_result"
    }
   ],
   "source": [
    "target =  df[['Generation','Type 1','Type 2']].value_counts()\n",
    "answer = (target[target==1])\n",
    "answer"
   ]
  },
  {
   "cell_type": "code",
   "execution_count": 8,
   "id": "0f45eaa4-edbc-4eac-93bf-9db465dd23fa",
   "metadata": {},
   "outputs": [
    {
     "name": "stdout",
     "output_type": "stream",
     "text": [
      "1     1\n",
      "2     4\n",
      "3     5\n",
      "4    13\n",
      "5     7\n",
      "6     9\n",
      "Name: Generation, dtype: int64\n"
     ]
    }
   ],
   "source": [
    "#답\n",
    "target = df[['Type 1','Type 2']].value_counts()\n",
    "target2 =target[target==1]\n",
    "\n",
    "lst = []\n",
    "for value in target2.reset_index().values:\n",
    "    t1 = value[0]\n",
    "    t2 = value[1]\n",
    "    \n",
    "    sp = df[(df['Type 1']==t1) & (df['Type 2']==t2)]\n",
    "    lst.append(sp)\n",
    "\n",
    "result = pd.concat(lst).reset_index(drop=True).Generation.value_counts().sort_index()\n",
    "print(result)"
   ]
  },
  {
   "cell_type": "code",
   "execution_count": null,
   "id": "817df1dc-3b1e-4de9-957c-e33be9e995f4",
   "metadata": {},
   "outputs": [],
   "source": []
  }
 ],
 "metadata": {
  "kernelspec": {
   "display_name": "Python 3 (ipykernel)",
   "language": "python",
   "name": "python3"
  },
  "language_info": {
   "codemirror_mode": {
    "name": "ipython",
    "version": 3
   },
   "file_extension": ".py",
   "mimetype": "text/x-python",
   "name": "python",
   "nbconvert_exporter": "python",
   "pygments_lexer": "ipython3",
   "version": "3.8.12"
  }
 },
 "nbformat": 4,
 "nbformat_minor": 5
}
