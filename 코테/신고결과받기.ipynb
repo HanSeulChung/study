{
 "cells": [
  {
   "cell_type": "code",
   "execution_count": 1,
   "id": "cdc491d4-76ce-417b-a7e4-068f76ea6010",
   "metadata": {},
   "outputs": [],
   "source": [
    "from collections import defaultdict"
   ]
  },
  {
   "cell_type": "code",
   "execution_count": 13,
   "id": "e375c08c-860d-4348-895a-613e3a5a934f",
   "metadata": {},
   "outputs": [],
   "source": [
    "def solution(id_list, report, k):\n",
    "    answer = []\n",
    "    \n",
    "    count = defaultdict(int)   # 몇번 신고했는지\n",
    "    user = defaultdict(set)  # 신고 리스트\n",
    "    # 1. 누가 누구를 신고했는지 dict 담기 & 신고당한 횟수 세기\n",
    "    for r in report:\n",
    "        a, b = r.split()  # a가 b를 신고\n",
    "        if b not in user[a]:   # 같은 사람이 1번 이상 신고 x\n",
    "            user[a].add(b)\n",
    "            count[b] += 1  # 신고당한 수\n",
    "    print(user)\n",
    "    print(count)\n",
    "    \n",
    "    # 2. 이용자별로 자신이 신고한 사람이 k번 이상이면 처리된 횟수 + 1\n",
    "    for id in id_list:\n",
    "        result = 0\n",
    "        for u in user[id]:\n",
    "            if count[u] >= k:\n",
    "                result += 1\n",
    "        answer.append(result)\n",
    "    return answer   "
   ]
  },
  {
   "cell_type": "code",
   "execution_count": 14,
   "id": "0c12ef90-54b5-40c7-857e-1d60e7d41143",
   "metadata": {},
   "outputs": [
    {
     "name": "stdout",
     "output_type": "stream",
     "text": [
      "defaultdict(<class 'set'>, {'muzi': {'neo', 'frodo'}, 'apeach': {'muzi', 'frodo'}, 'frodo': {'neo'}})\n",
      "defaultdict(<class 'int'>, {'frodo': 2, 'neo': 2, 'muzi': 1})\n"
     ]
    },
    {
     "data": {
      "text/plain": [
       "[2, 1, 1, 0]"
      ]
     },
     "execution_count": 14,
     "metadata": {},
     "output_type": "execute_result"
    }
   ],
   "source": [
    "id_list1 = [\"muzi\", \"frodo\", \"apeach\", \"neo\"]\n",
    "report1 = [\"muzi frodo\", \"apeach frodo\", \"frodo neo\", \"muzi neo\", \"apeach muzi\"]\n",
    "k1 = 2\n",
    "solution(id_list1, report1, k1)"
   ]
  },
  {
   "cell_type": "code",
   "execution_count": null,
   "id": "c7bb3af7-9442-4339-91a1-79fcd50f7aee",
   "metadata": {},
   "outputs": [],
   "source": []
  }
 ],
 "metadata": {
  "kernelspec": {
   "display_name": "Python 3 (ipykernel)",
   "language": "python",
   "name": "python3"
  },
  "language_info": {
   "codemirror_mode": {
    "name": "ipython",
    "version": 3
   },
   "file_extension": ".py",
   "mimetype": "text/x-python",
   "name": "python",
   "nbconvert_exporter": "python",
   "pygments_lexer": "ipython3",
   "version": "3.8.12"
  }
 },
 "nbformat": 4,
 "nbformat_minor": 5
}
