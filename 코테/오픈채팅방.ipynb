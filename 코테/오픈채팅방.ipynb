{
 "cells": [
  {
   "cell_type": "code",
   "execution_count": 58,
   "id": "18b61e5d-a705-4b0e-8806-4ea4c129840b",
   "metadata": {},
   "outputs": [],
   "source": [
    "def solution(record):\n",
    "    answer = []\n",
    "    id_name = {}\n",
    "    for i in range(len(record)):\n",
    "        if len(record[i].split()) ==3:\n",
    "            userid = record[i].split()[1]\n",
    "            username = record[i].split()[2]\n",
    "            id_name[userid] = username\n",
    "\n",
    "    for i in range(len(record)):        \n",
    "        if record[i][0]== \"E\":\n",
    "            answer.append(\"{0}님이 들어왔습니다.\".format(id_name[record[i].split()[1]]))\n",
    "\n",
    "        elif record[i][0]== \"L\":\n",
    "            answer.append(\"{0}님이 나갔습니다.\".format(id_name[record[i].split()[1]]))\n",
    "    return answer "
   ]
  },
  {
   "cell_type": "code",
   "execution_count": 22,
   "id": "01b1b52c-5e27-43f3-83c0-eec27097c73a",
   "metadata": {},
   "outputs": [
    {
     "name": "stdout",
     "output_type": "stream",
     "text": [
      "Enter uid1234 Prodo\n",
      "uid1234 Prodo\n"
     ]
    }
   ],
   "source": [
    "record = [\"Enter uid1234 Muzi\", \"Enter uid4567 Prodo\",\"Leave uid1234\",\"Enter uid1234 Prodo\",\"Change uid4567 Ryan\"]\n",
    "a = record[3]\n",
    "\n",
    "b = a.split()[1]\n",
    "c = a.split()[2]\n",
    "print(b,c)"
   ]
  },
  {
   "cell_type": "code",
   "execution_count": 37,
   "id": "1e1121ab-eb2a-4a45-9745-cb65b908f42f",
   "metadata": {},
   "outputs": [
    {
     "data": {
      "text/plain": [
       "{'uid1234': 'Prodo', 'uid4567': 'Ryan'}"
      ]
     },
     "execution_count": 37,
     "metadata": {},
     "output_type": "execute_result"
    }
   ],
   "source": [
    "id_name = {}\n",
    "record = [\"Enter uid1234 Muzi\", \"Enter uid4567 Prodo\",\"Leave uid1234\",\"Enter uid1234 Prodo\",\"Change uid4567 Ryan\"]\n",
    "for i in range(len(record)):\n",
    "    if len(record[i].split()) ==3:\n",
    "        userid = record[i].split()[1]\n",
    "        username = record[i].split()[2]\n",
    "        id_name[userid] = username\n",
    "    \n",
    "id_name"
   ]
  },
  {
   "cell_type": "code",
   "execution_count": 57,
   "id": "ee11b4b2-4be9-4ff1-be98-dc9bb15d96ec",
   "metadata": {},
   "outputs": [
    {
     "name": "stdout",
     "output_type": "stream",
     "text": [
      "{'uid1234': 'Prodo', 'uid4567': 'Ryan'}\n",
      "['Prodo님이 들어왔습니다.', 'Ryan님이 들어왔습니다.', 'Prodo님이 나갔습니다.', 'Prodo님이 들어왔습니다.']\n"
     ]
    }
   ],
   "source": [
    "record = [\"Enter uid1234 Muzi\", \"Enter uid4567 Prodo\",\"Leave uid1234\",\"Enter uid1234 Prodo\",\"Change uid4567 Ryan\"]\n",
    "# print(record[1]):\"Enter uid4567 Prodo\"\n",
    "\n",
    "id_name = {}\n",
    "answer = []\n",
    "for i in range(len(record)):\n",
    "    if len(record[i].split()) ==3:\n",
    "        userid = record[i].split()[1]\n",
    "        username = record[i].split()[2]\n",
    "        id_name[userid] = username\n",
    "        \n",
    "for i in range(len(record)):        \n",
    "    if record[i][0]== \"E\":\n",
    "        answer.append(\"{0}님이 들어왔습니다.\".format(id_name[record[i].split()[1]]))\n",
    "\n",
    "    elif record[i][0]== \"L\":\n",
    "        answer.append(\"{0}님이 나갔습니다.\".format(id_name[record[i].split()[1]]))\n",
    "\n",
    "print(id_name)   \n",
    "print(answer)        \n",
    "    "
   ]
  },
  {
   "cell_type": "code",
   "execution_count": 4,
   "id": "027afb5e-eaae-480d-971d-53b98cbdda9f",
   "metadata": {},
   "outputs": [
    {
     "name": "stdout",
     "output_type": "stream",
     "text": [
      "Enter uid4567 Prodo\n",
      "E\n",
      "L\n"
     ]
    }
   ],
   "source": [
    "record = [\"Enter uid1234 Muzi\", \"Enter uid4567 Prodo\",\"Leave uid1234\",\"Enter uid1234 Prodo\",\"Change uid4567 Ryan\"]\n",
    "print(record[1])\n",
    "print(record[1][0])\n",
    "print(record[2][0])"
   ]
  },
  {
   "cell_type": "code",
   "execution_count": 59,
   "id": "6088b418-b4d7-4c15-b450-5d3ceb408400",
   "metadata": {},
   "outputs": [
    {
     "data": {
      "text/plain": [
       "['Prodo님이 들어왔습니다.', 'Ryan님이 들어왔습니다.', 'Prodo님이 나갔습니다.', 'Prodo님이 들어왔습니다.']"
      ]
     },
     "execution_count": 59,
     "metadata": {},
     "output_type": "execute_result"
    }
   ],
   "source": [
    "record = [\"Enter uid1234 Muzi\", \"Enter uid4567 Prodo\",\"Leave uid1234\",\"Enter uid1234 Prodo\",\"Change uid4567 Ryan\"]\n",
    "solution(record)"
   ]
  },
  {
   "cell_type": "markdown",
   "id": "e009cb45-1bf9-4ad7-97f6-82dd8ef604a3",
   "metadata": {},
   "source": [
    "[\"Prodo님이 들어왔습니다.\", \"Ryan님이 들어왔습니다.\", \"Prodo님이 나갔습니다.\", \"Prodo님이 들어왔습니다.\"]"
   ]
  }
 ],
 "metadata": {
  "kernelspec": {
   "display_name": "Python 3 (ipykernel)",
   "language": "python",
   "name": "python3"
  },
  "language_info": {
   "codemirror_mode": {
    "name": "ipython",
    "version": 3
   },
   "file_extension": ".py",
   "mimetype": "text/x-python",
   "name": "python",
   "nbconvert_exporter": "python",
   "pygments_lexer": "ipython3",
   "version": "3.8.12"
  }
 },
 "nbformat": 4,
 "nbformat_minor": 5
}
