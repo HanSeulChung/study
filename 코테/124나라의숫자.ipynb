{
 "cells": [
  {
   "cell_type": "code",
   "execution_count": 64,
   "id": "c6bc1a7a-b267-449f-bb0f-b5eb4b3bc061",
   "metadata": {},
   "outputs": [],
   "source": [
    "def solution(n):\n",
    "    answer =''\n",
    "    if n <4 :  #1,2,3 \n",
    "        answer = 2**(n-1)*10**0\n",
    "    elif n < 7 : #4,5,6\n",
    "        answer = (2**0)*(10**1) + (2**(n-4))*10**0\n",
    "    elif n < 10 : #7,8,9\n",
    "        answer = (2**1)*(10**1) + (2**(n-7))*10**0\n",
    "        \n",
    "    elif n < 13 :#10,11,12\n",
    "        answer = (2**2)*(10**1) + (2**(n-10))*10**0\n",
    "\n",
    "    return answer"
   ]
  },
  {
   "cell_type": "code",
   "execution_count": 65,
   "id": "c01cdf08-0bb6-4368-9a1b-46a67476b7ba",
   "metadata": {},
   "outputs": [
    {
     "data": {
      "text/plain": [
       "2"
      ]
     },
     "execution_count": 65,
     "metadata": {},
     "output_type": "execute_result"
    }
   ],
   "source": [
    "n = 2\n",
    "solution(n)"
   ]
  },
  {
   "cell_type": "code",
   "execution_count": 66,
   "id": "0e2dfb00-aef2-4e70-a016-0c1f585e738f",
   "metadata": {},
   "outputs": [
    {
     "data": {
      "text/plain": [
       "1"
      ]
     },
     "execution_count": 66,
     "metadata": {},
     "output_type": "execute_result"
    }
   ],
   "source": [
    "n = 1\n",
    "solution(n)"
   ]
  },
  {
   "cell_type": "markdown",
   "id": "12a8f502-0881-4988-bf39-6805c3a253b8",
   "metadata": {},
   "source": [
    "이제 이걸 조건문으로 ... "
   ]
  },
  {
   "cell_type": "code",
   "execution_count": 38,
   "id": "d9256e2b-042c-4ccf-85c9-8848f3a70a1e",
   "metadata": {},
   "outputs": [
    {
     "ename": "SyntaxError",
     "evalue": "invalid syntax (Temp/ipykernel_920/3524636377.py, line 4)",
     "output_type": "error",
     "traceback": [
      "\u001b[1;36m  File \u001b[1;32m\"C:\\Users\\w0w12\\AppData\\Local\\Temp/ipykernel_920/3524636377.py\"\u001b[1;36m, line \u001b[1;32m4\u001b[0m\n\u001b[1;33m    for n\u001b[0m\n\u001b[1;37m          ^\u001b[0m\n\u001b[1;31mSyntaxError\u001b[0m\u001b[1;31m:\u001b[0m invalid syntax\n"
     ]
    }
   ],
   "source": [
    "def solution(n):\n",
    "    answer = ''\n",
    "    \n",
    "    for n \n",
    "    \n",
    "    "
   ]
  },
  {
   "cell_type": "code",
   "execution_count": 67,
   "id": "fa02b25f-197e-4ef2-8f81-744cbca23f9e",
   "metadata": {},
   "outputs": [],
   "source": [
    "def solution(n):\n",
    "    answer = ''\n",
    "    while n:\n",
    "        if n % 3:\n",
    "            answer += str(n % 3)\n",
    "            n //= 3\n",
    "        else:\n",
    "            answer += \"4\"\n",
    "            n = n//3 - 1\n",
    "    return answer[::-1]"
   ]
  },
  {
   "cell_type": "markdown",
   "id": "7abeb387-9757-42a1-bd10-c59b0baed916",
   "metadata": {},
   "source": [
    "우선 n이 3의 배수가 아니라면 3진법을 구하는 것과 동일하게 3으로 나눈 나머지를 저장하고, n을 3으로 나눈 몫으로 저장한다.\n",
    "\n",
    "n이 3의 배수라면 무조건 4를 추가하고, n을 3으로 나눈 몫에서 1을 뺀 값을 저장한다.\n",
    "\n",
    "\n",
    "위 과정을 마치면 answer에는 숫자가 저장될 것인데 뒤에서부터 구했기 때문에 역순으로 저장되어 있다.\n",
    "\n",
    "answer[::-1]로 간단하게 다시 역순으로 뒤집을 수 있다.\n",
    "\n",
    " \n",
    "참고로 이 문제에서 요구하는 반환 타입은 str이기에 int로 변환하지 않고 문자열 그대로 반환했다."
   ]
  },
  {
   "cell_type": "code",
   "execution_count": 70,
   "id": "2f730534-fdd7-4c3c-b1e8-b90c052b97c7",
   "metadata": {},
   "outputs": [
    {
     "data": {
      "text/plain": [
       "1"
      ]
     },
     "execution_count": 70,
     "metadata": {},
     "output_type": "execute_result"
    }
   ],
   "source": [
    "10 % 3"
   ]
  },
  {
   "cell_type": "code",
   "execution_count": 71,
   "id": "7bb4bc1b-8c11-44c9-98e0-e4813104b02c",
   "metadata": {},
   "outputs": [
    {
     "data": {
      "text/plain": [
       "'41'"
      ]
     },
     "execution_count": 71,
     "metadata": {},
     "output_type": "execute_result"
    }
   ],
   "source": [
    "n = 10\n",
    "solution(n)"
   ]
  },
  {
   "cell_type": "code",
   "execution_count": 72,
   "id": "987e8802-c8f9-4b21-bc82-ca7b521e1deb",
   "metadata": {},
   "outputs": [],
   "source": [
    "def change124(n):\n",
    "    num = ['1','2','4']\n",
    "    answer = \"\"\n",
    "\n",
    "\n",
    "    while n > 0:\n",
    "        n -= 1\n",
    "        answer = num[n % 3] + answer\n",
    "        n //= 3\n",
    "\n",
    "    return answer"
   ]
  },
  {
   "cell_type": "code",
   "execution_count": 73,
   "id": "986b93f7-a920-4363-9007-1d4b82398cf2",
   "metadata": {},
   "outputs": [
    {
     "data": {
      "text/plain": [
       "'24'"
      ]
     },
     "execution_count": 73,
     "metadata": {},
     "output_type": "execute_result"
    }
   ],
   "source": [
    "n = 9\n",
    "change124(n)"
   ]
  },
  {
   "cell_type": "markdown",
   "id": "13420264-c448-4edc-9bc8-20d7bd0ce0f8",
   "metadata": {},
   "source": [
    "9는 24\n",
    "10은 41 "
   ]
  },
  {
   "cell_type": "code",
   "execution_count": 74,
   "id": "36bc5c17-4ca1-495c-b89d-586f4753aaec",
   "metadata": {},
   "outputs": [],
   "source": [
    "def change124(n):\n",
    "    if n<=3:\n",
    "        return '124'[n-1]\n",
    "    else:\n",
    "        q, r = divmod(n-1, 3) \n",
    "        return change124(q) + '124'[r]"
   ]
  },
  {
   "cell_type": "code",
   "execution_count": 75,
   "id": "71f360ca-2481-48eb-bd8f-ce2ff16166e4",
   "metadata": {},
   "outputs": [
    {
     "data": {
      "text/plain": [
       "'24'"
      ]
     },
     "execution_count": 75,
     "metadata": {},
     "output_type": "execute_result"
    }
   ],
   "source": [
    "n = 9\n",
    "change124(n)"
   ]
  },
  {
   "cell_type": "markdown",
   "id": "2b63b91a-bb4a-4480-b8cc-be2ac6db3edc",
   "metadata": {},
   "source": [
    "https://dingrr.com/blog/post/python-103-%EC%97%B0%EC%82%B0%EC%9E%90%EC%9D%98-8%EA%B0%80%EC%A7%80-%EC%A2%85%EB%A5%98"
   ]
  },
  {
   "cell_type": "code",
   "execution_count": 15,
   "id": "94cd3482-472f-4279-b722-c6fd6145e424",
   "metadata": {},
   "outputs": [
    {
     "data": {
      "text/plain": [
       "3"
      ]
     },
     "execution_count": 15,
     "metadata": {},
     "output_type": "execute_result"
    }
   ],
   "source": [
    "2^1"
   ]
  },
  {
   "cell_type": "code",
   "execution_count": 16,
   "id": "9fb862dd-d5e9-411d-a7d7-3a7cad2596b5",
   "metadata": {},
   "outputs": [
    {
     "data": {
      "text/plain": [
       "0"
      ]
     },
     "execution_count": 16,
     "metadata": {},
     "output_type": "execute_result"
    }
   ],
   "source": [
    "2^2"
   ]
  },
  {
   "cell_type": "code",
   "execution_count": 17,
   "id": "24ac8813-3326-45cc-bfe3-e3517054aec0",
   "metadata": {},
   "outputs": [
    {
     "data": {
      "text/plain": [
       "2"
      ]
     },
     "execution_count": 17,
     "metadata": {},
     "output_type": "execute_result"
    }
   ],
   "source": [
    "2^0"
   ]
  },
  {
   "cell_type": "code",
   "execution_count": 18,
   "id": "de00ce07-97f2-4535-99ea-217f055188e7",
   "metadata": {},
   "outputs": [
    {
     "data": {
      "text/plain": [
       "2"
      ]
     },
     "execution_count": 18,
     "metadata": {},
     "output_type": "execute_result"
    }
   ],
   "source": [
    "0^2"
   ]
  },
  {
   "cell_type": "code",
   "execution_count": 19,
   "id": "bb86fb17-ec87-42a5-90cf-5d9e711fd3fe",
   "metadata": {},
   "outputs": [
    {
     "data": {
      "text/plain": [
       "3"
      ]
     },
     "execution_count": 19,
     "metadata": {},
     "output_type": "execute_result"
    }
   ],
   "source": [
    "1^2"
   ]
  },
  {
   "cell_type": "code",
   "execution_count": null,
   "id": "38532785-41f4-4e15-b7d2-cd0228d4cbe5",
   "metadata": {},
   "outputs": [],
   "source": []
  }
 ],
 "metadata": {
  "kernelspec": {
   "display_name": "Python 3 (ipykernel)",
   "language": "python",
   "name": "python3"
  },
  "language_info": {
   "codemirror_mode": {
    "name": "ipython",
    "version": 3
   },
   "file_extension": ".py",
   "mimetype": "text/x-python",
   "name": "python",
   "nbconvert_exporter": "python",
   "pygments_lexer": "ipython3",
   "version": "3.8.12"
  }
 },
 "nbformat": 4,
 "nbformat_minor": 5
}
