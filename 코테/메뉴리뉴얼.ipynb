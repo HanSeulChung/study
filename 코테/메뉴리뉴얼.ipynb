{
 "cells": [
  {
   "cell_type": "markdown",
   "id": "26e26880-dbee-4905-aff1-4571a3f8462e",
   "metadata": {},
   "source": [
    "## 내 코드"
   ]
  },
  {
   "cell_type": "code",
   "execution_count": null,
   "id": "c30742a6-d2cd-455f-bb59-c046fb369620",
   "metadata": {},
   "outputs": [],
   "source": [
    "def solution(orders, course):\n",
    "    answer = []\n",
    "    return answer"
   ]
  },
  {
   "cell_type": "code",
   "execution_count": null,
   "id": "3000109d-7d82-461e-9636-90be72d42829",
   "metadata": {},
   "outputs": [],
   "source": []
  },
  {
   "cell_type": "code",
   "execution_count": 7,
   "id": "94eb6b8b-eb09-466b-b261-2becf158da89",
   "metadata": {},
   "outputs": [
    {
     "name": "stdout",
     "output_type": "stream",
     "text": [
      "[]\n"
     ]
    }
   ],
   "source": [
    "orders = [\"ABCFG\", \"AC\", \"CDE\", \"ACDE\", \"BCFG\", \"ACDEH\"]\n",
    "answer = [] \n",
    "for i in orders:\n",
    "    print(i)\n",
    "    "
   ]
  },
  {
   "cell_type": "code",
   "execution_count": null,
   "id": "18097cc0-e917-4825-ba93-300af2e20551",
   "metadata": {},
   "outputs": [],
   "source": []
  },
  {
   "cell_type": "code",
   "execution_count": null,
   "id": "a33336e6-9e94-4815-b029-e8df699fe9ca",
   "metadata": {},
   "outputs": [],
   "source": [
    "orders = [\"ABCFG\", \"AC\", \"CDE\", \"ACDE\", \"BCFG\", \"ACDEH\"]\n",
    "course = [2,3,4]\n",
    "solution(orders,course)"
   ]
  },
  {
   "cell_type": "code",
   "execution_count": null,
   "id": "e97af8c9-794d-4bcd-aae8-e2d4f4f8067b",
   "metadata": {},
   "outputs": [],
   "source": [
    "orders = [\"ABCDE\", \"AB\", \"CD\", \"ADE\", \"XYZ\", \"XYZ\", \"ACD\"]\n",
    "course = [2,3,5]\n",
    "solution(orders,course)"
   ]
  },
  {
   "cell_type": "code",
   "execution_count": null,
   "id": "6657f11f-12a7-4648-9322-2dadfbcab09e",
   "metadata": {},
   "outputs": [],
   "source": [
    "orders = [\"XYZ\", \"XWY\", \"WXA\"]\n",
    "course = [2,3,4]\n",
    "solution(orders,course)"
   ]
  },
  {
   "cell_type": "markdown",
   "id": "b36e0db4-a17a-4f6b-b239-1489b818d5b4",
   "metadata": {},
   "source": [
    "## 남 코드"
   ]
  },
  {
   "cell_type": "code",
   "execution_count": 12,
   "id": "ffe4d0d6-7825-4ac6-ab55-f02f37d9d117",
   "metadata": {},
   "outputs": [],
   "source": [
    "from itertools import combinations\n",
    "from collections import Counter\n",
    "\n",
    "\n",
    "def solution(orders, course):\n",
    "    answer = []\n",
    "    for c in course:\n",
    "        temp = []\n",
    "        for order in orders:\n",
    "            combi = combinations(sorted(order), c)\n",
    "            temp += combi\n",
    "        counter = Counter(temp)\n",
    "        if len(counter) != 0 and max(counter.values()) != 1:\n",
    "            answer += [''.join(f) for f in counter if counter[f] == max(counter.values())]\n",
    "\n",
    "    return sorted(answer)"
   ]
  },
  {
   "cell_type": "code",
   "execution_count": 9,
   "id": "77d3220c-aef6-4d31-b2fe-3c0ff82fb383",
   "metadata": {},
   "outputs": [
    {
     "data": {
      "text/plain": [
       "['AC', 'ACDE', 'BCFG', 'CDE']"
      ]
     },
     "execution_count": 9,
     "metadata": {},
     "output_type": "execute_result"
    }
   ],
   "source": [
    "orders = [\"ABCFG\", \"AC\", \"CDE\", \"ACDE\", \"BCFG\", \"ACDEH\"]\n",
    "course = [2,3,4]\n",
    "solution(orders,course)"
   ]
  },
  {
   "cell_type": "code",
   "execution_count": 10,
   "id": "7b03b418-7255-40a3-b4e7-6ba1892d3634",
   "metadata": {},
   "outputs": [],
   "source": [
    "from itertools import combinations\n",
    "from collections import Counter\n",
    "\n",
    "def solution(orders, course):\n",
    "    answer = []\n",
    "    \n",
    "    for num in course:\n",
    "        array = []\n",
    "        for order in orders:\n",
    "            # 주문 문자열 정렬\n",
    "            order = sorted(order) \n",
    "            # array에 현재 주문에서 num개를 뽑아 나올 수 있는 경우를 넣음\n",
    "            array.extend(list(combinations(order, num)))\n",
    "        \n",
    "        # 카운터를 사용하여 중복되는 횟수를 셈\n",
    "        count = Counter(array)\n",
    "        \n",
    "        if count:\n",
    "            # 제일 많이 나온 조합이 두번 이상 시켜졌다면\n",
    "            if max(count.values()) >= 2:\n",
    "                for key, value in count.items():\n",
    "                    # 현재 조합이 가장 많이 시켜졌다면 결과배열에 추가\n",
    "                    if value == max(count.values()):\n",
    "                        answer.append(\"\".join(key))\n",
    "    \n",
    "    # 정렬하여 return \n",
    "    return sorted(answer)"
   ]
  },
  {
   "cell_type": "code",
   "execution_count": 13,
   "id": "98b62546-36a6-4fb2-b430-838373a6b762",
   "metadata": {},
   "outputs": [
    {
     "data": {
      "text/plain": [
       "['ACD', 'AD', 'ADE', 'CD', 'XYZ']"
      ]
     },
     "execution_count": 13,
     "metadata": {},
     "output_type": "execute_result"
    }
   ],
   "source": [
    "orders = [\"ABCDE\", \"AB\", \"CD\", \"ADE\", \"XYZ\", \"XYZ\", \"ACD\"]\n",
    "course = [2,3,5]\n",
    "solution(orders,course)"
   ]
  },
  {
   "cell_type": "code",
   "execution_count": null,
   "id": "4496d519-7c63-4030-b752-0c841277a38c",
   "metadata": {},
   "outputs": [],
   "source": []
  }
 ],
 "metadata": {
  "kernelspec": {
   "display_name": "Python 3 (ipykernel)",
   "language": "python",
   "name": "python3"
  },
  "language_info": {
   "codemirror_mode": {
    "name": "ipython",
    "version": 3
   },
   "file_extension": ".py",
   "mimetype": "text/x-python",
   "name": "python",
   "nbconvert_exporter": "python",
   "pygments_lexer": "ipython3",
   "version": "3.8.12"
  }
 },
 "nbformat": 4,
 "nbformat_minor": 5
}
