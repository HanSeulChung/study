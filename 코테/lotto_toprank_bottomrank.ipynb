{
 "cells": [
  {
   "cell_type": "code",
   "execution_count": 9,
   "id": "9b718a57-7e14-40c3-8c4a-c669d19ea4e9",
   "metadata": {},
   "outputs": [],
   "source": [
    "def solution(lottos, win_nums):\n",
    "    answer = []\n",
    "    i = 0\n",
    "    for x in lottos:\n",
    "        for x in win_nums:\n",
    "            i += 1    \n",
    "        answer[0].append[i]\n",
    "    \n",
    "    if 0 in lottos:\n",
    "        j = lottos.count(0)\n",
    "        answer[1].append[i+j]\n",
    "        \n",
    "    \n",
    "    return answer"
   ]
  },
  {
   "cell_type": "code",
   "execution_count": 6,
   "id": "056de76c-fc35-4822-b1a4-deaa5dc40b8e",
   "metadata": {},
   "outputs": [],
   "source": [
    "answer = [3,3,3, 5]"
   ]
  },
  {
   "cell_type": "code",
   "execution_count": 7,
   "id": "a9bf80de-7a96-41bf-8a4a-efeb5345ac8b",
   "metadata": {},
   "outputs": [
    {
     "data": {
      "text/plain": [
       "3"
      ]
     },
     "execution_count": 7,
     "metadata": {},
     "output_type": "execute_result"
    }
   ],
   "source": [
    "answer[0]"
   ]
  },
  {
   "cell_type": "code",
   "execution_count": 8,
   "id": "5d34fac4-96af-4ec6-a0db-5a80ff0409fb",
   "metadata": {},
   "outputs": [
    {
     "data": {
      "text/plain": [
       "3"
      ]
     },
     "execution_count": 8,
     "metadata": {},
     "output_type": "execute_result"
    }
   ],
   "source": [
    "answer.count(3)"
   ]
  }
 ],
 "metadata": {
  "kernelspec": {
   "display_name": "Python 3 (ipykernel)",
   "language": "python",
   "name": "python3"
  },
  "language_info": {
   "codemirror_mode": {
    "name": "ipython",
    "version": 3
   },
   "file_extension": ".py",
   "mimetype": "text/x-python",
   "name": "python",
   "nbconvert_exporter": "python",
   "pygments_lexer": "ipython3",
   "version": "3.8.12"
  }
 },
 "nbformat": 4,
 "nbformat_minor": 5
}
