{
 "cells": [
  {
   "cell_type": "code",
   "execution_count": null,
   "id": "ee9feb71-aee6-4fe4-9c54-a1223a9a0595",
   "metadata": {},
   "outputs": [],
   "source": [
    "def solution(W,H):\n",
    "    answer = 0\n",
    "    total_sq = W*H\n",
    "    if W == H:\n",
    "        answer = total_sq -2W\n",
    "        \n",
    "    elif W != H:\n",
    "        \n",
    "    return int(answer) "
   ]
  },
  {
   "cell_type": "code",
   "execution_count": 34,
   "id": "185d694b-1138-4da8-a920-b979e58ef9da",
   "metadata": {},
   "outputs": [],
   "source": [
    "import math\n",
    "def solution(W,H):\n",
    "    answer = 0\n",
    "    a = W/H\n",
    "    for x in range(H):\n",
    "        y = a*x\n",
    "        answer +=math.floor(y)\n",
    "    answer = 2*answer\n",
    "            \n",
    "    return answer"
   ]
  },
  {
   "cell_type": "code",
   "execution_count": 39,
   "id": "1c523235-4aa8-48c5-a1d2-4c2b16d48ad1",
   "metadata": {},
   "outputs": [],
   "source": [
    "import math\n",
    "def solution(W,H):\n",
    "    answer = 0\n",
    "    total_sqs = W * H\n",
    "    answer = total_sqs - (W+H - math.gcd(W,H))\n",
    "    return answer"
   ]
  },
  {
   "cell_type": "code",
   "execution_count": 40,
   "id": "c5b2f4a7-7889-4e2e-b71a-4fd320def048",
   "metadata": {},
   "outputs": [
    {
     "data": {
      "text/plain": [
       "80"
      ]
     },
     "execution_count": 40,
     "metadata": {},
     "output_type": "execute_result"
    }
   ],
   "source": [
    "W =8 \n",
    "H = 12\n",
    "solution(W,H)"
   ]
  },
  {
   "cell_type": "code",
   "execution_count": 41,
   "id": "2d5be136-afc5-4b25-8485-ddffe236f294",
   "metadata": {},
   "outputs": [
    {
     "data": {
      "text/plain": [
       "12"
      ]
     },
     "execution_count": 41,
     "metadata": {},
     "output_type": "execute_result"
    }
   ],
   "source": [
    "W = 4\n",
    "H = 4\n",
    "solution(W,H)"
   ]
  },
  {
   "cell_type": "code",
   "execution_count": null,
   "id": "08f7c538-7ced-4dfa-8ef3-2ddf19b40c81",
   "metadata": {},
   "outputs": [],
   "source": []
  }
 ],
 "metadata": {
  "kernelspec": {
   "display_name": "Python 3 (ipykernel)",
   "language": "python",
   "name": "python3"
  },
  "language_info": {
   "codemirror_mode": {
    "name": "ipython",
    "version": 3
   },
   "file_extension": ".py",
   "mimetype": "text/x-python",
   "name": "python",
   "nbconvert_exporter": "python",
   "pygments_lexer": "ipython3",
   "version": "3.8.12"
  }
 },
 "nbformat": 4,
 "nbformat_minor": 5
}
