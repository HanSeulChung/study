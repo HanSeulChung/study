{
 "cells": [
  {
   "cell_type": "code",
   "execution_count": 2,
   "id": "7218668d-82fc-4fb1-82d5-f934ceefa29f",
   "metadata": {
    "tags": []
   },
   "outputs": [
    {
     "data": {
      "text/plain": [
       "str"
      ]
     },
     "execution_count": 2,
     "metadata": {},
     "output_type": "execute_result"
    }
   ],
   "source": [
    "s = \"{{2},{2,1},{2,1,3},{2,1,3,4}}\"\n",
    "type(s)"
   ]
  },
  {
   "cell_type": "code",
   "execution_count": 109,
   "id": "73017def-41e3-449f-b5af-205b631deaa1",
   "metadata": {},
   "outputs": [],
   "source": [
    "s =\"{{1,2,3},{2,1},{1,2,4,3},{2}}\""
   ]
  },
  {
   "cell_type": "code",
   "execution_count": 3,
   "id": "666d9a45-b767-4a22-adf6-6f74b80b8688",
   "metadata": {},
   "outputs": [
    {
     "data": {
      "text/plain": [
       "'{{2},{2,1},{2,1,3},{2,1,3,4}}'"
      ]
     },
     "execution_count": 3,
     "metadata": {},
     "output_type": "execute_result"
    }
   ],
   "source": [
    "s.lstrip()"
   ]
  },
  {
   "cell_type": "code",
   "execution_count": 4,
   "id": "867f9d8a-0276-4b93-90ee-6696a552d856",
   "metadata": {},
   "outputs": [
    {
     "data": {
      "text/plain": [
       "10"
      ]
     },
     "execution_count": 4,
     "metadata": {},
     "output_type": "execute_result"
    }
   ],
   "source": [
    "a=s.split(\",\")\n",
    "len(a)"
   ]
  },
  {
   "cell_type": "code",
   "execution_count": 5,
   "id": "c6104110-15e3-4489-b717-02dab1eb67fa",
   "metadata": {},
   "outputs": [
    {
     "data": {
      "text/plain": [
       "'2},{2,1},{2,1,3},{2,1,3,4'"
      ]
     },
     "execution_count": 5,
     "metadata": {},
     "output_type": "execute_result"
    }
   ],
   "source": [
    "a = s.replace(\"{{\",'')\n",
    "a = a.replace(\"}}\",\"\")\n",
    "a"
   ]
  },
  {
   "cell_type": "code",
   "execution_count": 6,
   "id": "fd694b29-32b4-4cef-ba52-cf0ff635e6d6",
   "metadata": {},
   "outputs": [
    {
     "data": {
      "text/plain": [
       "['2', '2,1', '2,1,3', '2,1,3,4']"
      ]
     },
     "execution_count": 6,
     "metadata": {},
     "output_type": "execute_result"
    }
   ],
   "source": [
    "c = a.split(\"},{\")\n",
    "c"
   ]
  },
  {
   "cell_type": "code",
   "execution_count": 8,
   "id": "2661286f-4243-42f0-bf1e-c20a1897fdd0",
   "metadata": {},
   "outputs": [
    {
     "data": {
      "text/plain": [
       "list"
      ]
     },
     "execution_count": 8,
     "metadata": {},
     "output_type": "execute_result"
    }
   ],
   "source": [
    "type(c)"
   ]
  },
  {
   "cell_type": "code",
   "execution_count": 112,
   "id": "943a7334-ec43-43cf-9322-94d3be64ea2f",
   "metadata": {},
   "outputs": [
    {
     "data": {
      "text/plain": [
       "['2', '2,1', '1,2,3', '1,2,4,3']"
      ]
     },
     "execution_count": 112,
     "metadata": {},
     "output_type": "execute_result"
    }
   ],
   "source": [
    "c.sort(key=len)\n",
    "c"
   ]
  },
  {
   "cell_type": "code",
   "execution_count": 118,
   "id": "1abf5608-3d17-45d7-a848-e6c506e9a5aa",
   "metadata": {},
   "outputs": [
    {
     "data": {
      "text/plain": [
       "'1,2,4,3'"
      ]
     },
     "execution_count": 118,
     "metadata": {},
     "output_type": "execute_result"
    }
   ],
   "source": [
    "c[-1]"
   ]
  },
  {
   "cell_type": "code",
   "execution_count": 120,
   "id": "ae40b80f-4620-4ee6-91c1-4f93092926b7",
   "metadata": {},
   "outputs": [
    {
     "data": {
      "text/plain": [
       "[1, 2, 4, 3]"
      ]
     },
     "execution_count": 120,
     "metadata": {},
     "output_type": "execute_result"
    }
   ],
   "source": [
    "mlist = c[-1].replace(',','')\n",
    "answer=[]\n",
    "for i in mlist:   \n",
    "    answer.append(int(i))\n",
    "answer\n",
    "    "
   ]
  },
  {
   "cell_type": "code",
   "execution_count": 105,
   "id": "3f6b405b-5371-45d3-acc0-530bf279f4e2",
   "metadata": {},
   "outputs": [
    {
     "data": {
      "text/plain": [
       "4"
      ]
     },
     "execution_count": 105,
     "metadata": {},
     "output_type": "execute_result"
    }
   ],
   "source": [
    "len(c)"
   ]
  },
  {
   "cell_type": "code",
   "execution_count": 96,
   "id": "de283c9e-be79-47c0-be74-b88472c6777d",
   "metadata": {},
   "outputs": [
    {
     "data": {
      "text/plain": [
       "2"
      ]
     },
     "execution_count": 96,
     "metadata": {},
     "output_type": "execute_result"
    }
   ],
   "source": [
    "for i in c:\n",
    "    if i"
   ]
  },
  {
   "cell_type": "code",
   "execution_count": 71,
   "id": "259e47e5-a634-42df-8ee9-214d7f965a0c",
   "metadata": {},
   "outputs": [
    {
     "data": {
      "text/plain": [
       "10"
      ]
     },
     "execution_count": 71,
     "metadata": {},
     "output_type": "execute_result"
    }
   ],
   "source": [
    "s2=\"{{1,2,3},{2,1},{1,2,4,3},{2}}\"\n",
    "a=s2.split(\",\")\n",
    "len(a)"
   ]
  },
  {
   "cell_type": "code",
   "execution_count": 72,
   "id": "77dc7fd6-c63f-4df6-8749-3bae3c74258c",
   "metadata": {},
   "outputs": [
    {
     "data": {
      "text/plain": [
       "3"
      ]
     },
     "execution_count": 72,
     "metadata": {},
     "output_type": "execute_result"
    }
   ],
   "source": [
    "s2=\"{{20,111},{111}}\"\n",
    "a=s2.split(\",\")\n",
    "len(a)"
   ]
  },
  {
   "cell_type": "markdown",
   "id": "174fc659-5d05-42f1-b404-2a257442be1f",
   "metadata": {},
   "source": [
    "인터넷에서 다른사람이 한 코드 보고 내가 해본거!"
   ]
  },
  {
   "cell_type": "code",
   "execution_count": 137,
   "id": "4e40f406-0a14-490f-ad8d-2562bf42d564",
   "metadata": {},
   "outputs": [],
   "source": [
    "def solution(s): # 답은 나오는데 제출하면 테스트15 한개 빼고 다 실패임\n",
    "    answer = []\n",
    "    s = s.replace(\"{{\",'')\n",
    "    s = s.replace(\"}}\",\"\")\n",
    "    s = s.split(\"},{\")\n",
    "    s.sort(key=len)\n",
    "    s1 = s[-1].replace(',','')\n",
    "    for i in s1:\n",
    "        answer.append(int(i))\n",
    "    return answer "
   ]
  },
  {
   "cell_type": "code",
   "execution_count": 138,
   "id": "65637877-903b-42a9-b3df-69dd428221b5",
   "metadata": {},
   "outputs": [
    {
     "data": {
      "text/plain": [
       "[2, 1, 3, 4]"
      ]
     },
     "execution_count": 138,
     "metadata": {},
     "output_type": "execute_result"
    }
   ],
   "source": [
    "s = \"{{2},{2,1},{2,1,3},{2,1,3,4}}\"\n",
    "solution(s)"
   ]
  },
  {
   "cell_type": "code",
   "execution_count": null,
   "id": "4b147502-8f10-4146-8b3f-3acf5399cca2",
   "metadata": {},
   "outputs": [],
   "source": []
  },
  {
   "cell_type": "code",
   "execution_count": null,
   "id": "5520f1ec-8709-4bfc-a196-8da17f3dcce6",
   "metadata": {},
   "outputs": [],
   "source": []
  },
  {
   "cell_type": "markdown",
   "id": "0c038881-b3d6-4e1b-92d9-155cd6d3b17f",
   "metadata": {
    "tags": []
   },
   "source": [
    "### 모르겠다 .... .. 답~~"
   ]
  },
  {
   "cell_type": "code",
   "execution_count": 97,
   "id": "0a5916a7-d033-4702-96de-3e4da8fc31d2",
   "metadata": {},
   "outputs": [],
   "source": [
    "def solution(s):\n",
    "    answer = []\n",
    "    s = s[2:-2]\n",
    "    s = s.split(\"},{\")\n",
    "    s.sort(key = len)\n",
    "    for i in s:\n",
    "        ii = i.split(',')\n",
    "        for j in ii:\n",
    "            if int(j) not in answer:\n",
    "                answer.append(int(j))\n",
    "    return answer"
   ]
  },
  {
   "cell_type": "code",
   "execution_count": 98,
   "id": "58807832-820b-4745-851f-0d91bddb51a9",
   "metadata": {},
   "outputs": [
    {
     "data": {
      "text/plain": [
       "[2, 1, 3, 4]"
      ]
     },
     "execution_count": 98,
     "metadata": {},
     "output_type": "execute_result"
    }
   ],
   "source": [
    "s = \"{{2},{2,1},{2,1,3},{2,1,3,4}}\"\n",
    "solution(s)"
   ]
  },
  {
   "cell_type": "code",
   "execution_count": 141,
   "id": "52e3ed8c-9aad-49ee-9850-c62f378366d4",
   "metadata": {},
   "outputs": [],
   "source": [
    "import re\n",
    " \n",
    "def solution(s):\n",
    "    answer = []\n",
    "    a = s.split(',{')\n",
    "    a.sort(key = len)\n",
    "    for j in a:\n",
    "        numbers = re.findall(\"\\d+\", j)\n",
    "        for k in numbers:\n",
    "            if int(k) not in answer:\n",
    "                answer.append(int(k))\n",
    "    return answer"
   ]
  },
  {
   "cell_type": "code",
   "execution_count": 144,
   "id": "bee11a60-bd0f-4c1d-844d-29eb162b8184",
   "metadata": {},
   "outputs": [
    {
     "data": {
      "text/plain": [
       "[2, 1, 3, 4]"
      ]
     },
     "execution_count": 144,
     "metadata": {},
     "output_type": "execute_result"
    }
   ],
   "source": [
    "s = \"{{2},{2,1},{2,1,3},{2,1,3,4}}\"\n",
    "solution(s)"
   ]
  },
  {
   "cell_type": "code",
   "execution_count": 143,
   "id": "f0b3e3e8-3251-4e9c-a9ba-cd513b6a77cf",
   "metadata": {},
   "outputs": [],
   "source": [
    "def solution(s):\n",
    "    answer = []\n",
    "    # 입력받은 s 문자열의 괄호와 끝 괄호를 제거하고 리스트 형태로 변환\n",
    "    s_list = s.replace('{', '').replace('}}', '').split('},')\n",
    "    # 각 원소의 길이를 기준으로 정렬\n",
    "    s_list.sort(key=len)\n",
    "    # s_list의 문자열을 각각 접근\n",
    "    for string in s_list:\n",
    "        # 문자열을 정수화 하고 리스트화 하여 nubmers에 넣기\n",
    "        numbers = list(map(int, string.split(',')))\n",
    "        # numbers의 숫자를 하나씩 접근하며 답 리스트에 없는 경우에만 append\n",
    "        for number in numbers:\n",
    "            if number not in answer:\n",
    "                answer.append(number)\n",
    "    return answer"
   ]
  },
  {
   "cell_type": "code",
   "execution_count": null,
   "id": "f6ffe18a-162c-4c4e-b70e-5bb52e449e5f",
   "metadata": {},
   "outputs": [],
   "source": []
  }
 ],
 "metadata": {
  "kernelspec": {
   "display_name": "Python 3 (ipykernel)",
   "language": "python",
   "name": "python3"
  },
  "language_info": {
   "codemirror_mode": {
    "name": "ipython",
    "version": 3
   },
   "file_extension": ".py",
   "mimetype": "text/x-python",
   "name": "python",
   "nbconvert_exporter": "python",
   "pygments_lexer": "ipython3",
   "version": "3.8.12"
  }
 },
 "nbformat": 4,
 "nbformat_minor": 5
}
