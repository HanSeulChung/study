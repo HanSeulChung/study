{
 "cells": [
  {
   "cell_type": "markdown",
   "id": "cde92c70-a777-4f48-beeb-b27a6d913b68",
   "metadata": {},
   "source": [
    "def 함수 제출 전 확인"
   ]
  },
  {
   "cell_type": "code",
   "execution_count": 129,
   "id": "32621f18-bca4-4fd5-8f99-392864023b3a",
   "metadata": {},
   "outputs": [],
   "source": [
    "def solution(s):\n",
    "    answer = -1\n",
    "    s_list = list(s)\n",
    "    idx=0\n",
    "    for i in range(len(s_list)-1):\n",
    "        if s_list[idx] == s_list[idx+1]: \n",
    "            del s_list[idx:idx+2]\n",
    "            idx = 0\n",
    "\n",
    "        elif s_list[idx]!=s_list[idx+1]:\n",
    "            idx = i\n",
    "    \n",
    "    if len(s_list) == 0:\n",
    "        answer= 1\n",
    "    elif len(s_list) !=0:\n",
    "        answer= 0\n",
    "    return answer"
   ]
  },
  {
   "cell_type": "code",
   "execution_count": 130,
   "id": "679315bf-b6f5-44e2-9501-e7754d6c4412",
   "metadata": {
    "tags": []
   },
   "outputs": [
    {
     "data": {
      "text/plain": [
       "1"
      ]
     },
     "execution_count": 130,
     "metadata": {},
     "output_type": "execute_result"
    }
   ],
   "source": [
    "s = \"baabaa\"\n",
    "solution(s)"
   ]
  },
  {
   "cell_type": "code",
   "execution_count": 131,
   "id": "239161cd-bcbe-4431-b8ef-bc232882ea18",
   "metadata": {
    "tags": []
   },
   "outputs": [
    {
     "data": {
      "text/plain": [
       "0"
      ]
     },
     "execution_count": 131,
     "metadata": {},
     "output_type": "execute_result"
    }
   ],
   "source": [
    "s = \"cdcd\"\n",
    "solution(s)"
   ]
  },
  {
   "attachments": {
    "cf06403f-b504-4688-aa5a-68196cee62a8.png": {
     "image/png": "[encoded data removed]"
    }
   },
   "cell_type": "markdown",
   "id": "ed314ff1-bf13-40e9-9286-383d47f06e8a",
   "metadata": {},
   "source": [
    "답은 나오는데 제출하니\n",
    "![image.png](attachment:cf06403f-b504-4688-aa5a-68196cee62a8.png)\n",
    "이렇게 뜬다"
   ]
  },
  {
   "cell_type": "code",
   "execution_count": null,
   "id": "92c93aca-92ee-445a-84a8-a12cbbe47372",
   "metadata": {},
   "outputs": [],
   "source": []
  },
  {
   "cell_type": "markdown",
   "id": "df993d21-c5e6-4ee1-b3c3-9a871ef53118",
   "metadata": {
    "jp-MarkdownHeadingCollapsed": true,
    "tags": []
   },
   "source": [
    "### practice : 내가 생각한 알고리즘이 실제로 작동 되는지 ? "
   ]
  },
  {
   "cell_type": "code",
   "execution_count": null,
   "id": "19aaf22d-a0ed-41c0-b296-7302ade859dd",
   "metadata": {},
   "outputs": [],
   "source": [
    "def solution(s):\n",
    "    answer = -1\n",
    "    s=''.join(lambda x :)"
   ]
  },
  {
   "cell_type": "code",
   "execution_count": 2,
   "id": "bf567760-5904-41fe-b363-b8cd9b2bd65e",
   "metadata": {},
   "outputs": [
    {
     "name": "stdout",
     "output_type": "stream",
     "text": [
      "good\n"
     ]
    }
   ],
   "source": [
    "s = \"baabaa\"\n",
    "if s[1] == s[2]:\n",
    "    print(\"good\")"
   ]
  },
  {
   "cell_type": "code",
   "execution_count": 132,
   "id": "14f8c2d0-d435-4786-bcf2-684b1423513f",
   "metadata": {},
   "outputs": [
    {
     "data": {
      "text/plain": [
       "''"
      ]
     },
     "execution_count": 132,
     "metadata": {},
     "output_type": "execute_result"
    }
   ],
   "source": [
    "s = \"baabaa\"\n",
    "idx = 0\n",
    "for i in range(1,len(s)):    \n",
    "    s=''.join(x for x in s if s[idx]==s[idx+1]) #왜 다 삭제? ㅠ\n",
    "    idx = i\n",
    "s"
   ]
  },
  {
   "cell_type": "code",
   "execution_count": 123,
   "id": "16cf9859-f2e5-455a-8522-45d32fc6f95c",
   "metadata": {
    "tags": []
   },
   "outputs": [],
   "source": [
    "def solu(s):\n",
    "    s_list = list(s)\n",
    "    idx=0\n",
    "    for i in range(len(s_list)-1):\n",
    "        if s_list[idx] == s_list[idx+1]: \n",
    "            del s_list[idx:idx+2]\n",
    "            idx = 0\n",
    "\n",
    "        elif s_list[idx]!=s_list[idx+1]:\n",
    "            idx = i\n",
    "    \n",
    "    if len(s_list) == 0:\n",
    "        answer =0\n",
    "    elif len(s_list) !=0:\n",
    "        answer= 1\n",
    "    return answer\n",
    "        "
   ]
  },
  {
   "cell_type": "code",
   "execution_count": 124,
   "id": "f9cd1909-53da-40cb-81c8-92b23d6126f4",
   "metadata": {},
   "outputs": [
    {
     "data": {
      "text/plain": [
       "0"
      ]
     },
     "execution_count": 124,
     "metadata": {},
     "output_type": "execute_result"
    }
   ],
   "source": [
    "s = \"baabaa\"\n",
    "solu(s)"
   ]
  },
  {
   "cell_type": "code",
   "execution_count": 125,
   "id": "2383bfe8-be11-489c-b760-1eda9d3cb363",
   "metadata": {},
   "outputs": [
    {
     "data": {
      "text/plain": [
       "1"
      ]
     },
     "execution_count": 125,
     "metadata": {},
     "output_type": "execute_result"
    }
   ],
   "source": [
    "s = \"cdcd\"\n",
    "solu(s)"
   ]
  },
  {
   "cell_type": "markdown",
   "id": "29a9b996-0dd5-4903-bb69-06f50ca388bf",
   "metadata": {},
   "source": [
    "### 리스트화 해서 내가 지정한거 없애기는 가능\n",
    "del 리스트[범위]는 여러개 한꺼번에 삭제 가능\n",
    "\n",
    "리스트.pop(인덱스)는 인덱스 한개만 삭제 가능\n"
   ]
  },
  {
   "cell_type": "code",
   "execution_count": 133,
   "id": "ed15edac-27e2-41de-8b00-d3854bcec1cc",
   "metadata": {},
   "outputs": [
    {
     "name": "stdout",
     "output_type": "stream",
     "text": [
      "['a', 'a']\n",
      "aa\n"
     ]
    }
   ],
   "source": [
    "s = \"baabaa\"\n",
    "s1 = list(s)\n",
    "duplit = s1[1:3]\n",
    "print(duplit)\n",
    "duplit1= ''.join(s for s in duplit).strip()\n",
    "# str_list = ['There', 'is', 4, \"items\"]\n",
    "# result = ' '.join(map(str, str_list)) 리스트를 문자열로 반환하는 또다른 방법\n",
    "# print(result)\n",
    "print(duplit1)\n"
   ]
  },
  {
   "cell_type": "code",
   "execution_count": 88,
   "id": "838eb7da-8551-4ff6-9bd1-1f52d722d093",
   "metadata": {},
   "outputs": [
    {
     "name": "stdout",
     "output_type": "stream",
     "text": [
      "['b', 'a', 'a', 'b', 'a', 'a']\n",
      "['b', 'b', 'a', 'a']\n"
     ]
    }
   ],
   "source": [
    "s = \"baabaa\"\n",
    "s1 = list(s)\n",
    "print(s1)\n",
    "del s1[1:3]\n",
    "print(s1)"
   ]
  },
  {
   "cell_type": "code",
   "execution_count": 91,
   "id": "89edbf7d-3ef3-4d4d-be1a-3f37d75c9279",
   "metadata": {},
   "outputs": [
    {
     "name": "stdout",
     "output_type": "stream",
     "text": [
      "['b', 'a', 'a', 'b', 'a', 'a']\n"
     ]
    },
    {
     "data": {
      "text/plain": [
       "['b', 'a', 'b', 'a', 'a']"
      ]
     },
     "execution_count": 91,
     "metadata": {},
     "output_type": "execute_result"
    }
   ],
   "source": [
    "s = \"baabaa\"\n",
    "s1 = list(s)\n",
    "print(s1)\n",
    "s1.pop(1)\n",
    "s1"
   ]
  },
  {
   "cell_type": "markdown",
   "id": "efe3b0fa-2485-4a80-acf6-3b351a761417",
   "metadata": {},
   "source": [
    "문자열로 re 불러오고 나서 re.sub은 해당된 문자 중복적으로 다 삭제 \n",
    "\n",
    "ex.baabaa에서 b(aa)baa a 두개먼저 삭제하고 다시 loop돌리고 싶은데\n",
    "b(aa)b(aa)로 모든 a가 삭제된다.."
   ]
  },
  {
   "cell_type": "code",
   "execution_count": 50,
   "id": "b68fad05-e739-47e7-b8b5-735703dfeeee",
   "metadata": {},
   "outputs": [
    {
     "data": {
      "text/plain": [
       "'bb'"
      ]
     },
     "execution_count": 50,
     "metadata": {},
     "output_type": "execute_result"
    }
   ],
   "source": [
    "import re\n",
    "s = \"baabaa\"\n",
    "if s[1] == s[2]:\n",
    "    a= s[2]\n",
    "    b= s[1]\n",
    "    s = re.sub(a,'',s[:2])\n",
    "    s = re.sub(b,'',s[:1])\n",
    "    s1 = s\n",
    "s\n"
   ]
  },
  {
   "cell_type": "code",
   "execution_count": null,
   "id": "ba04efe0-3a5b-4376-8cd6-5f8e9edcec69",
   "metadata": {},
   "outputs": [],
   "source": []
  }
 ],
 "metadata": {
  "kernelspec": {
   "display_name": "Python 3 (ipykernel)",
   "language": "python",
   "name": "python3"
  },
  "language_info": {
   "codemirror_mode": {
    "name": "ipython",
    "version": 3
   },
   "file_extension": ".py",
   "mimetype": "text/x-python",
   "name": "python",
   "nbconvert_exporter": "python",
   "pygments_lexer": "ipython3",
   "version": "3.8.12"
  }
 },
 "nbformat": 4,
 "nbformat_minor": 5
}
