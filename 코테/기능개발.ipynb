{
 "cells": [
  {
   "cell_type": "code",
   "execution_count": 49,
   "id": "f13f16c3-91bb-475c-b9e7-f159aba54445",
   "metadata": {},
   "outputs": [],
   "source": [
    "def solution(progresses, speeds):\n",
    "    time_taken = []\n",
    "    answer = []\n",
    "    for i in range(len(progresses)):\n",
    "        a = 100 - progresses[i]\n",
    "        b = a%speeds[i]\n",
    "        if b == 0 :\n",
    "            time_taken.append(a//speeds[i])\n",
    "        elif b !=0 :\n",
    "            time_taken.append(a//speeds[i]+1)\n",
    "    #time_taken = [math.ceil((100-p)/s) for p, s in zip(progresses,speeds)] 위의 코드들을 한줄로 쓰는 방법!\n",
    "\n",
    "    idx = 0\n",
    "    for i in range(len(time_taken)):\n",
    "          if time_taken[idx] < time_taken[i] :      \n",
    "                answer.append(i - idx)   \n",
    "                idx = i                   \n",
    "\n",
    "    answer.append(len(time_taken) - idx)     \n",
    "    \n",
    "    return answer"
   ]
  },
  {
   "cell_type": "code",
   "execution_count": 50,
   "id": "ce9538db-7c73-4571-866c-cdb27f9c1c6b",
   "metadata": {},
   "outputs": [
    {
     "data": {
      "text/plain": [
       "[2, 1]"
      ]
     },
     "execution_count": 50,
     "metadata": {},
     "output_type": "execute_result"
    }
   ],
   "source": [
    "progresses = [93, 30, 55]\n",
    "speeds = [1, 30, 5]\n",
    "solution(progresses, speeds)"
   ]
  },
  {
   "cell_type": "code",
   "execution_count": 51,
   "id": "579b366b-e00f-4917-8fd3-f74337e5cd27",
   "metadata": {},
   "outputs": [
    {
     "data": {
      "text/plain": [
       "[1, 3, 2]"
      ]
     },
     "execution_count": 51,
     "metadata": {},
     "output_type": "execute_result"
    }
   ],
   "source": [
    "progresses = [95, 90, 99, 99, 80, 99]\n",
    "speeds = [1, 1, 1, 1, 1, 1]\n",
    "solution(progresses, speeds)"
   ]
  },
  {
   "cell_type": "code",
   "execution_count": null,
   "id": "e1911cab-a76d-455a-b0e7-a267eab1ef1c",
   "metadata": {},
   "outputs": [],
   "source": []
  },
  {
   "cell_type": "code",
   "execution_count": 18,
   "id": "6979e9fb-ab8f-4957-8b9b-e1fc85fb82cb",
   "metadata": {},
   "outputs": [
    {
     "name": "stdout",
     "output_type": "stream",
     "text": [
      "[7, 3, 9]\n",
      "[2]\n"
     ]
    }
   ],
   "source": [
    "progresses = [93, 30, 55]\n",
    "speeds = [1, 30, 5]\n",
    "time_taken = []\n",
    "answer = []\n",
    "for i in range(len(progresses)):\n",
    "    a = 100 - progresses[i]\n",
    "    b = a%speeds[i]\n",
    "    if b == 0 :\n",
    "        time_taken.append(a//speeds[i])\n",
    "    elif b !=0 :\n",
    "        time_taken.append(a//speeds[i]+1)\n",
    "        \n",
    "for i in range(len(time_taken)-1):\n",
    "    if time_taken[i] < time_taken[i+1]:\n",
    "        answer.append(i+1)\n",
    "    elif time_take[i] > time_taken[i+1] <time_taken[i+1]:\n",
    "        \n",
    "    \n",
    "print(time_taken)\n",
    "print(answer)"
   ]
  },
  {
   "cell_type": "code",
   "execution_count": 47,
   "id": "b3f15226-306d-4472-a3a7-369742136068",
   "metadata": {},
   "outputs": [
    {
     "ename": "IndentationError",
     "evalue": "unindent does not match any outer indentation level (<tokenize>, line 20)",
     "output_type": "error",
     "traceback": [
      "\u001b[1;36m  File \u001b[1;32m\"<tokenize>\"\u001b[1;36m, line \u001b[1;32m20\u001b[0m\n\u001b[1;33m    answer.append(len(time_taken) - idx)    # 갱신된 인덱스부터 마지막 인덱스까지의 개수\u001b[0m\n\u001b[1;37m    ^\u001b[0m\n\u001b[1;31mIndentationError\u001b[0m\u001b[1;31m:\u001b[0m unindent does not match any outer indentation level\n"
     ]
    }
   ],
   "source": [
    "progresses = [95, 90, 99, 99, 80, 99]\n",
    "speeds = [1, 1, 1, 1, 1, 1]\n",
    "time_taken = []\n",
    "answer = []\n",
    "n = len(progresses) \n",
    "for i in range(n):\n",
    "    a = 100 - progresses[i]\n",
    "    b = a%speeds[i]\n",
    "    if b == 0 :\n",
    "        time_taken.append(a//speeds[i])\n",
    "    elif b !=0 :\n",
    "        time_taken.append(a//speeds[i]+1)\n",
    "\n",
    "idx = 0\n",
    "for i in range(len(time_taken)):\n",
    "      if time_taken[idx] < time_taken[i] :      # 현재 인덱스의 작업일보다 큰 작업일이 나오면\n",
    "            answer.append(i - idx)    # 둘의 차이(배포 개수)를 추가 \n",
    "            idx = i                   # 현재 인덱스를 갱신\n",
    "            \n",
    "answer.append(len(time_taken) - idx)    # 갱신된 인덱스부터 마지막 인덱스까지의 개수\n",
    "    \n",
    "        \n",
    "# for i in range(n-1):\n",
    "#     if time_taken[i] < time_taken[i+1]:\n",
    "#         total = 1\n",
    "#         answer.append(total)\n",
    "#     elif time_taken[i] > time_taken[i+1]:\n",
    "#         if i < n:\n",
    "#             if time_taken[i] < time_taken[n-1]:\n",
    "#                 total = n - i\n",
    "#                 answer.append(total)\n",
    "                \n",
    "print(time_taken)\n",
    "print(answer)"
   ]
  },
  {
   "cell_type": "code",
   "execution_count": 37,
   "id": "ef01c54a-1e42-4472-a85d-6f02f7f72b5f",
   "metadata": {},
   "outputs": [
    {
     "name": "stdout",
     "output_type": "stream",
     "text": [
      "[7, 3, 9]\n"
     ]
    }
   ],
   "source": [
    "import math\n",
    "progresses = [93, 30, 55]\n",
    "speeds = [1, 30, 5]\n",
    "time_taken = [math.ceil((100-p)/s) for p, s in zip(progresses,speeds)]\n",
    "\n",
    "print(time_taken)"
   ]
  }
 ],
 "metadata": {
  "kernelspec": {
   "display_name": "Python 3 (ipykernel)",
   "language": "python",
   "name": "python3"
  },
  "language_info": {
   "codemirror_mode": {
    "name": "ipython",
    "version": 3
   },
   "file_extension": ".py",
   "mimetype": "text/x-python",
   "name": "python",
   "nbconvert_exporter": "python",
   "pygments_lexer": "ipython3",
   "version": "3.8.12"
  }
 },
 "nbformat": 4,
 "nbformat_minor": 5
}
