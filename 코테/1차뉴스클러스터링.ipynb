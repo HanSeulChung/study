{
 "cells": [
  {
   "cell_type": "markdown",
   "id": "ac450ef8-e6a4-452c-8334-61141bd42357",
   "metadata": {},
   "source": [
    "남의 코드"
   ]
  },
  {
   "cell_type": "code",
   "execution_count": null,
   "id": "34ac99b6-4ca1-43cb-b261-b9140702615f",
   "metadata": {},
   "outputs": [],
   "source": [
    "from collections import Counter\n",
    "def solution(str1, str2): \n",
    "\n",
    "    # arr1: str1에 대한 문자쌍 배열\n",
    "    # arr2: str2에 대한 문자쌍 배열\n",
    "    arr1 = [str1[i:i + 2].upper() for i in range(len(str1) - 1) if str1[i:i+2].isalpha()]\n",
    "    arr2 = [str2[i:i + 2].upper() for i in range(len(str2) - 1) if str2[i:i+2].isalpha()]\n",
    "    \n",
    "    if len(arr1) == 0 and len(arr2) == 0:     # arr1 과 arr2가 공집합일경우\n",
    "        return 65536\n",
    "\n",
    "    c1 = Counter(arr1)\n",
    "    c2 = Counter(arr2)\n",
    "    \n",
    "    sum_set = sum((c1 | c2).values())         # c1 과 c2 의 합집합\n",
    "    inter_set = sum((c1 & c2).values())       # c1 과 c2 의 교집합\n",
    "\n",
    "    return int(inter_set / sum_set * 65536)"
   ]
  },
  {
   "cell_type": "markdown",
   "id": "39af2189-ae94-40f4-a978-41d10b79ed61",
   "metadata": {},
   "source": [
    "--------------------------------"
   ]
  },
  {
   "cell_type": "markdown",
   "id": "073d4d97-3732-4402-b69a-91519bb6d305",
   "metadata": {},
   "source": [
    "내 코드"
   ]
  },
  {
   "cell_type": "code",
   "execution_count": null,
   "id": "ce881721-d544-4a14-ae23-4794f2d5f898",
   "metadata": {},
   "outputs": [],
   "source": [
    "import re\n",
    "\n",
    "def solution(str1, str2):\n",
    "    answer = 0\n",
    "    a = []\n",
    "    b = []   \n",
    "    ab_inter = []\n",
    "    ab_sum = []\n",
    "       \n",
    "    str1 = str1.lower()\n",
    "    str2 = str2.lower()\n",
    "    \n",
    "    for i in range(len(str1)-1):\n",
    "        if str1[i].isalpha() and str1[i+1].isalpha():\n",
    "            str1_sp = str1[i:i+2]\n",
    "            a.append(str1_sp)               \n",
    "    for i in range(len(str2)-1):\n",
    "        if str2[i].isalpha() and str2[i+1].isalpha():\n",
    "            str2_sp = str2[i:i+2]\n",
    "            b.append(str2_sp)\n",
    "\n",
    "    \n",
    "    for i in b: #중복교집합\n",
    "        if i in a:\n",
    "            a.remove(i)\n",
    "            ab_inter.append(i)\n",
    "\n",
    "            \n",
    "    a_copy = a.copy()\n",
    "    ab_sum = a.copy()\n",
    "    for i in b: #중복합집합\n",
    "        if i not in a_copy:\n",
    "            ab_sum.append(i)\n",
    "        else:\n",
    "            a_copy.remove(i)\n",
    "    \n",
    "    if len(a)==0 and len(b)==0:\n",
    "        answer = 65536\n",
    "    else:\n",
    "        answer = len(ab_inter)/len(ab_sum)*65536\n",
    "    \n",
    "    \n",
    "    return int(answer)"
   ]
  },
  {
   "cell_type": "code",
   "execution_count": 113,
   "id": "3059eec9-dc40-4313-92b6-06b7bef89628",
   "metadata": {},
   "outputs": [],
   "source": [
    "import re\n",
    "\n",
    "def solution(str1, str2):\n",
    "    answer = 0\n",
    "    a = []\n",
    "    b = []   \n",
    "    ab_inter = []\n",
    "    ab_sum = []\n",
    "       \n",
    "    str1 = str1.lower()\n",
    "    str2 = str2.lower()\n",
    "    \n",
    "    for i in range(len(str1)-1):\n",
    "        if str1[i].isalpha() and str1[i+1].isalpha():\n",
    "            str1_sp = str1[i:i+2]\n",
    "            a.append(str1_sp)               \n",
    "    for i in range(len(str2)-1):\n",
    "        if str2[i].isalpha() and str2[i+1].isalpha():\n",
    "            str2_sp = str2[i:i+2]\n",
    "            b.append(str2_sp)\n",
    "\n",
    "    print(\"a:\",a)\n",
    "    print(\"b:\",b)\n",
    "    \n",
    "    \n",
    "    for i in b: #중복교집합\n",
    "        if i in a:\n",
    "            a.remove(i)\n",
    "            ab_inter.append(i)\n",
    "            \n",
    "    print(\"ab_inter:\",ab_inter)\n",
    "            \n",
    "    a_copy = a.copy()\n",
    "    ab_sum = a.copy()\n",
    "    for i in b: #중복합집합\n",
    "        if i not in a_copy:\n",
    "            ab_sum.append(i)\n",
    "        else:\n",
    "            a_copy.remove(i)\n",
    "    print(\"ab_sum:\",ab_sum)\n",
    "    \n",
    "    if len(a)==0 and len(b)==0:\n",
    "        answer = 65536\n",
    "    else:\n",
    "        answer = len(ab_inter)/len(ab_sum)*65536\n",
    "    \n",
    "    \n",
    "    return int(answer)"
   ]
  },
  {
   "cell_type": "code",
   "execution_count": 114,
   "id": "6131e096-c193-42d3-be32-943e8d705275",
   "metadata": {},
   "outputs": [
    {
     "name": "stdout",
     "output_type": "stream",
     "text": [
      "a: ['fr', 'ra', 'an', 'nc', 'ce']\n",
      "b: ['fr', 're', 'en', 'nc', 'ch']\n",
      "ab_inter: ['fr', 'nc']\n",
      "ab_sum: ['ra', 'an', 'ce', 'fr', 're', 'en', 'nc', 'ch']\n"
     ]
    },
    {
     "data": {
      "text/plain": [
       "16384"
      ]
     },
     "execution_count": 114,
     "metadata": {},
     "output_type": "execute_result"
    }
   ],
   "source": [
    "str1 = \"FRANCE\" \n",
    "str2 = \"french\"\n",
    "solution(str1,str2)"
   ]
  },
  {
   "cell_type": "code",
   "execution_count": 115,
   "id": "6d63d725-987d-4f21-974f-64986e7e41d4",
   "metadata": {},
   "outputs": [
    {
     "name": "stdout",
     "output_type": "stream",
     "text": [
      "a: ['ha', 'an', 'nd', 'ds', 'sh', 'ha', 'ak', 'ke']\n",
      "b: ['sh', 'ha', 'ak', 'ke', 'ha', 'an', 'nd', 'ds']\n",
      "ab_inter: ['sh', 'ha', 'ak', 'ke', 'ha', 'an', 'nd', 'ds']\n",
      "ab_sum: ['sh', 'ha', 'ak', 'ke', 'ha', 'an', 'nd', 'ds']\n"
     ]
    },
    {
     "data": {
      "text/plain": [
       "65536"
      ]
     },
     "execution_count": 115,
     "metadata": {},
     "output_type": "execute_result"
    }
   ],
   "source": [
    "str1 = \"handshake\" \n",
    "str2 = \"shake hands\"\n",
    "solution(str1,str2)"
   ]
  },
  {
   "cell_type": "code",
   "execution_count": 116,
   "id": "cf5a9735-7ef9-4beb-a909-3277cbbffd88",
   "metadata": {},
   "outputs": [
    {
     "name": "stdout",
     "output_type": "stream",
     "text": [
      "a: ['aa', 'aa']\n",
      "b: ['aa', 'aa', 'aa']\n",
      "ab_inter: ['aa', 'aa']\n",
      "ab_sum: ['aa', 'aa', 'aa']\n"
     ]
    },
    {
     "data": {
      "text/plain": [
       "43690"
      ]
     },
     "execution_count": 116,
     "metadata": {},
     "output_type": "execute_result"
    }
   ],
   "source": [
    "str1 =\"aa1+aa2\"\n",
    "str2 = \"AAAA12\"\n",
    "solution(str1,str2)"
   ]
  },
  {
   "cell_type": "code",
   "execution_count": 117,
   "id": "8aafa814-863c-45fc-9980-c8ecc7359cfd",
   "metadata": {},
   "outputs": [
    {
     "name": "stdout",
     "output_type": "stream",
     "text": [
      "a: []\n",
      "b: []\n",
      "ab_inter: []\n",
      "ab_sum: []\n"
     ]
    },
    {
     "data": {
      "text/plain": [
       "65536"
      ]
     },
     "execution_count": 117,
     "metadata": {},
     "output_type": "execute_result"
    }
   ],
   "source": [
    "str1 =\"E=M*C^2\"\n",
    "str2 = \"e=m*c^2\"\n",
    "solution(str1,str2)"
   ]
  },
  {
   "cell_type": "code",
   "execution_count": null,
   "id": "86b35560-0248-4303-9091-c6d7c1cdbd33",
   "metadata": {},
   "outputs": [],
   "source": [
    "a = ['ha', 'an', 'nd', 'ds', 'sh', 'ha', 'ak', 'ke']\n",
    "b = ['sh', 'ha', 'ak', 'ke', 'e ', ' h', 'ha', 'an', 'nd', 'ds']\n",
    "\n",
    "for i in a:\n",
    "    "
   ]
  },
  {
   "cell_type": "code",
   "execution_count": 5,
   "id": "a9cc2168-3fe3-41da-be93-d16a9add5e32",
   "metadata": {},
   "outputs": [
    {
     "name": "stdout",
     "output_type": "stream",
     "text": [
      "19660.8\n",
      "19660\n"
     ]
    }
   ],
   "source": [
    "a =0.3\n",
    "a *= 65536\n",
    "print(a)\n",
    "print(int(a))"
   ]
  },
  {
   "cell_type": "code",
   "execution_count": 23,
   "id": "7e98bde1-918a-421d-b8f3-071a8603fe31",
   "metadata": {},
   "outputs": [
    {
     "data": {
      "text/plain": [
       "[2, 1, 5, 7, 9]"
      ]
     },
     "execution_count": 23,
     "metadata": {},
     "output_type": "execute_result"
    }
   ],
   "source": [
    "a = []\n",
    "b = [2,1,5,7,9]\n",
    "a = b.copy()\n",
    "a"
   ]
  },
  {
   "cell_type": "code",
   "execution_count": 59,
   "id": "c9aeadf9-3d11-4722-a9a0-1e58516d98bc",
   "metadata": {},
   "outputs": [
    {
     "name": "stdout",
     "output_type": "stream",
     "text": [
      "[2, 5, 7, 9]\n"
     ]
    }
   ],
   "source": [
    "a = []\n",
    "b = [2,1,5,7,9]\n",
    "for j in b:\n",
    "    if j ==1:\n",
    "        b.pop(j)\n",
    "        \n",
    "print(b)"
   ]
  },
  {
   "cell_type": "code",
   "execution_count": 15,
   "id": "52f9013c-82b7-4b39-95e8-629423b4b191",
   "metadata": {},
   "outputs": [
    {
     "ename": "AttributeError",
     "evalue": "'list' object has no attribute 'intersection'",
     "output_type": "error",
     "traceback": [
      "\u001b[1;31m---------------------------------------------------------------------------\u001b[0m",
      "\u001b[1;31mAttributeError\u001b[0m                            Traceback (most recent call last)",
      "\u001b[1;32m~\\AppData\\Local\\Temp/ipykernel_16136/1237333992.py\u001b[0m in \u001b[0;36m<module>\u001b[1;34m\u001b[0m\n\u001b[0;32m      3\u001b[0m \u001b[1;33m\u001b[0m\u001b[0m\n\u001b[0;32m      4\u001b[0m \u001b[0mab_sum\u001b[0m \u001b[1;33m=\u001b[0m \u001b[0ma\u001b[0m\u001b[1;33m+\u001b[0m\u001b[0mb\u001b[0m\u001b[1;33m\u001b[0m\u001b[1;33m\u001b[0m\u001b[0m\n\u001b[1;32m----> 5\u001b[1;33m \u001b[0mab_inter\u001b[0m \u001b[1;33m=\u001b[0m \u001b[0ma\u001b[0m\u001b[1;33m.\u001b[0m\u001b[0mintersection\u001b[0m\u001b[1;33m(\u001b[0m\u001b[0mb\u001b[0m\u001b[1;33m)\u001b[0m\u001b[1;33m\u001b[0m\u001b[1;33m\u001b[0m\u001b[0m\n\u001b[0m\u001b[0;32m      6\u001b[0m \u001b[0mprint\u001b[0m\u001b[1;33m(\u001b[0m\u001b[0mab_sum\u001b[0m\u001b[1;33m)\u001b[0m\u001b[1;33m\u001b[0m\u001b[1;33m\u001b[0m\u001b[0m\n\u001b[0;32m      7\u001b[0m \u001b[0mprint\u001b[0m\u001b[1;33m(\u001b[0m\u001b[0mab_inter\u001b[0m\u001b[1;33m)\u001b[0m\u001b[1;33m\u001b[0m\u001b[1;33m\u001b[0m\u001b[0m\n",
      "\u001b[1;31mAttributeError\u001b[0m: 'list' object has no attribute 'intersection'"
     ]
    }
   ],
   "source": [
    "a = [1,2,2,3,4]\n",
    "b = [2,1,5,7,9]\n",
    "\n",
    "ab_sum = a+b\n",
    "ab_inter = a.intersection(b)\n",
    "print(ab_sum)\n",
    "print(ab_inter)"
   ]
  },
  {
   "cell_type": "code",
   "execution_count": 21,
   "id": "ef1834f9-213e-42b9-9b65-830257687c4e",
   "metadata": {},
   "outputs": [
    {
     "name": "stdout",
     "output_type": "stream",
     "text": [
      "[2, 2, 1]\n"
     ]
    }
   ],
   "source": [
    "a = [1,2,2,3,4]\n",
    "b = [2,2,1,5,7,9]\n",
    "\n",
    "result = []\n",
    "\n",
    "for i in b:\n",
    "    if i in a:\n",
    "        a.remove(i)\n",
    "        result.append(i)\n",
    "print(result)"
   ]
  },
  {
   "cell_type": "code",
   "execution_count": 22,
   "id": "25d5c39d-5a68-4bc9-a4c6-58aac8eb3199",
   "metadata": {},
   "outputs": [
    {
     "name": "stdout",
     "output_type": "stream",
     "text": [
      "[1, 2, 3, 4]\n"
     ]
    }
   ],
   "source": [
    "a = [1,2,2,3,4,5]\n",
    "b = [1,1,2,3,4,6]\n",
    "\n",
    "result = []\n",
    "\n",
    "for i in b:\n",
    "    if i in a:\n",
    "        a.remove(i)\n",
    "        result.append(i)\n",
    "print(result)"
   ]
  },
  {
   "cell_type": "code",
   "execution_count": null,
   "id": "7b2c6371-3fce-49bc-a823-fdbb2d3beddb",
   "metadata": {},
   "outputs": [],
   "source": []
  }
 ],
 "metadata": {
  "kernelspec": {
   "display_name": "Python 3 (ipykernel)",
   "language": "python",
   "name": "python3"
  },
  "language_info": {
   "codemirror_mode": {
    "name": "ipython",
    "version": 3
   },
   "file_extension": ".py",
   "mimetype": "text/x-python",
   "name": "python",
   "nbconvert_exporter": "python",
   "pygments_lexer": "ipython3",
   "version": "3.8.12"
  }
 },
 "nbformat": 4,
 "nbformat_minor": 5
}
