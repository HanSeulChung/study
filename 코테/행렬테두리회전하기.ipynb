{
 "cells": [
  {
   "cell_type": "markdown",
   "id": "81bf30d1-ceb4-40b2-aeef-83f7c77cab9f",
   "metadata": {},
   "source": [
    "## 내코드"
   ]
  },
  {
   "cell_type": "code",
   "execution_count": 5,
   "id": "53d805be-c814-488d-b3bd-0193090eaea0",
   "metadata": {},
   "outputs": [],
   "source": [
    "import numpy as np"
   ]
  },
  {
   "cell_type": "code",
   "execution_count": null,
   "id": "92d280c6-39b5-44b1-a346-740dd7384a9c",
   "metadata": {},
   "outputs": [],
   "source": [
    "def solution(rows,columns,queries):\n",
    "    answer = []\n",
    "    return answer"
   ]
  },
  {
   "cell_type": "code",
   "execution_count": null,
   "id": "57a2cddb-5ae7-457c-96e7-951523b6c50f",
   "metadata": {},
   "outputs": [],
   "source": []
  },
  {
   "cell_type": "code",
   "execution_count": null,
   "id": "95d9d468-10de-4cf6-ab05-689b74e8771f",
   "metadata": {},
   "outputs": [],
   "source": []
  },
  {
   "cell_type": "code",
   "execution_count": 46,
   "id": "dccca83f-cd49-4f2f-a16d-c367d74c7181",
   "metadata": {},
   "outputs": [
    {
     "name": "stdout",
     "output_type": "stream",
     "text": [
      "[[ 1  2  3  4  5  6]\n",
      " [ 7  8  9 10 11 12]\n",
      " [13 14 15 16 17 18]\n",
      " [19 20 21 22 23 24]\n",
      " [25 26 27 28 29 30]\n",
      " [31 32 33 34 35 36]]\n",
      "15\n",
      "2 5\n",
      "2\n",
      "2 4\n",
      "\t\n",
      "[8, 9, 10, 14, 15, 16, 20, 21, 22, 26, 27, 28]\n",
      "[15, 21, 15, 21, 15, 21, 15, 21]\n"
     ]
    }
   ],
   "source": [
    "rows = 6\n",
    "columns = 6\n",
    "number_list = []\n",
    "number2_list= []\n",
    "querie = [2,2,5,4]\n",
    "arr= np.arange(1,rows*columns +1)\n",
    "arr.shape=(rows,columns)\n",
    "print(arr)\n",
    "print(arr[2,2])\n",
    "print(querie[0],querie[0+2])\n",
    "print(querie[2]-querie[0]-1)\n",
    "print(querie[0],querie[2]-1)\n",
    "print(\"\\t\")\n",
    "for i in range(querie[0]-1,querie[2]):\n",
    "    for j in range(querie[1]-1,querie[3]):\n",
    "        number=arr[i][j]\n",
    "        number_list.append(number)\n",
    "\n",
    "    for i in range(querie[0],querie[2]-1):\n",
    "        for j in range(querie[1],querie[3]-1):\n",
    "            number2 = arr[i][j]\n",
    "        number2_list.append(number2)\n",
    "\n",
    "print(number_list)\n",
    "print(number2_list)\n"
   ]
  },
  {
   "cell_type": "code",
   "execution_count": null,
   "id": "4247af68-9965-4201-86f6-6f4302f41e55",
   "metadata": {},
   "outputs": [],
   "source": [
    "rows = 6\n",
    "columns = 6\n",
    "queries = [[2,2,5,4],[3,3,6,6],[5,1,6,3]]\n",
    "solution(rows, columns, queries)"
   ]
  },
  {
   "cell_type": "code",
   "execution_count": null,
   "id": "3bde89aa-4754-429d-90c8-deaf972e6400",
   "metadata": {},
   "outputs": [],
   "source": [
    "rows = 3\n",
    "columns = 3\n",
    "queries = [[1,1,2,2],[1,2,2,3],[2,1,3,2],[2,2,3,3]]\n",
    "solution(rows, columns, queries)"
   ]
  },
  {
   "cell_type": "code",
   "execution_count": null,
   "id": "4bc448ca-70e9-4b86-90ca-669408a36a98",
   "metadata": {},
   "outputs": [],
   "source": [
    "rows = 100\n",
    "columns = 97\n",
    "queries = [[1,1,100,97]]\n",
    "solution(rows, columns, queries)"
   ]
  },
  {
   "cell_type": "markdown",
   "id": "5cad8e7e-21b4-4ee2-9dc2-09923f0e60a7",
   "metadata": {},
   "source": [
    "## 남 코드"
   ]
  },
  {
   "cell_type": "code",
   "execution_count": 47,
   "id": "89b9617d-178f-4acc-a5b9-6f32c5b2f518",
   "metadata": {},
   "outputs": [],
   "source": [
    "def solution(rows, columns, queries):\n",
    "    answer = []\n",
    "    table = []\n",
    "    for r in range(rows):\n",
    "        table.append([a for a in range(r*columns+1, (r+1)*columns+1)])\n",
    "    \n",
    "    for query in queries:\n",
    "        query = [x-1 for x in query] # 0부터 시작하는 인덱스에 맞춰 1씩 빼줌\n",
    "        tmp = table[query[0]][query[1]] # 왼쪽 위 값 저장\n",
    "        small = tmp\n",
    "        \n",
    "        # left\n",
    "        for i in range(query[0]+1, query[2]+1):\n",
    "            table[i-1][query[1]] = table[i][query[1]]\n",
    "            small = min(small, table[i][query[1]])\n",
    "        # bottom\n",
    "        for i in range(query[1]+1, query[3]+1):\n",
    "            table[query[2]][i-1] = table[query[2]][i]\n",
    "            small = min(small, table[query[2]][i])\n",
    "        # right\n",
    "        for i in range(query[2]-1, query[0]-1, -1):\n",
    "            table[i+1][query[3]] = table[i][query[3]]\n",
    "            small = min(small, table[i][query[3]])\n",
    "        # top\n",
    "        for i in range(query[3]-1, query[1]-1, -1):\n",
    "            table[query[0]][i+1] = table[query[0]][i]\n",
    "            small = min(small, table[query[0]][i])\n",
    "        table[query[0]][query[1]+1] = tmp\n",
    "        \n",
    "        answer.append(small)\n",
    "    \n",
    "    return answer"
   ]
  },
  {
   "cell_type": "code",
   "execution_count": 48,
   "id": "ee0b0458-38b9-4599-b204-ef2303ba2aba",
   "metadata": {},
   "outputs": [],
   "source": [
    "import sys\n",
    "\n",
    "\n",
    "def solution(rows, columns, queries):\n",
    "    arr = [[(i)*columns+(j+1) for j in range(columns)] for i in range(rows)]\n",
    "    result = []\n",
    "    for x1, y1, x2, y2 in queries:\n",
    "        result.append(change(x1-1, y1-1, x2-1, y2-1, arr))\n",
    "    return result\n",
    "\n",
    "\n",
    "def change(x1, y1, x2, y2, arr):\n",
    "    min_value = sys.maxsize\n",
    "    # 맨 위의 맨 왼쪽 값을 기록\n",
    "    temp = arr[x1][y1]\n",
    "    # 왼쪽\n",
    "    for k in range(x1, x2):\n",
    "        arr[k][y1] = arr[k+1][y1]\n",
    "        min_value = min(min_value, arr[k+1][y1])\n",
    "    # 아래\n",
    "    for k in range(y1, y2):\n",
    "        arr[x2][k] = arr[x2][k+1]\n",
    "        min_value = min(min_value, arr[x2][k+1])\n",
    "    # 오른쪽\n",
    "    for k in range(x2, x1, -1):\n",
    "        arr[k][y2] = arr[k-1][y2]\n",
    "        min_value = min(min_value, arr[k-1][y2])\n",
    "    # 위\n",
    "    for k in range(y2, y1+1, -1):\n",
    "        arr[x1][k] = arr[x1][k-1]\n",
    "        min_value = min(min_value, arr[x1][k-1])\n",
    "    # 기록했던 값 업데이트\n",
    "    arr[x1][y1+1] = temp\n",
    "    min_value = min(min_value, temp)\n",
    "    return min_value"
   ]
  },
  {
   "cell_type": "code",
   "execution_count": null,
   "id": "cb6f7d61-534e-4805-8114-157ff6814c6e",
   "metadata": {},
   "outputs": [],
   "source": []
  }
 ],
 "metadata": {
  "kernelspec": {
   "display_name": "Python 3 (ipykernel)",
   "language": "python",
   "name": "python3"
  },
  "language_info": {
   "codemirror_mode": {
    "name": "ipython",
    "version": 3
   },
   "file_extension": ".py",
   "mimetype": "text/x-python",
   "name": "python",
   "nbconvert_exporter": "python",
   "pygments_lexer": "ipython3",
   "version": "3.8.12"
  }
 },
 "nbformat": 4,
 "nbformat_minor": 5
}
