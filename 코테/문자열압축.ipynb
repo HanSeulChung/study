{
 "cells": [
  {
   "cell_type": "markdown",
   "id": "f84c57d9-dc75-43fe-bd6d-d5b01e05847d",
   "metadata": {},
   "source": [
    "남의 코드"
   ]
  },
  {
   "cell_type": "code",
   "execution_count": 52,
   "id": "a13a32c8-f1f1-4e99-8375-45448b8f6f00",
   "metadata": {},
   "outputs": [
    {
     "name": "stdout",
     "output_type": "stream",
     "text": [
      "a\n",
      "\n",
      "aa\n",
      "\n",
      "aab\n",
      "\n",
      "aabb\n",
      "\n",
      "aabba\n",
      "\n",
      "aabbac\n",
      "\n",
      "aabbacc\n",
      "\n",
      "aabbaccc\n",
      "\n",
      "[7, 8, 8, 8, 8, 8, 8, 8]\n",
      "7\n"
     ]
    }
   ],
   "source": [
    "s = \"aabbaccc\"\n",
    "result=[]\n",
    "\n",
    "if len(s)==1:\n",
    "    result= 1\n",
    "\n",
    "for i in range(1, len(s)+1):\n",
    "    b = ''\n",
    "    cnt = 1\n",
    "    tmp=s[:i]\n",
    "    print(tmp)\n",
    "\n",
    "    for j in range(i, len(s)+i, i):\n",
    "\n",
    "        if tmp==s[j:i+j]:\n",
    "            cnt+=1\n",
    "        else:\n",
    "            if cnt!=1:\n",
    "                b = b + str(cnt)+tmp\n",
    "            else:\n",
    "                b = b + tmp\n",
    "\n",
    "            tmp=s[j:j+i]\n",
    "            cnt = 1\n",
    "\n",
    "    result.append(len(b))\n",
    "\n",
    "    print(tmp)    \n",
    "print(result)\n",
    "\n",
    "print(min(result))\n"
   ]
  },
  {
   "cell_type": "code",
   "execution_count": 73,
   "id": "ca17a19a-6e54-4bab-a16b-e5bcfa1a6ca8",
   "metadata": {},
   "outputs": [],
   "source": [
    "def solution(s):\n",
    "    result=[]\n",
    "\n",
    "    if len(s)==1:\n",
    "        return 1\n",
    "\n",
    "    for i in range(1, len(s)):\n",
    "        b = ''\n",
    "        cnt = 1\n",
    "        tmp=s[:i]\n",
    "        print(tmp)\n",
    "        for j in range(i, len(s)+i, i):\n",
    "            print(\"tmp :\",tmp)\n",
    "            if tmp==s[j:i+j]:\n",
    "                cnt+=1\n",
    "            else:\n",
    "                if cnt!=1:\n",
    "                    b = b + str(cnt)+tmp\n",
    "                else:\n",
    "                    b = b + tmp\n",
    "\n",
    "                tmp=s[j:j+i]\n",
    "                cnt = 1\n",
    "            print(\"second tmp:\",tmp)\n",
    "        print(\"b:\", b)\n",
    "\n",
    "        result.append(len(b))\n",
    "\n",
    "    return min(result)"
   ]
  },
  {
   "cell_type": "markdown",
   "id": "4e884624-2a64-4f62-9f2a-8c007f95eb2d",
   "metadata": {},
   "source": [
    "___"
   ]
  },
  {
   "cell_type": "markdown",
   "id": "7328ef78-e413-46f6-9df0-b83c29276ca8",
   "metadata": {},
   "source": [
    "내 코드"
   ]
  },
  {
   "cell_type": "code",
   "execution_count": 36,
   "id": "e464d9b8-094d-4fbe-8b1c-34c06b514a6a",
   "metadata": {},
   "outputs": [
    {
     "name": "stdout",
     "output_type": "stream",
     "text": [
      "['a', 'a', 'b', 'b', 'a', 'c', 'c', 'c']\n",
      "['aa', 'bb', 'ac', 'cc']\n",
      "['aabb', 'accc']\n",
      "[{'a': 3, 'b': 2, 'c': 3}, {'aa': 1, 'bb': 1, 'ac': 1, 'cc': 1}, {'aabb': 1, 'accc': 1}]\n",
      "{'a': 3, 'b': 2, 'c': 3}\n",
      "{'aa': 1, 'bb': 1, 'ac': 1, 'cc': 1}\n",
      "{'aabb': 1, 'accc': 1}\n",
      "1accc\n"
     ]
    }
   ],
   "source": [
    "s = \"aabbaccc\"\n",
    "\n",
    "arr =[]\n",
    "for i in range(1,len(s)):\n",
    "    if len(s)%i==0:\n",
    "        split_data = list(map(''.join, zip(*[iter(s)]*i)))\n",
    "        arr.append(split_data)\n",
    "\n",
    "countarr= []\n",
    "for i in arr:\n",
    "    print(i)\n",
    "    counti = {}\n",
    "    for j in i:    \n",
    "        if j in counti:\n",
    "            counti[j] = counti[j] +1\n",
    "        else:\n",
    "            counti[j] =1\n",
    "    countarr.append(counti)\n",
    "print(countarr)\n",
    "\n",
    "for dic in countarr:\n",
    "    print(dic)\n",
    "    for key in dic:\n",
    "        b=''\n",
    "        a = (str(dic[key])+str(key)) \n",
    "        if a:\n",
    "            b +=a\n",
    "print(b)\n"
   ]
  },
  {
   "cell_type": "code",
   "execution_count": null,
   "id": "b7dc3a70-3ea0-44a8-9525-061d4fd9ba79",
   "metadata": {},
   "outputs": [],
   "source": [
    "def solution(s):\n",
    "    answer = 0\n",
    "    \n",
    "    arr =[]\n",
    "    for i in range(1,len(s)):  #문자열을 문자열갯수의공배수들로 나눠 list로 만든 뒤 arr에 모아두기\n",
    "        if len(s)%i==0:\n",
    "            split_data = list(map(''.join, zip(*[iter(s)]*i)))\n",
    "            arr.append(split_data)\n",
    "\n",
    "    countarr= []\n",
    "    for i in arr:  #list 안에서 중복되는 문자와 갯수 dictionary로 만들기\n",
    "        counti = {}\n",
    "        for j in i:    \n",
    "            if j in counti:\n",
    "                counti[j] = counti[j] +1\n",
    "            else:\n",
    "                counti[j] =1\n",
    "        countarr.append(counti)\n",
    "    \n",
    "    \n",
    "    return answer "
   ]
  },
  {
   "cell_type": "code",
   "execution_count": 74,
   "id": "77d3ecf4-85be-4723-9568-8bed1d7481bd",
   "metadata": {},
   "outputs": [
    {
     "name": "stdout",
     "output_type": "stream",
     "text": [
      "a\n",
      "tmp : a\n",
      "second tmp: a\n",
      "tmp : a\n",
      "second tmp: b\n",
      "tmp : b\n",
      "second tmp: b\n",
      "tmp : b\n",
      "second tmp: a\n",
      "tmp : a\n",
      "second tmp: c\n",
      "tmp : c\n",
      "second tmp: c\n",
      "tmp : c\n",
      "second tmp: c\n",
      "tmp : c\n",
      "second tmp: \n",
      "b: 2a2ba3c\n",
      "aa\n",
      "tmp : aa\n",
      "second tmp: bb\n",
      "tmp : bb\n",
      "second tmp: ac\n",
      "tmp : ac\n",
      "second tmp: cc\n",
      "tmp : cc\n",
      "second tmp: \n",
      "b: aabbaccc\n",
      "aab\n",
      "tmp : aab\n",
      "second tmp: bac\n",
      "tmp : bac\n",
      "second tmp: cc\n",
      "tmp : cc\n",
      "second tmp: \n",
      "b: aabbaccc\n",
      "aabb\n",
      "tmp : aabb\n",
      "second tmp: accc\n",
      "tmp : accc\n",
      "second tmp: \n",
      "b: aabbaccc\n",
      "aabba\n",
      "tmp : aabba\n",
      "second tmp: ccc\n",
      "tmp : ccc\n",
      "second tmp: \n",
      "b: aabbaccc\n",
      "aabbac\n",
      "tmp : aabbac\n",
      "second tmp: cc\n",
      "tmp : cc\n",
      "second tmp: \n",
      "b: aabbaccc\n",
      "aabbacc\n",
      "tmp : aabbacc\n",
      "second tmp: c\n",
      "tmp : c\n",
      "second tmp: \n",
      "b: aabbaccc\n"
     ]
    },
    {
     "data": {
      "text/plain": [
       "7"
      ]
     },
     "execution_count": 74,
     "metadata": {},
     "output_type": "execute_result"
    }
   ],
   "source": [
    "s = \"aabbaccc\"\n",
    "solution(s)"
   ]
  },
  {
   "cell_type": "code",
   "execution_count": 23,
   "id": "59b116a8-e43a-437c-9435-c4f4ff06ec11",
   "metadata": {},
   "outputs": [
    {
     "name": "stdout",
     "output_type": "stream",
     "text": [
      "1\n",
      "2\n",
      "4\n"
     ]
    }
   ],
   "source": [
    "s = \"aabbaccc\"\n",
    "\n",
    "for i in range(1,len(s)):\n",
    "    if len(s)%i==0:\n",
    "        print(i)"
   ]
  },
  {
   "cell_type": "code",
   "execution_count": null,
   "id": "c1321871-9231-479b-951a-932dd8a855f5",
   "metadata": {},
   "outputs": [],
   "source": [
    "s = \"ababcdcdababcdcd\"\n",
    "solution(s)"
   ]
  },
  {
   "cell_type": "code",
   "execution_count": null,
   "id": "b1d9bec0-8018-459b-8e7e-884232174fb1",
   "metadata": {},
   "outputs": [],
   "source": [
    "s = \"abcabcdede\"\n",
    "solution(s)"
   ]
  },
  {
   "cell_type": "code",
   "execution_count": null,
   "id": "fde244e7-ae9b-4d3d-a09e-6c484ed76c00",
   "metadata": {},
   "outputs": [],
   "source": [
    "s = \"abcabcabcabcdededededede\"\n",
    "solution(s)"
   ]
  },
  {
   "cell_type": "code",
   "execution_count": null,
   "id": "0ffe2e7c-dcd7-4331-bb0f-ef00de647027",
   "metadata": {},
   "outputs": [],
   "source": [
    "s = \"xababcdcdababcdcd\"\n",
    "solution(s)"
   ]
  }
 ],
 "metadata": {
  "kernelspec": {
   "display_name": "Python 3 (ipykernel)",
   "language": "python",
   "name": "python3"
  },
  "language_info": {
   "codemirror_mode": {
    "name": "ipython",
    "version": 3
   },
   "file_extension": ".py",
   "mimetype": "text/x-python",
   "name": "python",
   "nbconvert_exporter": "python",
   "pygments_lexer": "ipython3",
   "version": "3.8.12"
  }
 },
 "nbformat": 4,
 "nbformat_minor": 5
}
