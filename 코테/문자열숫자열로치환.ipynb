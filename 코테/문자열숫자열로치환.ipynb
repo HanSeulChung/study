{
 "cells": [
  {
   "cell_type": "code",
   "execution_count": 8,
   "id": "c07d83b1-a2f4-40eb-8e99-c1b8405bf4ac",
   "metadata": {},
   "outputs": [],
   "source": [
    "dict = {0 :\"zero\", 1:\"one\",2:\"two\",\n",
    "            3 : \"three\", 4:\"four\", 5: \"five\",\n",
    "            6 : \"six\", 7:\"seven\", 8:\"eight\", 9:\"nine\"}\n"
   ]
  },
  {
   "cell_type": "code",
   "execution_count": 22,
   "id": "37b5a238-6a67-401f-b09c-01322cb526ff",
   "metadata": {},
   "outputs": [
    {
     "data": {
      "text/plain": [
       "dict_items([(0, 'zero'), (1, 'one'), (2, 'two'), (3, 'three'), (4, 'four'), (5, 'five'), (6, 'six'), (7, 'seven'), (8, 'eight'), (9, 'nine')])"
      ]
     },
     "execution_count": 22,
     "metadata": {},
     "output_type": "execute_result"
    }
   ],
   "source": [
    "dict.items()"
   ]
  },
  {
   "cell_type": "code",
   "execution_count": 12,
   "id": "c43996a4-e8c0-44c9-acef-f1b8aae21a9c",
   "metadata": {},
   "outputs": [],
   "source": [
    "dict.values() "
   ]
  },
  {
   "cell_type": "code",
   "execution_count": 23,
   "id": "e97cf3ef-1e9a-47ac-a507-14d3f315948d",
   "metadata": {},
   "outputs": [],
   "source": [
    "def solution(s):\n",
    "    answer = s \n",
    "    num_s = {'zero':0, 'one':1, 'two':2, 'three':3, 'four':4, 'five':5, 'six':6, 'seven':7, 'eight':8, 'nine':9}\n",
    "    \n",
    "    for item in num_s.items():\n",
    "        answer = answer.replace(item[0], str(item[1]))   \n",
    "\n",
    "\n",
    "    return int(answer)"
   ]
  },
  {
   "cell_type": "code",
   "execution_count": 24,
   "id": "9dfb7f39-09b7-4d0b-9244-ddcb9fc27c1d",
   "metadata": {},
   "outputs": [
    {
     "data": {
      "text/plain": [
       "1478"
      ]
     },
     "execution_count": 24,
     "metadata": {},
     "output_type": "execute_result"
    }
   ],
   "source": [
    "s = \"one4seveneight\"\n",
    "solution(s)"
   ]
  },
  {
   "cell_type": "markdown",
   "id": "77f4b9f4-6de0-4e22-badb-94c88b70e633",
   "metadata": {},
   "source": [
    "-----------------------------------------------------------------------"
   ]
  },
  {
   "cell_type": "code",
   "execution_count": 28,
   "id": "49ec8854-d5e0-4d78-8737-66d541eea86c",
   "metadata": {},
   "outputs": [
    {
     "ename": "SyntaxError",
     "evalue": "invalid syntax (Temp/ipykernel_22576/854001470.py, line 7)",
     "output_type": "error",
     "traceback": [
      "\u001b[1;36m  File \u001b[1;32m\"C:\\Users\\w0w12\\AppData\\Local\\Temp/ipykernel_22576/854001470.py\"\u001b[1;36m, line \u001b[1;32m7\u001b[0m\n\u001b[1;33m    return int(s)\u001b[0m\n\u001b[1;37m    ^\u001b[0m\n\u001b[1;31mSyntaxError\u001b[0m\u001b[1;31m:\u001b[0m invalid syntax\n"
     ]
    }
   ],
   "source": [
    "def solution(s):\n",
    "    list = [\"zero\",\"one\",\"two\",\"three\",\"four\",\"five\",\"six\",\"seven\",\"eight\",\"nine\"]\n",
    "    for num, string in enumerate(list):\n",
    "    \n",
    "        s = s.replace(string,str(num)\n",
    "    \n",
    "      return int(s)"
   ]
  },
  {
   "cell_type": "code",
   "execution_count": null,
   "id": "307f121d-4335-49ed-824e-cf58594a9f67",
   "metadata": {},
   "outputs": [],
   "source": [
    "s = \"one4seveneight\"\n",
    "solution(s)"
   ]
  },
  {
   "cell_type": "markdown",
   "id": "f1c2af52-b4ca-4c95-902a-c66dd725f6f9",
   "metadata": {},
   "source": [
    "------------------------------------------------------------------------------------"
   ]
  },
  {
   "cell_type": "code",
   "execution_count": 6,
   "id": "799f004e-1771-46db-a92c-ecbafb907988",
   "metadata": {},
   "outputs": [],
   "source": [
    "import re\n",
    "def solution(s):\n",
    "    dict = {0 :\"zero\", 1:\"one\",2:\"two\",\n",
    "            3 : \"three\", 4:\"four\", 5: \"five\",\n",
    "            6 : \"six\", 7:\"seven\", 8:\"eight\", 9:\"nine\"}\n",
    "    answer = 0\n",
    "    for s in dict.keys():\n",
    "        a = dict[s]\n",
    "        answer = re.sub(dict,a,s)\n",
    "    return answer"
   ]
  },
  {
   "cell_type": "code",
   "execution_count": 7,
   "id": "c45f0002-1d8f-494a-bb2e-59f6ff9c93c3",
   "metadata": {},
   "outputs": [
    {
     "ename": "TypeError",
     "evalue": "keys() takes no arguments (1 given)",
     "output_type": "error",
     "traceback": [
      "\u001b[1;31m---------------------------------------------------------------------------\u001b[0m",
      "\u001b[1;31mTypeError\u001b[0m                                 Traceback (most recent call last)",
      "\u001b[1;32m~\\AppData\\Local\\Temp/ipykernel_22576/1323054977.py\u001b[0m in \u001b[0;36m<module>\u001b[1;34m\u001b[0m\n\u001b[0;32m      1\u001b[0m \u001b[0ms\u001b[0m \u001b[1;33m=\u001b[0m \u001b[1;34m\"one4seveneight\"\u001b[0m\u001b[1;33m\u001b[0m\u001b[1;33m\u001b[0m\u001b[0m\n\u001b[1;32m----> 2\u001b[1;33m \u001b[0msolution\u001b[0m\u001b[1;33m(\u001b[0m\u001b[0ms\u001b[0m\u001b[1;33m)\u001b[0m\u001b[1;33m\u001b[0m\u001b[1;33m\u001b[0m\u001b[0m\n\u001b[0m",
      "\u001b[1;32m~\\AppData\\Local\\Temp/ipykernel_22576/496143421.py\u001b[0m in \u001b[0;36msolution\u001b[1;34m(s)\u001b[0m\n\u001b[0;32m      7\u001b[0m     \u001b[1;32mfor\u001b[0m \u001b[0ms\u001b[0m \u001b[1;32min\u001b[0m \u001b[0mdict\u001b[0m\u001b[1;33m.\u001b[0m\u001b[0mkeys\u001b[0m\u001b[1;33m(\u001b[0m\u001b[1;33m)\u001b[0m\u001b[1;33m:\u001b[0m\u001b[1;33m\u001b[0m\u001b[1;33m\u001b[0m\u001b[0m\n\u001b[0;32m      8\u001b[0m         \u001b[0ma\u001b[0m \u001b[1;33m=\u001b[0m \u001b[0mdict\u001b[0m\u001b[1;33m[\u001b[0m\u001b[0ms\u001b[0m\u001b[1;33m]\u001b[0m\u001b[1;33m\u001b[0m\u001b[1;33m\u001b[0m\u001b[0m\n\u001b[1;32m----> 9\u001b[1;33m         \u001b[0manswer\u001b[0m \u001b[1;33m=\u001b[0m \u001b[0mre\u001b[0m\u001b[1;33m.\u001b[0m\u001b[0msub\u001b[0m\u001b[1;33m(\u001b[0m\u001b[0mdict\u001b[0m\u001b[1;33m.\u001b[0m\u001b[0mkeys\u001b[0m\u001b[1;33m(\u001b[0m\u001b[0ma\u001b[0m\u001b[1;33m)\u001b[0m\u001b[1;33m,\u001b[0m\u001b[0ma\u001b[0m\u001b[1;33m,\u001b[0m\u001b[0ms\u001b[0m\u001b[1;33m)\u001b[0m\u001b[1;33m\u001b[0m\u001b[1;33m\u001b[0m\u001b[0m\n\u001b[0m\u001b[0;32m     10\u001b[0m     \u001b[1;32mreturn\u001b[0m \u001b[0manswer\u001b[0m\u001b[1;33m\u001b[0m\u001b[1;33m\u001b[0m\u001b[0m\n",
      "\u001b[1;31mTypeError\u001b[0m: keys() takes no arguments (1 given)"
     ]
    }
   ],
   "source": [
    "s = \"one4seveneight\"\n",
    "solution(s)"
   ]
  },
  {
   "cell_type": "code",
   "execution_count": null,
   "id": "ff09e362-cda3-4dc4-be43-43779c3413ff",
   "metadata": {},
   "outputs": [],
   "source": []
  }
 ],
 "metadata": {
  "kernelspec": {
   "display_name": "Python 3 (ipykernel)",
   "language": "python",
   "name": "python3"
  },
  "language_info": {
   "codemirror_mode": {
    "name": "ipython",
    "version": 3
   },
   "file_extension": ".py",
   "mimetype": "text/x-python",
   "name": "python",
   "nbconvert_exporter": "python",
   "pygments_lexer": "ipython3",
   "version": "3.8.12"
  }
 },
 "nbformat": 4,
 "nbformat_minor": 5
}
