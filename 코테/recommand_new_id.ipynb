{
 "cells": [
  {
   "cell_type": "code",
   "execution_count": 5,
   "id": "62eecb01-bd2e-487d-a9f0-6be2b184c798",
   "metadata": {},
   "outputs": [
    {
     "data": {
      "text/plain": [
       "'.'"
      ]
     },
     "execution_count": 5,
     "metadata": {},
     "output_type": "execute_result"
    }
   ],
   "source": [
    "new_id = \"...!@BaT#*..y.abcdefghijklm\"\n",
    "new_id[0]"
   ]
  },
  {
   "cell_type": "code",
   "execution_count": 100,
   "id": "3b1f8fb6-0377-440c-b5d0-d63af569f5f4",
   "metadata": {
    "tags": []
   },
   "outputs": [],
   "source": [
    "import re\n",
    "def solution(new_id):\n",
    "    answer = ''\n",
    "    answer = new_id.lower()\n",
    "    answer = re.sub('[^a-z0-9-_\\.]','',answer)\n",
    "    answer = re.sub('[..]+','.', answer)\n",
    "    #new_id = re.sub('((..)\\\\2{1,})','.',new_id)\n",
    "    answer = re.sub('^\\.|\\.$','',answer)\n",
    "    answer = answer[0:15]\n",
    "    answer = re.sub('\\.$','',answer)\n",
    "    \n",
    "    if answer == '':\n",
    "        answer = 'a'\n",
    "    while len(answer) < 3 :\n",
    "        answer += answer[-1]\n",
    "    \n",
    "    \n",
    "    return answer"
   ]
  },
  {
   "cell_type": "code",
   "execution_count": 101,
   "id": "b94fa4a7-9589-407d-a604-a5f866af61f2",
   "metadata": {},
   "outputs": [
    {
     "data": {
      "text/plain": [
       "'-_bat.y.ab345cde'"
      ]
     },
     "execution_count": 101,
     "metadata": {},
     "output_type": "execute_result"
    }
   ],
   "source": [
    "new_id = \"...!-@_BaT#*..y.ab345cdefghijklm\"\n",
    "\n",
    "solution(new_id)"
   ]
  },
  {
   "cell_type": "code",
   "execution_count": 102,
   "id": "bd0575c8-5d5e-4f0d-a81a-7c08b3015d8d",
   "metadata": {},
   "outputs": [
    {
     "data": {
      "text/plain": [
       "'z--'"
      ]
     },
     "execution_count": 102,
     "metadata": {},
     "output_type": "execute_result"
    }
   ],
   "source": [
    "new_id = \"z-+.^.\"\n",
    "solution(new_id)"
   ]
  },
  {
   "cell_type": "code",
   "execution_count": 103,
   "id": "ed5a369b-9f49-4487-adc3-304103ad047e",
   "metadata": {},
   "outputs": [
    {
     "data": {
      "text/plain": [
       "'123_.def'"
      ]
     },
     "execution_count": 103,
     "metadata": {},
     "output_type": "execute_result"
    }
   ],
   "source": [
    "new_id = \"123_.def\"\n",
    "solution(new_id)"
   ]
  }
 ],
 "metadata": {
  "kernelspec": {
   "display_name": "Python 3 (ipykernel)",
   "language": "python",
   "name": "python3"
  },
  "language_info": {
   "codemirror_mode": {
    "name": "ipython",
    "version": 3
   },
   "file_extension": ".py",
   "mimetype": "text/x-python",
   "name": "python",
   "nbconvert_exporter": "python",
   "pygments_lexer": "ipython3",
   "version": "3.8.12"
  }
 },
 "nbformat": 4,
 "nbformat_minor": 5
}
