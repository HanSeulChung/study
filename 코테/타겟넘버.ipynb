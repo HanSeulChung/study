{
 "cells": [
  {
   "cell_type": "markdown",
   "id": "9823975c-3032-4a0f-829b-4b4b58db0ef0",
   "metadata": {},
   "source": [
    "def 함수 제출 전 확인"
   ]
  },
  {
   "cell_type": "markdown",
   "id": "1e118b3a-0e43-412d-a434-f7f8b17e5a4a",
   "metadata": {},
   "source": [
    "결국 내가 코드를 짜지 못했음 ... \n"
   ]
  },
  {
   "cell_type": "code",
   "execution_count": null,
   "id": "43fe4254-f8a1-48da-82f5-0dca0d20adb5",
   "metadata": {},
   "outputs": [],
   "source": [
    "def solution(numbers, target):\n",
    "    answer = 0\n",
    "    way_list =[]\n",
    "    \n",
    "\n",
    "    \n",
    "    answer = len(way_list)\n",
    "    return answer "
   ]
  },
  {
   "cell_type": "code",
   "execution_count": null,
   "id": "c9eadd58-e577-4e6a-90d6-f05babaa6478",
   "metadata": {},
   "outputs": [],
   "source": [
    "numbers = [1, 1, 1, 1, 1]\n",
    "target = 3\n",
    "solution(numbers, target)"
   ]
  },
  {
   "cell_type": "code",
   "execution_count": null,
   "id": "56c25c79-2285-4830-b18f-3814d7099bb6",
   "metadata": {},
   "outputs": [],
   "source": [
    "numbers = [4, 1, 2, 1]\n",
    "target = 4\n",
    "solution(numbers, target)"
   ]
  },
  {
   "cell_type": "code",
   "execution_count": null,
   "id": "1469785c-be5d-4fa3-ba3c-24991244af96",
   "metadata": {},
   "outputs": [],
   "source": [
    "def solution(numbers, target):\n",
    "    answer = 0\n",
    "    for i in range(len(number)):\n",
    "        \n",
    "    \n",
    "        if a == target: answer += 1\n",
    "        else:\n",
    "    \n",
    "    return answer "
   ]
  },
  {
   "cell_type": "markdown",
   "id": "23970beb-222e-4263-b903-a1c4b9337c8e",
   "metadata": {},
   "source": [
    "### 연습"
   ]
  },
  {
   "cell_type": "code",
   "execution_count": 4,
   "id": "b792492f-f3d5-4069-9c2b-64f43e74e08e",
   "metadata": {},
   "outputs": [
    {
     "data": {
      "text/plain": [
       "8"
      ]
     },
     "execution_count": 4,
     "metadata": {},
     "output_type": "execute_result"
    }
   ],
   "source": [
    "3 ++ 5"
   ]
  },
  {
   "cell_type": "code",
   "execution_count": 2,
   "id": "f78b7277-bc98-4108-bc32-62eeb228ea52",
   "metadata": {},
   "outputs": [
    {
     "ename": "SyntaxError",
     "evalue": "invalid syntax (Temp/ipykernel_26652/2446104485.py, line 1)",
     "output_type": "error",
     "traceback": [
      "\u001b[1;36m  File \u001b[1;32m\"C:\\Users\\w0w12\\AppData\\Local\\Temp/ipykernel_26652/2446104485.py\"\u001b[1;36m, line \u001b[1;32m1\u001b[0m\n\u001b[1;33m    addminus_list = [+,-]\u001b[0m\n\u001b[1;37m                      ^\u001b[0m\n\u001b[1;31mSyntaxError\u001b[0m\u001b[1;31m:\u001b[0m invalid syntax\n"
     ]
    }
   ],
   "source": [
    "addminus_list = [+,-]\n",
    "numbers = [1, 1, 1, 1, 1]\n",
    "total_list = [a+b for a, b in zip(addminus_list,numbers)]\n",
    "total_list"
   ]
  },
  {
   "cell_type": "markdown",
   "id": "ea76daac-14cc-41da-9c96-a3bc158f8f03",
   "metadata": {},
   "source": [
    "## DFS,BFS 방법\n",
    "\n",
    "남의 코드"
   ]
  },
  {
   "cell_type": "code",
   "execution_count": 3,
   "id": "9dcff7fd-53f2-4b03-94ef-64047755614d",
   "metadata": {},
   "outputs": [],
   "source": [
    "#BFS 풀이\n",
    "def solution(numbers, target):\n",
    "    answer = 0\n",
    "    leaves = [0]\n",
    "    for num in numbers:\n",
    "        tmp = []\n",
    "        for parent in leaves:\n",
    "            tmp.append(parent + num)\n",
    "            tmp.append(parent - num)\n",
    "        leaves = tmp\n",
    "    for leaf in leaves:\n",
    "        if leaf == target:\n",
    "            answer += 1\n",
    "    return answer\n"
   ]
  },
  {
   "cell_type": "code",
   "execution_count": 4,
   "id": "495d438e-4d2f-459f-bac3-d3455655e4e8",
   "metadata": {},
   "outputs": [
    {
     "data": {
      "text/plain": [
       "5"
      ]
     },
     "execution_count": 4,
     "metadata": {},
     "output_type": "execute_result"
    }
   ],
   "source": [
    "numbers = [1, 1, 1, 1, 1]\n",
    "target = 3\n",
    "solution(numbers, target)"
   ]
  },
  {
   "cell_type": "code",
   "execution_count": 5,
   "id": "b0d57d1a-e89e-4b78-b878-aa7374c350d8",
   "metadata": {},
   "outputs": [
    {
     "data": {
      "text/plain": [
       "2"
      ]
     },
     "execution_count": 5,
     "metadata": {},
     "output_type": "execute_result"
    }
   ],
   "source": [
    "numbers = [4, 1, 2, 1]\n",
    "target = 4\n",
    "solution(numbers, target)"
   ]
  },
  {
   "cell_type": "code",
   "execution_count": 6,
   "id": "6406a6e8-acb7-47db-b378-3bd94f7defae",
   "metadata": {
    "tags": []
   },
   "outputs": [],
   "source": [
    "#DFS 풀이\n",
    "def solution(numbers, target):\n",
    "    answer = DFS(numbers, target, 0)\n",
    "    return answer\n",
    "\n",
    "def DFS(numbers, target, depth):\n",
    "    answer = 0\n",
    "    if depth == len(numbers):\n",
    "        print(numbers)\n",
    "        if sum(numbers) == target:\n",
    "            return 1\n",
    "        else: return 0\n",
    "    else:\n",
    "        answer += DFS(numbers, target, depth+1)\n",
    "        numbers[depth] *= -1\n",
    "        answer += DFS(numbers, target, depth+1)\n",
    "        return answer"
   ]
  },
  {
   "cell_type": "code",
   "execution_count": 7,
   "id": "4ad12726-7cb4-4919-a79e-45a9c7cccc6e",
   "metadata": {},
   "outputs": [
    {
     "name": "stdout",
     "output_type": "stream",
     "text": [
      "[1, 1, 1, 1, 1]\n",
      "[1, 1, 1, 1, -1]\n",
      "[1, 1, 1, -1, -1]\n",
      "[1, 1, 1, -1, 1]\n",
      "[1, 1, -1, -1, 1]\n",
      "[1, 1, -1, -1, -1]\n",
      "[1, 1, -1, 1, -1]\n",
      "[1, 1, -1, 1, 1]\n",
      "[1, -1, -1, 1, 1]\n",
      "[1, -1, -1, 1, -1]\n",
      "[1, -1, -1, -1, -1]\n",
      "[1, -1, -1, -1, 1]\n",
      "[1, -1, 1, -1, 1]\n",
      "[1, -1, 1, -1, -1]\n",
      "[1, -1, 1, 1, -1]\n",
      "[1, -1, 1, 1, 1]\n",
      "[-1, -1, 1, 1, 1]\n",
      "[-1, -1, 1, 1, -1]\n",
      "[-1, -1, 1, -1, -1]\n",
      "[-1, -1, 1, -1, 1]\n",
      "[-1, -1, -1, -1, 1]\n",
      "[-1, -1, -1, -1, -1]\n",
      "[-1, -1, -1, 1, -1]\n",
      "[-1, -1, -1, 1, 1]\n",
      "[-1, 1, -1, 1, 1]\n",
      "[-1, 1, -1, 1, -1]\n",
      "[-1, 1, -1, -1, -1]\n",
      "[-1, 1, -1, -1, 1]\n",
      "[-1, 1, 1, -1, 1]\n",
      "[-1, 1, 1, -1, -1]\n",
      "[-1, 1, 1, 1, -1]\n",
      "[-1, 1, 1, 1, 1]\n"
     ]
    },
    {
     "data": {
      "text/plain": [
       "5"
      ]
     },
     "execution_count": 7,
     "metadata": {},
     "output_type": "execute_result"
    }
   ],
   "source": [
    "numbers = [1, 1, 1, 1, 1]\n",
    "target = 3\n",
    "solution(numbers, target)"
   ]
  },
  {
   "cell_type": "code",
   "execution_count": 16,
   "id": "718dfd1b-c7a0-47c1-92d4-745d9e29e6dd",
   "metadata": {},
   "outputs": [
    {
     "name": "stdout",
     "output_type": "stream",
     "text": [
      "[4, 1, 2, 1]\n",
      "[4, 1, 2, -1]\n",
      "[4, 1, -2, -1]\n",
      "[4, 1, -2, 1]\n",
      "[4, -1, -2, 1]\n",
      "[4, -1, -2, -1]\n",
      "[4, -1, 2, -1]\n",
      "[4, -1, 2, 1]\n",
      "[-4, -1, 2, 1]\n",
      "[-4, -1, 2, -1]\n",
      "[-4, -1, -2, -1]\n",
      "[-4, -1, -2, 1]\n",
      "[-4, 1, -2, 1]\n",
      "[-4, 1, -2, -1]\n",
      "[-4, 1, 2, -1]\n",
      "[-4, 1, 2, 1]\n"
     ]
    },
    {
     "data": {
      "text/plain": [
       "2"
      ]
     },
     "execution_count": 16,
     "metadata": {},
     "output_type": "execute_result"
    }
   ],
   "source": [
    "numbers = [4, 1, 2, 1]\n",
    "target = 4\n",
    "solution(numbers, target)"
   ]
  },
  {
   "cell_type": "code",
   "execution_count": 18,
   "id": "3f87670e-624f-4c95-8228-0c49e7fbf996",
   "metadata": {},
   "outputs": [],
   "source": [
    "# deque BFS를 이용한 풀이\n",
    "from collections import deque\n",
    "def solution(numbers, target):\n",
    "    answer = 0\n",
    "    queue = deque()\n",
    "    n = len(numbers)\n",
    "    queue.append([numbers[0],0])\n",
    "    queue.append([-1*numbers[0],0])\n",
    "    while queue:\n",
    "        temp, idx = queue.popleft()\n",
    "        idx += 1\n",
    "        if idx < n:\n",
    "            queue.append([temp+numbers[idx], idx])\n",
    "            queue.append([temp-numbers[idx], idx])\n",
    "        else:\n",
    "            if temp == target:\n",
    "                answer += 1\n",
    "    return answer\n"
   ]
  },
  {
   "cell_type": "code",
   "execution_count": 19,
   "id": "de2a7fe2-cdcf-402a-9bf6-d096aef6286e",
   "metadata": {},
   "outputs": [
    {
     "data": {
      "text/plain": [
       "2"
      ]
     },
     "execution_count": 19,
     "metadata": {},
     "output_type": "execute_result"
    }
   ],
   "source": [
    "numbers = [4, 1, 2, 1]\n",
    "target = 4\n",
    "solution(numbers, target)"
   ]
  },
  {
   "cell_type": "code",
   "execution_count": 24,
   "id": "b6557686-5660-4f9f-9855-8bd6a7b37795",
   "metadata": {},
   "outputs": [
    {
     "data": {
      "text/plain": [
       "5"
      ]
     },
     "execution_count": 24,
     "metadata": {},
     "output_type": "execute_result"
    }
   ],
   "source": [
    "numbers = [1, 1, 1, 1, 1]\n",
    "target = 3\n",
    "solution(numbers, target)"
   ]
  },
  {
   "cell_type": "code",
   "execution_count": 21,
   "id": "b004a487-20b2-4173-8713-0dd89449ae39",
   "metadata": {},
   "outputs": [],
   "source": [
    "# stack을 이용한 DFS여도 마찬가지! \n",
    "def solution(numbers, target):\n",
    "    answer = 0\n",
    "    queue = [[numbers[0],0], [-1*numbers[0],0]]\n",
    "    n = len(numbers)\n",
    "    while queue:\n",
    "        temp, idx = queue.pop()\n",
    "        idx += 1\n",
    "        if idx < n:\n",
    "            queue.append([temp+numbers[idx], idx])\n",
    "            queue.append([temp-numbers[idx], idx])\n",
    "        else:\n",
    "            if temp == target:\n",
    "                answer += 1\n",
    "    return answer\n"
   ]
  },
  {
   "cell_type": "code",
   "execution_count": 23,
   "id": "82265aa0-3927-487e-915f-296f732ba4c2",
   "metadata": {},
   "outputs": [],
   "source": [
    "#재귀함수를 이용한 DFS 풀이\n",
    "def solution(numbers, target):\n",
    "    n = len(numbers)\n",
    "    answer = 0\n",
    "    def dfs(idx, result):\n",
    "        if idx == n:\n",
    "            if result == target:\n",
    "                nonlocal answer\n",
    "                answer += 1\n",
    "            return\n",
    "        else:\n",
    "            dfs(idx+1, result+numbers[idx])\n",
    "            dfs(idx+1, result-numbers[idx])\n",
    "    dfs(0,0)\n",
    "    return answer"
   ]
  },
  {
   "cell_type": "markdown",
   "id": "933ed43a-37f2-4ae3-8c58-0bbaccd5528d",
   "metadata": {},
   "source": [
    "## 다른 방법들"
   ]
  },
  {
   "cell_type": "code",
   "execution_count": 12,
   "id": "4c8d0332-581c-46bc-8b3e-193f2a4c2819",
   "metadata": {},
   "outputs": [],
   "source": [
    "import itertools\n",
    "def solution(numbers, target):\n",
    "    answer = 0\n",
    "    if sum(numbers) == target:\n",
    "        return 1\n",
    "    tmp = (sum(numbers)-target)//2\n",
    "    for i in range(1,len(numbers)):\n",
    "        a = itertools.combinations(numbers, i)\n",
    "        for b in a:\n",
    "            if sum(b) == tmp:\n",
    "                answer += 1\n",
    "    return answer"
   ]
  },
  {
   "cell_type": "code",
   "execution_count": 13,
   "id": "f133a137-bd4f-4909-a571-84147d151d12",
   "metadata": {},
   "outputs": [
    {
     "data": {
      "text/plain": [
       "5"
      ]
     },
     "execution_count": 13,
     "metadata": {},
     "output_type": "execute_result"
    }
   ],
   "source": [
    "numbers = [1, 1, 1, 1, 1]\n",
    "target = 3\n",
    "solution(numbers, target)"
   ]
  },
  {
   "cell_type": "code",
   "execution_count": 14,
   "id": "36cca063-5fcb-4865-9129-8afb939935e2",
   "metadata": {},
   "outputs": [
    {
     "data": {
      "text/plain": [
       "2"
      ]
     },
     "execution_count": 14,
     "metadata": {},
     "output_type": "execute_result"
    }
   ],
   "source": [
    "numbers = [4, 1, 2, 1]\n",
    "target = 4\n",
    "solution(numbers, target)"
   ]
  },
  {
   "cell_type": "code",
   "execution_count": 8,
   "id": "61d2104c-a78e-4d44-94bf-0d2638c733d1",
   "metadata": {},
   "outputs": [],
   "source": [
    "def solution(numbers, target):\n",
    "    if not numbers and target == 0 :\n",
    "        return 1\n",
    "    elif not numbers:\n",
    "        return 0\n",
    "    else:\n",
    "        return solution(numbers[1:], target-numbers[0]) + solution(numbers[1:], target+numbers[0])"
   ]
  },
  {
   "cell_type": "code",
   "execution_count": 9,
   "id": "cb556ffe-450e-4346-81f3-c87d3e6d197a",
   "metadata": {},
   "outputs": [
    {
     "data": {
      "text/plain": [
       "2"
      ]
     },
     "execution_count": 9,
     "metadata": {},
     "output_type": "execute_result"
    }
   ],
   "source": [
    "numbers = [4, 1, 2, 1]\n",
    "target = 4\n",
    "solution(numbers, target)"
   ]
  },
  {
   "cell_type": "code",
   "execution_count": 10,
   "id": "65ba1a48-2dd6-494d-bf6e-95b8071d7a02",
   "metadata": {},
   "outputs": [
    {
     "data": {
      "text/plain": [
       "5"
      ]
     },
     "execution_count": 10,
     "metadata": {},
     "output_type": "execute_result"
    }
   ],
   "source": [
    "numbers = [1, 1, 1, 1, 1]\n",
    "target = 3\n",
    "solution(numbers, target)"
   ]
  },
  {
   "cell_type": "code",
   "execution_count": null,
   "id": "55eba9c4-f452-4be6-a97e-020ed7d0ad01",
   "metadata": {},
   "outputs": [],
   "source": []
  }
 ],
 "metadata": {
  "kernelspec": {
   "display_name": "Python 3 (ipykernel)",
   "language": "python",
   "name": "python3"
  },
  "language_info": {
   "codemirror_mode": {
    "name": "ipython",
    "version": 3
   },
   "file_extension": ".py",
   "mimetype": "text/x-python",
   "name": "python",
   "nbconvert_exporter": "python",
   "pygments_lexer": "ipython3",
   "version": "3.8.12"
  }
 },
 "nbformat": 4,
 "nbformat_minor": 5
}
