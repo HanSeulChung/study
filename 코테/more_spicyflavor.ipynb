{
 "cells": [
  {
   "cell_type": "code",
   "execution_count": 26,
   "id": "f196a565-1a11-4088-8b7b-822b1f346d81",
   "metadata": {},
   "outputs": [],
   "source": [
    "import numpy as np\n",
    "\n",
    "def find_min(scoville):\n",
    "    minidx1 = np.argmin(scoville)\n",
    "    min1 = scoville[minidx1]\n",
    "    scoville.pop(minidx1)\n",
    "    \n",
    "    minidx2 = np.argmin(scoville)\n",
    "    min2 = scoville[minidx2]\n",
    "    scoville.pop(minidx2)\n",
    "    \n",
    "    a =  min1 + min2**2\n",
    "    \n",
    "    scoville.append(a)\n",
    "    \n",
    "    return a\n",
    "\n",
    "def minimum_change(scoville,K):\n",
    "    answer = 1\n",
    "    k = find_min(scoville)\n",
    "    while K:\n",
    "        if k < K:\n",
    "            answer+= 1\n",
    "            k = find_min(scoville)\n",
    "            \n",
    "            if len(scoville) <2 :\n",
    "                return -1\n",
    "            \n",
    "        elif k >= K:\n",
    "            return answer\n",
    "    \n",
    "    return answer"
   ]
  },
  {
   "cell_type": "code",
   "execution_count": 27,
   "id": "7def65c9-79b4-4b25-944b-d07aa88d792d",
   "metadata": {},
   "outputs": [
    {
     "name": "stdout",
     "output_type": "stream",
     "text": [
      "5 [3, 9, 10, 12, 5]\n"
     ]
    }
   ],
   "source": [
    "scoville = [1, 2, 3, 9, 10, 12]\n",
    "print(find_min(scoville), scoville)"
   ]
  },
  {
   "cell_type": "code",
   "execution_count": 28,
   "id": "38065845-f4db-4e88-951f-9e351fefc9d3",
   "metadata": {},
   "outputs": [
    {
     "data": {
      "text/plain": [
       "2"
      ]
     },
     "execution_count": 28,
     "metadata": {},
     "output_type": "execute_result"
    }
   ],
   "source": [
    "scoville = [1, 2, 3, 9, 10, 12]\n",
    "K = 7\n",
    "minimum_change(scoville,K)"
   ]
  },
  {
   "cell_type": "code",
   "execution_count": null,
   "id": "7a118528-bf8f-4a49-92ca-10a80d03d553",
   "metadata": {},
   "outputs": [],
   "source": []
  }
 ],
 "metadata": {
  "kernelspec": {
   "display_name": "Python 3 (ipykernel)",
   "language": "python",
   "name": "python3"
  },
  "language_info": {
   "codemirror_mode": {
    "name": "ipython",
    "version": 3
   },
   "file_extension": ".py",
   "mimetype": "text/x-python",
   "name": "python",
   "nbconvert_exporter": "python",
   "pygments_lexer": "ipython3",
   "version": "3.8.12"
  }
 },
 "nbformat": 4,
 "nbformat_minor": 5
}
