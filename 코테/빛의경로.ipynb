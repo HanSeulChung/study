{
 "cells": [
  {
   "cell_type": "code",
   "execution_count": null,
   "id": "c7a26801-8855-48de-b51d-2d6715f7d3d0",
   "metadata": {},
   "outputs": [],
   "source": [
    "def solution(grid):\n",
    "    answer = []\n",
    "    return answer"
   ]
  },
  {
   "cell_type": "code",
   "execution_count": null,
   "id": "d775bfcc-5cd0-4ab1-add9-76928d4ebf9d",
   "metadata": {},
   "outputs": [],
   "source": []
  },
  {
   "cell_type": "code",
   "execution_count": null,
   "id": "9273e2b4-b3bb-4a88-a02f-559fecbf4d9c",
   "metadata": {},
   "outputs": [],
   "source": []
  }
 ],
 "metadata": {
  "kernelspec": {
   "display_name": "Python 3 (ipykernel)",
   "language": "python",
   "name": "python3"
  },
  "language_info": {
   "codemirror_mode": {
    "name": "ipython",
    "version": 3
   },
   "file_extension": ".py",
   "mimetype": "text/x-python",
   "name": "python",
   "nbconvert_exporter": "python",
   "pygments_lexer": "ipython3",
   "version": "3.8.12"
  }
 },
 "nbformat": 4,
 "nbformat_minor": 5
}
