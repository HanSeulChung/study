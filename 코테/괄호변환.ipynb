{
 "cells": [
  {
   "cell_type": "code",
   "execution_count": null,
   "id": "738d190b-a9b9-486c-a514-c7dd375821c0",
   "metadata": {},
   "outputs": [],
   "source": [
    "def solution(p):\n",
    "    answer = ''\n",
    "    return answer"
   ]
  },
  {
   "cell_type": "code",
   "execution_count": 31,
   "id": "97d7520a-fc18-4270-983d-5d436a40d779",
   "metadata": {},
   "outputs": [
    {
     "data": {
      "text/plain": [
       "')'"
      ]
     },
     "execution_count": 31,
     "metadata": {},
     "output_type": "execute_result"
    }
   ],
   "source": [
    "p =\"(()())()\"\n",
    "p[5]"
   ]
  },
  {
   "cell_type": "code",
   "execution_count": 32,
   "id": "92c3c81b-a6e0-4af6-87d8-8e1c32fa3879",
   "metadata": {},
   "outputs": [
    {
     "data": {
      "text/plain": [
       "'('"
      ]
     },
     "execution_count": 32,
     "metadata": {},
     "output_type": "execute_result"
    }
   ],
   "source": [
    "p[0]"
   ]
  },
  {
   "cell_type": "code",
   "execution_count": 33,
   "id": "895091b4-bfd7-4f6a-b470-87ca5dc788bb",
   "metadata": {},
   "outputs": [
    {
     "data": {
      "text/plain": [
       "0"
      ]
     },
     "execution_count": 33,
     "metadata": {},
     "output_type": "execute_result"
    }
   ],
   "source": [
    "p.find(\"(\")"
   ]
  },
  {
   "cell_type": "code",
   "execution_count": 34,
   "id": "645161e4-cb29-4283-b09f-4902db6fee45",
   "metadata": {},
   "outputs": [
    {
     "data": {
      "text/plain": [
       "2"
      ]
     },
     "execution_count": 34,
     "metadata": {},
     "output_type": "execute_result"
    }
   ],
   "source": [
    "p.find(\")\")"
   ]
  },
  {
   "cell_type": "code",
   "execution_count": 35,
   "id": "18cec5e4-61b0-4b08-aa27-37407e51984a",
   "metadata": {},
   "outputs": [
    {
     "data": {
      "text/plain": [
       "1"
      ]
     },
     "execution_count": 35,
     "metadata": {},
     "output_type": "execute_result"
    }
   ],
   "source": [
    "p.find(\"()\")"
   ]
  },
  {
   "cell_type": "code",
   "execution_count": 36,
   "id": "fcabff6b-443b-4426-a5a1-d0b6d7566e1f",
   "metadata": {},
   "outputs": [
    {
     "data": {
      "text/plain": [
       "['(', '', ')', '']"
      ]
     },
     "execution_count": 36,
     "metadata": {},
     "output_type": "execute_result"
    }
   ],
   "source": [
    "a = p.split(\"()\")\n",
    "a"
   ]
  },
  {
   "cell_type": "code",
   "execution_count": 37,
   "id": "2e05018c-0158-4cdb-af8c-6c9989f0ac13",
   "metadata": {},
   "outputs": [
    {
     "data": {
      "text/plain": [
       "'()'"
      ]
     },
     "execution_count": 37,
     "metadata": {},
     "output_type": "execute_result"
    }
   ],
   "source": [
    "a= ''.join(a)\n",
    "a"
   ]
  },
  {
   "cell_type": "code",
   "execution_count": null,
   "id": "f875ecab-f64c-49f6-bf2a-8428acd52920",
   "metadata": {},
   "outputs": [],
   "source": []
  },
  {
   "cell_type": "code",
   "execution_count": null,
   "id": "b08faf64-806f-4693-b900-cd9d22f70312",
   "metadata": {},
   "outputs": [],
   "source": []
  },
  {
   "cell_type": "code",
   "execution_count": null,
   "id": "2bfa8cb6-a8b3-45ed-8dd0-32b10c8708bb",
   "metadata": {},
   "outputs": [],
   "source": []
  },
  {
   "cell_type": "code",
   "execution_count": null,
   "id": "6bf57854-4536-45c7-b481-897b9631ecc9",
   "metadata": {},
   "outputs": [],
   "source": []
  },
  {
   "cell_type": "code",
   "execution_count": null,
   "id": "cbfd2487-2f3f-4c0a-a6d9-dbab34703f09",
   "metadata": {},
   "outputs": [],
   "source": []
  },
  {
   "cell_type": "code",
   "execution_count": null,
   "id": "f2853127-8de7-4b74-8a91-3fb0a3ce18d3",
   "metadata": {},
   "outputs": [],
   "source": []
  },
  {
   "cell_type": "code",
   "execution_count": null,
   "id": "a082f723-c5b7-4bda-aa18-2fea018e6e8b",
   "metadata": {},
   "outputs": [],
   "source": [
    "p =\"(()())()\"\n",
    "solution(p)"
   ]
  },
  {
   "cell_type": "code",
   "execution_count": null,
   "id": "4f35b5ee-bc9e-450a-a648-8ee779eaec3a",
   "metadata": {},
   "outputs": [],
   "source": [
    "p = \")(\"\n",
    "solution(p)"
   ]
  },
  {
   "cell_type": "code",
   "execution_count": null,
   "id": "107e47ed-610e-4d9c-83c1-b4948df62319",
   "metadata": {},
   "outputs": [],
   "source": [
    "p = \"()))((()\"\n",
    "solution(p)"
   ]
  },
  {
   "cell_type": "code",
   "execution_count": 27,
   "id": "bc9d7c28-a505-4c65-a007-077925d0916e",
   "metadata": {},
   "outputs": [],
   "source": [
    "p = \"()))((()\""
   ]
  },
  {
   "cell_type": "code",
   "execution_count": 29,
   "id": "bccd1968-6316-4950-b68d-250a2ddf784b",
   "metadata": {},
   "outputs": [
    {
     "data": {
      "text/plain": [
       "''"
      ]
     },
     "execution_count": 29,
     "metadata": {},
     "output_type": "execute_result"
    }
   ],
   "source": [
    "p.strip()"
   ]
  },
  {
   "cell_type": "markdown",
   "id": "266b0405-f507-46c3-8473-6903d4848261",
   "metadata": {},
   "source": [
    "------"
   ]
  },
  {
   "cell_type": "code",
   "execution_count": null,
   "id": "34be580c-d5b2-4838-a404-1aec752d2cc3",
   "metadata": {},
   "outputs": [],
   "source": [
    "with open(\"vocabulary.txt\",'w') as f:\n",
    "    while True:\n",
    "        english_word= input(\"영어 단어를 입력하시오:\")\n",
    "        if english_word =='q':\n",
    "            break\n",
    "        korean_word = input(\"한국어 뜻을 입력하시오:\")\n",
    "        if korean_word == 'q':\n",
    "            break\n",
    "    f.write('{}:{ \\t}'.format(a,b))\n",
    "# with open(\"vocabulary.txt\",'r',encoding='utf-8') as f1:\n",
    "#     print(f1)"
   ]
  },
  {
   "cell_type": "code",
   "execution_count": null,
   "id": "3f6c26d3-a583-4d50-aece-aa1c53e7a1dc",
   "metadata": {},
   "outputs": [],
   "source": []
  }
 ],
 "metadata": {
  "kernelspec": {
   "display_name": "Python 3 (ipykernel)",
   "language": "python",
   "name": "python3"
  },
  "language_info": {
   "codemirror_mode": {
    "name": "ipython",
    "version": 3
   },
   "file_extension": ".py",
   "mimetype": "text/x-python",
   "name": "python",
   "nbconvert_exporter": "python",
   "pygments_lexer": "ipython3",
   "version": "3.8.12"
  }
 },
 "nbformat": 4,
 "nbformat_minor": 5
}
