{
 "cells": [
  {
   "cell_type": "markdown",
   "id": "9461e9b3-0d56-4df9-a4e3-4b99b8a5052f",
   "metadata": {
    "tags": []
   },
   "source": [
    "def manhattan_distance(A, B):\n",
    "    distance = 0\n",
    "    for i in range(len(A)):\n",
    "        distance += abs(A[i] - B[i])\n",
    "    return distance"
   ]
  },
  {
   "cell_type": "code",
   "execution_count": 45,
   "id": "d657c35a-139e-4619-899b-acd6d7cb4813",
   "metadata": {},
   "outputs": [],
   "source": [
    "def M_distance_L(A,B):\n",
    "    distance = 0\n",
    "    for i in range(len(A)):\n",
    "        distance += abs(A[i] - B[i])\n",
    "    return distance\n",
    "           \n",
    "def M_distance_R(A,C):\n",
    "    distance = 0\n",
    "    for i in range(len(A)):\n",
    "        distance += abs(A[i] - C[i])\n",
    "    return distance"
   ]
  },
  {
   "cell_type": "code",
   "execution_count": 91,
   "id": "75de577c-cd7f-4fe6-9c42-7732f53369cd",
   "metadata": {
    "tags": []
   },
   "outputs": [],
   "source": [
    "def solution(numbers,hand):\n",
    "    hand_position = []\n",
    "    keypad_position = {\"*\":[0,0], 0:[1,0], \"#\":[2,0],\n",
    "                       7:[0,1], 8:[1,1], 9:[2,1],\n",
    "                       4:[0,2], 5:[1,2], 6:[2,2],\n",
    "                       1:[0,3], 2:[1,3], 3:[2,3]}\n",
    "    l = \"*\"\n",
    "    r = \"#\"\n",
    "    \n",
    "    for i in numbers:          \n",
    "        A = keypad_position[i]\n",
    "        B = keypad_position[l]\n",
    "        C = keypad_position[r]\n",
    "        \n",
    "        if i in [1,4,7]:\n",
    "            hand_position.append(\"L\")\n",
    "            l = i\n",
    "            \n",
    "        elif i in [3,6,9]:\n",
    "            hand_position.append(\"R\")\n",
    "            r = i\n",
    "        \n",
    "        elif M_distance_L(A,B) < M_distance_R(A,C):            #왼손 오른손 거리가 다를 때 가까운 거리 찾은 후 LR반환\n",
    "            hand_position.append(\"L\")\n",
    "            l = i\n",
    "\n",
    "        elif M_distance_L(A,B) > M_distance_R(A,C):\n",
    "            hand_position.append(\"R\")\n",
    "            r = i\n",
    "\n",
    "        elif M_distance_L(A,B) == M_distance_R(A,C):        #왼손 오른손 거리가 같을 때 hand로 LR반환\n",
    "            if hand == \"left\":\n",
    "                hand_position.append(\"L\")\n",
    "                l = i\n",
    "            elif hand == \"right\":\n",
    "                hand_position.append(\"R\")\n",
    "                r = i\n",
    "        \n",
    "    return \"\".join([str(_) for _ in hand_position])\n"
   ]
  },
  {
   "cell_type": "code",
   "execution_count": 85,
   "id": "3a073e91-b7de-4de7-96d2-bba3fb2b5f93",
   "metadata": {},
   "outputs": [
    {
     "data": {
      "text/plain": [
       "'LLRLRRR'"
      ]
     },
     "execution_count": 85,
     "metadata": {},
     "output_type": "execute_result"
    }
   ],
   "source": [
    "numbers = [1,4,3,7, 3,6,9]\n",
    "hand = \"right\"\n",
    "solution(numbers,hand)"
   ]
  },
  {
   "cell_type": "code",
   "execution_count": 86,
   "id": "eec1854c-0f47-49f5-b9f6-e6a944f89c24",
   "metadata": {},
   "outputs": [
    {
     "data": {
      "text/plain": [
       "'LRLLLRLLRRL'"
      ]
     },
     "execution_count": 86,
     "metadata": {},
     "output_type": "execute_result"
    }
   ],
   "source": [
    "numbers = [1, 3, 4, 5, 8, 2, 1, 4, 5, 9, 5]\n",
    "hand = \"right\"\n",
    "solution(numbers,hand)"
   ]
  },
  {
   "cell_type": "code",
   "execution_count": 92,
   "id": "d97ce7da-32ca-4241-9209-388a7d753c33",
   "metadata": {},
   "outputs": [
    {
     "data": {
      "text/plain": [
       "'LRLLLRLLLRL'"
      ]
     },
     "execution_count": 92,
     "metadata": {},
     "output_type": "execute_result"
    }
   ],
   "source": [
    "numbers = [1, 3, 4, 5, 8, 2, 1, 4, 5, 9, 5]\n",
    "hand = \"left\"\n",
    "solution(numbers,hand)"
   ]
  },
  {
   "cell_type": "code",
   "execution_count": 93,
   "id": "fec06bc7-a75b-4b73-a233-f1eaa4c2bda3",
   "metadata": {
    "tags": []
   },
   "outputs": [
    {
     "data": {
      "text/plain": [
       "'LRLLRRLLLRR'"
      ]
     },
     "execution_count": 93,
     "metadata": {},
     "output_type": "execute_result"
    }
   ],
   "source": [
    "numbers = [7, 0, 8, 2, 8, 3, 1, 5, 7, 6, 2]\n",
    "hand = \"left\"\n",
    "solution(numbers, hand)\n",
    "#LRLLRRLLLRR\n",
    "#708 28 315762\n",
    "#LRL RL RLLLRR"
   ]
  },
  {
   "cell_type": "code",
   "execution_count": 89,
   "id": "1472998a-2859-49b2-9fc4-3d70aa2702f4",
   "metadata": {},
   "outputs": [
    {
     "data": {
      "text/plain": [
       "'LRRRLRLRLRR'"
      ]
     },
     "execution_count": 89,
     "metadata": {},
     "output_type": "execute_result"
    }
   ],
   "source": [
    "numbers = [7, 0, 8, 2, 8, 3, 1, 5, 7, 6, 2]\n",
    "hand = \"right\"\n",
    "solution(numbers, hand)"
   ]
  },
  {
   "cell_type": "code",
   "execution_count": 73,
   "id": "13203117-452d-436a-aa35-83a5d098ceec",
   "metadata": {},
   "outputs": [
    {
     "data": {
      "text/plain": [
       "'LLLLLLLLRL'"
      ]
     },
     "execution_count": 73,
     "metadata": {},
     "output_type": "execute_result"
    }
   ],
   "source": [
    "numbers = [1, 2, 3, 4, 5, 6, 7, 8, 9, 0]\n",
    "hand = \"right\"\n",
    "solution(numbers,hand)"
   ]
  },
  {
   "cell_type": "code",
   "execution_count": 74,
   "id": "c84ac716-51ce-473a-a598-054ccb81a56c",
   "metadata": {},
   "outputs": [
    {
     "data": {
      "text/plain": [
       "'LLLLLLLLRL'"
      ]
     },
     "execution_count": 74,
     "metadata": {},
     "output_type": "execute_result"
    }
   ],
   "source": [
    "numbers = [1, 2, 3, 4, 5, 6, 7, 8, 9, 0]\n",
    "hand = \"left\"\n",
    "solution(numbers,hand)"
   ]
  },
  {
   "cell_type": "code",
   "execution_count": null,
   "id": "3b1579d3-0fc0-4062-9404-1fb3c4d7bfb2",
   "metadata": {},
   "outputs": [],
   "source": []
  }
 ],
 "metadata": {
  "kernelspec": {
   "display_name": "Python 3 (ipykernel)",
   "language": "python",
   "name": "python3"
  },
  "language_info": {
   "codemirror_mode": {
    "name": "ipython",
    "version": 3
   },
   "file_extension": ".py",
   "mimetype": "text/x-python",
   "name": "python",
   "nbconvert_exporter": "python",
   "pygments_lexer": "ipython3",
   "version": "3.8.12"
  }
 },
 "nbformat": 4,
 "nbformat_minor": 5
}
